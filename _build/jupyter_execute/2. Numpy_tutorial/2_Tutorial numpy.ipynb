{
 "cells": [
  {
   "cell_type": "markdown",
   "metadata": {},
   "source": [
    "# Pakiet NumPy - tutorial\n",
    "\n",
    "## Wstep\n",
    "**Czym jest pakiet numpy?**\n",
    "Pakiet NumPy jest pakietam wykorzystywanym do operacji numerycznych przeprowadzanych na wielowymiarowych obiektach zwanych arrayami. Pakiet ten jest bardzo wydajny i często wykorzystywany - zarówno przez początkujących jak i tych bardziej zaawansowanych. Dobrze współpracuje z pakietami takimi jak pandas, scipy, matplotlib, scikit-learn i wieloma innymi pakietami bazującymi na danych numerycznych.\n",
    "\n",
    "**Czym jest array?**\n",
    "Array jest obiektem, na którym można wywoływać złożone operacje numeryczne. Z uwagi na wydajność obliczeń array'e sa często wykorzystywane. Swoją strukturą przypominają listę, lecz między tymi obiektami są znaczące różnice. Niektóre z nich zostały przedstawione poniżej."
   ]
  },
  {
   "cell_type": "markdown",
   "metadata": {},
   "source": [
    "## Różnica między działaniami na listach a numpy array\n",
    "\n",
    "Standardowo Python nie potrafi robić obliczeń na listach:"
   ]
  },
  {
   "cell_type": "code",
   "execution_count": 1,
   "metadata": {},
   "outputs": [],
   "source": [
    "height = [1.82, 2.01, 1.68]\n",
    "weight = [100, 89, 53]"
   ]
  },
  {
   "cell_type": "markdown",
   "metadata": {
    "ExecuteTime": {
     "end_time": "2021-11-02T06:50:48.777100Z",
     "start_time": "2021-11-02T06:50:48.745846Z"
    }
   },
   "source": [
    "```python\n",
    "weight / height ** 2 # to nie zadziala\n",
    "```"
   ]
  },
  {
   "cell_type": "markdown",
   "metadata": {},
   "source": [
    "Jest na to sposób, który też jest powszechnie stosowany - List Comprehension.\n",
    "\n",
    "Należy jednak pamiętać, że nie w każdym przypadku List Comprehension zastąpi nam funckje wbudowane w pakiet numpy. Ponadto nadmiar tej struktury wpływa negatywnie na wydajność kodu."
   ]
  },
  {
   "cell_type": "code",
   "execution_count": 2,
   "metadata": {
    "ExecuteTime": {
     "end_time": "2021-11-02T06:50:50.183488Z",
     "start_time": "2021-11-02T06:50:50.167861Z"
    }
   },
   "outputs": [
    {
     "data": {
      "text/plain": [
       "[30.189590629151066, 22.02915769411649, 18.77834467120182]"
      ]
     },
     "execution_count": 2,
     "metadata": {},
     "output_type": "execute_result"
    }
   ],
   "source": [
    "[weight[i] / height[i] ** 2 for i in range(len(height))]"
   ]
  },
  {
   "cell_type": "markdown",
   "metadata": {},
   "source": [
    "Szybszym (i wydaje się, że bardziej przyjaznym) rozwiązaniem jest użycie pakietu Numpy. Dzięki temu obiektowi możemy definiować działania na całej array'i."
   ]
  },
  {
   "cell_type": "code",
   "execution_count": 3,
   "metadata": {
    "ExecuteTime": {
     "end_time": "2021-10-26T11:49:26.506062Z",
     "start_time": "2021-10-26T11:49:26.490436Z"
    }
   },
   "outputs": [],
   "source": [
    "import numpy as np"
   ]
  },
  {
   "cell_type": "code",
   "execution_count": 4,
   "metadata": {
    "ExecuteTime": {
     "end_time": "2021-10-26T11:59:43.406136Z",
     "start_time": "2021-10-26T11:59:43.374883Z"
    }
   },
   "outputs": [
    {
     "data": {
      "text/plain": [
       "array([1.82, 2.01, 1.68])"
      ]
     },
     "execution_count": 4,
     "metadata": {},
     "output_type": "execute_result"
    }
   ],
   "source": [
    "np_height = np.array(height)\n",
    "np_height"
   ]
  },
  {
   "cell_type": "code",
   "execution_count": 5,
   "metadata": {
    "ExecuteTime": {
     "end_time": "2021-10-26T11:59:54.860189Z",
     "start_time": "2021-10-26T11:59:54.828937Z"
    }
   },
   "outputs": [
    {
     "data": {
      "text/plain": [
       "array([100,  89,  53])"
      ]
     },
     "execution_count": 5,
     "metadata": {},
     "output_type": "execute_result"
    }
   ],
   "source": [
    "np_weight = np.array(weight)\n",
    "np_weight"
   ]
  },
  {
   "cell_type": "code",
   "execution_count": 6,
   "metadata": {
    "ExecuteTime": {
     "end_time": "2021-10-26T12:20:44.138996Z",
     "start_time": "2021-10-26T12:20:44.123369Z"
    }
   },
   "outputs": [
    {
     "data": {
      "text/plain": [
       "array([30.18959063, 22.02915769, 18.77834467])"
      ]
     },
     "execution_count": 6,
     "metadata": {},
     "output_type": "execute_result"
    }
   ],
   "source": [
    "bmi = np_weight / np_height ** 2\n",
    "bmi"
   ]
  },
  {
   "cell_type": "markdown",
   "metadata": {},
   "source": [
    "<div class=\"alert alert-block alert-danger\">\n",
    "<b>Uwaga!</b> \n",
    "    \n",
    "W numpy array można przechowywać dane tylko jednego typu (w listach można mieszać typy danych).\n",
    "</div>"
   ]
  },
  {
   "cell_type": "code",
   "execution_count": 7,
   "metadata": {
    "ExecuteTime": {
     "end_time": "2021-10-26T12:21:44.175113Z",
     "start_time": "2021-10-26T12:21:44.143860Z"
    }
   },
   "outputs": [
    {
     "data": {
      "text/plain": [
       "[0.2, 'll', True]"
      ]
     },
     "execution_count": 7,
     "metadata": {},
     "output_type": "execute_result"
    }
   ],
   "source": [
    "[0.2, 'll', True]"
   ]
  },
  {
   "cell_type": "code",
   "execution_count": 8,
   "metadata": {
    "ExecuteTime": {
     "end_time": "2021-10-26T12:21:56.551116Z",
     "start_time": "2021-10-26T12:21:56.535490Z"
    }
   },
   "outputs": [
    {
     "data": {
      "text/plain": [
       "array(['0.2', 'll', 'True'], dtype='<U32')"
      ]
     },
     "execution_count": 8,
     "metadata": {},
     "output_type": "execute_result"
    }
   ],
   "source": [
    "np.array([0.2, 'll', True])"
   ]
  },
  {
   "cell_type": "markdown",
   "metadata": {},
   "source": [
    "<div class=\"alert alert-block alert-danger\">\n",
    "<b>Uwaga!</b> \n",
    "    \n",
    "Uwaga! Dodajac standardowe listy w Pythonie uzyskamy listę elementów wartości z obu list. Robiąc to samo na arrayach dodajemy odpowiednie elementy do siebie. Trzeba więc uważać na to co się robi.\n",
    "</div>"
   ]
  },
  {
   "cell_type": "code",
   "execution_count": 9,
   "metadata": {
    "ExecuteTime": {
     "end_time": "2021-10-26T12:25:15.834914Z",
     "start_time": "2021-10-26T12:25:15.819288Z"
    }
   },
   "outputs": [],
   "source": [
    "python_list = [1, 2, 3]\n",
    "numpy_array = np.array(python_list)"
   ]
  },
  {
   "cell_type": "code",
   "execution_count": 10,
   "metadata": {
    "ExecuteTime": {
     "end_time": "2021-10-26T12:25:26.617038Z",
     "start_time": "2021-10-26T12:25:26.601412Z"
    }
   },
   "outputs": [
    {
     "data": {
      "text/plain": [
       "[1, 2, 3, 1, 2, 3]"
      ]
     },
     "execution_count": 10,
     "metadata": {},
     "output_type": "execute_result"
    }
   ],
   "source": [
    "python_list + python_list"
   ]
  },
  {
   "cell_type": "code",
   "execution_count": 11,
   "metadata": {
    "ExecuteTime": {
     "end_time": "2021-10-26T12:25:34.414546Z",
     "start_time": "2021-10-26T12:25:34.383293Z"
    }
   },
   "outputs": [
    {
     "data": {
      "text/plain": [
       "array([2, 4, 6])"
      ]
     },
     "execution_count": 11,
     "metadata": {},
     "output_type": "execute_result"
    }
   ],
   "source": [
    "numpy_array + numpy_array"
   ]
  },
  {
   "cell_type": "code",
   "execution_count": 12,
   "metadata": {
    "ExecuteTime": {
     "end_time": "2021-10-26T12:30:19.845697Z",
     "start_time": "2021-10-26T12:30:19.830070Z"
    }
   },
   "outputs": [
    {
     "data": {
      "text/plain": [
       "array([1, 2, 3, 1, 2, 3])"
      ]
     },
     "execution_count": 12,
     "metadata": {},
     "output_type": "execute_result"
    }
   ],
   "source": [
    "# Chcac uzyskac efekt powiekszenia listy (jak na standardowych listach) wystarczy uzyc funkcji np.append\n",
    "np.append(numpy_array, numpy_array)"
   ]
  },
  {
   "cell_type": "markdown",
   "metadata": {},
   "source": [
    "## Operacje na arrayach\n",
    "### Tworzenie Numpy Array"
   ]
  },
  {
   "cell_type": "code",
   "execution_count": 13,
   "metadata": {
    "ExecuteTime": {
     "end_time": "2021-10-30T09:32:43.786094Z",
     "start_time": "2021-10-30T09:32:43.770468Z"
    }
   },
   "outputs": [
    {
     "data": {
      "text/plain": [
       "array([1, 2, 3, 4, 5])"
      ]
     },
     "execution_count": 13,
     "metadata": {},
     "output_type": "execute_result"
    }
   ],
   "source": [
    "# Definiowanie array'a na podstawie listy\n",
    "np.array([1,2,3,4,5])"
   ]
  },
  {
   "cell_type": "code",
   "execution_count": 14,
   "metadata": {
    "ExecuteTime": {
     "end_time": "2021-10-30T09:33:05.046857Z",
     "start_time": "2021-10-30T09:33:05.015619Z"
    }
   },
   "outputs": [
    {
     "data": {
      "text/plain": [
       "array([1., 1., 1., 1., 1., 1., 1., 1., 1., 1., 1., 1., 1., 1., 1., 1.])"
      ]
     },
     "execution_count": 14,
     "metadata": {},
     "output_type": "execute_result"
    }
   ],
   "source": [
    "# Funkcja np.ones tworzy array skladajacy sie z samych 1\n",
    "np.ones(16)"
   ]
  },
  {
   "cell_type": "code",
   "execution_count": 15,
   "metadata": {
    "ExecuteTime": {
     "end_time": "2021-10-30T09:33:09.810635Z",
     "start_time": "2021-10-30T09:33:09.795016Z"
    }
   },
   "outputs": [
    {
     "data": {
      "text/plain": [
       "array([0., 0., 0., 0., 0.])"
      ]
     },
     "execution_count": 15,
     "metadata": {},
     "output_type": "execute_result"
    }
   ],
   "source": [
    "# Funkcja np.ones tworzy array skladajacy sie z samych 0\n",
    "np.zeros(5)"
   ]
  },
  {
   "cell_type": "code",
   "execution_count": 16,
   "metadata": {
    "ExecuteTime": {
     "end_time": "2021-10-30T10:53:17.702617Z",
     "start_time": "2021-10-30T10:53:17.686991Z"
    }
   },
   "outputs": [
    {
     "data": {
      "text/plain": [
       "array([         0,          0,          0,          0,          0,\n",
       "                0,          0,          0,          0,          0,\n",
       "             1444,          0,          0, 1847616872,          0])"
      ]
     },
     "execution_count": 16,
     "metadata": {},
     "output_type": "execute_result"
    }
   ],
   "source": [
    "# Tworzenie pustej arrayi. Powinna dzialac najszybciej bo nie wymaga zmieniania wartosci liczb\n",
    "# (wartosci sa wybierane na podstawie miejsca w pamieci gdzie sie znajduja)\n",
    "np.empty(15, dtype=int)"
   ]
  },
  {
   "cell_type": "code",
   "execution_count": 17,
   "metadata": {
    "ExecuteTime": {
     "end_time": "2021-10-30T10:55:21.615905Z",
     "start_time": "2021-10-30T10:55:21.600278Z"
    }
   },
   "outputs": [
    {
     "data": {
      "text/plain": [
       "array([[1., 0., 0.],\n",
       "       [0., 1., 0.],\n",
       "       [0., 0., 1.]])"
      ]
     },
     "execution_count": 17,
     "metadata": {},
     "output_type": "execute_result"
    }
   ],
   "source": [
    "# Tworzenie macierzy jednostkowej\n",
    "np.eye(3)"
   ]
  },
  {
   "cell_type": "code",
   "execution_count": 18,
   "metadata": {
    "ExecuteTime": {
     "end_time": "2021-10-30T09:34:53.582891Z",
     "start_time": "2021-10-30T09:34:53.551653Z"
    }
   },
   "outputs": [
    {
     "data": {
      "text/plain": [
       "array([0.  , 0.25, 0.5 , 0.75, 1.  , 1.25, 1.5 , 1.75, 2.  , 2.25, 2.5 ,\n",
       "       2.75, 3.  , 3.25, 3.5 , 3.75, 4.  , 4.25, 4.5 , 4.75, 5.  ])"
      ]
     },
     "execution_count": 18,
     "metadata": {},
     "output_type": "execute_result"
    }
   ],
   "source": [
    "# Definiowanie array'a z zadanego zakresu o okreslonej dlugosci\n",
    "np.linspace(start=0, stop=5, num=21)"
   ]
  },
  {
   "cell_type": "code",
   "execution_count": 19,
   "metadata": {
    "ExecuteTime": {
     "end_time": "2021-10-30T09:35:04.984719Z",
     "start_time": "2021-10-30T09:35:04.969100Z"
    }
   },
   "outputs": [
    {
     "data": {
      "text/plain": [
       "array([0.  , 0.25, 0.5 , 0.75, 1.  , 1.25, 1.5 , 1.75, 2.  , 2.25, 2.5 ,\n",
       "       2.75, 3.  , 3.25, 3.5 , 3.75, 4.  , 4.25, 4.5 , 4.75, 5.  ])"
      ]
     },
     "execution_count": 19,
     "metadata": {},
     "output_type": "execute_result"
    }
   ],
   "source": [
    "# Definiowanie arraya z zadanego zakresu o okreslonej roznicy miedzy wyrazami\n",
    "# Zauwaz ze wyraz 5.25 nie zostal juz dopisany\n",
    "np.arange(start=0, stop=5.25, step=0.25)"
   ]
  },
  {
   "cell_type": "code",
   "execution_count": 20,
   "metadata": {
    "ExecuteTime": {
     "end_time": "2021-10-30T09:36:44.682519Z",
     "start_time": "2021-10-30T09:36:44.666900Z"
    }
   },
   "outputs": [
    {
     "data": {
      "text/plain": [
       "array([0.  , 0.25, 0.5 , 0.75, 1.  , 1.25, 1.5 , 1.75, 2.  , 2.25, 2.5 ,\n",
       "       2.75, 3.  , 3.25, 3.5 , 3.75, 4.  , 4.25, 4.5 , 4.75, 5.  ])"
      ]
     },
     "execution_count": 20,
     "metadata": {},
     "output_type": "execute_result"
    }
   ],
   "source": [
    "# Jesli nie poda sie parametru stop to array budowany jest od 0 do podanej liczby z zadanym krokiem\n",
    "np.arange(5.25, step=0.25)"
   ]
  },
  {
   "cell_type": "code",
   "execution_count": 21,
   "metadata": {
    "ExecuteTime": {
     "end_time": "2021-10-30T09:39:54.697524Z",
     "start_time": "2021-10-30T09:39:54.666277Z"
    },
    "scrolled": true
   },
   "outputs": [
    {
     "data": {
      "text/plain": [
       "array([0.+0.j, 1.+0.j, 2.+0.j, 3.+0.j, 4.+0.j, 5.+0.j, 6.+0.j, 7.+0.j,\n",
       "       8.+0.j, 9.+0.j])"
      ]
     },
     "execution_count": 21,
     "metadata": {},
     "output_type": "execute_result"
    }
   ],
   "source": [
    "# Mozna zdefiniowac typ danych przechowywanych w array'u\n",
    "# Zwroc uwage ze nie definiujac parametru step jest on zdefiniowany jako 1\n",
    "np.arange(10, dtype=complex)"
   ]
  },
  {
   "cell_type": "markdown",
   "metadata": {},
   "source": [
    "### Filtrowanie elementow"
   ]
  },
  {
   "cell_type": "code",
   "execution_count": 22,
   "metadata": {
    "ExecuteTime": {
     "end_time": "2021-10-30T11:19:34.560007Z",
     "start_time": "2021-10-30T11:19:34.528754Z"
    }
   },
   "outputs": [
    {
     "data": {
      "text/plain": [
       "array([[1.1, 5. , 3. ],\n",
       "       [4. , 5. , 6. ]])"
      ]
     },
     "execution_count": 22,
     "metadata": {},
     "output_type": "execute_result"
    }
   ],
   "source": [
    "# Chcac stworzyc dwuwymiarowy array tworzymy array od zagniezdzonych list\n",
    "np_2d = np.array([[1.1, 5, 3],\n",
    "                  [4, 5, 6]])\n",
    "np_2d"
   ]
  },
  {
   "cell_type": "code",
   "execution_count": 23,
   "metadata": {
    "ExecuteTime": {
     "end_time": "2021-10-30T11:19:43.201484Z",
     "start_time": "2021-10-30T11:19:43.185857Z"
    }
   },
   "outputs": [
    {
     "data": {
      "text/plain": [
       "array([1.1, 5. , 3. ])"
      ]
     },
     "execution_count": 23,
     "metadata": {},
     "output_type": "execute_result"
    }
   ],
   "source": [
    "# Wybieranie pierwszego wiersza\n",
    "np_2d[0]"
   ]
  },
  {
   "cell_type": "code",
   "execution_count": 24,
   "metadata": {
    "ExecuteTime": {
     "end_time": "2021-10-30T11:20:01.625419Z",
     "start_time": "2021-10-30T11:20:01.594165Z"
    }
   },
   "outputs": [
    {
     "data": {
      "text/plain": [
       "array([5., 5.])"
      ]
     },
     "execution_count": 24,
     "metadata": {},
     "output_type": "execute_result"
    }
   ],
   "source": [
    "# Wybieranie drugiej kolumny\n",
    "np_2d[:, 1]"
   ]
  },
  {
   "cell_type": "code",
   "execution_count": 25,
   "metadata": {
    "ExecuteTime": {
     "end_time": "2021-10-30T12:47:11.808070Z",
     "start_time": "2021-10-30T12:47:11.776817Z"
    }
   },
   "outputs": [
    {
     "data": {
      "text/plain": [
       "array([[1.1, 5. , 3. ]])"
      ]
     },
     "execution_count": 25,
     "metadata": {},
     "output_type": "execute_result"
    }
   ],
   "source": [
    "# Wybranie wszystkich kolumn dla pierwszego wiersza (od 0 do 1 (bez 1))\n",
    "np_2d[0:1, :]"
   ]
  },
  {
   "cell_type": "code",
   "execution_count": 26,
   "metadata": {
    "ExecuteTime": {
     "end_time": "2021-10-30T12:46:09.955255Z",
     "start_time": "2021-10-30T12:46:09.924002Z"
    }
   },
   "outputs": [
    {
     "data": {
      "text/plain": [
       "array([[4., 5.]])"
      ]
     },
     "execution_count": 26,
     "metadata": {},
     "output_type": "execute_result"
    }
   ],
   "source": [
    "# pierwsza i druga kolumna od drugiego wiersza wlacznie\n",
    "np_2d[1:,[0,1]]"
   ]
  },
  {
   "cell_type": "code",
   "execution_count": 27,
   "metadata": {
    "ExecuteTime": {
     "end_time": "2021-10-30T11:20:31.347098Z",
     "start_time": "2021-10-30T11:20:31.331472Z"
    }
   },
   "outputs": [
    {
     "data": {
      "text/plain": [
       "array([1.1, 3. , 4. ])"
      ]
     },
     "execution_count": 27,
     "metadata": {},
     "output_type": "execute_result"
    }
   ],
   "source": [
    "# Wybranie elementow spelniajacych okreslony warunek\n",
    "np_2d[np_2d<5]"
   ]
  },
  {
   "cell_type": "code",
   "execution_count": 28,
   "metadata": {
    "ExecuteTime": {
     "end_time": "2021-10-30T11:28:37.333953Z",
     "start_time": "2021-10-30T11:28:37.318326Z"
    }
   },
   "outputs": [
    {
     "data": {
      "text/plain": [
       "True"
      ]
     },
     "execution_count": 28,
     "metadata": {},
     "output_type": "execute_result"
    }
   ],
   "source": [
    "# Czy ktorykolwiek element array'a jest rowny 5\n",
    "np.any(np_2d==5)"
   ]
  },
  {
   "cell_type": "code",
   "execution_count": 29,
   "metadata": {
    "ExecuteTime": {
     "end_time": "2021-10-30T11:28:57.665325Z",
     "start_time": "2021-10-30T11:28:57.649698Z"
    }
   },
   "outputs": [
    {
     "data": {
      "text/plain": [
       "False"
      ]
     },
     "execution_count": 29,
     "metadata": {},
     "output_type": "execute_result"
    }
   ],
   "source": [
    "# Czy wszystkie elementy array'a sa rowne 5\n",
    "np.all(np_2d==5)"
   ]
  },
  {
   "cell_type": "code",
   "execution_count": 30,
   "metadata": {
    "ExecuteTime": {
     "end_time": "2021-10-30T11:31:05.788658Z",
     "start_time": "2021-10-30T11:31:05.757404Z"
    }
   },
   "outputs": [
    {
     "data": {
      "text/plain": [
       "array([[1.1, 5. , 3. ],\n",
       "       [4. , 5. , 6. ]])"
      ]
     },
     "execution_count": 30,
     "metadata": {},
     "output_type": "execute_result"
    }
   ],
   "source": [
    "np_2d"
   ]
  },
  {
   "cell_type": "code",
   "execution_count": 31,
   "metadata": {
    "ExecuteTime": {
     "end_time": "2021-10-30T11:31:32.341446Z",
     "start_time": "2021-10-30T11:31:32.325820Z"
    }
   },
   "outputs": [
    {
     "data": {
      "text/plain": [
       "array([1.1, 5. , 3. , 4. , 5. , 6. ])"
      ]
     },
     "execution_count": 31,
     "metadata": {},
     "output_type": "execute_result"
    }
   ],
   "source": [
    "np_2d[np.nonzero(np_2d)]"
   ]
  },
  {
   "cell_type": "code",
   "execution_count": 32,
   "metadata": {
    "ExecuteTime": {
     "end_time": "2021-10-30T11:32:05.228596Z",
     "start_time": "2021-10-30T11:32:05.212969Z"
    }
   },
   "outputs": [
    {
     "data": {
      "text/plain": [
       "array([1.1, 3. , 4. ])"
      ]
     },
     "execution_count": 32,
     "metadata": {},
     "output_type": "execute_result"
    }
   ],
   "source": [
    "np_2d[np.where(np_2d<5)]"
   ]
  },
  {
   "cell_type": "markdown",
   "metadata": {},
   "source": [
    "### Wywoływanie funkcji opisujących array\n",
    "W celu lepszego poznania obiektu, z którym pracujemy warto wywołać podstawowe funkcje mówiące nam o ilości danych, liczbie wymiarów, itp.\n",
    "\n",
    "|funkcja|opis|\n",
    "|--|--|\n",
    "|ndim|zwraca liczbę wymiarów array'a|\n",
    "|shape|zwraca wymiar array'a|\n",
    "|size|zwraca liczbę elementów w array'u|\n",
    "|dtype|określenie typu danych w array'u|\n",
    "|unique|zwraca unikalne elementy w array'u|"
   ]
  },
  {
   "cell_type": "code",
   "execution_count": 33,
   "metadata": {
    "ExecuteTime": {
     "end_time": "2021-10-30T11:23:18.091729Z",
     "start_time": "2021-10-30T11:23:18.076102Z"
    }
   },
   "outputs": [],
   "source": [
    "# Utworzmy 16elementowy array. Zauwaz, ze w pakiecie numpy mamy zdefiniowana liczbe pi.\n",
    "pi_array = np.linspace(start=-2*np.pi, stop=2*np.pi, num=16)"
   ]
  },
  {
   "cell_type": "code",
   "execution_count": 34,
   "metadata": {
    "ExecuteTime": {
     "end_time": "2021-10-30T11:23:22.234434Z",
     "start_time": "2021-10-30T11:23:22.218808Z"
    }
   },
   "outputs": [
    {
     "data": {
      "text/plain": [
       "array([-6.28318531, -5.44542727, -4.60766923, -3.76991118, -2.93215314,\n",
       "       -2.0943951 , -1.25663706, -0.41887902,  0.41887902,  1.25663706,\n",
       "        2.0943951 ,  2.93215314,  3.76991118,  4.60766923,  5.44542727,\n",
       "        6.28318531])"
      ]
     },
     "execution_count": 34,
     "metadata": {},
     "output_type": "execute_result"
    }
   ],
   "source": [
    "pi_array"
   ]
  },
  {
   "cell_type": "code",
   "execution_count": 35,
   "metadata": {
    "ExecuteTime": {
     "end_time": "2021-10-30T11:57:10.400648Z",
     "start_time": "2021-10-30T11:57:10.385022Z"
    }
   },
   "outputs": [
    {
     "data": {
      "text/plain": [
       "1"
      ]
     },
     "execution_count": 35,
     "metadata": {},
     "output_type": "execute_result"
    }
   ],
   "source": [
    "pi_array.ndim"
   ]
  },
  {
   "cell_type": "code",
   "execution_count": 36,
   "metadata": {
    "ExecuteTime": {
     "end_time": "2021-10-30T06:38:11.501591Z",
     "start_time": "2021-10-30T06:38:11.485964Z"
    }
   },
   "outputs": [
    {
     "data": {
      "text/plain": [
       "(16,)"
      ]
     },
     "execution_count": 36,
     "metadata": {},
     "output_type": "execute_result"
    }
   ],
   "source": [
    "# Sprawdzanie wymiaru arraya\n",
    "pi_array.shape"
   ]
  },
  {
   "cell_type": "code",
   "execution_count": 37,
   "metadata": {
    "ExecuteTime": {
     "end_time": "2021-10-30T09:49:20.789395Z",
     "start_time": "2021-10-30T09:49:20.773768Z"
    }
   },
   "outputs": [
    {
     "data": {
      "text/plain": [
       "16"
      ]
     },
     "execution_count": 37,
     "metadata": {},
     "output_type": "execute_result"
    }
   ],
   "source": [
    "# Sprawdzanie liczby elementow w arrayu\n",
    "pi_array.size"
   ]
  },
  {
   "cell_type": "code",
   "execution_count": 38,
   "metadata": {
    "ExecuteTime": {
     "end_time": "2021-11-02T12:56:17.686707Z",
     "start_time": "2021-11-02T12:56:17.671080Z"
    }
   },
   "outputs": [
    {
     "data": {
      "text/plain": [
       "'float64'"
      ]
     },
     "execution_count": 38,
     "metadata": {},
     "output_type": "execute_result"
    }
   ],
   "source": [
    "pi_array.dtype.name"
   ]
  },
  {
   "cell_type": "code",
   "execution_count": 39,
   "metadata": {
    "ExecuteTime": {
     "end_time": "2021-11-02T12:58:11.711930Z",
     "start_time": "2021-11-02T12:58:11.696303Z"
    }
   },
   "outputs": [
    {
     "data": {
      "text/plain": [
       "array([-6.28318531, -5.44542727, -4.60766923, -3.76991118, -2.93215314,\n",
       "       -2.0943951 , -1.25663706, -0.41887902,  0.41887902,  1.25663706,\n",
       "        2.0943951 ,  2.93215314,  3.76991118,  4.60766923,  5.44542727,\n",
       "        6.28318531])"
      ]
     },
     "execution_count": 39,
     "metadata": {},
     "output_type": "execute_result"
    }
   ],
   "source": [
    "np.unique(pi_array)"
   ]
  },
  {
   "cell_type": "markdown",
   "metadata": {},
   "source": [
    "### Wywoływanie określonych operacji matematycznych na arrayach\n",
    "\n",
    "|funkcja|opis|\n",
    "|--|--|\n",
    "|reshape|zmienia wymiar array'a|\n",
    "|ravel|spłaszczanie array'a|\n",
    "|T|transponuje array|\n",
    "|@ lub dot|mnożenie macierzowe arrayi|\n",
    "| * , **/** , **+**,**-** |mnożenie/dzielenie/dodawanie/odejmowanie poszczególnych elementów między sobą|\n",
    "|sin (lub inne funkcje trygonometryczne)/exp/sqrt/log|działanie na array odpowiednia funkcja|\n",
    "\n",
    "Stałe matematyczne:\n",
    "\n",
    "|funkcja|stała|\n",
    "|---|--|\n",
    "|np.pi|liczba pi|\n",
    "|np.e|liczba e (zobacz także funkcję np.exp())|\n",
    "|np.inf|nieskonczoność|\n",
    "|np.nan|not a number|\n",
    "|np.ninf|minus nieskonczoność|\n",
    "|np.log()|funkcja logarytmiczna, np np.log(0)==-inf|"
   ]
  },
  {
   "cell_type": "code",
   "execution_count": 40,
   "metadata": {
    "ExecuteTime": {
     "end_time": "2021-11-02T12:49:13.007709Z",
     "start_time": "2021-11-02T12:49:12.992083Z"
    }
   },
   "outputs": [
    {
     "data": {
      "text/plain": [
       "array([ 2.44929360e-16,  7.43144825e-01,  9.94521895e-01,  5.87785252e-01,\n",
       "       -2.07911691e-01, -8.66025404e-01, -9.51056516e-01, -4.06736643e-01,\n",
       "        4.06736643e-01,  9.51056516e-01,  8.66025404e-01,  2.07911691e-01,\n",
       "       -5.87785252e-01, -9.94521895e-01, -7.43144825e-01, -2.44929360e-16])"
      ]
     },
     "execution_count": 40,
     "metadata": {},
     "output_type": "execute_result"
    }
   ],
   "source": [
    "# Wywolywanie funkcji na arrayu. Zauwaz, ze w pakiecie numpy wystepuja funkcje trygonometryczne\n",
    "np.sin(pi_array)"
   ]
  },
  {
   "cell_type": "code",
   "execution_count": 41,
   "metadata": {
    "ExecuteTime": {
     "end_time": "2021-11-02T12:49:13.679651Z",
     "start_time": "2021-11-02T12:49:13.664024Z"
    }
   },
   "outputs": [
    {
     "data": {
      "text/plain": [
       "array([ 2.44929360e-16,  8.37758041e-01,  1.46607657e+00,  6.28318531e-01,\n",
       "       -2.09439510e-01, -1.04719755e+00, -1.25663706e+00, -4.18879020e-01,\n",
       "        4.18879020e-01,  1.25663706e+00,  1.04719755e+00,  2.09439510e-01,\n",
       "       -6.28318531e-01, -1.46607657e+00, -8.37758041e-01, -2.44929360e-16])"
      ]
     },
     "execution_count": 41,
     "metadata": {},
     "output_type": "execute_result"
    }
   ],
   "source": [
    "np.arcsin(np.sin(pi_array))"
   ]
  },
  {
   "cell_type": "code",
   "execution_count": 42,
   "metadata": {
    "ExecuteTime": {
     "end_time": "2021-10-30T09:53:54.658789Z",
     "start_time": "2021-10-30T09:53:54.643162Z"
    }
   },
   "outputs": [],
   "source": [
    "# Funkcja reshape przeksztalca wymiar array'a do zadanego\n",
    "# W tym przypadku array o wymiarze (16,) przeksztalcamy na array o wymiarze 4,4\n",
    "A = np.ones(16).reshape(4,4)"
   ]
  },
  {
   "cell_type": "code",
   "execution_count": 43,
   "metadata": {
    "ExecuteTime": {
     "end_time": "2021-10-30T09:53:55.377601Z",
     "start_time": "2021-10-30T09:53:55.361974Z"
    }
   },
   "outputs": [
    {
     "data": {
      "text/plain": [
       "array([[1., 1., 1., 1.],\n",
       "       [1., 1., 1., 1.],\n",
       "       [1., 1., 1., 1.],\n",
       "       [1., 1., 1., 1.]])"
      ]
     },
     "execution_count": 43,
     "metadata": {},
     "output_type": "execute_result"
    }
   ],
   "source": [
    "A"
   ]
  },
  {
   "cell_type": "code",
   "execution_count": 44,
   "metadata": {
    "ExecuteTime": {
     "end_time": "2021-10-30T09:55:37.965916Z",
     "start_time": "2021-10-30T09:55:37.950290Z"
    }
   },
   "outputs": [],
   "source": [
    "B = np.arange(16).reshape(4,4)"
   ]
  },
  {
   "cell_type": "code",
   "execution_count": 45,
   "metadata": {
    "ExecuteTime": {
     "end_time": "2021-10-30T09:55:38.622222Z",
     "start_time": "2021-10-30T09:55:38.606596Z"
    }
   },
   "outputs": [
    {
     "data": {
      "text/plain": [
       "array([[ 0,  1,  2,  3],\n",
       "       [ 4,  5,  6,  7],\n",
       "       [ 8,  9, 10, 11],\n",
       "       [12, 13, 14, 15]])"
      ]
     },
     "execution_count": 45,
     "metadata": {},
     "output_type": "execute_result"
    }
   ],
   "source": [
    "B"
   ]
  },
  {
   "cell_type": "code",
   "execution_count": 46,
   "metadata": {
    "ExecuteTime": {
     "end_time": "2021-11-02T13:01:14.741027Z",
     "start_time": "2021-11-02T13:01:14.725401Z"
    }
   },
   "outputs": [
    {
     "data": {
      "text/plain": [
       "array([ 0,  1,  2,  3,  4,  5,  6,  7,  8,  9, 10, 11, 12, 13, 14, 15])"
      ]
     },
     "execution_count": 46,
     "metadata": {},
     "output_type": "execute_result"
    }
   ],
   "source": [
    "# Funkcja splaszczajaca (zauwaz ze B nie zostalo nadpisane)\n",
    "B.ravel()"
   ]
  },
  {
   "cell_type": "code",
   "execution_count": 47,
   "metadata": {
    "ExecuteTime": {
     "end_time": "2021-11-02T13:00:39.940723Z",
     "start_time": "2021-11-02T13:00:39.925096Z"
    }
   },
   "outputs": [
    {
     "data": {
      "text/plain": [
       "2"
      ]
     },
     "execution_count": 47,
     "metadata": {},
     "output_type": "execute_result"
    }
   ],
   "source": [
    "B.ndim"
   ]
  },
  {
   "cell_type": "code",
   "execution_count": 48,
   "metadata": {
    "ExecuteTime": {
     "end_time": "2021-10-30T11:52:13.506135Z",
     "start_time": "2021-10-30T11:52:13.490508Z"
    }
   },
   "outputs": [
    {
     "data": {
      "text/plain": [
       "array([[False,  True, False, False],\n",
       "       [False, False, False, False],\n",
       "       [False, False, False, False],\n",
       "       [False, False, False, False]])"
      ]
     },
     "execution_count": 48,
     "metadata": {},
     "output_type": "execute_result"
    }
   ],
   "source": [
    "# Porownywanie poszczegolnych elementow w arrayach\n",
    "A==B"
   ]
  },
  {
   "cell_type": "code",
   "execution_count": 49,
   "metadata": {
    "ExecuteTime": {
     "end_time": "2021-10-30T07:04:44.502335Z",
     "start_time": "2021-10-30T07:04:44.486709Z"
    }
   },
   "outputs": [
    {
     "data": {
      "text/plain": [
       "array([[ 0.,  1.,  2.,  3.],\n",
       "       [ 4.,  5.,  6.,  7.],\n",
       "       [ 8.,  9., 10., 11.],\n",
       "       [12., 13., 14., 15.]])"
      ]
     },
     "execution_count": 49,
     "metadata": {},
     "output_type": "execute_result"
    }
   ],
   "source": [
    "# Mnozenie odpowiadajacych sobie wyrazow\n",
    "A*B"
   ]
  },
  {
   "cell_type": "code",
   "execution_count": 50,
   "metadata": {
    "ExecuteTime": {
     "end_time": "2021-10-30T07:04:46.877569Z",
     "start_time": "2021-10-30T07:04:46.861943Z"
    }
   },
   "outputs": [
    {
     "data": {
      "text/plain": [
       "array([[24., 28., 32., 36.],\n",
       "       [24., 28., 32., 36.],\n",
       "       [24., 28., 32., 36.],\n",
       "       [24., 28., 32., 36.]])"
      ]
     },
     "execution_count": 50,
     "metadata": {},
     "output_type": "execute_result"
    }
   ],
   "source": [
    "# Mnozenie macierzowe\n",
    "A.dot(B)"
   ]
  },
  {
   "cell_type": "code",
   "execution_count": 51,
   "metadata": {
    "ExecuteTime": {
     "end_time": "2021-10-30T07:04:48.268332Z",
     "start_time": "2021-10-30T07:04:48.252705Z"
    }
   },
   "outputs": [
    {
     "data": {
      "text/plain": [
       "array([[24., 28., 32., 36.],\n",
       "       [24., 28., 32., 36.],\n",
       "       [24., 28., 32., 36.],\n",
       "       [24., 28., 32., 36.]])"
      ]
     },
     "execution_count": 51,
     "metadata": {},
     "output_type": "execute_result"
    }
   ],
   "source": [
    "# Inny sposob mnozenia macierzowego\n",
    "A@B"
   ]
  },
  {
   "cell_type": "code",
   "execution_count": 52,
   "metadata": {
    "ExecuteTime": {
     "end_time": "2021-10-30T10:39:04.046022Z",
     "start_time": "2021-10-30T10:39:04.030395Z"
    }
   },
   "outputs": [
    {
     "data": {
      "text/plain": [
       "array([[ 0,  4,  8, 12],\n",
       "       [ 1,  5,  9, 13],\n",
       "       [ 2,  6, 10, 14],\n",
       "       [ 3,  7, 11, 15]])"
      ]
     },
     "execution_count": 52,
     "metadata": {},
     "output_type": "execute_result"
    }
   ],
   "source": [
    "# Transponowanie\n",
    "B.T"
   ]
  },
  {
   "cell_type": "code",
   "execution_count": 53,
   "metadata": {
    "ExecuteTime": {
     "end_time": "2021-10-30T10:39:04.749216Z",
     "start_time": "2021-10-30T10:39:04.717963Z"
    }
   },
   "outputs": [
    {
     "data": {
      "text/plain": [
       "array([[1.00000000e+00, 2.71828183e+00, 7.38905610e+00, 2.00855369e+01],\n",
       "       [5.45981500e+01, 1.48413159e+02, 4.03428793e+02, 1.09663316e+03],\n",
       "       [2.98095799e+03, 8.10308393e+03, 2.20264658e+04, 5.98741417e+04],\n",
       "       [1.62754791e+05, 4.42413392e+05, 1.20260428e+06, 3.26901737e+06]])"
      ]
     },
     "execution_count": 53,
     "metadata": {},
     "output_type": "execute_result"
    }
   ],
   "source": [
    "# Funkcja e^x. Chac uzyskac liczbe e wystarczy podac np.exp(1)\n",
    "np.exp(B)"
   ]
  },
  {
   "cell_type": "code",
   "execution_count": 54,
   "metadata": {
    "ExecuteTime": {
     "end_time": "2021-10-30T10:39:05.389904Z",
     "start_time": "2021-10-30T10:39:05.374278Z"
    }
   },
   "outputs": [
    {
     "data": {
      "text/plain": [
       "array([[0.        , 1.        , 1.41421356, 1.73205081],\n",
       "       [2.        , 2.23606798, 2.44948974, 2.64575131],\n",
       "       [2.82842712, 3.        , 3.16227766, 3.31662479],\n",
       "       [3.46410162, 3.60555128, 3.74165739, 3.87298335]])"
      ]
     },
     "execution_count": 54,
     "metadata": {},
     "output_type": "execute_result"
    }
   ],
   "source": [
    "# Pierwiastkowanie\n",
    "np.sqrt(B)"
   ]
  },
  {
   "cell_type": "markdown",
   "metadata": {},
   "source": [
    "### Sortowanie array'a"
   ]
  },
  {
   "cell_type": "code",
   "execution_count": 55,
   "metadata": {
    "ExecuteTime": {
     "end_time": "2021-10-30T10:48:14.995571Z",
     "start_time": "2021-10-30T10:48:14.979944Z"
    }
   },
   "outputs": [],
   "source": [
    "# Stworzenie arrayi z 10 losowych liczb calkowitych z przedzialu [1,10]\n",
    "to_sort = np.random.randint(1, 10, 10)"
   ]
  },
  {
   "cell_type": "code",
   "execution_count": 56,
   "metadata": {
    "ExecuteTime": {
     "end_time": "2021-10-30T10:48:15.886283Z",
     "start_time": "2021-10-30T10:48:15.870657Z"
    }
   },
   "outputs": [
    {
     "data": {
      "text/plain": [
       "array([6, 6, 2, 1, 6, 6, 7, 5, 1, 3])"
      ]
     },
     "execution_count": 56,
     "metadata": {},
     "output_type": "execute_result"
    }
   ],
   "source": [
    "to_sort"
   ]
  },
  {
   "cell_type": "code",
   "execution_count": 57,
   "metadata": {
    "ExecuteTime": {
     "end_time": "2021-10-30T10:48:29.981423Z",
     "start_time": "2021-10-30T10:48:29.965796Z"
    }
   },
   "outputs": [
    {
     "data": {
      "text/plain": [
       "array([1, 1, 2, 3, 5, 6, 6, 6, 6, 7])"
      ]
     },
     "execution_count": 57,
     "metadata": {},
     "output_type": "execute_result"
    }
   ],
   "source": [
    "np.sort(to_sort)"
   ]
  },
  {
   "cell_type": "markdown",
   "metadata": {},
   "source": [
    "Sortowanie malejaco"
   ]
  },
  {
   "cell_type": "code",
   "execution_count": 58,
   "metadata": {
    "ExecuteTime": {
     "end_time": "2021-10-30T10:48:37.357149Z",
     "start_time": "2021-10-30T10:48:37.341523Z"
    }
   },
   "outputs": [
    {
     "data": {
      "text/plain": [
       "array([7, 6, 6, 6, 6, 5, 3, 2, 1, 1])"
      ]
     },
     "execution_count": 58,
     "metadata": {},
     "output_type": "execute_result"
    }
   ],
   "source": [
    "-np.sort(-to_sort)"
   ]
  },
  {
   "cell_type": "code",
   "execution_count": 59,
   "metadata": {
    "ExecuteTime": {
     "end_time": "2021-10-30T10:49:46.188639Z",
     "start_time": "2021-10-30T10:49:46.173013Z"
    }
   },
   "outputs": [
    {
     "data": {
      "text/plain": [
       "array([7, 6, 6, 6, 6, 5, 3, 2, 1, 1])"
      ]
     },
     "execution_count": 59,
     "metadata": {},
     "output_type": "execute_result"
    }
   ],
   "source": [
    "# Funckja flip odwraca kolejnosc elementow w arrayi\n",
    "np.flip(np.sort(to_sort))"
   ]
  },
  {
   "cell_type": "markdown",
   "metadata": {},
   "source": [
    "### Łączenie i dzielenie array'i, dodawanie i usuwanie elementów\n",
    "\n",
    "|funkcja|opis|\n",
    "|--|--|\n",
    "|vstack/hstack|wierszowe/kolumnowe skladanie dwoch arrayi|\n",
    "|vspli/hsplit|wierszowe/kolumnowe rozdzielanie dwoch arrayi|\n",
    "|append| dodawanie elementu na koniec arrayi|\n",
    "|insert|umieszczanie nowego elementu w arrayi w okreslonym miejscu|\n",
    "|delete|usuwanie elementow arrayi|"
   ]
  },
  {
   "cell_type": "code",
   "execution_count": 60,
   "metadata": {
    "ExecuteTime": {
     "end_time": "2021-11-02T12:50:54.778346Z",
     "start_time": "2021-11-02T12:50:54.747093Z"
    }
   },
   "outputs": [
    {
     "data": {
      "text/plain": [
       "array([[ 1.,  1.,  1.,  1.],\n",
       "       [ 1.,  1.,  1.,  1.],\n",
       "       [ 1.,  1.,  1.,  1.],\n",
       "       [ 1.,  1.,  1.,  1.],\n",
       "       [ 0.,  1.,  2.,  3.],\n",
       "       [ 4.,  5.,  6.,  7.],\n",
       "       [ 8.,  9., 10., 11.],\n",
       "       [12., 13., 14., 15.]])"
      ]
     },
     "execution_count": 60,
     "metadata": {},
     "output_type": "execute_result"
    }
   ],
   "source": [
    "# Wertykalne laczanie arrayi\n",
    "np.vstack((A, B))"
   ]
  },
  {
   "cell_type": "code",
   "execution_count": 61,
   "metadata": {
    "ExecuteTime": {
     "end_time": "2021-11-02T12:51:01.138348Z",
     "start_time": "2021-11-02T12:51:01.122721Z"
    }
   },
   "outputs": [
    {
     "data": {
      "text/plain": [
       "array([[ 1.,  1.,  1.,  1.,  0.,  1.,  2.,  3.],\n",
       "       [ 1.,  1.,  1.,  1.,  4.,  5.,  6.,  7.],\n",
       "       [ 1.,  1.,  1.,  1.,  8.,  9., 10., 11.],\n",
       "       [ 1.,  1.,  1.,  1., 12., 13., 14., 15.]])"
      ]
     },
     "execution_count": 61,
     "metadata": {},
     "output_type": "execute_result"
    }
   ],
   "source": [
    "# Horyzontalne laczanie array'i\n",
    "np.hstack((A, B))"
   ]
  },
  {
   "cell_type": "code",
   "execution_count": 62,
   "metadata": {
    "ExecuteTime": {
     "end_time": "2021-11-02T12:51:08.404689Z",
     "start_time": "2021-11-02T12:51:08.389063Z"
    }
   },
   "outputs": [
    {
     "data": {
      "text/plain": [
       "[array([[ 0,  1],\n",
       "        [ 4,  5],\n",
       "        [ 8,  9],\n",
       "        [12, 13]]),\n",
       " array([[ 2,  3],\n",
       "        [ 6,  7],\n",
       "        [10, 11],\n",
       "        [14, 15]])]"
      ]
     },
     "execution_count": 62,
     "metadata": {},
     "output_type": "execute_result"
    }
   ],
   "source": [
    "# Podzial arrayi B na dwie mniejsze\n",
    "np.hsplit(B, 2)"
   ]
  },
  {
   "cell_type": "code",
   "execution_count": 63,
   "metadata": {
    "ExecuteTime": {
     "end_time": "2021-10-30T11:07:50.530924Z",
     "start_time": "2021-10-30T11:07:50.515297Z"
    }
   },
   "outputs": [
    {
     "data": {
      "text/plain": [
       "array([ 6,  6,  2,  1,  6,  6,  7,  5,  1,  3, 10])"
      ]
     },
     "execution_count": 63,
     "metadata": {},
     "output_type": "execute_result"
    }
   ],
   "source": [
    "# Dodawanie liczby do arraya\n",
    "np.append(to_sort, 10)"
   ]
  },
  {
   "cell_type": "code",
   "execution_count": 64,
   "metadata": {
    "ExecuteTime": {
     "end_time": "2021-10-30T11:08:01.532008Z",
     "start_time": "2021-10-30T11:08:01.516381Z"
    }
   },
   "outputs": [
    {
     "data": {
      "text/plain": [
       "array([ 6,  6,  2,  1,  6,  6,  7,  5,  1,  3, 10, 15, 13])"
      ]
     },
     "execution_count": 64,
     "metadata": {},
     "output_type": "execute_result"
    }
   ],
   "source": [
    "# Dodawanie listy do arraya\n",
    "np.append(to_sort, [10, 15, 13])"
   ]
  },
  {
   "cell_type": "code",
   "execution_count": 65,
   "metadata": {
    "ExecuteTime": {
     "end_time": "2021-10-30T11:08:24.174864Z",
     "start_time": "2021-10-30T11:08:24.159238Z"
    }
   },
   "outputs": [
    {
     "data": {
      "text/plain": [
       "array([ 6,  6,  2,  1,  6,  6,  7,  5,  1,  3, 10, 15, 13])"
      ]
     },
     "execution_count": 65,
     "metadata": {},
     "output_type": "execute_result"
    }
   ],
   "source": [
    "# Dodawanie arraya do arraya\n",
    "np.append(to_sort, np.array([10, 15, 13]))"
   ]
  },
  {
   "cell_type": "code",
   "execution_count": 66,
   "metadata": {
    "ExecuteTime": {
     "end_time": "2021-10-30T11:10:23.281069Z",
     "start_time": "2021-10-30T11:10:23.265443Z"
    }
   },
   "outputs": [
    {
     "data": {
      "text/plain": [
       "array([ 6,  6,  2,  1,  1, 23,  6,  6,  7,  5,  1,  3])"
      ]
     },
     "execution_count": 66,
     "metadata": {},
     "output_type": "execute_result"
    }
   ],
   "source": [
    "# Umieszczenie na 5 miejscu w arrayu listy\n",
    "np.insert(to_sort, 4, [1, 23])"
   ]
  },
  {
   "cell_type": "code",
   "execution_count": 67,
   "metadata": {
    "ExecuteTime": {
     "end_time": "2021-10-30T11:11:12.551550Z",
     "start_time": "2021-10-30T11:11:12.535924Z"
    }
   },
   "outputs": [
    {
     "data": {
      "text/plain": [
       "array([[ 0,  2,  3],\n",
       "       [ 4,  6,  7],\n",
       "       [ 8, 10, 11],\n",
       "       [12, 14, 15]])"
      ]
     },
     "execution_count": 67,
     "metadata": {},
     "output_type": "execute_result"
    }
   ],
   "source": [
    "# Usuniecie drugiej kolumny w arrayu\n",
    "np.delete(B, 1, axis=1)"
   ]
  },
  {
   "cell_type": "code",
   "execution_count": 68,
   "metadata": {
    "ExecuteTime": {
     "end_time": "2021-10-30T11:13:18.111373Z",
     "start_time": "2021-10-30T11:13:18.095746Z"
    }
   },
   "outputs": [
    {
     "data": {
      "text/plain": [
       "array([[ 0,  1,  2,  3],\n",
       "       [12, 13, 14, 15]])"
      ]
     },
     "execution_count": 68,
     "metadata": {},
     "output_type": "execute_result"
    }
   ],
   "source": [
    "# Usuniecie drugiego i trzecicego wiersza\n",
    "np.delete(B, [1, 2], axis=0)"
   ]
  },
  {
   "cell_type": "markdown",
   "metadata": {},
   "source": [
    "### Podstawowe statystyki\n",
    "\n",
    "|funkcja|opis|\n",
    "|--|--|\n",
    "|sum|zsumowanie elementow|\n",
    "|max|element maksymalny|\n",
    "|min|element minimalny|\n",
    "|mean|srednia|\n",
    "|sum|zsumowanie elementow|\n",
    "|std|odchylenie standardowe|\n",
    "|var|wariancja|\n",
    "|cov|macierz kowariancji|\n",
    "|cumsum|suma skumulowana|\n",
    "|argmax|zwraca **indeks** najwiekszego elementu|\n",
    "|argmin|zwraca **indeks** najmniejszego elementu|"
   ]
  },
  {
   "cell_type": "code",
   "execution_count": 69,
   "metadata": {
    "ExecuteTime": {
     "end_time": "2021-10-30T07:28:29.038101Z",
     "start_time": "2021-10-30T07:28:29.022473Z"
    }
   },
   "outputs": [
    {
     "data": {
      "text/plain": [
       "120"
      ]
     },
     "execution_count": 69,
     "metadata": {},
     "output_type": "execute_result"
    }
   ],
   "source": [
    "# Zsumowanie wszystkich elementow\n",
    "B.sum()"
   ]
  },
  {
   "cell_type": "code",
   "execution_count": 70,
   "metadata": {
    "ExecuteTime": {
     "end_time": "2021-10-30T07:29:07.715037Z",
     "start_time": "2021-10-30T07:29:07.683784Z"
    }
   },
   "outputs": [
    {
     "data": {
      "text/plain": [
       "array([24, 28, 32, 36])"
      ]
     },
     "execution_count": 70,
     "metadata": {},
     "output_type": "execute_result"
    }
   ],
   "source": [
    "# Suma poszczegolnych kolumn\n",
    "B.sum(axis=0)"
   ]
  },
  {
   "cell_type": "code",
   "execution_count": 71,
   "metadata": {
    "ExecuteTime": {
     "end_time": "2021-10-30T07:29:27.000665Z",
     "start_time": "2021-10-30T07:29:26.985038Z"
    }
   },
   "outputs": [
    {
     "data": {
      "text/plain": [
       "array([ 6, 22, 38, 54])"
      ]
     },
     "execution_count": 71,
     "metadata": {},
     "output_type": "execute_result"
    }
   ],
   "source": [
    "# Suma poszczegolnych wierszy\n",
    "B.sum(axis=1)"
   ]
  },
  {
   "cell_type": "code",
   "execution_count": 72,
   "metadata": {
    "ExecuteTime": {
     "end_time": "2021-10-30T10:04:21.924773Z",
     "start_time": "2021-10-30T10:04:21.909146Z"
    }
   },
   "outputs": [
    {
     "data": {
      "text/plain": [
       "array([  0,   1,   3,   6,  10,  15,  21,  28,  36,  45,  55,  66,  78,\n",
       "        91, 105, 120], dtype=int32)"
      ]
     },
     "execution_count": 72,
     "metadata": {},
     "output_type": "execute_result"
    }
   ],
   "source": [
    "np.cumsum(B)"
   ]
  },
  {
   "cell_type": "code",
   "execution_count": 73,
   "metadata": {
    "ExecuteTime": {
     "end_time": "2021-10-30T11:36:19.846374Z",
     "start_time": "2021-10-30T11:36:19.815121Z"
    }
   },
   "outputs": [
    {
     "data": {
      "text/plain": [
       "array([6, 6, 2, 1, 6, 6, 7, 5, 1, 3])"
      ]
     },
     "execution_count": 73,
     "metadata": {},
     "output_type": "execute_result"
    }
   ],
   "source": [
    "to_sort"
   ]
  },
  {
   "cell_type": "code",
   "execution_count": 74,
   "metadata": {
    "ExecuteTime": {
     "end_time": "2021-10-30T11:36:12.314382Z",
     "start_time": "2021-10-30T11:36:12.283128Z"
    }
   },
   "outputs": [
    {
     "data": {
      "text/plain": [
       "6"
      ]
     },
     "execution_count": 74,
     "metadata": {},
     "output_type": "execute_result"
    }
   ],
   "source": [
    "np.argmax(to_sort)"
   ]
  },
  {
   "cell_type": "markdown",
   "metadata": {},
   "source": [
    "## Zdjęcie jako wielowymiarowy array"
   ]
  },
  {
   "cell_type": "code",
   "execution_count": 75,
   "metadata": {
    "ExecuteTime": {
     "end_time": "2021-10-30T12:15:46.336642Z",
     "start_time": "2021-10-30T12:15:46.164750Z"
    }
   },
   "outputs": [
    {
     "data": {
      "text/plain": [
       "numpy.ndarray"
      ]
     },
     "execution_count": 75,
     "metadata": {},
     "output_type": "execute_result"
    }
   ],
   "source": [
    "# Wczytajmy przykladowe zdjecie i sprawdzmy jego typ\n",
    "from scipy import misc\n",
    "raccoon = misc.face()\n",
    "type(raccoon)"
   ]
  },
  {
   "cell_type": "markdown",
   "metadata": {},
   "source": [
    "<div class=\"alert alert-block alert-info\">\n",
    "<b>Info!</b> \n",
    "    \n",
    "Wczytując kolorowe zdjęcie (kolory w RGB) otrzymamy array wielkości (X, Y, 3). X odpowiada za wysokość obrazu (liczba wierszy w array'i),  Y odpowiada za szerokość (liczba kolumn w array'i), a 3 odpowiada za składowe RGB.\n",
    "</div>"
   ]
  },
  {
   "cell_type": "code",
   "execution_count": 76,
   "metadata": {
    "ExecuteTime": {
     "end_time": "2021-10-30T12:06:08.378986Z",
     "start_time": "2021-10-30T12:06:08.363359Z"
    }
   },
   "outputs": [
    {
     "data": {
      "text/plain": [
       "3"
      ]
     },
     "execution_count": 76,
     "metadata": {},
     "output_type": "execute_result"
    }
   ],
   "source": [
    "# Sprawdzmy liczbe wymiarow\n",
    "raccoon.ndim"
   ]
  },
  {
   "cell_type": "code",
   "execution_count": 77,
   "metadata": {
    "ExecuteTime": {
     "end_time": "2021-10-30T11:24:40.952607Z",
     "start_time": "2021-10-30T11:24:40.936980Z"
    }
   },
   "outputs": [
    {
     "data": {
      "text/plain": [
       "(768, 1024, 3)"
      ]
     },
     "execution_count": 77,
     "metadata": {},
     "output_type": "execute_result"
    }
   ],
   "source": [
    "# Sprawdzmy rozmiary (zdjecie ma rozmiar 768x1024 pixeli)\n",
    "raccoon.shape"
   ]
  },
  {
   "cell_type": "code",
   "execution_count": 78,
   "metadata": {
    "ExecuteTime": {
     "end_time": "2021-10-30T11:24:47.672019Z",
     "start_time": "2021-10-30T11:24:47.656393Z"
    }
   },
   "outputs": [
    {
     "data": {
      "text/plain": [
       "2359296"
      ]
     },
     "execution_count": 78,
     "metadata": {},
     "output_type": "execute_result"
    }
   ],
   "source": [
    "# Liczba elementow (768*1024*3)\n",
    "raccoon.size"
   ]
  },
  {
   "cell_type": "code",
   "execution_count": 79,
   "metadata": {
    "ExecuteTime": {
     "end_time": "2021-10-30T11:25:40.153601Z",
     "start_time": "2021-10-30T11:25:40.137975Z"
    }
   },
   "outputs": [
    {
     "data": {
      "text/plain": [
       "dtype('uint8')"
      ]
     },
     "execution_count": 79,
     "metadata": {},
     "output_type": "execute_result"
    }
   ],
   "source": [
    "raccoon.dtype"
   ]
  },
  {
   "cell_type": "code",
   "execution_count": 80,
   "metadata": {
    "ExecuteTime": {
     "end_time": "2021-10-30T11:24:53.203814Z",
     "start_time": "2021-10-30T11:24:53.188188Z"
    }
   },
   "outputs": [
    {
     "data": {
      "text/plain": [
       "array([121, 112, 131], dtype=uint8)"
      ]
     },
     "execution_count": 80,
     "metadata": {},
     "output_type": "execute_result"
    }
   ],
   "source": [
    "# Wyswietlenie pierwszego pixela\n",
    "raccoon[0][0]"
   ]
  },
  {
   "cell_type": "code",
   "execution_count": 81,
   "metadata": {
    "ExecuteTime": {
     "end_time": "2021-10-30T11:24:59.876347Z",
     "start_time": "2021-10-30T11:24:59.845094Z"
    }
   },
   "outputs": [
    {
     "data": {
      "text/plain": [
       "array([[ 89,  82, 100],\n",
       "       [110, 103, 121],\n",
       "       [130, 122, 143],\n",
       "       ...,\n",
       "       [118, 125,  71],\n",
       "       [134, 141,  87],\n",
       "       [146, 153,  99]], dtype=uint8)"
      ]
     },
     "execution_count": 81,
     "metadata": {},
     "output_type": "execute_result"
    }
   ],
   "source": [
    "# Wybranie drugiego wiersza.\n",
    "# Analogicznie: raccoon[1, :, :] lub raccoon[1]\n",
    "raccoon[1, ...]  "
   ]
  },
  {
   "cell_type": "code",
   "execution_count": 82,
   "metadata": {
    "ExecuteTime": {
     "end_time": "2021-10-30T11:25:07.394615Z",
     "start_time": "2021-10-30T11:25:07.378988Z"
    }
   },
   "outputs": [
    {
     "name": "stdout",
     "output_type": "stream",
     "text": [
      "[121 112 131]\n",
      "[138 129 148]\n",
      "[153 144 165]\n",
      "[155 146 167]\n",
      "[155 146 167]\n",
      "[ 89  82 100]\n",
      "[110 103 121]\n",
      "[130 122 143]\n",
      "[137 129 150]\n",
      "[141 133 154]\n",
      "[73 66 84]\n",
      "[ 94  87 105]\n",
      "[115 108 126]\n",
      "[123 115 136]\n",
      "[127 119 140]\n",
      "[81 77 94]\n",
      "[ 97  93 110]\n",
      "[113 109 126]\n",
      "[120 115 135]\n",
      "[125 120 140]\n",
      "[103  99 114]\n",
      "[113 109 126]\n",
      "[123 119 136]\n",
      "[132 127 147]\n",
      "[142 137 157]\n"
     ]
    }
   ],
   "source": [
    "# Iterowanie po pikselach\n",
    "for column in raccoon[:5]:\n",
    "    for rgb in column[:5]:\n",
    "        print(rgb)"
   ]
  },
  {
   "cell_type": "code",
   "execution_count": 83,
   "metadata": {
    "ExecuteTime": {
     "end_time": "2021-10-30T11:25:19.398318Z",
     "start_time": "2021-10-30T11:25:19.382692Z"
    }
   },
   "outputs": [
    {
     "data": {
      "text/plain": [
       "array([[[121, 112, 131],\n",
       "        [138, 129, 148],\n",
       "        [153, 144, 165],\n",
       "        [155, 146, 167],\n",
       "        [155, 146, 167]],\n",
       "\n",
       "       [[ 89,  82, 100],\n",
       "        [110, 103, 121],\n",
       "        [130, 122, 143],\n",
       "        [137, 129, 150],\n",
       "        [141, 133, 154]],\n",
       "\n",
       "       [[ 73,  66,  84],\n",
       "        [ 94,  87, 105],\n",
       "        [115, 108, 126],\n",
       "        [123, 115, 136],\n",
       "        [127, 119, 140]],\n",
       "\n",
       "       [[ 81,  77,  94],\n",
       "        [ 97,  93, 110],\n",
       "        [113, 109, 126],\n",
       "        [120, 115, 135],\n",
       "        [125, 120, 140]],\n",
       "\n",
       "       [[103,  99, 114],\n",
       "        [113, 109, 126],\n",
       "        [123, 119, 136],\n",
       "        [132, 127, 147],\n",
       "        [142, 137, 157]]], dtype=uint8)"
      ]
     },
     "execution_count": 83,
     "metadata": {},
     "output_type": "execute_result"
    }
   ],
   "source": [
    "# Sprawdzenie poprawnosci petli (wyciagniecie 5 pierwszych wierszy i 5 pierwszych kolumn)\n",
    "raccoon[:5,:5]"
   ]
  },
  {
   "cell_type": "code",
   "execution_count": 84,
   "metadata": {
    "ExecuteTime": {
     "end_time": "2021-10-30T11:25:30.571295Z",
     "start_time": "2021-10-30T11:25:30.258764Z"
    }
   },
   "outputs": [
    {
     "data": {
      "text/plain": [
       "<matplotlib.image.AxesImage at 0x25640a13a00>"
      ]
     },
     "execution_count": 84,
     "metadata": {},
     "output_type": "execute_result"
    },
    {
     "data": {
      "image/png": "[encoded data removed]",
      "text/plain": [
       "<Figure size 432x288 with 1 Axes>"
      ]
     },
     "metadata": {
      "filenames": {
       "image/png": "C:\\Users\\kazim\\dev\\studia_PG\\_build\\jupyter_execute\\2. Numpy_tutorial\\2_Tutorial numpy_100_1.png"
      },
      "needs_background": "light"
     },
     "output_type": "display_data"
    }
   ],
   "source": [
    "# Wyswietlenie arraya przy pomocy pakietu matplotlib\n",
    "# Na jednym z kolejnych zajec bedzie wiecej o tym pakiecie i nie tylko :)\n",
    "import matplotlib.pyplot as plt\n",
    "plt.imshow(raccoon)"
   ]
  },
  {
   "cell_type": "code",
   "execution_count": 85,
   "metadata": {
    "ExecuteTime": {
     "end_time": "2021-10-30T12:20:15.318363Z",
     "start_time": "2021-10-30T12:20:15.287110Z"
    }
   },
   "outputs": [],
   "source": [
    "# Znormalizowanie RGB (zmiana z przedzialu [0, 255] na [0, 1])\n",
    "raccoon = raccoon / 255"
   ]
  },
  {
   "cell_type": "code",
   "execution_count": 86,
   "metadata": {
    "ExecuteTime": {
     "end_time": "2021-10-30T12:21:30.153863Z",
     "start_time": "2021-10-30T12:21:30.122610Z"
    }
   },
   "outputs": [],
   "source": [
    "# Chac uzyskac zdjecie w skali szarosci trzeba pomnozyc macierzowo nasza macierz przez podana ponizej\n",
    "raccoon_gray = raccoon @ [0.2126, 0.7152, 0.0722]"
   ]
  },
  {
   "cell_type": "code",
   "execution_count": 87,
   "metadata": {
    "ExecuteTime": {
     "end_time": "2021-10-30T12:20:16.834137Z",
     "start_time": "2021-10-30T12:20:16.818511Z"
    }
   },
   "outputs": [
    {
     "data": {
      "text/plain": [
       "(768, 1024)"
      ]
     },
     "execution_count": 87,
     "metadata": {},
     "output_type": "execute_result"
    }
   ],
   "source": [
    "raccoon_gray.shape"
   ]
  },
  {
   "cell_type": "code",
   "execution_count": 88,
   "metadata": {
    "ExecuteTime": {
     "end_time": "2021-10-30T12:20:27.569570Z",
     "start_time": "2021-10-30T12:20:27.288293Z"
    },
    "scrolled": true
   },
   "outputs": [
    {
     "data": {
      "text/plain": [
       "<matplotlib.image.AxesImage at 0x25642587940>"
      ]
     },
     "execution_count": 88,
     "metadata": {},
     "output_type": "execute_result"
    },
    {
     "data": {
      "image/png": "[encoded data removed]",
      "text/plain": [
       "<Figure size 432x288 with 1 Axes>"
      ]
     },
     "metadata": {
      "filenames": {
       "image/png": "C:\\Users\\kazim\\dev\\studia_PG\\_build\\jupyter_execute\\2. Numpy_tutorial\\2_Tutorial numpy_104_1.png"
      },
      "needs_background": "light"
     },
     "output_type": "display_data"
    }
   ],
   "source": [
    "plt.imshow(raccoon_gray, cmap=\"gray\")"
   ]
  },
  {
   "cell_type": "markdown",
   "metadata": {},
   "source": [
    "## Pandas DataFrame a Numpy Array\n",
    "Chcąc wykonywać obliczenia szybciej warto zamienić DataFrame na Array. Wtedy każdy wiersz arraya będzie odpowiadać za każdy wiersz ramki danych."
   ]
  },
  {
   "cell_type": "code",
   "execution_count": 89,
   "metadata": {
    "ExecuteTime": {
     "end_time": "2021-11-02T07:52:43.621129Z",
     "start_time": "2021-11-02T07:52:43.246092Z"
    }
   },
   "outputs": [],
   "source": [
    "import pandas as pd\n",
    "df = pd.read_csv(filepath_or_buffer=r'mpg.csv', # sciezka do pliku\n",
    "                sep=',', # separator\n",
    "                header=0, # naglowek (nazwy kolumn)\n",
    "                index_col=0 # kolumna z indeksem\n",
    "                )"
   ]
  },
  {
   "cell_type": "code",
   "execution_count": 90,
   "metadata": {
    "ExecuteTime": {
     "end_time": "2021-11-02T07:53:11.280105Z",
     "start_time": "2021-11-02T07:53:11.248852Z"
    }
   },
   "outputs": [
    {
     "data": {
      "text/html": [
       "<div>\n",
       "<style scoped>\n",
       "    .dataframe tbody tr th:only-of-type {\n",
       "        vertical-align: middle;\n",
       "    }\n",
       "\n",
       "    .dataframe tbody tr th {\n",
       "        vertical-align: top;\n",
       "    }\n",
       "\n",
       "    .dataframe thead th {\n",
       "        text-align: right;\n",
       "    }\n",
       "</style>\n",
       "<table border=\"1\" class=\"dataframe\">\n",
       "  <thead>\n",
       "    <tr style=\"text-align: right;\">\n",
       "      <th></th>\n",
       "      <th>cylinders</th>\n",
       "      <th>displacement</th>\n",
       "      <th>horsepower</th>\n",
       "      <th>weight</th>\n",
       "      <th>acceleration</th>\n",
       "      <th>model_year</th>\n",
       "      <th>origin</th>\n",
       "      <th>name</th>\n",
       "    </tr>\n",
       "    <tr>\n",
       "      <th>mpg</th>\n",
       "      <th></th>\n",
       "      <th></th>\n",
       "      <th></th>\n",
       "      <th></th>\n",
       "      <th></th>\n",
       "      <th></th>\n",
       "      <th></th>\n",
       "      <th></th>\n",
       "    </tr>\n",
       "  </thead>\n",
       "  <tbody>\n",
       "    <tr>\n",
       "      <th>18.0</th>\n",
       "      <td>8</td>\n",
       "      <td>307.0</td>\n",
       "      <td>130</td>\n",
       "      <td>3504</td>\n",
       "      <td>12.0</td>\n",
       "      <td>70</td>\n",
       "      <td>1</td>\n",
       "      <td>chevrolet chevelle malibu</td>\n",
       "    </tr>\n",
       "    <tr>\n",
       "      <th>15.0</th>\n",
       "      <td>8</td>\n",
       "      <td>350.0</td>\n",
       "      <td>165</td>\n",
       "      <td>3693</td>\n",
       "      <td>11.5</td>\n",
       "      <td>70</td>\n",
       "      <td>1</td>\n",
       "      <td>buick skylark 320</td>\n",
       "    </tr>\n",
       "    <tr>\n",
       "      <th>18.0</th>\n",
       "      <td>8</td>\n",
       "      <td>318.0</td>\n",
       "      <td>150</td>\n",
       "      <td>3436</td>\n",
       "      <td>11.0</td>\n",
       "      <td>70</td>\n",
       "      <td>1</td>\n",
       "      <td>plymouth satellite</td>\n",
       "    </tr>\n",
       "    <tr>\n",
       "      <th>16.0</th>\n",
       "      <td>8</td>\n",
       "      <td>304.0</td>\n",
       "      <td>150</td>\n",
       "      <td>3433</td>\n",
       "      <td>12.0</td>\n",
       "      <td>70</td>\n",
       "      <td>1</td>\n",
       "      <td>amc rebel sst</td>\n",
       "    </tr>\n",
       "    <tr>\n",
       "      <th>17.0</th>\n",
       "      <td>8</td>\n",
       "      <td>302.0</td>\n",
       "      <td>140</td>\n",
       "      <td>3449</td>\n",
       "      <td>10.5</td>\n",
       "      <td>70</td>\n",
       "      <td>1</td>\n",
       "      <td>ford torino</td>\n",
       "    </tr>\n",
       "  </tbody>\n",
       "</table>\n",
       "</div>"
      ],
      "text/plain": [
       "      cylinders  displacement horsepower  weight  acceleration  model_year  \\\n",
       "mpg                                                                          \n",
       "18.0          8         307.0        130    3504          12.0          70   \n",
       "15.0          8         350.0        165    3693          11.5          70   \n",
       "18.0          8         318.0        150    3436          11.0          70   \n",
       "16.0          8         304.0        150    3433          12.0          70   \n",
       "17.0          8         302.0        140    3449          10.5          70   \n",
       "\n",
       "      origin                       name  \n",
       "mpg                                      \n",
       "18.0       1  chevrolet chevelle malibu  \n",
       "15.0       1          buick skylark 320  \n",
       "18.0       1         plymouth satellite  \n",
       "16.0       1              amc rebel sst  \n",
       "17.0       1                ford torino  "
      ]
     },
     "execution_count": 90,
     "metadata": {},
     "output_type": "execute_result"
    }
   ],
   "source": [
    "df.head()"
   ]
  },
  {
   "cell_type": "code",
   "execution_count": 91,
   "metadata": {
    "ExecuteTime": {
     "end_time": "2021-11-02T07:53:00.966591Z",
     "start_time": "2021-11-02T07:53:00.950964Z"
    }
   },
   "outputs": [],
   "source": [
    "df_array = df.to_numpy()"
   ]
  },
  {
   "cell_type": "code",
   "execution_count": 92,
   "metadata": {
    "ExecuteTime": {
     "end_time": "2021-11-02T07:53:17.046298Z",
     "start_time": "2021-11-02T07:53:17.030671Z"
    }
   },
   "outputs": [
    {
     "data": {
      "text/plain": [
       "array([[8, 307.0, '130', 3504, 12.0, 70, 1, 'chevrolet chevelle malibu'],\n",
       "       [8, 350.0, '165', 3693, 11.5, 70, 1, 'buick skylark 320'],\n",
       "       [8, 318.0, '150', 3436, 11.0, 70, 1, 'plymouth satellite'],\n",
       "       [8, 304.0, '150', 3433, 12.0, 70, 1, 'amc rebel sst'],\n",
       "       [8, 302.0, '140', 3449, 10.5, 70, 1, 'ford torino']], dtype=object)"
      ]
     },
     "execution_count": 92,
     "metadata": {},
     "output_type": "execute_result"
    }
   ],
   "source": [
    "df_array[:5]"
   ]
  },
  {
   "cell_type": "code",
   "execution_count": 93,
   "metadata": {
    "ExecuteTime": {
     "end_time": "2021-11-02T07:55:13.565686Z",
     "start_time": "2021-11-02T07:55:13.550059Z"
    }
   },
   "outputs": [
    {
     "data": {
      "text/plain": [
       "(398, 8)"
      ]
     },
     "execution_count": 93,
     "metadata": {},
     "output_type": "execute_result"
    }
   ],
   "source": [
    "df.shape"
   ]
  },
  {
   "cell_type": "code",
   "execution_count": 94,
   "metadata": {
    "ExecuteTime": {
     "end_time": "2021-11-02T07:55:19.253746Z",
     "start_time": "2021-11-02T07:55:19.238119Z"
    }
   },
   "outputs": [
    {
     "data": {
      "text/plain": [
       "(398, 8)"
      ]
     },
     "execution_count": 94,
     "metadata": {},
     "output_type": "execute_result"
    }
   ],
   "source": [
    "df_array.shape"
   ]
  },
  {
   "cell_type": "markdown",
   "metadata": {
    "ExecuteTime": {
     "end_time": "2021-11-02T07:59:56.234168Z",
     "start_time": "2021-11-02T07:59:56.218541Z"
    }
   },
   "source": [
    "Porównajmy czas wykonania działań na trzech kolumnach"
   ]
  },
  {
   "cell_type": "code",
   "execution_count": 95,
   "metadata": {
    "ExecuteTime": {
     "end_time": "2021-11-02T08:23:01.355055Z",
     "start_time": "2021-11-02T08:23:01.339423Z"
    }
   },
   "outputs": [],
   "source": [
    "from time import time"
   ]
  },
  {
   "cell_type": "code",
   "execution_count": 96,
   "metadata": {
    "ExecuteTime": {
     "end_time": "2021-11-02T08:31:38.640404Z",
     "start_time": "2021-11-02T08:31:38.609151Z"
    }
   },
   "outputs": [
    {
     "name": "stdout",
     "output_type": "stream",
     "text": [
      "Czas wykonania: 0.007000446319580078\n"
     ]
    }
   ],
   "source": [
    "start = time()\n",
    "fun = lambda row:row['cylinders']*row['weight']**row['acceleration']\n",
    "df.apply(fun, axis=1)\n",
    "print(f'Czas wykonania: {time()-start}')"
   ]
  },
  {
   "cell_type": "code",
   "execution_count": 97,
   "metadata": {
    "ExecuteTime": {
     "end_time": "2021-11-02T08:31:46.109890Z",
     "start_time": "2021-11-02T08:31:46.094264Z"
    }
   },
   "outputs": [
    {
     "name": "stdout",
     "output_type": "stream",
     "text": [
      "Czas wykonania: 0.0\n"
     ]
    }
   ],
   "source": [
    "start = time()\n",
    "df_array[:,1]*df_array[:,4]**df_array[:,5]\n",
    "print(f'Czas wykonania: {time()-start}')"
   ]
  },
  {
   "cell_type": "markdown",
   "metadata": {},
   "source": [
    "Jak widać już na niewielkim zbiorze danych proste obliczenia na arrayach wykonują się szybciej. Warto o tym pamiętać i to wykorzystywać."
   ]
  },
  {
   "cell_type": "markdown",
   "metadata": {},
   "source": [
    "## Podsumowanie\n",
    "\n",
    "Jak widać NumPy jest pakietem, ktory zdecydowanie potrafi ułatwić życie. Jest często wykorzystywany do złożonych obliczeń. Ma zastosowania przy pracy z różnymi danymi - obrazami, ramkami danych, czy po prostu dużymi listami."
   ]
  }
 ],
 "metadata": {
  "kernelspec": {
   "display_name": "Python 3 (ipykernel)",
   "language": "python",
   "name": "python3"
  },
  "language_info": {
   "codemirror_mode": {
    "name": "ipython",
    "version": 3
   },
   "file_extension": ".py",
   "mimetype": "text/x-python",
   "name": "python",
   "nbconvert_exporter": "python",
   "pygments_lexer": "ipython3",
   "version": "3.9.7"
  },
  "toc": {
   "base_numbering": 1,
   "nav_menu": {},
   "number_sections": true,
   "sideBar": true,
   "skip_h1_title": false,
   "title_cell": "Table of Contents",
   "title_sidebar": "Contents",
   "toc_cell": false,
   "toc_position": {
    "height": "calc(100% - 180px)",
    "left": "10px",
    "top": "150px",
    "width": "384px"
   },
   "toc_section_display": true,
   "toc_window_display": true
  },
  "varInspector": {
   "cols": {
    "lenName": 16,
    "lenType": 16,
    "lenVar": 40
   },
   "kernels_config": {
    "python": {
     "delete_cmd_postfix": "",
     "delete_cmd_prefix": "del ",
     "library": "var_list.py",
     "varRefreshCmd": "print(var_dic_list())"
    },
    "r": {
     "delete_cmd_postfix": ") ",
     "delete_cmd_prefix": "rm(",
     "library": "var_list.r",
     "varRefreshCmd": "cat(var_dic_list()) "
    }
   },
   "types_to_exclude": [
    "module",
    "function",
    "builtin_function_or_method",
    "instance",
    "_Feature"
   ],
   "window_display": false
  }
 },
 "nbformat": 4,
 "nbformat_minor": 4
}