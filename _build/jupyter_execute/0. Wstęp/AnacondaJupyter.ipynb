{
 "cells": [
  {
   "cell_type": "markdown",
   "metadata": {},
   "source": [
    "# JupyterLab & Anaconda "
   ]
  },
  {
   "cell_type": "markdown",
   "metadata": {},
   "source": [
    "## Instalowanie i aktualizowanie pakietów Python (pip, conda)"
   ]
  },
  {
   "cell_type": "markdown",
   "metadata": {},
   "source": [
    "W tej części zostaną przedstawione dwa systemy do zarządzania pakietami dla środowsika Python tj. **pip** oraz **conda**. \n",
    "\n",
    "System zarządzania **pip** jest domyślnym menadżerem pakietów dostępnym dla języka Python. Korzysta z dedykowanego repozytorium pakietów _Python Package Index_ w skrócie _PyPi_.\n",
    "\n",
    "Z drugiej strony **conda** oprócz zarządzania pakietami zajmuję się również zarządzaniem środowiskami wirtualnymi. Dzięki systemowi zarządzania **conda** jesteśmy w stanie budować wyizolowowane środowiska wirtualne z odpowiednią wersją Python oraz interesującymi nas pakietami. **Conda** instaluje pakiety z repozytorium _Anaconda repository_, a także z _Anaconda Cloud_. Plusem **conda** jest możliwość wykorzystania tego mendażera nie tylko do Python, ale również m.in. do R czy C++."
   ]
  },
  {
   "cell_type": "markdown",
   "metadata": {},
   "source": [
    "## Podstawowe polecenia dla _pip_ oraz _conda_"
   ]
  },
  {
   "cell_type": "markdown",
   "metadata": {},
   "source": [
    "### Tworzenie środowiska wirtualnego"
   ]
  },
  {
   "cell_type": "markdown",
   "metadata": {},
   "source": [
    "Python Virtual Environment (venv) jest środowiskiem Pythona, które jest odseparowane i całkowicie niezależne od głównej instalacji Pythona. Każdy tworzony przez nas projekt może, a nawet powinien, zawierać swoje środowisko, dzięki czemu może składać się z unikalnego zestawu pakietów.\n",
    "\n",
    "Venv jest nowym katalogiem na dysku, w którym znajduje się kopia Pythona. Zaraz po utworzeniu zawiera ona jedynie podstawowe pakiety. Zupełnie tak, jakbyśmy zainstalowali Pythona sami w nowej lokalizacji."
   ]
  },
  {
   "cell_type": "markdown",
   "metadata": {},
   "source": [
    "#### Z wykorzystaniem command line"
   ]
  },
  {
   "cell_type": "markdown",
   "metadata": {},
   "source": [
    "```\n",
    "python -m venv /path/to/new/virtual/environment\n",
    "```\n",
    "\n",
    "W condzie:\n",
    "```\n",
    "conda create --name <env_name>\n",
    "```"
   ]
  },
  {
   "cell_type": "markdown",
   "metadata": {},
   "source": [
    "#### Z wykorzystaniem pliku _requirements.txt_"
   ]
  },
  {
   "cell_type": "markdown",
   "metadata": {},
   "source": [
    "W tym przypadku nie do końca mówimy o instaltacji środowiska, ale raczej o instalacji pakietów z wykorzsytanien pliku tektsowego. Możemy w pliku zdefiniować całą listę pakietów wraz z ich wersajmi, a następnie przy pomocy poniższej komendy zainstalować je wszystkie. Należy pamiętać, aby w tym przypadku w pierwszej kolejności utworzyć środowisko wirtualne z command line."
   ]
  },
  {
   "cell_type": "markdown",
   "metadata": {},
   "source": [
    "```\n",
    "pip install -r requirements.txt\n",
    "```"
   ]
  },
  {
   "cell_type": "markdown",
   "metadata": {},
   "source": [
    "#### Z wykorzystaniem pliku _environment.yml_\n",
    "\n",
    "Przykładowy plik _environment.yml_:\n",
    "```\n",
    "name: <env_name>\n",
    "channels:\n",
    "  - defaults\n",
    "dependencies:\n",
    "  - python=3.9\n",
    "  - pandas=1.5.3\n",
    "  - pip=23.1.2\n",
    "  - pip:\n",
    "    - numpy==1.23.5\n",
    "```\n",
    "\n",
    "W tym przypadku tworzymy środowisko wraz z nazwą, odpowiednią wersją python oraz wszystkimi wymienionymi pakietami w zdefiniowanych wersjach."
   ]
  },
  {
   "cell_type": "markdown",
   "metadata": {},
   "source": [
    "```\n",
    "conda env create -f environment.yml\n",
    "```"
   ]
  },
  {
   "cell_type": "markdown",
   "metadata": {},
   "source": [
    "### Aktywacja środowiska "
   ]
  },
  {
   "cell_type": "markdown",
   "metadata": {},
   "source": [
    "#### Aktywacja środowiska conda"
   ]
  },
  {
   "cell_type": "markdown",
   "metadata": {},
   "source": [
    "```\n",
    "conda activate <env_name>\n",
    "```"
   ]
  },
  {
   "cell_type": "markdown",
   "metadata": {},
   "source": [
    "Po właściwej aktywacji środowiska w wierszu poleceń pokazane jest, które środowisko jest aktywne:\n",
    "\n",
    "![Alt text](img/image-4.png)\n",
    "\n",
    "W przypadku nieudanej aktywacji (np. będziemy próbować aktywować środowisko, którego nie ma) dostaniemy błąd:\n",
    "\n",
    "![Alt text](img/image-5.png)"
   ]
  },
  {
   "cell_type": "markdown",
   "metadata": {},
   "source": [
    "#### Aktywacja środowiska venv"
   ]
  },
  {
   "cell_type": "markdown",
   "metadata": {},
   "source": [
    "```\n",
    "cd <path_to_virtual_env>/Scripts\n",
    "activate\n",
    "```"
   ]
  },
  {
   "cell_type": "markdown",
   "metadata": {},
   "source": [
    "Po właściwej aktywacji środowiska będzie ono widoczne:\n",
    "\n",
    "![Alt text](img/image-18_new.png)"
   ]
  },
  {
   "cell_type": "markdown",
   "metadata": {},
   "source": [
    "### Deaktywacja środowiska"
   ]
  },
  {
   "cell_type": "markdown",
   "metadata": {},
   "source": [
    "#### conda"
   ]
  },
  {
   "cell_type": "markdown",
   "metadata": {},
   "source": [
    "```\n",
    "conda deactivate\n",
    "```"
   ]
  },
  {
   "cell_type": "markdown",
   "metadata": {},
   "source": [
    "![Alt text](img/image-6.png)"
   ]
  },
  {
   "cell_type": "markdown",
   "metadata": {},
   "source": [
    "#### venv"
   ]
  },
  {
   "cell_type": "markdown",
   "metadata": {},
   "source": [
    "```\n",
    "deactivate\n",
    "```"
   ]
  },
  {
   "cell_type": "markdown",
   "metadata": {},
   "source": [
    "![Alt text](img/image-19_new.png)"
   ]
  },
  {
   "cell_type": "markdown",
   "metadata": {},
   "source": [
    "### Wylistowanie wszystkich dostępnych środowisk w condzie"
   ]
  },
  {
   "cell_type": "markdown",
   "metadata": {},
   "source": [
    "```\n",
    "conda env list\n",
    "```"
   ]
  },
  {
   "cell_type": "markdown",
   "metadata": {},
   "source": [
    "Warto zauważyć, że aktywne środowisko jest oznaczone \"*\"\n",
    "\n",
    "![Alt text](img/image-7_new.png)"
   ]
  },
  {
   "cell_type": "markdown",
   "metadata": {},
   "source": [
    "### Usuwanie środowiska conda"
   ]
  },
  {
   "cell_type": "markdown",
   "metadata": {},
   "source": [
    "```\n",
    "conda env remove --name <env_name>\n",
    "```"
   ]
  },
  {
   "cell_type": "markdown",
   "metadata": {},
   "source": [
    "\n",
    "Możemy usunąć środowisko tylko wtedy, gdy nie jest ono aktywne. W innym wypadku dostaniemy błąd:\n",
    "\n",
    "![Alt text](img/image-8.png)"
   ]
  },
  {
   "cell_type": "markdown",
   "metadata": {},
   "source": [
    "### Instalowanie bibliotek"
   ]
  },
  {
   "cell_type": "markdown",
   "metadata": {},
   "source": [
    "```\n",
    "pip install <package_name1> <package_name2> ... <package_nameN>\n",
    "```"
   ]
  },
  {
   "cell_type": "markdown",
   "metadata": {},
   "source": [
    "```\n",
    "conda install <package_name1> <package_name2> ... <package_nameN>\n",
    "```"
   ]
  },
  {
   "cell_type": "markdown",
   "metadata": {},
   "source": [
    "### Odinstalowanie bibliotek"
   ]
  },
  {
   "cell_type": "markdown",
   "metadata": {},
   "source": [
    "```\n",
    "pip uninstall <package_name1> <package_name2> ... <package_nameN>\n",
    "```"
   ]
  },
  {
   "cell_type": "markdown",
   "metadata": {},
   "source": [
    "```\n",
    "conda remove <package_name1> <package_name2> ... <package_nameN>\n",
    "```"
   ]
  },
  {
   "cell_type": "markdown",
   "metadata": {},
   "source": [
    "### Export środowiska wirtualnego do pliku environment.yaml"
   ]
  },
  {
   "cell_type": "markdown",
   "metadata": {},
   "source": [
    "```\n",
    "conda env export > environment.yml\n",
    "```"
   ]
  },
  {
   "cell_type": "markdown",
   "metadata": {},
   "source": [
    "### Export listy pakietów do pliku requirements.txt"
   ]
  },
  {
   "cell_type": "markdown",
   "metadata": {},
   "source": [
    "```\n",
    "pip freeze > requirements.txt\n",
    "```"
   ]
  },
  {
   "cell_type": "markdown",
   "metadata": {},
   "source": [
    "### Tworzenie nowych środowisk i zarządzanie nimi z poziomu Anaconda Navigator"
   ]
  },
  {
   "cell_type": "markdown",
   "metadata": {},
   "source": [
    "1. Wybieramy zakładkę Environments z menu po lewej stronie\n",
    "\n",
    "![Alt text](img/image.png)\n",
    "\n",
    "2. Klikamy przcisk \"Create\" znajdujący się na dole drugiego panelu\n",
    "\n",
    "![Alt text](img/image-1_new.png)\n",
    "\n",
    "3. Wpisujemy nazwę naszego środowiska oraz wybieramy wersję python. Zatwierdzamy klikając \"Create\"\n",
    "\n",
    "![Alt text](img/image-2.png)\n",
    "\n",
    "4. Dodatkowo możemy zainstalować pakiety ręcznie\n",
    "\n",
    "![Alt text](img/image-3.png)\n"
   ]
  },
  {
   "cell_type": "markdown",
   "metadata": {},
   "source": [
    "### Przydatne informacje"
   ]
  },
  {
   "cell_type": "markdown",
   "metadata": {},
   "source": [
    "Cheatsheet: https://docs.conda.io/projects/conda/en/latest/user-guide/cheatsheet.html"
   ]
  },
  {
   "cell_type": "markdown",
   "metadata": {},
   "source": [
    "Różnice pomiędzy pip oraz conda: https://www.anaconda.com/blog/understanding-conda-and-pip"
   ]
  },
  {
   "cell_type": "markdown",
   "metadata": {},
   "source": [
    "## JupyterLab / Jupyter Notebook"
   ]
  },
  {
   "cell_type": "markdown",
   "metadata": {},
   "source": [
    "Jupyter Notebook służy do wykonywania interaktywnych obliczeń. Zawiera w sobie obliczenia, wyniki, tekst objaśniający, obrazy, bogate reprezentacje multimedialne obiektów, itd.\n",
    "\n",
    "JupyterLab to internetowy interfejs. Umożliwia on pracę z dokumentami i działaniami takimi jak Jupyter Notebook, edotyory tekstu, wiersze poleceń, itp."
   ]
  },
  {
   "cell_type": "markdown",
   "metadata": {},
   "source": [
    "### Uruchomienie JupyterLab / Jupyter Notebook"
   ]
  },
  {
   "cell_type": "markdown",
   "metadata": {},
   "source": [
    "#### Z poziomu wiersza poleceń:\n",
    "\n",
    "1. Instalacja pakietu\n",
    "\n",
    "```\n",
    "conda install jupyter\n",
    "```\n",
    "\n",
    "2. Włączenie JupyterLab (dla notebooka analogicznie)\n",
    "\n",
    "```\n",
    "jupyter-lab\n",
    "```\n",
    "\n",
    "![Alt text](img/image-9_new.png)\n",
    "\n",
    "3. Po wpisaniu komendy w przeglądarce JupyterLab chodzi na lokalnym hoście\n",
    "4. Nie należy wyłączać wiersza poleceń. W innym wypadku stracimy połączenie z JupyterLab:\n",
    "\n",
    "![Alt text](img/image-10.png)"
   ]
  },
  {
   "cell_type": "markdown",
   "metadata": {},
   "source": [
    "#### Z poziomu Anaconda Navigator\n",
    "\n",
    "1. Uruchamiamy Anaconda Navigator\n",
    "2. Upewniamy się, że mamy wybrane dobre środowisko:\n",
    "\n",
    "![Alt text](img/image-11_new.png)\n",
    "\n",
    "2. Instalujemy bibliotekę jupyter (o ile nie zrobiliśmy tego wcześniej). Jeśli juptyer nie jest zainstalowany to można to zrobić jednym kliknięciem w menu głównym:\n",
    "\n",
    "![Alt text](img/image-12.png)\n",
    "\n",
    "3. Włączamy JupyterLab / Jupyter Notebook:\n",
    "\n",
    "![Alt text](img/image-13.png)\n",
    "\n",
    "4. I tym razem JupyterLab również jest włączony na lokalnym hoście"
   ]
  },
  {
   "cell_type": "markdown",
   "metadata": {},
   "source": [
    "### Obsługa Jupter"
   ]
  },
  {
   "cell_type": "markdown",
   "metadata": {},
   "source": [
    "#### Kernel"
   ]
  },
  {
   "cell_type": "markdown",
   "metadata": {},
   "source": [
    "Kernele to procesy specyficzne dla języka programowania, które działają niezależnie i wchodzą w interakcje z aplikacjami Jupyter i ich interfejsami użytkownika. **ipykernel** to referencyjny kernel Jupyter zbudowany na bazie IPython, zapewniający środowisko do interaktywnych obliczeń w Pythonie. **Kernel** to podstawowy komponent, który odgrywa kluczową rolę w wykonywaniu kodu i zarządzaniem środowiskiem obliczeniowym."
   ]
  },
  {
   "cell_type": "markdown",
   "metadata": {},
   "source": [
    "#### Ręczne zatrzymanie pracy środowiska"
   ]
  },
  {
   "cell_type": "markdown",
   "metadata": {},
   "source": [
    "Zdarzyć się może, że nasz kod będzie wykonywać się długo, albo znajdziemy w nim błąd w trakcie jego wykonywania. Na przykład tworząc nieskończoną pętlę:\n",
    "\n",
    "```py\n",
    "while True:\n",
    "    pass\n",
    "```\n",
    "\n",
    "Wtedy możemy zatrzymać jego wykonywanie, zastopować kernel. Wystarczy wybrać opcję \"interrupt the kernel\" z górnego panelu:\n",
    "\n",
    "![Alt text](img/image-14.png)\n",
    "\n",
    "Wówczas w wyniku komórki, która się wykonywała dostaniemy odpowiedni błąd:\n",
    "\n",
    "![Alt text](img/image-15.png)"
   ]
  },
  {
   "cell_type": "markdown",
   "metadata": {},
   "source": [
    "#### Automatyczne zatrzymanie pracy środowiska"
   ]
  },
  {
   "cell_type": "markdown",
   "metadata": {},
   "source": [
    "Czasem bywa tak, że kernel zatrzymuje się automatycznie. Może mieć to związek ze skończeniem się zasobów maszyny, na której pracujemy."
   ]
  },
  {
   "cell_type": "markdown",
   "metadata": {},
   "source": [
    "#### Dodanie kernela środowiska wirtualnego do JupyterLab"
   ]
  },
  {
   "cell_type": "markdown",
   "metadata": {},
   "source": [
    "1. Odpalamy wiersz poleceń\n",
    "2. Aktywujemy nasze wirtualne środowisko (poniżej pokazane dla Windows)\n",
    "\n",
    "```\n",
    "cd <path_to_virtual_env>/Scripts\n",
    "activate\n",
    "```\n",
    "\n",
    "![Alt text](img/image-16_new.png)\n",
    "\n",
    "3. W razie potrzeby instalujemy jupyter (jeżeli jupyter jest zainstalowany to patrz punkt 5)\n",
    "\n",
    "```\n",
    "pip pinstall jupyter\n",
    "```\n",
    "\n",
    "4. Jeżeli nie mamy pip wtedy uruchamiamy dwie komendy:\n",
    "\n",
    "```\n",
    "curl https://bootstrap.pypa.io/get-pip.py -o get-pip.py\n",
    "python get-pip.py\n",
    "```\n",
    "\n",
    "5. Uruchamiamy komendę (nazwa \"local-venv\" dowolna):\n",
    "\n",
    "```\n",
    "ipython kernel install --name \"local-venv\" --user\n",
    "```\n",
    "\n",
    "6. Wówczas po uruchomieniu JupyterLaba/Notebooka mamy do wyboru nowy kernel:\n",
    "\n",
    "![Alt text](img/image-17.png)"
   ]
  },
  {
   "cell_type": "markdown",
   "metadata": {},
   "source": [
    "### Skróty klawiszowe"
   ]
  },
  {
   "cell_type": "markdown",
   "metadata": {},
   "source": [
    "- **Enter** -  Przejście do trybu edycji komórki\n",
    "- **Control + Enter** - Uruchomienie linijki kodu\n",
    "- **Shift + Enter** -  Uruchomienie linijki kodu i przejście do następnej komórki\n",
    "- **Escape** - Przejście do trybu komend\n",
    "- **a** - Wstawienie nowego wiersz powyżej (above)\n",
    "- **b** - Wstawienie nowego wiesza poniżej (below)\n",
    "- **dd** - Usunięcie bieżącego wiesza (delete)\n",
    "- **m** - Zmiana typu komórki na komentarz (markdown)\n",
    "- **y** - Zmiana typu komórki na kod (code)\n",
    "- **x** - Wytnij komórkę (cut)\n",
    "- **c** - Skopiuj komórkę (copy)\n",
    "- **v** - Wstaw wyciętą/skopiowaną komórkę (paste)\n",
    "- **Shift + m** - Połączenie dwóch komórek (merge)\n",
    "- **Control + Shift + –** -  Rozdzielenie dwóch komórek (split)\n",
    "- **Control + s** -  Zapisz notebook (save)\n",
    "- **o** -  Pokaż/ukryj output (output)\n",
    "- **l** -  Polaż/ukryj numery linijek (line number)\n",
    "- **Shift + L** -  Pokaż/ukryj numery linijek w całym notebooku\n",
    "- **Control + Shift + f** -  Wyszukiwanie komend\n",
    "- **h** - Pomoc dot. skrótów klawiaturowych (help)"
   ]
  },
  {
   "cell_type": "markdown",
   "metadata": {},
   "source": [
    "### Praca z Jupyter Notebook"
   ]
  },
  {
   "cell_type": "markdown",
   "metadata": {},
   "source": [
    "W notatniku mamy do wyboru kilka opcji:\n",
    "\n",
    "- pisanie kodu\n",
    "- pisanie Markdown\n",
    "- pisanie surowego tekstu\n",
    "\n",
    "![Alt text](img/image-20.png)"
   ]
  },
  {
   "cell_type": "markdown",
   "metadata": {},
   "source": [
    "#### Pisanie Markdown"
   ]
  },
  {
   "cell_type": "markdown",
   "metadata": {},
   "source": [
    "##### Nagłówki\n",
    "```\n",
    "# Nagłówek główny\n",
    "## H2\n",
    "### H3\n",
    "#### H4\n",
    "##### H5\n",
    "###### H6\n",
    "```"
   ]
  },
  {
   "cell_type": "markdown",
   "metadata": {},
   "source": [
    "Rezultat:"
   ]
  },
  {
   "cell_type": "markdown",
   "metadata": {},
   "source": [
    "# Nagłówek główny\n",
    "## H2\n",
    "### H3\n",
    "#### H4\n",
    "##### H5\n",
    "###### H6"
   ]
  },
  {
   "cell_type": "markdown",
   "metadata": {},
   "source": [
    "---"
   ]
  },
  {
   "cell_type": "markdown",
   "metadata": {},
   "source": [
    "##### Pogrubienie, kursywa"
   ]
  },
  {
   "cell_type": "markdown",
   "metadata": {},
   "source": [
    "```\n",
    "*kursywa*\n",
    "**pogrubienie**\n",
    "```"
   ]
  },
  {
   "cell_type": "markdown",
   "metadata": {},
   "source": [
    "Rezultat:"
   ]
  },
  {
   "cell_type": "markdown",
   "metadata": {},
   "source": [
    "*kursywa*\n",
    "\n",
    "**pogrubienie**"
   ]
  },
  {
   "cell_type": "markdown",
   "metadata": {},
   "source": [
    "---"
   ]
  },
  {
   "cell_type": "markdown",
   "metadata": {},
   "source": [
    "##### Markdown wspiera też HTMLa"
   ]
  },
  {
   "cell_type": "markdown",
   "metadata": {},
   "source": [
    "```HTML\n",
    "<u>podkreślenie</u> \n",
    "nowa linia -> <br />\n",
    "<b>pogrubienie</b>\n",
    "<span style=\"color:red\"> kolorowanie </span>\n",
    "odnośnik<sup>2</sup>\n",
    "<font size = \"5\"> Zmiana rozmiaru czcionki\n",
    "<p style='margin-bottom:1em; margin-right:1em; text-align:right; font-family:Georgia'> Zmiana  stylu  i przesunięcie tekstu</p>\n",
    "```"
   ]
  },
  {
   "cell_type": "markdown",
   "metadata": {},
   "source": [
    "Rezultat:"
   ]
  },
  {
   "cell_type": "markdown",
   "metadata": {},
   "source": [
    "<u>podkreślenie</u> \n",
    "nowa linia -> <br />\n",
    "<b>pogrubienie</b>\n",
    "<span style=\"color:red\"> kolorowanie </span>\n",
    "odnośnik<sup>2</sup>\n",
    "<font size = \"5\"> Zmiana rozmiaru czcionki\n",
    "<p style='margin-bottom:1em; margin-right:1em; text-align:right; font-family:Georgia'> Zmiana  stylu  i przesunięcie tekstu</p>"
   ]
  },
  {
   "cell_type": "markdown",
   "metadata": {},
   "source": [
    "---"
   ]
  },
  {
   "cell_type": "markdown",
   "metadata": {},
   "source": [
    "##### Listy"
   ]
  },
  {
   "cell_type": "markdown",
   "metadata": {},
   "source": [
    "```\n",
    "- Element 1\n",
    "- Element 2\n",
    "    - Element 2.1\n",
    "    - Element 2.2\n",
    "        - Element 2.2.1\n",
    "```\n",
    "\n",
    "```\n",
    "1. Element 1\n",
    "2. Element 2\n",
    "    - Element 2.1\n",
    "    - Element 2.2\n",
    "        - Element 2.2.1\n",
    "```"
   ]
  },
  {
   "cell_type": "markdown",
   "metadata": {},
   "source": [
    "Rezultat:"
   ]
  },
  {
   "cell_type": "markdown",
   "metadata": {},
   "source": [
    "- Element 1\n",
    "- Element 2\n",
    "    - Element 2.1\n",
    "    - Element 2.2\n",
    "        - Element 2.2.1"
   ]
  },
  {
   "cell_type": "markdown",
   "metadata": {},
   "source": [
    "1. Element 1\n",
    "2. Element 2\n",
    "    - Element 2.1\n",
    "    - Element 2.2\n",
    "        - Element 2.2.1"
   ]
  },
  {
   "cell_type": "markdown",
   "metadata": {},
   "source": [
    "---"
   ]
  },
  {
   "cell_type": "markdown",
   "metadata": {},
   "source": [
    "##### Tabele"
   ]
  },
  {
   "cell_type": "markdown",
   "metadata": {},
   "source": [
    "```\n",
    "1st Header|2nd Header|3rd Header\n",
    "---|:---:|---: \n",
    "col 1 is|left-aligned|1\n",
    "col 2 is|center-aligned|2\n",
    "col 3 is|right-aligned|3\n",
    "```"
   ]
  },
  {
   "cell_type": "markdown",
   "metadata": {},
   "source": [
    "Rezultat:"
   ]
  },
  {
   "cell_type": "markdown",
   "metadata": {},
   "source": [
    "1st Header|2nd Header|3rd Header\n",
    "---|:---:|---: \n",
    "col 1 is|left-aligned|1\n",
    "col 2 is|center-aligned|2\n",
    "col 3 is|right-aligned|3"
   ]
  },
  {
   "cell_type": "markdown",
   "metadata": {},
   "source": [
    "---"
   ]
  },
  {
   "cell_type": "markdown",
   "metadata": {},
   "source": [
    "##### Pisanie kodu\n",
    "\n",
    "` ``py\n",
    "\n",
    "\n",
    "def fun(x):\n",
    "\n",
    "\n",
    "    return x**2\n",
    "\n",
    "    \n",
    "` ``"
   ]
  },
  {
   "cell_type": "markdown",
   "metadata": {},
   "source": [
    "Rezultat:"
   ]
  },
  {
   "cell_type": "markdown",
   "metadata": {},
   "source": [
    "```py\n",
    "def fun(x):\n",
    "    return x**2\n",
    "```"
   ]
  },
  {
   "cell_type": "markdown",
   "metadata": {},
   "source": [
    "---"
   ]
  },
  {
   "cell_type": "markdown",
   "metadata": {},
   "source": [
    "##### Wklejanie obrazków\n",
    "\n",
    "Nie ma też przeszkód, żeby wklejać screeny &#128540;"
   ]
  },
  {
   "cell_type": "markdown",
   "metadata": {},
   "source": [
    "```\n",
    "![logo](https://s3.dualstack.us-east-2.amazonaws.com/pythondotorg-assets/media/community/logos/python-logo-only.png \"Logo python\")\n",
    "```"
   ]
  },
  {
   "cell_type": "markdown",
   "metadata": {},
   "source": [
    "Rezultat:"
   ]
  },
  {
   "cell_type": "markdown",
   "metadata": {},
   "source": [
    "![logo](https://s3.dualstack.us-east-2.amazonaws.com/pythondotorg-assets/media/community/logos/python-logo-only.png \"Logo python\")\n"
   ]
  },
  {
   "cell_type": "markdown",
   "metadata": {},
   "source": [
    "---"
   ]
  },
  {
   "cell_type": "markdown",
   "metadata": {},
   "source": [
    "##### Alert boxy"
   ]
  },
  {
   "cell_type": "markdown",
   "metadata": {},
   "source": [
    "```\n",
    "<div class=\"alert alert-block alert-info\"> <b>Info!</b> To pole wskazuje neutralną informację lub działanie. </div>\n",
    "\n",
    "<div class=\"alert alert-block alert-success\"> <b>Success!</b> To pole wskazuje pozytywne działanie. </div>\n",
    "\n",
    "<div class=\"alert alert-block alert-warning\"> <b>Warning!</b> To pole alertu wskazuje ostrzeżenie, które może wymagać uwagi. </div>\n",
    "\n",
    "<div class=\"alert alert-block alert-danger\"> <b>Danger!</b> To pole wskazuje na niebezpieczne lub potencjalnie negatywne działanie. </div>\n",
    "```"
   ]
  },
  {
   "cell_type": "markdown",
   "metadata": {},
   "source": [
    "Rezultat:"
   ]
  },
  {
   "cell_type": "markdown",
   "metadata": {},
   "source": [
    "<div class=\"alert alert-block alert-info\"> <b>Info!</b> To pole wskazuje neutralną informację lub działanie. </div>\n",
    "\n",
    "<div class=\"alert alert-block alert-success\"> <b>Success!</b> To pole wskazuje pozytywne działanie. </div>\n",
    "\n",
    "<div class=\"alert alert-block alert-warning\"> <b>Warning!</b> To pole alertu wskazuje ostrzeżenie, które może wymagać uwagi. </div>\n",
    "\n",
    "<div class=\"alert alert-block alert-danger\"> <b>Danger!</b> To pole wskazuje na niebezpieczne lub potencjalnie negatywne działanie. </div>"
   ]
  },
  {
   "cell_type": "markdown",
   "metadata": {},
   "source": [
    "Okno można stworzyć też samemu:"
   ]
  },
  {
   "cell_type": "markdown",
   "metadata": {},
   "source": [
    "```\n",
    "<div class=\"warning\" style='background-color:#fbff19; color:#000000; border: dashed #b3b536 4px; border-radius: 4px; padding:0.7em;'>\n",
    "<span>\n",
    "<p style='margin-top:1em; text-align:center'>\n",
    "<b>BARDZO WAŻNY KOMUNIKAT</b></p>\n",
    "<p style='margin-left:1em;'>\n",
    "Okno stworzone przy użyciu konstrukcji HTML\n",
    "</p>\n",
    "<p style='margin-bottom:1em; margin-right:1em; text-align:right; font-family:Georgia'> <i>(można też modyfikować pojedyncze zdania)</i>\n",
    "</p></span>\n",
    "</div>\n",
    "```"
   ]
  },
  {
   "cell_type": "markdown",
   "metadata": {},
   "source": [
    "Rezultat:"
   ]
  },
  {
   "cell_type": "markdown",
   "metadata": {},
   "source": [
    "<div class=\"warning\" style='background-color:#fbff19; color:#000000; border: dashed #b3b536 4px; border-radius: 4px; padding:0.7em;'>\n",
    "<span>\n",
    "<p style='margin-top:1em; text-align:center'>\n",
    "<b>BARDZO WAŻNY KOMUNIKAT</b></p>\n",
    "<p style='margin-left:1em;'>\n",
    "Okno stworzone przy użyciu konstrukcji HTML\n",
    "</p>\n",
    "<p style='margin-bottom:1em; margin-right:1em; text-align:right; font-family:Georgia'> <i>(można też modyfikować pojedyncze zdania)</i>\n",
    "</p></span>\n",
    "</div>"
   ]
  },
  {
   "cell_type": "markdown",
   "metadata": {},
   "source": [
    "---"
   ]
  },
  {
   "cell_type": "markdown",
   "metadata": {},
   "source": [
    "##### LaTeX"
   ]
  },
  {
   "cell_type": "markdown",
   "metadata": {},
   "source": [
    "```\n",
    "Wyrażenia matematyczne: $x=2+x^2$\n",
    "\n",
    "Wyrażenie wyśrodkowane:\n",
    "$$\n",
    "x=2+x^2\n",
    "$$\n",
    "```"
   ]
  },
  {
   "cell_type": "markdown",
   "metadata": {},
   "source": [
    "Rezultat:"
   ]
  },
  {
   "cell_type": "markdown",
   "metadata": {},
   "source": [
    "Wyrażenia matematyczne: $x=2+x^2$\n",
    "\n",
    "Wyrażenie wyśrodkowane:\n",
    "$$\n",
    "x_{n+1}=2+x_{n}^{2} \\\\\n",
    "x_{0} = 0\n",
    "$$"
   ]
  },
  {
   "cell_type": "markdown",
   "metadata": {},
   "source": [
    "---"
   ]
  },
  {
   "cell_type": "markdown",
   "metadata": {},
   "source": [
    "#### Przydatne informacje"
   ]
  },
  {
   "cell_type": "markdown",
   "metadata": {},
   "source": [
    "Markdown cheatsheet: https://www.ibm.com/docs/en/watson-studio-local/1.2.3?topic=notebooks-markdown-jupyter-cheatsheet\n",
    "\n",
    "Artykuł z przydatną, podstawową wiedzą: https://ashki23.github.io/markdown-latex.html\n",
    "\n",
    "Wikipedia Latex: <a href=https://en.wikibooks.org/wiki/LaTeX/Mathematics> link </href>"
   ]
  },
  {
   "cell_type": "markdown",
   "metadata": {},
   "source": [
    "### Polecenia magiczne"
   ]
  },
  {
   "cell_type": "markdown",
   "metadata": {},
   "source": [
    "#### time"
   ]
  },
  {
   "cell_type": "markdown",
   "metadata": {},
   "source": [
    "```\n",
    "%time\n",
    "```\n",
    "\n",
    "Mierzy czas wykonywania pojedynczej instrukcji\n",
    "\n",
    "```\n",
    "%%time\n",
    "```\n",
    "\n",
    "Mierzy całkowity czas wykonywania kodu"
   ]
  },
  {
   "cell_type": "code",
   "execution_count": 1,
   "metadata": {},
   "outputs": [
    {
     "name": "stdout",
     "output_type": "stream",
     "text": [
      "CPU times: total: 62.5 ms\n",
      "Wall time: 65.1 ms\n"
     ]
    }
   ],
   "source": [
    "%%time\n",
    "import random\n",
    "for i in range(0, 1000000):\n",
    "    random.random()"
   ]
  },
  {
   "cell_type": "code",
   "execution_count": 2,
   "metadata": {},
   "outputs": [
    {
     "name": "stdout",
     "output_type": "stream",
     "text": [
      "CPU times: total: 0 ns\n",
      "Wall time: 0 ns\n"
     ]
    }
   ],
   "source": [
    "%time\n",
    "import random\n",
    "for i in range(0, 1000000):\n",
    "    random.random()"
   ]
  },
  {
   "cell_type": "markdown",
   "metadata": {},
   "source": [
    "#### who / whos\n",
    "\n",
    "Wyświetla informacje o zmiennych aktualnie znajdujących się w przestrzeni nazw.\n",
    "\n",
    "%who wyświetla nazwy zmiennych, podczas gdy %whos dostarcza bardziej szczegółowych informacji o zmiennych, w tym ich typ i wartość."
   ]
  },
  {
   "cell_type": "code",
   "execution_count": 3,
   "metadata": {},
   "outputs": [],
   "source": [
    "var_1 = 1\n",
    "var_2 = 'hello'\n",
    "var_3 = 100"
   ]
  },
  {
   "cell_type": "code",
   "execution_count": 4,
   "metadata": {},
   "outputs": [
    {
     "name": "stdout",
     "output_type": "stream",
     "text": [
      "i\t random\t var_1\t var_2\t var_3\t \n"
     ]
    }
   ],
   "source": [
    "%who"
   ]
  },
  {
   "cell_type": "code",
   "execution_count": 5,
   "metadata": {},
   "outputs": [
    {
     "name": "stdout",
     "output_type": "stream",
     "text": [
      "var_2\t \n"
     ]
    }
   ],
   "source": [
    "%who str"
   ]
  },
  {
   "cell_type": "code",
   "execution_count": 6,
   "metadata": {},
   "outputs": [
    {
     "name": "stdout",
     "output_type": "stream",
     "text": [
      "Variable   Type      Data/Info\n",
      "------------------------------\n",
      "i          int       999999\n",
      "random     module    <module 'random' from 'C:<...>\\\\jbook\\\\Lib\\\\random.py'>\n",
      "var_1      int       1\n",
      "var_2      str       hello\n",
      "var_3      int       100\n"
     ]
    }
   ],
   "source": [
    "%whos"
   ]
  },
  {
   "cell_type": "markdown",
   "metadata": {},
   "source": [
    "#### pinfo"
   ]
  },
  {
   "cell_type": "markdown",
   "metadata": {},
   "source": [
    "Funkcja \n",
    "```%pinfo``` \n",
    "w notatnikach Jupyter służy do dostarczania informacji i dokumentacji na temat określonego obiektu, funkcji lub modułu Pythona. Jest to przydatne narzędzie do szybkiego wyszukiwania informacji bez konieczności opuszczania notatnika."
   ]
  },
  {
   "cell_type": "code",
   "execution_count": 7,
   "metadata": {},
   "outputs": [],
   "source": [
    "%pinfo var_3"
   ]
  },
  {
   "cell_type": "code",
   "execution_count": 8,
   "metadata": {},
   "outputs": [],
   "source": [
    "%pinfo len"
   ]
  },
  {
   "cell_type": "markdown",
   "metadata": {},
   "source": [
    "#### env\n",
    "\n",
    "Pobiera, ustawia lub wyświetla listę zmiennych środowiskowych.\n"
   ]
  },
  {
   "cell_type": "code",
   "execution_count": 9,
   "metadata": {},
   "outputs": [
    {
     "name": "stdout",
     "output_type": "stream",
     "text": [
      "env: WD=Users/my_user/dir\n"
     ]
    }
   ],
   "source": [
    "%env WD=Users/my_user/dir"
   ]
  },
  {
   "cell_type": "code",
   "execution_count": 10,
   "metadata": {},
   "outputs": [
    {
     "data": {
      "text/plain": [
       "'Users/my_user/dir'"
      ]
     },
     "execution_count": 10,
     "metadata": {},
     "output_type": "execute_result"
    }
   ],
   "source": [
    "import os\n",
    "\n",
    "os.environ['WD']"
   ]
  },
  {
   "cell_type": "code",
   "execution_count": 11,
   "metadata": {},
   "outputs": [
    {
     "data": {
      "text/plain": [
       "{'ALLUSERSPROFILE': 'C:\\\\ProgramData',\n",
       " 'APPDATA': 'C:\\\\Users\\\\knajmajer\\\\AppData\\\\Roaming',\n",
       " 'CHOCOLATEYINSTALL': 'C:\\\\ProgramData\\\\chocolatey',\n",
       " 'CHROME_CRASHPAD_PIPE_NAME': '\\\\\\\\.\\\\pipe\\\\crashpad_2440_SOKHRGZKFLZRGHVO',\n",
       " 'COLORTERM': 'truecolor',\n",
       " 'COMMONPROGRAMFILES': 'C:\\\\Program Files\\\\Common Files',\n",
       " 'COMMONPROGRAMFILES(X86)': 'C:\\\\Program Files (x86)\\\\Common Files',\n",
       " 'COMMONPROGRAMW6432': 'C:\\\\Program Files\\\\Common Files',\n",
       " 'COMPUTERNAME': 'PL_KNAJMAJER24',\n",
       " 'COMSPEC': 'C:\\\\WINDOWS\\\\system32\\\\cmd.exe',\n",
       " 'CONDA_ALLOW_SOFTLINKS': 'false',\n",
       " 'CONDA_DEFAULT_ENV': 'jbook',\n",
       " 'CONDA_EXE': 'C:\\\\ProgramData\\\\anaconda3\\\\Scripts\\\\conda.exe',\n",
       " 'CONDA_PREFIX': 'C:\\\\Users\\\\knajmajer\\\\.conda\\\\envs\\\\jbook',\n",
       " 'CONDA_PROMPT_MODIFIER': '(jbook) ',\n",
       " 'CONDA_PYTHON_EXE': 'C:\\\\ProgramData\\\\anaconda3\\\\python.exe',\n",
       " 'CONDA_ROOT': 'C:\\\\ProgramData\\\\anaconda3',\n",
       " 'CONDA_SHLVL': '1',\n",
       " 'DADIR': 'C:\\\\Program Files (x86)\\\\CheckPoint\\\\Endpoint Security\\\\Endpoint Common',\n",
       " 'DRIVERDATA': 'C:\\\\Windows\\\\System32\\\\Drivers\\\\DriverData',\n",
       " 'EFC_13108': '1',\n",
       " 'FPS_BROWSER_APP_PROFILE_STRING': 'Internet Explorer',\n",
       " 'FPS_BROWSER_USER_PROFILE_STRING': 'Default',\n",
       " 'GIT_ASKPASS': 'c:\\\\Users\\\\knajmajer\\\\AppData\\\\Local\\\\Programs\\\\cursor\\\\resources\\\\app\\\\extensions\\\\git\\\\dist\\\\askpass.sh',\n",
       " 'HOMEDRIVE': 'C:',\n",
       " 'HOMEPATH': '\\\\Users\\\\knajmajer',\n",
       " 'IPY_INTERRUPT_EVENT': '984',\n",
       " 'JPY_INTERRUPT_EVENT': '984',\n",
       " 'JPY_PARENT_PID': '1100',\n",
       " 'LANG': 'en_US.UTF-8',\n",
       " 'LOCALAPPDATA': 'C:\\\\Users\\\\knajmajer\\\\AppData\\\\Local',\n",
       " 'LOGONSERVER': '\\\\\\\\SYSTEMA',\n",
       " 'NUMBER_OF_PROCESSORS': '20',\n",
       " 'ONEDRIVE': 'C:\\\\Users\\\\knajmajer\\\\OneDrive - LPP S.A',\n",
       " 'ONEDRIVECOMMERCIAL': 'C:\\\\Users\\\\knajmajer\\\\OneDrive - LPP S.A',\n",
       " 'ORIGINAL_XDG_CURRENT_DESKTOP': 'undefined',\n",
       " 'OS': 'Windows_NT',\n",
       " 'PATH': 'C:\\\\Users\\\\knajmajer\\\\.conda\\\\envs\\\\jbook;C:\\\\Users\\\\knajmajer\\\\.conda\\\\envs\\\\jbook\\\\Library\\\\mingw-w64\\\\bin;C:\\\\Users\\\\knajmajer\\\\.conda\\\\envs\\\\jbook\\\\Library\\\\usr\\\\bin;C:\\\\Users\\\\knajmajer\\\\.conda\\\\envs\\\\jbook\\\\Library\\\\bin;C:\\\\Users\\\\knajmajer\\\\.conda\\\\envs\\\\jbook\\\\Scripts;C:\\\\Users\\\\knajmajer\\\\.conda\\\\envs\\\\jbook\\\\bin;C:\\\\ProgramData\\\\anaconda3\\\\condabin;C:\\\\Program Files\\\\PowerShell\\\\7;C:\\\\Program Files\\\\Microsoft SDKs\\\\Azure\\\\CLI2\\\\wbin;C:\\\\Python312\\\\Scripts;C:\\\\Python312;C:\\\\oracle11\\\\product\\\\11.2.0\\\\client\\\\bin;C:\\\\WINDOWS\\\\system32;C:\\\\WINDOWS;C:\\\\WINDOWS\\\\System32\\\\Wbem;C:\\\\WINDOWS\\\\System32\\\\WindowsPowerShell\\\\v1.0;C:\\\\WINDOWS\\\\System32\\\\OpenSSH;C:\\\\Program Files (x86)\\\\CheckPoint\\\\Endpoint Security\\\\Endpoint Common\\\\bin;C:\\\\Program Files (x86)\\\\Microsoft SQL Server\\\\160\\\\DTS\\\\Binn;C:\\\\Program Files (x86)\\\\Microsoft SQL Server\\\\150\\\\DTS\\\\Binn;C:\\\\Program Files\\\\Azure Data Studio\\\\bin;C:\\\\Program Files\\\\Docker\\\\Docker\\\\resources\\\\bin;C:\\\\Program Files\\\\PowerShell\\\\7;C:\\\\Program Files\\\\nodejs;C:\\\\ProgramData\\\\chocolatey\\\\bin;C:\\\\Users\\\\knajmajer\\\\AppData\\\\Local\\\\Microsoft\\\\WindowsApps;C:\\\\Users\\\\knajmajer\\\\AppData\\\\Local\\\\Programs\\\\Git\\\\cmd;C:\\\\Users\\\\knajmajer\\\\AppData\\\\Local\\\\Programs\\\\Microsoft VS Code\\\\bin;C:\\\\Users\\\\knajmajer\\\\AppData\\\\Local\\\\Programs\\\\Azure Dev CLI;C:\\\\Users\\\\knajmajer\\\\AppData\\\\Roaming\\\\npm;C:\\\\Program Files\\\\Microsoft SDKs\\\\Azure\\\\CLI2\\\\wbin;C:\\\\Python312\\\\Scripts\\\\;C:\\\\Python312\\\\;C:\\\\oracle11\\\\product\\\\11.2.0\\\\client\\\\bin;C:\\\\WINDOWS\\\\system32;C:\\\\WINDOWS;C:\\\\WINDOWS\\\\System32\\\\Wbem;C:\\\\WINDOWS\\\\System32\\\\WindowsPowerShell\\\\v1.0\\\\;C:\\\\WINDOWS\\\\System32\\\\OpenSSH\\\\;C:\\\\Program Files (x86)\\\\CheckPoint\\\\Endpoint Security\\\\Endpoint Common\\\\bin;C:\\\\Program Files (x86)\\\\Microsoft SQL Server\\\\160\\\\DTS\\\\Binn\\\\;C:\\\\Program Files (x86)\\\\Microsoft SQL Server\\\\150\\\\DTS\\\\Binn\\\\;C:\\\\Program Files\\\\Azure Data Studio\\\\bin;C:\\\\Program Files\\\\Docker\\\\Docker\\\\resources\\\\bin;C:\\\\Program Files\\\\PowerShell\\\\7\\\\;C:\\\\Program Files\\\\nodejs\\\\;C:\\\\ProgramData\\\\chocolatey\\\\bin;C:\\\\Users\\\\knajmajer\\\\AppData\\\\Local\\\\Microsoft\\\\WindowsApps;C:\\\\Users\\\\knajmajer\\\\AppData\\\\Local\\\\Programs\\\\Git\\\\cmd;C:\\\\Users\\\\knajmajer\\\\AppData\\\\Local\\\\Programs\\\\Microsoft VS Code\\\\bin;C:\\\\Users\\\\knajmajer\\\\AppData\\\\Local\\\\Programs\\\\Azure Dev CLI\\\\;C:\\\\Users\\\\knajmajer\\\\AppData\\\\Roaming\\\\npm',\n",
       " 'PATHEXT': '.COM;.EXE;.BAT;.CMD;.VBS;.VBE;.JS;.JSE;.WSF;.WSH;.MSC;.PY;.PYW',\n",
       " 'POWERSHELL_DISTRIBUTION_CHANNEL': 'MSI:Windows 10 Pro',\n",
       " 'PROCESSOR_ARCHITECTURE': 'AMD64',\n",
       " 'PROCESSOR_IDENTIFIER': 'Intel64 Family 6 Model 154 Stepping 3, GenuineIntel',\n",
       " 'PROCESSOR_LEVEL': '6',\n",
       " 'PROCESSOR_REVISION': '9a03',\n",
       " 'PROGRAMDATA': 'C:\\\\ProgramData',\n",
       " 'PROGRAMFILES': 'C:\\\\Program Files',\n",
       " 'PROGRAMFILES(X86)': 'C:\\\\Program Files (x86)',\n",
       " 'PROGRAMW6432': 'C:\\\\Program Files',\n",
       " 'PROMPT': '(jbook) $P$G',\n",
       " 'PSMODULEPATH': 'C:\\\\Program Files\\\\WindowsPowerShell\\\\Modules;C:\\\\WINDOWS\\\\system32\\\\WindowsPowerShell\\\\v1.0\\\\Modules',\n",
       " 'PUBLIC': 'C:\\\\Users\\\\Public',\n",
       " 'SESSIONNAME': 'Console',\n",
       " 'SSL_CERT_DIR': 'C:\\\\Users\\\\knajmajer\\\\.conda\\\\envs\\\\jbook\\\\Library\\\\ssl\\\\certs',\n",
       " 'SSL_CERT_FILE': 'C:\\\\Users\\\\knajmajer\\\\.conda\\\\envs\\\\jbook\\\\Library\\\\ssl\\\\cacert.pem',\n",
       " 'SYSTEMDRIVE': 'C:',\n",
       " 'SYSTEMROOT': 'C:\\\\WINDOWS',\n",
       " 'TEMP': 'C:\\\\Users\\\\KNAJMA~1\\\\AppData\\\\Local\\\\Temp',\n",
       " 'TERM_PROGRAM': 'vscode',\n",
       " 'TERM_PROGRAM_VERSION': '0.42.5',\n",
       " 'TMP': 'C:\\\\Users\\\\KNAJMA~1\\\\AppData\\\\Local\\\\Temp',\n",
       " 'TVDUMPFLAGS': '8',\n",
       " 'UATDATA': 'C:\\\\WINDOWS\\\\CCM\\\\UATData\\\\D9F8C395-CAB8-491d-B8AC-179A1FE1BE77',\n",
       " 'USERDNSDOMAIN': 'HEADQUARTER.COMPANY.LPP.COM.PL',\n",
       " 'USERDOMAIN': 'HEADQUARTER',\n",
       " 'USERDOMAIN_ROAMINGPROFILE': 'HEADQUARTER',\n",
       " 'USERNAME': 'knajmajer',\n",
       " 'USERPROFILE': 'C:\\\\Users\\\\knajmajer',\n",
       " 'VSCODE_ENV_PREPEND': 'PATH=C\\\\x3a\\\\Users\\\\knajmajer\\\\.conda\\\\envs\\\\jbook;C\\\\x3a\\\\Users\\\\knajmajer\\\\.conda\\\\envs\\\\jbook\\\\Library\\\\mingw-w64\\\\bin;C\\\\x3a\\\\Users\\\\knajmajer\\\\.conda\\\\envs\\\\jbook\\\\Library\\\\usr\\\\bin;C\\\\x3a\\\\Users\\\\knajmajer\\\\.conda\\\\envs\\\\jbook\\\\Library\\\\bin;C\\\\x3a\\\\Users\\\\knajmajer\\\\.conda\\\\envs\\\\jbook\\\\Scripts;C\\\\x3a\\\\Users\\\\knajmajer\\\\.conda\\\\envs\\\\jbook\\\\bin;C\\\\x3a\\\\ProgramData\\\\anaconda3\\\\condabin;C\\\\x3a\\\\Program Files\\\\PowerShell\\\\7;C\\\\x3a\\\\Program Files\\\\Microsoft SDKs\\\\Azure\\\\CLI2\\\\wbin;C\\\\x3a\\\\Python312\\\\Scripts;C\\\\x3a\\\\Python312;C\\\\x3a\\\\oracle11\\\\product\\\\11.2.0\\\\client\\\\bin;C\\\\x3a\\\\WINDOWS\\\\system32;C\\\\x3a\\\\WINDOWS;C\\\\x3a\\\\WINDOWS\\\\System32\\\\Wbem;C\\\\x3a\\\\WINDOWS\\\\System32\\\\WindowsPowerShell\\\\v1.0;C\\\\x3a\\\\WINDOWS\\\\System32\\\\OpenSSH;C\\\\x3a\\\\Program Files (x86)\\\\CheckPoint\\\\Endpoint Security\\\\Endpoint Common\\\\bin;C\\\\x3a\\\\Program Files (x86)\\\\Microsoft SQL Server\\\\160\\\\DTS\\\\Binn;C\\\\x3a\\\\Program Files (x86)\\\\Microsoft SQL Server\\\\150\\\\DTS\\\\Binn;C\\\\x3a\\\\Program Files\\\\Azure Data Studio\\\\bin;C\\\\x3a\\\\Program Files\\\\Docker\\\\Docker\\\\resources\\\\bin;C\\\\x3a\\\\Program Files\\\\PowerShell\\\\7;C\\\\x3a\\\\Program Files\\\\nodejs;C\\\\x3a\\\\ProgramData\\\\chocolatey\\\\bin;C\\\\x3a\\\\Users\\\\knajmajer\\\\AppData\\\\Local\\\\Microsoft\\\\WindowsApps;C\\\\x3a\\\\Users\\\\knajmajer\\\\AppData\\\\Local\\\\Programs\\\\Git\\\\cmd;C\\\\x3a\\\\Users\\\\knajmajer\\\\AppData\\\\Local\\\\Programs\\\\Microsoft VS Code\\\\bin;C\\\\x3a\\\\Users\\\\knajmajer\\\\AppData\\\\Local\\\\Programs\\\\Azure Dev CLI;C\\\\x3a\\\\Users\\\\knajmajer\\\\AppData\\\\Roaming\\\\npm;',\n",
       " 'VSCODE_ENV_REPLACE': 'CONDA_ALLOW_SOFTLINKS=false:CONDA_DEFAULT_ENV=jbook:CONDA_EXE=C\\\\x3a\\\\ProgramData\\\\anaconda3\\\\Scripts\\\\conda.exe:CONDA_PREFIX=C\\\\x3a\\\\Users\\\\knajmajer\\\\.conda\\\\envs\\\\jbook:CONDA_PROMPT_MODIFIER=(jbook) :CONDA_PYTHON_EXE=C\\\\x3a\\\\ProgramData\\\\anaconda3\\\\python.exe:CONDA_ROOT=C\\\\x3a\\\\ProgramData\\\\anaconda3:CONDA_SHLVL=1:PROMPT=(jbook) $P$G:SSL_CERT_DIR=C\\\\x3a\\\\Users\\\\knajmajer\\\\.conda\\\\envs\\\\jbook\\\\Library\\\\ssl\\\\certs:SSL_CERT_FILE=C\\\\x3a\\\\Users\\\\knajmajer\\\\.conda\\\\envs\\\\jbook\\\\Library\\\\ssl\\\\cacert.pem:_CONDA_OLD_CHCP=852:__CONDA_OPENSSL_CERT_DIR_SET=\"1\":__CONDA_OPENSSL_CERT_FILE_SET=\"1\"',\n",
       " 'VSCODE_GIT_ASKPASS_EXTRA_ARGS': '',\n",
       " 'VSCODE_GIT_ASKPASS_MAIN': 'c:\\\\Users\\\\knajmajer\\\\AppData\\\\Local\\\\Programs\\\\cursor\\\\resources\\\\app\\\\extensions\\\\git\\\\dist\\\\askpass-main.js',\n",
       " 'VSCODE_GIT_ASKPASS_NODE': 'C:\\\\Users\\\\knajmajer\\\\AppData\\\\Local\\\\Programs\\\\cursor\\\\Cursor.exe',\n",
       " 'VSCODE_GIT_IPC_HANDLE': '\\\\\\\\.\\\\pipe\\\\vscode-git-9affc1c374-sock',\n",
       " 'WINDIR': 'C:\\\\WINDOWS',\n",
       " '_CONDA_OLD_CHCP': '852',\n",
       " '__CONDA_OPENSSL_CERT_DIR_SET': '\"1\"',\n",
       " '__CONDA_OPENSSL_CERT_FILE_SET': '\"1\"',\n",
       " 'PYDEVD_USE_FRAME_EVAL': 'NO',\n",
       " 'TERM': 'xterm-color',\n",
       " 'CLICOLOR': '1',\n",
       " 'FORCE_COLOR': '1',\n",
       " 'CLICOLOR_FORCE': '1',\n",
       " 'PAGER': 'cat',\n",
       " 'GIT_PAGER': 'cat',\n",
       " 'MPLBACKEND': 'module://matplotlib_inline.backend_inline',\n",
       " 'WD': 'Users/my_user/dir'}"
      ]
     },
     "execution_count": 11,
     "metadata": {},
     "output_type": "execute_result"
    }
   ],
   "source": [
    "%env"
   ]
  },
  {
   "cell_type": "markdown",
   "metadata": {},
   "source": [
    "#### run\n",
    "\n",
    "uruchamia zewnętrzny skrypt pythonowy. Np. \n",
    "```py\n",
    "%run script.py\n",
    "```\n",
    "uruchomi skrypt *script.py* znajdujący się w akutalnym katalogu"
   ]
  },
  {
   "cell_type": "code",
   "execution_count": 12,
   "metadata": {},
   "outputs": [],
   "source": [
    "# %run script.py"
   ]
  },
  {
   "cell_type": "markdown",
   "metadata": {},
   "source": [
    "- Plik script.py\n",
    "\n",
    "![Alt text](img/image-21.png)\n",
    "\n",
    "- Wywołujemy \n",
    "\n",
    "```\n",
    "%run script.py\n",
    "```\n",
    "\n",
    "- Dostajemy\n",
    "\n",
    "![Alt text](img/image-23.png)"
   ]
  },
  {
   "cell_type": "markdown",
   "metadata": {},
   "source": [
    "#### lsmagic"
   ]
  },
  {
   "cell_type": "markdown",
   "metadata": {},
   "source": [
    "Lista aktualnie dostępnych funkcji magicznych."
   ]
  },
  {
   "cell_type": "code",
   "execution_count": 13,
   "metadata": {},
   "outputs": [
    {
     "data": {
      "application/json": {
       "cell": {
        "!": "OSMagics",
        "HTML": "Other",
        "SVG": "Other",
        "bash": "Other",
        "capture": "ExecutionMagics",
        "cmd": "Other",
        "code_wrap": "ExecutionMagics",
        "debug": "ExecutionMagics",
        "file": "Other",
        "html": "DisplayMagics",
        "javascript": "DisplayMagics",
        "js": "DisplayMagics",
        "latex": "DisplayMagics",
        "markdown": "DisplayMagics",
        "perl": "Other",
        "prun": "ExecutionMagics",
        "pypy": "Other",
        "python": "Other",
        "python2": "Other",
        "python3": "Other",
        "ruby": "Other",
        "script": "ScriptMagics",
        "sh": "Other",
        "svg": "DisplayMagics",
        "sx": "OSMagics",
        "system": "OSMagics",
        "time": "ExecutionMagics",
        "timeit": "ExecutionMagics",
        "writefile": "OSMagics"
       },
       "line": {
        "alias": "OSMagics",
        "alias_magic": "BasicMagics",
        "autoawait": "AsyncMagics",
        "autocall": "AutoMagics",
        "automagic": "AutoMagics",
        "autosave": "KernelMagics",
        "bookmark": "OSMagics",
        "cd": "OSMagics",
        "clear": "KernelMagics",
        "cls": "KernelMagics",
        "code_wrap": "ExecutionMagics",
        "colors": "BasicMagics",
        "conda": "PackagingMagics",
        "config": "ConfigMagics",
        "connect_info": "KernelMagics",
        "copy": "Other",
        "ddir": "Other",
        "debug": "ExecutionMagics",
        "dhist": "OSMagics",
        "dirs": "OSMagics",
        "doctest_mode": "BasicMagics",
        "echo": "Other",
        "ed": "Other",
        "edit": "KernelMagics",
        "env": "OSMagics",
        "gui": "BasicMagics",
        "hist": "Other",
        "history": "HistoryMagics",
        "killbgscripts": "ScriptMagics",
        "ldir": "Other",
        "less": "KernelMagics",
        "load": "CodeMagics",
        "load_ext": "ExtensionMagics",
        "loadpy": "CodeMagics",
        "logoff": "LoggingMagics",
        "logon": "LoggingMagics",
        "logstart": "LoggingMagics",
        "logstate": "LoggingMagics",
        "logstop": "LoggingMagics",
        "ls": "Other",
        "lsmagic": "BasicMagics",
        "macro": "ExecutionMagics",
        "magic": "BasicMagics",
        "mamba": "PackagingMagics",
        "matplotlib": "PylabMagics",
        "micromamba": "PackagingMagics",
        "mkdir": "Other",
        "more": "KernelMagics",
        "notebook": "BasicMagics",
        "page": "BasicMagics",
        "pastebin": "CodeMagics",
        "pdb": "ExecutionMagics",
        "pdef": "NamespaceMagics",
        "pdoc": "NamespaceMagics",
        "pfile": "NamespaceMagics",
        "pinfo": "NamespaceMagics",
        "pinfo2": "NamespaceMagics",
        "pip": "PackagingMagics",
        "popd": "OSMagics",
        "pprint": "BasicMagics",
        "precision": "BasicMagics",
        "prun": "ExecutionMagics",
        "psearch": "NamespaceMagics",
        "psource": "NamespaceMagics",
        "pushd": "OSMagics",
        "pwd": "OSMagics",
        "pycat": "OSMagics",
        "pylab": "PylabMagics",
        "qtconsole": "KernelMagics",
        "quickref": "BasicMagics",
        "recall": "HistoryMagics",
        "rehashx": "OSMagics",
        "reload_ext": "ExtensionMagics",
        "ren": "Other",
        "rep": "Other",
        "rerun": "HistoryMagics",
        "reset": "NamespaceMagics",
        "reset_selective": "NamespaceMagics",
        "rmdir": "Other",
        "run": "ExecutionMagics",
        "save": "CodeMagics",
        "sc": "OSMagics",
        "set_env": "OSMagics",
        "store": "StoreMagics",
        "sx": "OSMagics",
        "system": "OSMagics",
        "tb": "ExecutionMagics",
        "time": "ExecutionMagics",
        "timeit": "ExecutionMagics",
        "unalias": "OSMagics",
        "unload_ext": "ExtensionMagics",
        "who": "NamespaceMagics",
        "who_ls": "NamespaceMagics",
        "whos": "NamespaceMagics",
        "xdel": "NamespaceMagics",
        "xmode": "BasicMagics"
       }
      },
      "text/plain": [
       "Available line magics:\n",
       "%alias  %alias_magic  %autoawait  %autocall  %automagic  %autosave  %bookmark  %cd  %clear  %cls  %code_wrap  %colors  %conda  %config  %connect_info  %copy  %ddir  %debug  %dhist  %dirs  %doctest_mode  %echo  %ed  %edit  %env  %gui  %hist  %history  %killbgscripts  %ldir  %less  %load  %load_ext  %loadpy  %logoff  %logon  %logstart  %logstate  %logstop  %ls  %lsmagic  %macro  %magic  %mamba  %matplotlib  %micromamba  %mkdir  %more  %notebook  %page  %pastebin  %pdb  %pdef  %pdoc  %pfile  %pinfo  %pinfo2  %pip  %popd  %pprint  %precision  %prun  %psearch  %psource  %pushd  %pwd  %pycat  %pylab  %qtconsole  %quickref  %recall  %rehashx  %reload_ext  %ren  %rep  %rerun  %reset  %reset_selective  %rmdir  %run  %save  %sc  %set_env  %store  %sx  %system  %tb  %time  %timeit  %unalias  %unload_ext  %who  %who_ls  %whos  %xdel  %xmode\n",
       "\n",
       "Available cell magics:\n",
       "%%!  %%HTML  %%SVG  %%bash  %%capture  %%cmd  %%code_wrap  %%debug  %%file  %%html  %%javascript  %%js  %%latex  %%markdown  %%perl  %%prun  %%pypy  %%python  %%python2  %%python3  %%ruby  %%script  %%sh  %%svg  %%sx  %%system  %%time  %%timeit  %%writefile\n",
       "\n",
       "Automagic is ON, % prefix IS NOT needed for line magics."
      ]
     },
     "execution_count": 13,
     "metadata": {},
     "output_type": "execute_result"
    }
   ],
   "source": [
    "%lsmagic"
   ]
  },
  {
   "cell_type": "markdown",
   "metadata": {},
   "source": [
    "#### load\n",
    "\n",
    "Ładuje zawartość zewnętrznego skryptu do komórki.\n",
    "```py\n",
    "%load script.py\n",
    "```"
   ]
  },
  {
   "cell_type": "markdown",
   "metadata": {},
   "source": [
    "%load script.py"
   ]
  },
  {
   "cell_type": "markdown",
   "metadata": {},
   "source": [
    "- Plik script.py\n",
    "\n",
    "![Alt text](img/image-21.png)\n",
    "\n",
    "- Wywołujemy \n",
    "\n",
    "```\n",
    "%load script.py\n",
    "```\n",
    "\n",
    "- Dostajemy\n",
    "\n",
    "![Alt text](img/image-22.png)"
   ]
  },
  {
   "cell_type": "markdown",
   "metadata": {},
   "source": [
    "#### Przydatne informacje"
   ]
  },
  {
   "cell_type": "markdown",
   "metadata": {},
   "source": [
    "Lista wbudowanych funkcji magic https://ipython.readthedocs.io/en/stable/interactive/magics.html"
   ]
  }
 ],
 "metadata": {
  "kernelspec": {
   "display_name": "analyses",
   "language": "python",
   "name": "python3"
  },
  "language_info": {
   "codemirror_mode": {
    "name": "ipython",
    "version": 3
   },
   "file_extension": ".py",
   "mimetype": "text/x-python",
   "name": "python",
   "nbconvert_exporter": "python",
   "pygments_lexer": "ipython3",
   "version": "3.12.3"
  }
 },
 "nbformat": 4,
 "nbformat_minor": 4
}