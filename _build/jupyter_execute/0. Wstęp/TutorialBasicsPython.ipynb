{
 "cells": [
  {
   "cell_type": "markdown",
   "metadata": {},
   "source": [
    "# Podstawy Python"
   ]
  },
  {
   "cell_type": "markdown",
   "metadata": {},
   "source": [
    "**Czym jest Python ?**"
   ]
  },
  {
   "cell_type": "markdown",
   "metadata": {},
   "source": [
    "Język programowania wysokiego poziomu o rozbudowanym pakiecie bibliotek standardowych, którego ideą przewodnią jest **czytelność i klarowność** kodu źródłowego. Python rozwijany jest jako projekt **open source** zarządzany przez Python Software Foundation, która jest organizacją non-profit.  "
   ]
  },
  {
   "cell_type": "markdown",
   "metadata": {},
   "source": [
    "**Zen of Python**"
   ]
  },
  {
   "cell_type": "markdown",
   "metadata": {},
   "source": [
    "Zen Pythona to zbiór 19 „zasad przewodnich” dotyczących pisania programów komputerowych, które wpływają na konstrukcję języka programowania Python. Inżynier oprogramowania Tim Peters napisał ten zbiór zasad i umieścił go na liście mailingowej Pythona w 1999 roku. Lista Petersa pozostawiła otwartą dwudziestą zasadę „do wypełnienia przez Guido”, odnoszącą się do Guido van Rossuma, pierwotnego autora języka Python. Wakat na zasadzie 20. nie został obsadzony."
   ]
  },
  {
   "cell_type": "markdown",
   "metadata": {},
   "source": [
    "\n",
    "\n",
    "    Beautiful is better than ugly.\n",
    "    Explicit is better than implicit.\n",
    "    Simple is better than complex.\n",
    "    Complex is better than complicated.\n",
    "    Flat is better than nested.\n",
    "    Sparse is better than dense.\n",
    "    Readability counts.\n",
    "    Special cases aren't special enough to break the rules.\n",
    "    Although practicality beats purity.\n",
    "    Errors should never pass silently.\n",
    "    Unless explicitly silenced.\n",
    "    In the face of ambiguity, refuse the temptation to guess.\n",
    "    There should be one-- and preferably only one --obvious way to do it.[a]\n",
    "    Although that way may not be obvious at first unless you're Dutch.\n",
    "    Now is better than never.\n",
    "    Although never is often better than right now.[b]\n",
    "    If the implementation is hard to explain, it's a bad idea.\n",
    "    If the implementation is easy to explain, it may be a good idea.\n",
    "    Namespaces are one honking great idea – let's do more of those!\n",
    "\n"
   ]
  },
  {
   "cell_type": "markdown",
   "metadata": {},
   "source": [
    "# Typy danych"
   ]
  },
  {
   "cell_type": "markdown",
   "metadata": {},
   "source": [
    "W Python rozróżniamy kilka podstawowych typów danych. Poniżej poświęcimy czas \"na naszym zdaniem\" najważniejsze wbudowane typy danych w Python.\n",
    "\n",
    "- Text Type\n",
    "    - string\n",
    "- Numeric Types:\n",
    "    - integer\n",
    "    - float\n",
    "- Boolean Type\n",
    "    - bool\n",
    "- None Type\n",
    "    - none\n",
    "- Sequence Types\n",
    "    - list\n",
    "    - tuple \n",
    "- Set Type\n",
    "    - set\n",
    "- Mapping Type\n",
    "    - dict"
   ]
  },
  {
   "cell_type": "markdown",
   "metadata": {},
   "source": [
    "## Text Type"
   ]
  },
  {
   "cell_type": "markdown",
   "metadata": {},
   "source": [
    "### **String**"
   ]
  },
  {
   "cell_type": "markdown",
   "metadata": {},
   "source": [
    "<div class=\"alert alert-block alert-info\"> <b>INFO</b> Ciągi znaków w Pythonie są otoczone pojedynczym cudzysłowem lub podwójnym cudzysłowem. Istnieje również możliwość tworzenia wieloliniowych ciągów znaków. </div>"
   ]
  },
  {
   "cell_type": "code",
   "execution_count": 1,
   "metadata": {},
   "outputs": [
    {
     "name": "stdout",
     "output_type": "stream",
     "text": [
      "Variable: example\n",
      "Type: <class 'str'>\n"
     ]
    }
   ],
   "source": [
    "string_ex = 'example'\n",
    "print(f'Variable: {string_ex}')\n",
    "print(f'Type: {type(string_ex)}')"
   ]
  },
  {
   "cell_type": "code",
   "execution_count": 2,
   "metadata": {},
   "outputs": [
    {
     "name": "stdout",
     "output_type": "stream",
     "text": [
      "Variable: example\n",
      "Type: <class 'str'>\n"
     ]
    }
   ],
   "source": [
    "string_ex = \"example\"\n",
    "print(f\"Variable: {string_ex}\")\n",
    "print(f\"Type: {type(string_ex)}\")"
   ]
  },
  {
   "cell_type": "markdown",
   "metadata": {},
   "source": [
    "Wielolinowy ciąg znaków wygląda następująco:"
   ]
  },
  {
   "cell_type": "code",
   "execution_count": 3,
   "metadata": {},
   "outputs": [
    {
     "name": "stdout",
     "output_type": "stream",
     "text": [
      "Variable: \n",
      "Few\n",
      "lines\n",
      "string\n",
      "\n",
      "Type: <class 'str'>\n"
     ]
    }
   ],
   "source": [
    "string_ex = \"\"\"\n",
    "Few\n",
    "lines\n",
    "string\n",
    "\"\"\"\n",
    "print(f\"Variable: {string_ex}\")\n",
    "print(f\"Type: {type(string_ex)}\")"
   ]
  },
  {
   "cell_type": "markdown",
   "metadata": {},
   "source": [
    "#### **Podstawowe operacje**"
   ]
  },
  {
   "cell_type": "markdown",
   "metadata": {},
   "source": [
    "Do podstawowych grup operacji na stringach zaliczamy:\n",
    "- slicing\n",
    "- concatenate\n",
    "- modify"
   ]
  },
  {
   "cell_type": "code",
   "execution_count": 4,
   "metadata": {},
   "outputs": [],
   "source": [
    "txt = \" Hello, World! \""
   ]
  },
  {
   "cell_type": "markdown",
   "metadata": {},
   "source": [
    "_Slicing_"
   ]
  },
  {
   "cell_type": "code",
   "execution_count": 5,
   "metadata": {},
   "outputs": [
    {
     "name": "stdout",
     "output_type": "stream",
     "text": [
      "H\n",
      "World\n"
     ]
    }
   ],
   "source": [
    "print(txt[1])\n",
    "print(txt[8:13])"
   ]
  },
  {
   "cell_type": "markdown",
   "metadata": {},
   "source": [
    "_Concatenate_"
   ]
  },
  {
   "cell_type": "code",
   "execution_count": 6,
   "metadata": {},
   "outputs": [
    {
     "name": "stdout",
     "output_type": "stream",
     "text": [
      " Hello, World! !!! :)\n",
      " Hello, World!   Hello, World! \n"
     ]
    }
   ],
   "source": [
    "print(txt + '!!! :)')\n",
    "print(txt + \" \" + txt)"
   ]
  },
  {
   "cell_type": "markdown",
   "metadata": {},
   "source": [
    "_Modify_"
   ]
  },
  {
   "cell_type": "code",
   "execution_count": 7,
   "metadata": {},
   "outputs": [
    {
     "name": "stdout",
     "output_type": "stream",
     "text": [
      "  H e l l o ,   W o r l d !  \n",
      " HELLO, WORLD! \n",
      " hello, world! \n",
      " hello, world! \n",
      "Hello, World!\n",
      "[' Hello', ' World! ']\n",
      " Hello, Oorld! \n"
     ]
    }
   ],
   "source": [
    "print(\" \".join(txt))\n",
    "print(txt.upper())\n",
    "print(txt.lower())\n",
    "print(txt.capitalize())\n",
    "print(txt.strip())\n",
    "print(txt.split(','))\n",
    "print(txt.replace('W', 'O'))"
   ]
  },
  {
   "cell_type": "markdown",
   "metadata": {},
   "source": [
    "## Numeric Types"
   ]
  },
  {
   "cell_type": "markdown",
   "metadata": {},
   "source": [
    "### **Integer**"
   ]
  },
  {
   "cell_type": "markdown",
   "metadata": {},
   "source": [
    "<div class=\"alert alert-block alert-info\"> <b>INFO</b> Integer jest reprezentacją liczb całkowitych. </div>"
   ]
  },
  {
   "cell_type": "code",
   "execution_count": 8,
   "metadata": {},
   "outputs": [
    {
     "name": "stdout",
     "output_type": "stream",
     "text": [
      "Variable: 1\n",
      "Type: <class 'int'>\n"
     ]
    }
   ],
   "source": [
    "int_ex = 1\n",
    "print(f\"Variable: {int_ex}\")\n",
    "print(f\"Type: {type(int_ex)}\")"
   ]
  },
  {
   "cell_type": "markdown",
   "metadata": {},
   "source": [
    "### **Float**"
   ]
  },
  {
   "cell_type": "markdown",
   "metadata": {},
   "source": [
    "<div class=\"alert alert-block alert-info\"> <b>INFO</b> Float jest reprezentacją liczb zmiennoprzecinkowych. </div>"
   ]
  },
  {
   "cell_type": "code",
   "execution_count": 9,
   "metadata": {},
   "outputs": [
    {
     "name": "stdout",
     "output_type": "stream",
     "text": [
      "Variable: 1.0\n",
      "Type: <class 'float'>\n"
     ]
    }
   ],
   "source": [
    "float_ex = 1.0\n",
    "print(f\"Variable: {float_ex}\")\n",
    "print(f\"Type: {type(float_ex)}\")"
   ]
  },
  {
   "cell_type": "markdown",
   "metadata": {},
   "source": [
    "## Boolean Type"
   ]
  },
  {
   "cell_type": "markdown",
   "metadata": {},
   "source": [
    "### **Bool**"
   ]
  },
  {
   "cell_type": "markdown",
   "metadata": {},
   "source": [
    "<div class=\"alert alert-block alert-info\"> <b>INFO</b> Boolean jest strukturą przyjmującą dwie wartości: <i>True, False</i>. </div>"
   ]
  },
  {
   "cell_type": "code",
   "execution_count": 10,
   "metadata": {},
   "outputs": [
    {
     "name": "stdout",
     "output_type": "stream",
     "text": [
      "Variable: True\n",
      "Type: <class 'bool'>\n"
     ]
    }
   ],
   "source": [
    "bool_ex = True\n",
    "print(f\"Variable: {bool_ex}\")\n",
    "print(f\"Type: {type(bool_ex)}\")"
   ]
  },
  {
   "cell_type": "markdown",
   "metadata": {},
   "source": [
    "Dodatkowo *True* jest równe 1, a *False* 0"
   ]
  },
  {
   "cell_type": "code",
   "execution_count": 11,
   "metadata": {},
   "outputs": [
    {
     "name": "stdout",
     "output_type": "stream",
     "text": [
      "True == 1 -> True\n",
      "False == 0 -> True\n"
     ]
    }
   ],
   "source": [
    "print(f\"True == 1 -> {True == 1}\")\n",
    "print(f\"False == 0 -> {False == 0}\")"
   ]
  },
  {
   "cell_type": "markdown",
   "metadata": {},
   "source": [
    "## None Type"
   ]
  },
  {
   "cell_type": "markdown",
   "metadata": {},
   "source": [
    "### None"
   ]
  },
  {
   "cell_type": "markdown",
   "metadata": {},
   "source": [
    "<div class=\"alert alert-block alert-info\"> <b>INFO</b> None służy do definiowania wartości Null lub braku wartości. None to nie to samo co 0, False lub pusty ciąg znaków. None jest własnym typem danych (NoneType) i tylko None może być None. </div>"
   ]
  },
  {
   "cell_type": "code",
   "execution_count": 12,
   "metadata": {},
   "outputs": [
    {
     "name": "stdout",
     "output_type": "stream",
     "text": [
      "Variable: None\n",
      "Type: <class 'NoneType'>\n"
     ]
    }
   ],
   "source": [
    "none_ex = None\n",
    "print(f\"Variable: {none_ex}\")\n",
    "print(f\"Type: {type(none_ex)}\")"
   ]
  },
  {
   "cell_type": "markdown",
   "metadata": {},
   "source": [
    "## Sequence Types"
   ]
  },
  {
   "cell_type": "markdown",
   "metadata": {},
   "source": [
    "### List"
   ]
  },
  {
   "cell_type": "markdown",
   "metadata": {},
   "source": [
    "<div class=\"alert alert-block alert-info\"> <b>INFO</b> Listy służą do przechowywania wielu elementów w jednej zmiennej. Obiekt <i>list</i> charakteryzuje 3 rzeczy: \n",
    "<ul>\n",
    "  <li><i>uporządkowanie</i> - elementy w liście mają zdefiniowaną kolejność i tej kolejności nie możemy zmienić</li>\n",
    "  <li><i>możliwość zmiany wyrażenia</i> - dowolny element listy możemy nadpisać</li>\n",
    "  <li><i>pozwala na duplikaty</i> - możemy mieć w liście dowolną ilość takich samych wartości elementów</li>\n",
    "</ul>\n",
    "</div>"
   ]
  },
  {
   "cell_type": "code",
   "execution_count": 13,
   "metadata": {},
   "outputs": [
    {
     "name": "stdout",
     "output_type": "stream",
     "text": [
      "Variable: [1, 2, 3, 4]\n",
      "Type: <class 'list'>\n"
     ]
    }
   ],
   "source": [
    "list_example = [1, 2, 3, 4]\n",
    "print(f\"Variable: {list_example}\")\n",
    "print(f\"Type: {type(list_example)}\")"
   ]
  },
  {
   "cell_type": "markdown",
   "metadata": {},
   "source": [
    "W listach możemy mieszać różne typy zmiennych:"
   ]
  },
  {
   "cell_type": "code",
   "execution_count": 14,
   "metadata": {},
   "outputs": [
    {
     "name": "stdout",
     "output_type": "stream",
     "text": [
      "Variable: [1, 'abc', 3.0, [1, 'xyz']]\n",
      "Type: <class 'list'>\n"
     ]
    }
   ],
   "source": [
    "list_mix_example = [1, 'abc', 3.0, [1, 'xyz']]\n",
    "print(f\"Variable: {list_mix_example}\")\n",
    "print(f\"Type: {type(list_mix_example)}\")"
   ]
  },
  {
   "cell_type": "markdown",
   "metadata": {},
   "source": [
    "#### **Przykład 1 (filtrowanie elementów listy)**"
   ]
  },
  {
   "cell_type": "markdown",
   "metadata": {},
   "source": [
    "Często będziemy potrzebować określonego elementu z listy w celu wyświetlenia, nadpisania, wykorzystania w kolejnych operacjach, itd. Aby to zrobić posługujemy się nawiasami kwadratowymi. Należy pamiętać, że indeksowanie w pythonie odbywa się od 0!"
   ]
  },
  {
   "cell_type": "code",
   "execution_count": 15,
   "metadata": {},
   "outputs": [
    {
     "name": "stdout",
     "output_type": "stream",
     "text": [
      "List: [1, 2, 3, 4]\n",
      "3rd element of list: 3\n",
      "Last element of list: 4\n",
      "Every element from the 2nd one: [2, 3, 4]\n",
      "Two last elements of list: [3, 4]\n",
      "Two first elements of list: [1, 2]\n",
      "From 2nd to 3rd element: [2, 3]\n"
     ]
    }
   ],
   "source": [
    "list_example = [1, 2, 3, 4]\n",
    "print(f\"List: {list_example}\")\n",
    "print(f\"3rd element of list: {list_example[2]}\")\n",
    "print(f\"Last element of list: {list_example[-1]}\")\n",
    "print(f\"Every element from the 2nd one: {list_example[1:]}\")\n",
    "print(f\"Two last elements of list: {list_example[-2:]}\")\n",
    "print(f\"Two first elements of list: {list_example[:2]}\")\n",
    "print(f\"From 2nd to 3rd element: {list_example[1:3]}\")\n"
   ]
  },
  {
   "cell_type": "markdown",
   "metadata": {},
   "source": [
    "Co w przypadku listy zagnieżdżonej (lista w liście)"
   ]
  },
  {
   "cell_type": "code",
   "execution_count": 16,
   "metadata": {},
   "outputs": [
    {
     "name": "stdout",
     "output_type": "stream",
     "text": [
      "List: [[1, 2, 3], [4, 5, 6], [7, 8, 9]]\n",
      "3rd element of list [7, 8, 9]\n",
      "1st element of 2nd list: 4\n"
     ]
    }
   ],
   "source": [
    "list_example = [[1, 2, 3], [4, 5, 6], [7, 8, 9]]\n",
    "print(f\"List: {list_example}\")\n",
    "print(f\"3rd element of list {list_example[2]}\")\n",
    "print(f\"1st element of 2nd list: {list_example[1][0]}\")"
   ]
  },
  {
   "cell_type": "markdown",
   "metadata": {},
   "source": [
    "#### **Przykład 2 (długość)**"
   ]
  },
  {
   "cell_type": "code",
   "execution_count": 17,
   "metadata": {},
   "outputs": [
    {
     "name": "stdout",
     "output_type": "stream",
     "text": [
      "List length: 4\n"
     ]
    }
   ],
   "source": [
    "list_example = [1, 2, 3, 4]\n",
    "print(f\"List length: {len(list_example)}\")"
   ]
  },
  {
   "cell_type": "code",
   "execution_count": 18,
   "metadata": {},
   "outputs": [
    {
     "name": "stdout",
     "output_type": "stream",
     "text": [
      "List length: 3\n"
     ]
    }
   ],
   "source": [
    "list_example = [[1, 2, 3], [4, 5, 6], [7, 8, 9]]\n",
    "print(f\"List length: {len(list_example)}\")"
   ]
  },
  {
   "cell_type": "markdown",
   "metadata": {},
   "source": [
    "#### **Przykład 3 (operacje dodawania)**"
   ]
  },
  {
   "cell_type": "markdown",
   "metadata": {},
   "source": [
    "Dodawanie list polega na połączeniu list w jedną. Nie polega to na dodawaniu odpowiednich elemntów do siebie (o tym jak to zrobić pokazane zostanie w dziale list comprehension)."
   ]
  },
  {
   "cell_type": "code",
   "execution_count": 19,
   "metadata": {},
   "outputs": [
    {
     "name": "stdout",
     "output_type": "stream",
     "text": [
      "List a = [1, 2] \n",
      "List b = [3, 4] \n",
      "List a+b = [1, 2, 3, 4]\n"
     ]
    }
   ],
   "source": [
    "list_a = [1, 2]\n",
    "list_b = [3, 4]\n",
    "print(f\"List a = {list_a} \\nList b = {list_b} \\nList a+b = {list_a + list_b}\")"
   ]
  },
  {
   "cell_type": "markdown",
   "metadata": {},
   "source": [
    "To samo możemy uzyskać wywołując metodę _extend_"
   ]
  },
  {
   "cell_type": "code",
   "execution_count": 20,
   "metadata": {},
   "outputs": [
    {
     "name": "stdout",
     "output_type": "stream",
     "text": [
      "List a: [1, 2]\n",
      "List b = [3, 4]\n",
      "List after extend element: [1, 2, 3, 4]\n"
     ]
    }
   ],
   "source": [
    "list_a = [1, 2]\n",
    "list_b = [3, 4]\n",
    "print(f\"List a: {list_a}\\nList b = {list_b}\")\n",
    "list_a.extend(list_b)\n",
    "print(\"List after extend element: {}\".format(list_a))"
   ]
  },
  {
   "cell_type": "markdown",
   "metadata": {},
   "source": [
    "Innym sposobem na dodanie elementu jest funkcja *append*"
   ]
  },
  {
   "cell_type": "code",
   "execution_count": 21,
   "metadata": {},
   "outputs": [
    {
     "name": "stdout",
     "output_type": "stream",
     "text": [
      "List: [1, 2]\n",
      "List after adding element: [1, 2, 3]\n"
     ]
    }
   ],
   "source": [
    "list_ex = [1, 2]\n",
    "elem_to_add = 3\n",
    "print(f\"List: {list_ex}\")\n",
    "list_ex.append(elem_to_add)\n",
    "print(\"List after adding element: {}\".format(list_ex))"
   ]
  },
  {
   "cell_type": "markdown",
   "metadata": {},
   "source": [
    "Należy jednak uważać na dodawanie listy przy użyciu *append*"
   ]
  },
  {
   "cell_type": "code",
   "execution_count": 22,
   "metadata": {},
   "outputs": [
    {
     "name": "stdout",
     "output_type": "stream",
     "text": [
      "List: [1, 2]\n",
      "List after adding element: [1, 2, [3, 4]]\n"
     ]
    }
   ],
   "source": [
    "list_ex = [1, 2]\n",
    "list_to_add = [3, 4]\n",
    "print(f\"List: {list_ex}\")\n",
    "list_ex.append(list_to_add)\n",
    "print(\"List after adding element: {}\".format(list_ex))"
   ]
  },
  {
   "cell_type": "markdown",
   "metadata": {},
   "source": [
    "Na listach możemyu robić też inne operacje. Szczegóły pod linkiem: https://www.w3schools.com/python/python_lists_methods.asp"
   ]
  },
  {
   "cell_type": "markdown",
   "metadata": {},
   "source": [
    "### Tuple"
   ]
  },
  {
   "cell_type": "markdown",
   "metadata": {},
   "source": [
    "<div class=\"alert alert-block alert-info\"> <b>INFO</b> Krotka jest typem bardzo podobnym do obiektu <i>list</i>. Główna różnica jest taka, że krotka nie jest mutowalna, a obiekt <i>list</i> tak. Są też różnice polegające na szybkości przeliczeń oraz zajmowanej pamięci.</div>\n"
   ]
  },
  {
   "cell_type": "code",
   "execution_count": 23,
   "metadata": {},
   "outputs": [
    {
     "name": "stdout",
     "output_type": "stream",
     "text": [
      "Variable: (1, 2)\n",
      "Type: <class 'tuple'>\n"
     ]
    }
   ],
   "source": [
    "tuple_ex = (1, 2)\n",
    "print(f\"Variable: {tuple_ex}\")\n",
    "print(f\"Type: {type(tuple_ex)}\")"
   ]
  },
  {
   "cell_type": "code",
   "execution_count": 24,
   "metadata": {},
   "outputs": [],
   "source": [
    "list_ex = [1, 2]\n",
    "list_ex[0] = 3"
   ]
  },
  {
   "cell_type": "code",
   "execution_count": 25,
   "metadata": {},
   "outputs": [
    {
     "ename": "TypeError",
     "evalue": "'tuple' object does not support item assignment",
     "output_type": "error",
     "traceback": [
      "\u001b[1;31m---------------------------------------------------------------------------\u001b[0m",
      "\u001b[1;31mTypeError\u001b[0m                                 Traceback (most recent call last)",
      "Cell \u001b[1;32mIn[25], line 2\u001b[0m\n\u001b[0;32m      1\u001b[0m tuple_ex \u001b[38;5;241m=\u001b[39m (\u001b[38;5;241m1\u001b[39m, \u001b[38;5;241m2\u001b[39m)\n\u001b[1;32m----> 2\u001b[0m tuple_ex[\u001b[38;5;241m0\u001b[39m] \u001b[38;5;241m=\u001b[39m \u001b[38;5;241m3\u001b[39m\n",
      "\u001b[1;31mTypeError\u001b[0m: 'tuple' object does not support item assignment"
     ]
    }
   ],
   "source": [
    "tuple_ex = (1, 2)\n",
    "tuple_ex[0] = 3"
   ]
  },
  {
   "cell_type": "markdown",
   "metadata": {},
   "source": [
    "Również i w tym przypadku możemy przechowywać różne typy danych"
   ]
  },
  {
   "cell_type": "code",
   "execution_count": 106,
   "metadata": {},
   "outputs": [
    {
     "name": "stdout",
     "output_type": "stream",
     "text": [
      "Variable: (1, 'abc', [1, 2.0, 'xyz'], ('edf', 3.0))\n",
      "Type: <class 'tuple'>\n"
     ]
    }
   ],
   "source": [
    "tuple_ex = (1, 'abc', [1, 2.0, 'xyz'], ('edf', 3.0))\n",
    "print(f\"Variable: {tuple_ex}\")\n",
    "print(f\"Type: {type(tuple_ex)}\")"
   ]
  },
  {
   "cell_type": "markdown",
   "metadata": {},
   "source": [
    "## Set Type"
   ]
  },
  {
   "cell_type": "markdown",
   "metadata": {},
   "source": [
    "### Set "
   ]
  },
  {
   "cell_type": "markdown",
   "metadata": {},
   "source": [
    "<div class=\"alert alert-block alert-info\"> <b>INFO</b> Elementy setu są nieuporządkowane, niezmienne. Nie zezwalają na duplikowanie wartości.</div>\n"
   ]
  },
  {
   "cell_type": "code",
   "execution_count": 87,
   "metadata": {},
   "outputs": [
    {
     "name": "stdout",
     "output_type": "stream",
     "text": [
      "Variable: {1, 'abc'}\n",
      "Type: <class 'set'>\n"
     ]
    }
   ],
   "source": [
    "set_ex = {1, 'abc', 1}\n",
    "print(f\"Variable: {set_ex}\")\n",
    "print(f\"Type: {type(set_ex)}\")"
   ]
  },
  {
   "cell_type": "markdown",
   "metadata": {},
   "source": [
    "Szybki sposób na usunięcie duplikatów z listy:"
   ]
  },
  {
   "cell_type": "code",
   "execution_count": 59,
   "metadata": {},
   "outputs": [
    {
     "name": "stdout",
     "output_type": "stream",
     "text": [
      "Lista bez unikalnych wyrazów: [1, 1, 1, 2, 2, 3]\n",
      "Set: {1, 2, 3}\n",
      "Lista z unikalnymi wyrazami: [1, 2, 3]\n"
     ]
    }
   ],
   "source": [
    "l = [1, 1, 1, 2, 2, 3]\n",
    "print(f\"Lista bez unikalnych wyrazów: {l}\")\n",
    "l = set(l)\n",
    "print(f\"Set: {l}\")\n",
    "l = list(l)\n",
    "print(f\"Lista z unikalnymi wyrazami: {l}\")"
   ]
  },
  {
   "cell_type": "markdown",
   "metadata": {},
   "source": [
    "## Mapping Type"
   ]
  },
  {
   "cell_type": "markdown",
   "metadata": {},
   "source": [
    "### Dict"
   ]
  },
  {
   "cell_type": "markdown",
   "metadata": {},
   "source": [
    "<div class=\"alert alert-block alert-info\"> <b>INFO</b> Słowniki są używane do przechowywania wartości danych w parach klucz: wartość. Klucze nie mogą być duplikowane. Słownikiem można dowolnie manipulować - dodawać, usuwać, nadpisywać odpowiednie elementy).</div>"
   ]
  },
  {
   "cell_type": "code",
   "execution_count": 60,
   "metadata": {},
   "outputs": [
    {
     "name": "stdout",
     "output_type": "stream",
     "text": [
      "Variable: {'key1': 'val1', 'key2': 'val2', 'key3': 'val3'}\n",
      "Type: <class 'dict'>\n"
     ]
    }
   ],
   "source": [
    "dict_ex = {\n",
    "    'key1': 'val1',\n",
    "    'key2': 'val2',\n",
    "    'key3': 'val3'\n",
    "}\n",
    "print(f\"Variable: {dict_ex}\")\n",
    "print(f\"Type: {type(dict_ex)}\")"
   ]
  },
  {
   "cell_type": "code",
   "execution_count": 61,
   "metadata": {},
   "outputs": [
    {
     "name": "stdout",
     "output_type": "stream",
     "text": [
      "Variable: {'key1': 'val1', 'key2': 'val2', 'key3': 'val3'}\n",
      "Type: <class 'dict'>\n"
     ]
    }
   ],
   "source": [
    "dict_ex = dict(key1='val1', key2='val2', key3='val3')\n",
    "print(f\"Variable: {dict_ex}\")\n",
    "print(f\"Type: {type(dict_ex)}\")"
   ]
  },
  {
   "cell_type": "code",
   "execution_count": 62,
   "metadata": {},
   "outputs": [
    {
     "name": "stdout",
     "output_type": "stream",
     "text": [
      "Value for key1: val1\n",
      "New value for key1: new_val1\n",
      "{'key1': 'new_val1', 'key2': 'val2', 'key3': 'val3', 'new_key': 17}\n"
     ]
    }
   ],
   "source": [
    "dict_ex = {'key1': 'val1', 'key2': 'val2', 'key3': 'val3'}\n",
    "\n",
    "print(f\"Value for key1: {dict_ex['key1']}\")\n",
    "\n",
    "dict_ex['key1'] = 'new_val1'\n",
    "print(f\"New value for key1: {dict_ex['key1']}\")\n",
    "\n",
    "dict_ex['new_key'] = 17\n",
    "print(dict_ex)"
   ]
  },
  {
   "cell_type": "markdown",
   "metadata": {},
   "source": [
    "# Zmiana typów zmiennych"
   ]
  },
  {
   "cell_type": "markdown",
   "metadata": {},
   "source": [
    "Zdarzyć się może, że potrzebujemy innego typu dla aktualnie badanej zmiennej. Na przykład liczbę chcemy przedstawić jako string lub float jako int. Podobnie z innymi strukturami np. zmiana list na set, lub tuple na list. Poniżej przykłady takich działań."
   ]
  },
  {
   "cell_type": "markdown",
   "metadata": {},
   "source": [
    "#### **Przykład 1 (string -> int, float)**"
   ]
  },
  {
   "cell_type": "code",
   "execution_count": 90,
   "metadata": {},
   "outputs": [
    {
     "name": "stdout",
     "output_type": "stream",
     "text": [
      "Variable: 22\n",
      "Type: <class 'str'>\n"
     ]
    }
   ],
   "source": [
    "string_ex = \"22\"\n",
    "print(f\"Variable: {string_ex}\")\n",
    "print(f\"Type: {type(string_ex)}\")"
   ]
  },
  {
   "cell_type": "code",
   "execution_count": 91,
   "metadata": {},
   "outputs": [
    {
     "name": "stdout",
     "output_type": "stream",
     "text": [
      "Variable: 22\n",
      "Type: <class 'int'>\n"
     ]
    }
   ],
   "source": [
    "int_from_str_ex = int(string_ex)\n",
    "print(f\"Variable: {int_from_str_ex}\")\n",
    "print(f\"Type: {type(int_from_str_ex)}\")"
   ]
  },
  {
   "cell_type": "code",
   "execution_count": 92,
   "metadata": {},
   "outputs": [
    {
     "name": "stdout",
     "output_type": "stream",
     "text": [
      "Variable: 22.0\n",
      "Type: <class 'float'>\n"
     ]
    }
   ],
   "source": [
    "float_from_str_ex = float(string_ex)\n",
    "print(f\"Variable: {float_from_str_ex}\")\n",
    "print(f\"Type: {type(float_from_str_ex)}\")"
   ]
  },
  {
   "cell_type": "markdown",
   "metadata": {},
   "source": [
    "#### **Przykład 2 (list -> set, tuple)**"
   ]
  },
  {
   "cell_type": "code",
   "execution_count": 115,
   "metadata": {},
   "outputs": [],
   "source": [
    "ex_list = [1, 1, 2, 3, 4]\n",
    "print(f\"Variable: {ex_list}\")\n",
    "print(f\"Type: {type(ex_list)}\")"
   ]
  },
  {
   "cell_type": "code",
   "execution_count": 116,
   "metadata": {},
   "outputs": [
    {
     "name": "stdout",
     "output_type": "stream",
     "text": [
      "Variable: (1, 1, 2, 3, 4)\n",
      "Type: <class 'tuple'>\n"
     ]
    }
   ],
   "source": [
    "ex_tuple = tuple(ex_list)\n",
    "print(f\"Variable: {ex_tuple}\")\n",
    "print(f\"Type: {type(ex_tuple)}\")"
   ]
  },
  {
   "cell_type": "code",
   "execution_count": 115,
   "metadata": {},
   "outputs": [
    {
     "name": "stdout",
     "output_type": "stream",
     "text": [
      "Variable: [1, 1, 2, 3, 4]\n",
      "Type: <class 'list'>\n",
      "Variable: {1, 2, 3, 4}\n",
      "Type: <class 'set'>\n"
     ]
    }
   ],
   "source": [
    "ex_set = set(ex_list)\n",
    "print(f\"Variable: {ex_set}\")\n",
    "print(f\"Type: {type(ex_set)}\")"
   ]
  },
  {
   "cell_type": "markdown",
   "metadata": {},
   "source": [
    "# Pętle"
   ]
  },
  {
   "cell_type": "markdown",
   "metadata": {},
   "source": [
    "Pętle służa do iteracji pod sekwencji np. list, tuple, dict czy set. Dzięki pętlom możemy wykonywać zestaw instrukcji, raz dla każdego elementu sekwencji."
   ]
  },
  {
   "cell_type": "markdown",
   "metadata": {},
   "source": [
    "### For"
   ]
  },
  {
   "cell_type": "markdown",
   "metadata": {},
   "source": [
    "<div class=\"alert alert-block alert-info\"> <b>INFO</b> Pętla <i>for</i> iteruje pokolei po zdefiniowanej sekwencji. </div>"
   ]
  },
  {
   "cell_type": "code",
   "execution_count": 22,
   "metadata": {},
   "outputs": [
    {
     "name": "stdout",
     "output_type": "stream",
     "text": [
      "Now 'i' is equal to 1\n",
      "Now 'i' is equal to 2\n",
      "Now 'i' is equal to 3\n"
     ]
    }
   ],
   "source": [
    "for i in [1, 2, 3]:\n",
    "    print(\"Now 'i' is equal to {}\".format(i))"
   ]
  },
  {
   "cell_type": "markdown",
   "metadata": {},
   "source": [
    "Czasami, potrzebujemy wiedziec po ktorym indeksie listy iterujemy. Wtedy przydaje sie wyrazenie _enumerate_."
   ]
  },
  {
   "cell_type": "code",
   "execution_count": 63,
   "metadata": {},
   "outputs": [
    {
     "name": "stdout",
     "output_type": "stream",
     "text": [
      "0 element from list\n",
      "Now 'i' is equal to a\n",
      "1 element from list\n",
      "Now 'i' is equal to b\n",
      "2 element from list\n",
      "Now 'i' is equal to c\n"
     ]
    }
   ],
   "source": [
    "ex_list = ['a', 'b', 'c']\n",
    "for num, i in enumerate(ex_list):\n",
    "    print(f\"{num} element from list\")\n",
    "    print(\"Now 'i' is equal to {}\".format(i))"
   ]
  },
  {
   "cell_type": "markdown",
   "metadata": {},
   "source": [
    "Iterowanie po słowniku:"
   ]
  },
  {
   "cell_type": "code",
   "execution_count": 95,
   "metadata": {},
   "outputs": [
    {
     "name": "stdout",
     "output_type": "stream",
     "text": [
      "key1 val1\n",
      "key2 val2\n",
      "key3 val3\n"
     ]
    }
   ],
   "source": [
    "dict_ex = {'key1': 'val1', 'key2': 'val2', 'key3': 'val3'}\n",
    "for key, val in dict_ex.items():\n",
    "    print(key, val)"
   ]
  },
  {
   "cell_type": "markdown",
   "metadata": {},
   "source": [
    "### While"
   ]
  },
  {
   "cell_type": "markdown",
   "metadata": {},
   "source": [
    "<div class=\"alert alert-block alert-info\"> <b>INFO</b> Pętla <i>while</i> wykonuje się dopóki spełniony jest warunek logiczny zdefiniowany na początku. </div>"
   ]
  },
  {
   "cell_type": "code",
   "execution_count": 89,
   "metadata": {},
   "outputs": [
    {
     "name": "stdout",
     "output_type": "stream",
     "text": [
      "Now 'i' is equal to 1\n",
      "Now 'i' is equal to 2\n",
      "Now 'i' is equal to 3\n"
     ]
    }
   ],
   "source": [
    "i = 1\n",
    "while i < 4:\n",
    "    print(\"Now 'i' is equal to {}\".format(i))\n",
    "    i += 1 #same as i = i + 1"
   ]
  },
  {
   "cell_type": "markdown",
   "metadata": {},
   "source": [
    "Bardzo łatwo jest stworzyć nieskończoną pętlę przy pomocy *while*. Wystarczy, żeby warunek logcziny zawsze był spełniony:\n",
    "\n",
    "```py\n",
    "while True:\n",
    "    print(\"Halo? Pomocy!!! JAK STĄD SIĘ WYDOSTAĆ?!\")\n",
    "```"
   ]
  },
  {
   "cell_type": "markdown",
   "metadata": {},
   "source": [
    "# Instrukcje warunkowe"
   ]
  },
  {
   "cell_type": "markdown",
   "metadata": {},
   "source": [
    "Podczas pisania kodu często potrzebujemy zrobić daną rzecz tylko w przypadku spełnienia określonych warunków. Do tego służą instrukcje warunkowe."
   ]
  },
  {
   "cell_type": "markdown",
   "metadata": {},
   "source": [
    "## Warunki logiczne"
   ]
  },
  {
   "cell_type": "code",
   "execution_count": 84,
   "metadata": {},
   "outputs": [
    {
     "name": "stdout",
     "output_type": "stream",
     "text": [
      "1 == 2: False\n",
      "1 != 2: True\n",
      "1 < 2: True\n",
      "1 >= 2: False\n"
     ]
    }
   ],
   "source": [
    "print(f\"1 == 2: {1 == 2}\")\n",
    "print(f\"1 != 2: {1 != 2}\")\n",
    "print(f\"1 < 2: {1 < 2}\")\n",
    "print(f\"1 >= 2: {1 >= 2}\")"
   ]
  },
  {
   "cell_type": "markdown",
   "metadata": {},
   "source": [
    "## Operatory is, in, not"
   ]
  },
  {
   "cell_type": "code",
   "execution_count": 122,
   "metadata": {},
   "outputs": [
    {
     "name": "stdout",
     "output_type": "stream",
     "text": [
      "True\n"
     ]
    }
   ],
   "source": [
    "num = 2\n",
    "print(num in [1, 2, 3, 4, 5])"
   ]
  },
  {
   "cell_type": "code",
   "execution_count": 142,
   "metadata": {},
   "outputs": [
    {
     "name": "stdout",
     "output_type": "stream",
     "text": [
      "[1, 2, 4, 3]\n",
      "[1, 2, 4, 3]\n",
      "True\n"
     ]
    }
   ],
   "source": [
    "num1 = [1, 2, 4]\n",
    "num2 = num1\n",
    "num2.append(3)\n",
    "\n",
    "print(num1)\n",
    "print(num2)\n",
    "print(num1 is num2) "
   ]
  },
  {
   "cell_type": "code",
   "execution_count": 144,
   "metadata": {},
   "outputs": [
    {
     "name": "stdout",
     "output_type": "stream",
     "text": [
      "True\n"
     ]
    }
   ],
   "source": [
    "num = 10\n",
    "print(num not in [1, 2, 3, 4, 5])"
   ]
  },
  {
   "cell_type": "markdown",
   "metadata": {},
   "source": [
    "## If ... Else"
   ]
  },
  {
   "cell_type": "markdown",
   "metadata": {},
   "source": [
    "Kiedy chcemy, żeby coś się zadziało w sytuacji kiedy warunek logiczny jest spełniony wykorzystujemy *if*"
   ]
  },
  {
   "cell_type": "markdown",
   "metadata": {},
   "source": [
    "#### **Przykład 1 (if)**"
   ]
  },
  {
   "cell_type": "code",
   "execution_count": 86,
   "metadata": {},
   "outputs": [
    {
     "name": "stdout",
     "output_type": "stream",
     "text": [
      "True condition :)\n"
     ]
    }
   ],
   "source": [
    "if 1 + 1 * 1 <= 2:\n",
    "    print(\"True condition :)\")"
   ]
  },
  {
   "cell_type": "markdown",
   "metadata": {},
   "source": [
    "Co w sytuacji, kiedy chcemy, żeby zadziała się akcja w przeciwnym przypadku? Używamy *else*"
   ]
  },
  {
   "cell_type": "markdown",
   "metadata": {},
   "source": [
    "#### **Przykład 2 (if .. else)**"
   ]
  },
  {
   "cell_type": "code",
   "execution_count": 87,
   "metadata": {},
   "outputs": [
    {
     "name": "stdout",
     "output_type": "stream",
     "text": [
      "Now 'i' is equal to 1\n",
      "Now 'i' is not equal to 1\n",
      "Now 'i' is not equal to 1\n"
     ]
    }
   ],
   "source": [
    "for i in [1, 2, 3]:\n",
    "    if i == 1:\n",
    "        print(\"Now 'i' is equal to 1\")\n",
    "    else:\n",
    "        print(\"Now 'i' is not equal to 1\")"
   ]
  },
  {
   "cell_type": "markdown",
   "metadata": {},
   "source": [
    "#### **Przykład 3 (if ... elif ... else)**"
   ]
  },
  {
   "cell_type": "markdown",
   "metadata": {},
   "source": [
    "Co w przypadku kiedy mamy kilka warunków? Używamy *elif*"
   ]
  },
  {
   "cell_type": "code",
   "execution_count": 94,
   "metadata": {},
   "outputs": [
    {
     "name": "stdout",
     "output_type": "stream",
     "text": [
      "i = 1 :)\n",
      "i = 2 :D\n",
      "i = 3 :D\n",
      "i = 4 ^^\n",
      "i = 5 ^^\n"
     ]
    }
   ],
   "source": [
    "for i in [1, 2, 3, 4, 5]:\n",
    "    if i <= 1:\n",
    "        print(f\"i = {i} :)\")\n",
    "    elif i > 1 and i < 4:\n",
    "        print(f\"i = {i} :D\")\n",
    "    else:\n",
    "        print(f\"i = {i} ^^\")"
   ]
  },
  {
   "cell_type": "markdown",
   "metadata": {},
   "source": [
    "# Comprehensions"
   ]
  },
  {
   "cell_type": "markdown",
   "metadata": {},
   "source": [
    "_Comprehensions_ w Python zapewniają krótki i zwięzły sposób na konstruowanie nowych sekwencji takich jak, _list, set, dict_ przy użyciu wcześniej zdefiniowanych sekwencji. Python osbługuje 4 typy comprehesions: List, Dictionary, Set oraz Generator. Poniżej zostaną omówione dwa pierwsze. "
   ]
  },
  {
   "cell_type": "markdown",
   "metadata": {},
   "source": [
    "## List comprehensions"
   ]
  },
  {
   "cell_type": "markdown",
   "metadata": {},
   "source": [
    "<div class=\"alert alert-block alert-info\"> <b>INFO</b> Umożliwia w elegencki sposób tworzenie nowych list. Pozwala zapisać w jednym wyrażeniu kod który zajmuje dużo więcej miejsca. </div>"
   ]
  },
  {
   "cell_type": "markdown",
   "metadata": {},
   "source": [
    "Weźmy na przykład taką pętlę, w której w kolejnych iteracjach dodajemy nowe elementy do listy:"
   ]
  },
  {
   "cell_type": "code",
   "execution_count": 106,
   "metadata": {},
   "outputs": [
    {
     "name": "stdout",
     "output_type": "stream",
     "text": [
      "[6, 7, 8]\n"
     ]
    }
   ],
   "source": [
    "l = []\n",
    "for i in range(1, 4):\n",
    "    l.append(i+5)\n",
    "print(l)"
   ]
  },
  {
   "cell_type": "markdown",
   "metadata": {},
   "source": [
    "Można to zapisać w jednoliniowej formie:"
   ]
  },
  {
   "cell_type": "code",
   "execution_count": 105,
   "metadata": {},
   "outputs": [
    {
     "name": "stdout",
     "output_type": "stream",
     "text": [
      "[6, 7, 8]\n"
     ]
    }
   ],
   "source": [
    "l = [i+5 for i in range(1, 4)]\n",
    "print(l)"
   ]
  },
  {
   "cell_type": "markdown",
   "metadata": {},
   "source": [
    "Z dodanym warunkiem logicznym"
   ]
  },
  {
   "cell_type": "code",
   "execution_count": 101,
   "metadata": {},
   "outputs": [
    {
     "name": "stdout",
     "output_type": "stream",
     "text": [
      "[0, 7, 8]\n"
     ]
    }
   ],
   "source": [
    "l = []\n",
    "for i in [1, 2, 3]:\n",
    "    if i == 1:\n",
    "        l.append(0)\n",
    "    else:\n",
    "        l.append(i+5)\n",
    "print(l)"
   ]
  },
  {
   "cell_type": "code",
   "execution_count": 100,
   "metadata": {},
   "outputs": [
    {
     "name": "stdout",
     "output_type": "stream",
     "text": [
      "[0, 7, 8]\n"
     ]
    }
   ],
   "source": [
    "l = [i+5 if i != 1 else 0 for i in [1, 2, 3]]\n",
    "print(l)"
   ]
  },
  {
   "cell_type": "markdown",
   "metadata": {},
   "source": [
    "Czasem jednak warto się zastanowić, czy chcemy tworzyć mało czytelnego potworka, czy jednak warto zapisać te kilka linijek kodu więcej"
   ]
  },
  {
   "cell_type": "code",
   "execution_count": 103,
   "metadata": {},
   "outputs": [
    {
     "name": "stdout",
     "output_type": "stream",
     "text": [
      "[2, 8, 9, 8]\n"
     ]
    }
   ],
   "source": [
    "l = [i+5*i-i**2 if i != 1 or i > 3 else i+2*i-i**2 for i in [1, 2, 3, 4]]\n",
    "print(l)"
   ]
  },
  {
   "cell_type": "markdown",
   "metadata": {},
   "source": [
    "Przykład zastosowania: dodawanie odpowiednich elementów do siebie w dwóch listach"
   ]
  },
  {
   "cell_type": "markdown",
   "metadata": {},
   "source": [
    "Przy użyciu funkcji *range*"
   ]
  },
  {
   "cell_type": "code",
   "execution_count": 6,
   "metadata": {},
   "outputs": [
    {
     "name": "stdout",
     "output_type": "stream",
     "text": [
      "Result = [4, 6]\n"
     ]
    }
   ],
   "source": [
    "list_a = [1, 2]\n",
    "list_b = [3, 4]\n",
    "n = len(list_a)\n",
    "res = [list_a[i] + list_b[i] for i in range(n)]\n",
    "print(f\"Result = {res}\")"
   ]
  },
  {
   "cell_type": "markdown",
   "metadata": {},
   "source": [
    "Przy użyciu funkcji *zip*"
   ]
  },
  {
   "cell_type": "code",
   "execution_count": 7,
   "metadata": {},
   "outputs": [
    {
     "name": "stdout",
     "output_type": "stream",
     "text": [
      "Result = [4, 6]\n"
     ]
    }
   ],
   "source": [
    "list_a = [1, 2]\n",
    "list_b = [3, 4]\n",
    "res = [i+j for i, j in zip(list_a, list_b)]\n",
    "print(f\"Result = {res}\")"
   ]
  },
  {
   "cell_type": "markdown",
   "metadata": {},
   "source": [
    "## Dict comprehensions"
   ]
  },
  {
   "cell_type": "markdown",
   "metadata": {},
   "source": [
    "Na tej samej zasadzie możemy tworzyć słownik"
   ]
  },
  {
   "cell_type": "code",
   "execution_count": 96,
   "metadata": {},
   "outputs": [
    {
     "name": "stdout",
     "output_type": "stream",
     "text": [
      "{'a': ['a1', 'a2'], 'b': ['b1', 'b2'], 'c': ['c1', 'c2']}\n"
     ]
    }
   ],
   "source": [
    "keys = ['a', 'b', 'c']\n",
    "dict_ex = {i: [i+'1', i+'2'] for i in keys}\n",
    "print(dict_ex)"
   ]
  },
  {
   "cell_type": "markdown",
   "metadata": {},
   "source": [
    "## **Zadanie 1** "
   ]
  },
  {
   "cell_type": "markdown",
   "metadata": {},
   "source": [
    "1. Stwórz dwie krotki:\n",
    "- *key_tuple* z elementami 'a', 'b', 'c', 'd', 'e'\n",
    "- *val_tuple* z elementami 'a_value', 'b_value', 'c_value', 'd_value', 'e_value'\n",
    "2. Stwórz słownik *dict_input* gdzie kluczami są elementy *key_tuple*, a wartościami odpowiednie elementy *val_tuple*. Zrób to na dwa sposoby:\n",
    "- skorzystaj z pętli *for*\n",
    "- skorzystaj z funkcji *zip* oraz *dict comprehension*.\n",
    "3. Stwórz słownik *dict_output*, gdzie kluczami będą kolejne wartości słownika *dict_input* z tym wyjątkiem, że część *_value* zostanie zastąpiona stringiem *_key*. Natomiast wartościami w tym słowniku będą klucze słownika *dict_input*.  \n",
    "\n",
    "Rezultat:\n",
    "- dict_input: `{'a': 'a_value', 'b': 'b_value', 'c': 'c_value', 'd': 'd_value', 'e': 'e_value'}`\n",
    "- dict_output: `{'a_key': 'a', 'b_key': 'b', 'c_key': 'c', 'd_key': 'd', 'e_key': 'e'}`"
   ]
  },
  {
   "cell_type": "markdown",
   "metadata": {},
   "source": [
    "# Wbudowane funkcje"
   ]
  },
  {
   "cell_type": "markdown",
   "metadata": {},
   "source": [
    "### print"
   ]
  },
  {
   "cell_type": "markdown",
   "metadata": {},
   "source": [
    "Funkcja służąca do wyświetlania wiadomości"
   ]
  },
  {
   "cell_type": "code",
   "execution_count": null,
   "metadata": {},
   "outputs": [
    {
     "name": "stdout",
     "output_type": "stream",
     "text": [
      "Hello world!\n"
     ]
    }
   ],
   "source": [
    "print(\"Hello world!\")"
   ]
  },
  {
   "cell_type": "code",
   "execution_count": null,
   "metadata": {},
   "outputs": [
    {
     "name": "stdout",
     "output_type": "stream",
     "text": [
      "1\n",
      "i is equal to 1\n",
      "i is equal to 1\n",
      "i is equal to 1.00 \n",
      "i+2 is equal to 3\n"
     ]
    }
   ],
   "source": [
    "i = 1\n",
    "print(i)\n",
    "print(f\"i is equal to {i}\")\n",
    "print(\"i is equal to {}\".format(i))\n",
    "print(\"i is equal to {arg1:.2f} \\ni+2 is equal to {arg2:n}\".format(arg1=i, arg2=i+2))"
   ]
  },
  {
   "cell_type": "markdown",
   "metadata": {},
   "source": [
    "Typy danych przy użyciu format: https://www.w3schools.com/python/ref_string_format.asp"
   ]
  },
  {
   "cell_type": "markdown",
   "metadata": {},
   "source": [
    "### range"
   ]
  },
  {
   "cell_type": "markdown",
   "metadata": {},
   "source": [
    "Zwraca sekwencję liczb (domyślnie zaczynając od 0) rosnącą o określoną liczbę (domyślnie 1) i zatrzymującą się przed określoną liczbą. Służy do iterowania w pętlach."
   ]
  },
  {
   "cell_type": "code",
   "execution_count": null,
   "metadata": {},
   "outputs": [
    {
     "name": "stdout",
     "output_type": "stream",
     "text": [
      "0\n",
      "1\n",
      "2\n",
      "3\n",
      "4\n",
      "5\n"
     ]
    }
   ],
   "source": [
    "for i in range(6):\n",
    "    print(i)"
   ]
  },
  {
   "cell_type": "code",
   "execution_count": null,
   "metadata": {},
   "outputs": [
    {
     "name": "stdout",
     "output_type": "stream",
     "text": [
      "3\n",
      "5\n",
      "7\n"
     ]
    }
   ],
   "source": [
    "for i in range(3, 9, 2):\n",
    "    print(i)"
   ]
  },
  {
   "cell_type": "markdown",
   "metadata": {},
   "source": [
    "### len"
   ]
  },
  {
   "cell_type": "markdown",
   "metadata": {},
   "source": [
    "Zwraca długość obiektu"
   ]
  },
  {
   "cell_type": "code",
   "execution_count": null,
   "metadata": {},
   "outputs": [
    {
     "name": "stdout",
     "output_type": "stream",
     "text": [
      "Length of object [1, 2, 3] is: 3\n",
      "Length of object [1, 2, [5, 7]] is: 3\n",
      "Length of object 'string' is: 6\n"
     ]
    }
   ],
   "source": [
    "obj_ex = [1, 2, 3]\n",
    "print(\"Length of object {} is: {}\".format(obj_ex, len(obj_ex)))\n",
    "obj_ex = [1, 2, [5, 7]]\n",
    "print(\"Length of object {} is: {}\".format(obj_ex, len(obj_ex)))\n",
    "obj_ex = \"string\"\n",
    "print(\"Length of object '{}' is: {}\".format(obj_ex, len(obj_ex)))"
   ]
  },
  {
   "cell_type": "markdown",
   "metadata": {},
   "source": [
    "### min, max"
   ]
  },
  {
   "cell_type": "markdown",
   "metadata": {},
   "source": [
    "Wartość minimalna, maksymalna. Dla ciagów znaków wykonywane jest porównanie alfabetyczne."
   ]
  },
  {
   "cell_type": "code",
   "execution_count": null,
   "metadata": {},
   "outputs": [
    {
     "name": "stdout",
     "output_type": "stream",
     "text": [
      "Min of (1, 3, 7) is 1\n",
      "Max of (1, 3, 7) is 7\n",
      "Min of ('abc', 'xyz', 'abcd') is abc\n",
      "Max of ('abc', 'xyz', 'abcd') is xyz\n"
     ]
    }
   ],
   "source": [
    "print(f\"Min of {1, 3, 7} is {min(1, 3, 7)}\")\n",
    "print(f\"Max of {1, 3, 7} is {max(1, 3, 7)}\")\n",
    "print(f\"Min of {'abc', 'xyz', 'abcd'} is {min('abc', 'xyz', 'abcd')}\")\n",
    "print(f\"Max of {'abc', 'xyz', 'abcd'} is {max('abc', 'xyz', 'abcd')}\")"
   ]
  },
  {
   "cell_type": "markdown",
   "metadata": {},
   "source": [
    "### round"
   ]
  },
  {
   "cell_type": "markdown",
   "metadata": {},
   "source": [
    "Funkcja *round* zwraca liczbę zmiennoprzecinkową, która jest zaokrągloną wersją podanej liczby, z określoną liczbą miejsc po przecinku.\n",
    "\n",
    "Domyślna liczba miejsc po przecinku wynosi 0, co oznacza, że funkcja zwróci najbliższą liczbę całkowitą."
   ]
  },
  {
   "cell_type": "code",
   "execution_count": null,
   "metadata": {},
   "outputs": [
    {
     "name": "stdout",
     "output_type": "stream",
     "text": [
      "Round of 1.77513 to 3rd decimal is 1.775\n"
     ]
    }
   ],
   "source": [
    "num = 1.77513\n",
    "print(f\"Round of {num} to 3rd decimal is {round(num, 3)}\")"
   ]
  },
  {
   "cell_type": "markdown",
   "metadata": {},
   "source": [
    "Czasem jednak należy uważać na zaokrąglanie:"
   ]
  },
  {
   "cell_type": "code",
   "execution_count": 20,
   "metadata": {},
   "outputs": [
    {
     "data": {
      "text/plain": [
       "1"
      ]
     },
     "execution_count": 20,
     "metadata": {},
     "output_type": "execute_result"
    }
   ],
   "source": [
    "10 ** 0"
   ]
  },
  {
   "cell_type": "code",
   "execution_count": 24,
   "metadata": {},
   "outputs": [
    {
     "data": {
      "text/plain": [
       "10.0"
      ]
     },
     "execution_count": 24,
     "metadata": {},
     "output_type": "execute_result"
    }
   ],
   "source": [
    "import math\n",
    " \n",
    "# defining round_half_up\n",
    " \n",
    "def round_half_up(n, decimals=0):\n",
    "    multiplier = 10 ** decimals\n",
    "    return math.floor(n * multiplier + 0.5) / multiplier\n",
    "\n",
    "round_half_up(9.5)"
   ]
  },
  {
   "cell_type": "code",
   "execution_count": 11,
   "metadata": {},
   "outputs": [
    {
     "name": "stdout",
     "output_type": "stream",
     "text": [
      "Round of 20.5 to integer is 20.0\n",
      "Round of 10.5 to integer is 10.0\n"
     ]
    }
   ],
   "source": [
    "num = 10.5\n",
    "print(f\"Round of {num} to integer is {round(num)}\")\n",
    "num = 9.5\n",
    "print(f\"Round of {num} to integer is {round(num)}\")"
   ]
  },
  {
   "cell_type": "markdown",
   "metadata": {},
   "source": [
    "Czemu tak się dzieje?\n",
    "\n",
    "Sposób Pythona 3 (nazywany \"round half to even\" lub \"zaokrąglaniem bankiera\") jest obecnie uważany za standardową metodę zaokrąglania. Przy wielu obliczeniach prosta metoda \"zaokrąglaj w górę\" powoduje odchylenie danych do większych wartości, co może mieć wpływ na kolejne obliczenia."
   ]
  },
  {
   "cell_type": "markdown",
   "metadata": {},
   "source": [
    "### sum"
   ]
  },
  {
   "cell_type": "markdown",
   "metadata": {},
   "source": [
    "Funkcja *sum** zwraca liczbę, sumę wszystkich elementów w iterowalnym obiekcie."
   ]
  },
  {
   "cell_type": "code",
   "execution_count": null,
   "metadata": {},
   "outputs": [
    {
     "name": "stdout",
     "output_type": "stream",
     "text": [
      "Sum of [1, 2, 3] is 6\n",
      "Sum of range(0, 4) is 6\n",
      "Sum of (1, 2, 3) is 6\n"
     ]
    }
   ],
   "source": [
    "ex = [1, 2, 3]\n",
    "print(f\"Sum of {ex} is {sum(ex)}\")\n",
    "ex = range(4)\n",
    "print(f\"Sum of {ex} is {sum(ex)}\")\n",
    "ex = (1, 2, 3)\n",
    "print(f\"Sum of {ex} is {sum(ex)}\")"
   ]
  },
  {
   "cell_type": "markdown",
   "metadata": {},
   "source": [
    "Poniżej dwa przykłady na błędne wywołanie funkcji:"
   ]
  },
  {
   "cell_type": "code",
   "execution_count": 75,
   "metadata": {},
   "outputs": [
    {
     "ename": "TypeError",
     "evalue": "unsupported operand type(s) for +: 'int' and 'list'",
     "output_type": "error",
     "traceback": [
      "\u001b[1;31m---------------------------------------------------------------------------\u001b[0m",
      "\u001b[1;31mTypeError\u001b[0m                                 Traceback (most recent call last)",
      "\u001b[1;32m~\\AppData\\Local\\Temp\\ipykernel_20868\\1354261088.py\u001b[0m in \u001b[0;36m<module>\u001b[1;34m\u001b[0m\n\u001b[0;32m      1\u001b[0m \u001b[0mex\u001b[0m \u001b[1;33m=\u001b[0m \u001b[1;33m[\u001b[0m\u001b[1;36m1\u001b[0m\u001b[1;33m,\u001b[0m \u001b[1;36m2\u001b[0m\u001b[1;33m,\u001b[0m \u001b[1;33m[\u001b[0m\u001b[1;36m4\u001b[0m\u001b[1;33m,\u001b[0m \u001b[1;36m5\u001b[0m\u001b[1;33m]\u001b[0m\u001b[1;33m]\u001b[0m\u001b[1;33m\u001b[0m\u001b[1;33m\u001b[0m\u001b[0m\n\u001b[1;32m----> 2\u001b[1;33m \u001b[0mprint\u001b[0m\u001b[1;33m(\u001b[0m\u001b[1;34mf\"Sum of {ex} is {sum(ex)}\"\u001b[0m\u001b[1;33m)\u001b[0m\u001b[1;33m\u001b[0m\u001b[1;33m\u001b[0m\u001b[0m\n\u001b[0m",
      "\u001b[1;31mTypeError\u001b[0m: unsupported operand type(s) for +: 'int' and 'list'"
     ]
    }
   ],
   "source": [
    "ex = [1, 2, [4, 5]]\n",
    "print(f\"Sum of {ex} is {sum(ex)}\")"
   ]
  },
  {
   "cell_type": "code",
   "execution_count": 76,
   "metadata": {},
   "outputs": [
    {
     "ename": "TypeError",
     "evalue": "'int' object is not iterable",
     "output_type": "error",
     "traceback": [
      "\u001b[1;31m---------------------------------------------------------------------------\u001b[0m",
      "\u001b[1;31mTypeError\u001b[0m                                 Traceback (most recent call last)",
      "\u001b[1;32m~\\AppData\\Local\\Temp\\ipykernel_20868\\2603094807.py\u001b[0m in \u001b[0;36m<module>\u001b[1;34m\u001b[0m\n\u001b[0;32m      1\u001b[0m \u001b[0mex\u001b[0m \u001b[1;33m=\u001b[0m \u001b[1;36m17\u001b[0m\u001b[1;33m\u001b[0m\u001b[1;33m\u001b[0m\u001b[0m\n\u001b[1;32m----> 2\u001b[1;33m \u001b[0mprint\u001b[0m\u001b[1;33m(\u001b[0m\u001b[1;34mf\"Sum of {ex} is {sum(ex)}\"\u001b[0m\u001b[1;33m)\u001b[0m\u001b[1;33m\u001b[0m\u001b[1;33m\u001b[0m\u001b[0m\n\u001b[0m",
      "\u001b[1;31mTypeError\u001b[0m: 'int' object is not iterable"
     ]
    }
   ],
   "source": [
    "ex = 17\n",
    "print(f\"Sum of {ex} is {sum(ex)}\")"
   ]
  },
  {
   "cell_type": "markdown",
   "metadata": {},
   "source": [
    "W pierwszym przypadku powinno się najpierw zrobić płaską listę (np. przy użyciu list comprehension)"
   ]
  },
  {
   "cell_type": "code",
   "execution_count": 77,
   "metadata": {},
   "outputs": [
    {
     "name": "stdout",
     "output_type": "stream",
     "text": [
      "Sum of [1, 2, [4, 5]] is 12\n"
     ]
    }
   ],
   "source": [
    "ex = [1, 2, [4, 5]]\n",
    "ex_corr = [item for sublist in ex for item in (sublist if type(sublist) == list else [sublist])]\n",
    "print(f\"Sum of {ex} is {sum(ex_corr)}\")"
   ]
  },
  {
   "cell_type": "markdown",
   "metadata": {},
   "source": [
    "Przepisanie list comprehension na pętle\n",
    "```py\n",
    "ex = [1, 2, [4, 5]]\n",
    "ex_corr=[]\n",
    "for sub_element in ex:\n",
    "    if type(sub_element) == list:\n",
    "        for item in sub_element:\n",
    "            ex_corr.append(item)\n",
    "    else:\n",
    "        ex_corr.append(sub_element)\n",
    "```"
   ]
  },
  {
   "cell_type": "markdown",
   "metadata": {},
   "source": [
    "### zip"
   ]
  },
  {
   "cell_type": "markdown",
   "metadata": {},
   "source": [
    "Funkcja *zip* zwraca obiekt zip, który jest iteratorem krotek, w którym pierwszy element w każdym przekazanym iteratorze jest łączony w pary, a następnie drugi element w każdym przekazanym iteratorze jest łączony w pary itd.\n",
    "\n",
    "Jeśli przekazane iteratory mają różne długości, iterator z najmniejszą liczbą elementów decyduje o długości nowego iteratora."
   ]
  },
  {
   "cell_type": "code",
   "execution_count": null,
   "metadata": {},
   "outputs": [
    {
     "name": "stdout",
     "output_type": "stream",
     "text": [
      "1 abc\n",
      "2 zyx\n",
      "3 xyz\n"
     ]
    }
   ],
   "source": [
    "list_a = [1, 2, 3]\n",
    "list_b = ['abc', 'zyx', 'xyz']\n",
    "\n",
    "for i, j in zip(list_a, list_b):\n",
    "    print(i, j)"
   ]
  },
  {
   "cell_type": "markdown",
   "metadata": {},
   "source": [
    "### Przydatne informacje\n",
    "\n",
    "Rozpiska wbudowanych funkcji: https://www.w3schools.com/python/python_ref_functions.asp"
   ]
  },
  {
   "cell_type": "markdown",
   "metadata": {},
   "source": [
    "## Błedy oraz obsługa wyjątków"
   ]
  },
  {
   "cell_type": "markdown",
   "metadata": {},
   "source": [
    "Istnieją co najmniej dwa rodzaje błedów: *syntax errors* oraz wyjątki (*exceptions*)"
   ]
  },
  {
   "cell_type": "markdown",
   "metadata": {},
   "source": [
    "Parser powtarza błędną linię i wyświetla małą \"strzałkę\" wskazującą najwcześniejszy punkt linii, w którym wykryto błąd. Błąd jest spowodowany (lub przynajmniej wykryty) przez element poprzedzający strzałkę: w przykładzie błąd jest wykrywany w funkcji print(), ponieważ brakuje przed nią dwukropka (':'). Numer linii są wyśtwielane, aby było wiadome, gdzie szukać błędu."
   ]
  },
  {
   "cell_type": "code",
   "execution_count": 70,
   "metadata": {},
   "outputs": [
    {
     "ename": "SyntaxError",
     "evalue": "invalid syntax (2884618176.py, line 1)",
     "output_type": "error",
     "traceback": [
      "\u001b[1;36m  Cell \u001b[1;32mIn[70], line 1\u001b[1;36m\u001b[0m\n\u001b[1;33m    while True print('Hello world')\u001b[0m\n\u001b[1;37m               ^\u001b[0m\n\u001b[1;31mSyntaxError\u001b[0m\u001b[1;31m:\u001b[0m invalid syntax\n"
     ]
    }
   ],
   "source": [
    "while True print('Hello world')"
   ]
  },
  {
   "cell_type": "markdown",
   "metadata": {},
   "source": [
    "Nawet jeśli instrukcja lub wyrażenie jest poprawne składniowo, może spowodować błąd podczas próby jego wykonania. Błędy wykryte podczas wykonywania są nazywane wyjątkami."
   ]
  },
  {
   "cell_type": "code",
   "execution_count": 71,
   "metadata": {},
   "outputs": [
    {
     "ename": "ZeroDivisionError",
     "evalue": "division by zero",
     "output_type": "error",
     "traceback": [
      "\u001b[1;31m---------------------------------------------------------------------------\u001b[0m",
      "\u001b[1;31mZeroDivisionError\u001b[0m                         Traceback (most recent call last)",
      "\u001b[1;32mc:\\Users\\jsmulski\\kurs_analityk\\notebooks\\BasicsPython.ipynb Cell 146\u001b[0m line \u001b[0;36m1\n\u001b[1;32m----> <a href='vscode-notebook-cell:/c%3A/Users/jsmulski/kurs_analityk/notebooks/BasicsPython.ipynb#Y425sZmlsZQ%3D%3D?line=0'>1</a>\u001b[0m \u001b[39m10\u001b[39m \u001b[39m*\u001b[39m (\u001b[39m1\u001b[39;49m\u001b[39m/\u001b[39;49m\u001b[39m0\u001b[39;49m)\n",
      "\u001b[1;31mZeroDivisionError\u001b[0m: division by zero"
     ]
    }
   ],
   "source": [
    "10 * (1/0)"
   ]
  },
  {
   "cell_type": "code",
   "execution_count": 72,
   "metadata": {},
   "outputs": [
    {
     "ename": "TypeError",
     "evalue": "can only concatenate str (not \"int\") to str",
     "output_type": "error",
     "traceback": [
      "\u001b[1;31m---------------------------------------------------------------------------\u001b[0m",
      "\u001b[1;31mTypeError\u001b[0m                                 Traceback (most recent call last)",
      "\u001b[1;32mc:\\Users\\jsmulski\\kurs_analityk\\notebooks\\BasicsPython.ipynb Cell 147\u001b[0m line \u001b[0;36m1\n\u001b[1;32m----> <a href='vscode-notebook-cell:/c%3A/Users/jsmulski/kurs_analityk/notebooks/BasicsPython.ipynb#Y426sZmlsZQ%3D%3D?line=0'>1</a>\u001b[0m \u001b[39m'\u001b[39;49m\u001b[39m2\u001b[39;49m\u001b[39m'\u001b[39;49m \u001b[39m+\u001b[39;49m \u001b[39m2\u001b[39;49m\n",
      "\u001b[1;31mTypeError\u001b[0m: can only concatenate str (not \"int\") to str"
     ]
    }
   ],
   "source": [
    "'2' + 2"
   ]
  },
  {
   "cell_type": "markdown",
   "metadata": {},
   "source": [
    "Jak obsługiwać wyjątki? Do tego można wykorzystać składnię *Try...Except*"
   ]
  },
  {
   "cell_type": "code",
   "execution_count": 77,
   "metadata": {},
   "outputs": [
    {
     "name": "stdout",
     "output_type": "stream",
     "text": [
      "Wrong type of argument!\n",
      "5\n"
     ]
    }
   ],
   "source": [
    "list_a = [1, 2]\n",
    "list_b = ['1', 3]\n",
    "\n",
    "for i, j in zip(list_a, list_b):\n",
    "    try:\n",
    "        print(i+j)\n",
    "    except TypeError:\n",
    "        print(\"Wrong type of argument!\")"
   ]
  },
  {
   "cell_type": "code",
   "execution_count": 84,
   "metadata": {},
   "outputs": [
    {
     "name": "stdout",
     "output_type": "stream",
     "text": [
      "Error msg: unsupported operand type(s) for +: 'int' and 'str'\n",
      "5\n"
     ]
    }
   ],
   "source": [
    "list_a = [1, 2]\n",
    "list_b = ['1', 3]\n",
    "\n",
    "for i, j in zip(list_a, list_b):\n",
    "    try:\n",
    "        print(i+j)\n",
    "    except TypeError as err:\n",
    "        print(f\"Error msg: {err}\")"
   ]
  },
  {
   "cell_type": "code",
   "execution_count": 78,
   "metadata": {},
   "outputs": [
    {
     "name": "stdout",
     "output_type": "stream",
     "text": [
      "5\n"
     ]
    }
   ],
   "source": [
    "list_a = [1, 2]\n",
    "list_b = ['1', 3]\n",
    "\n",
    "for i, j in zip(list_a, list_b):\n",
    "    try:\n",
    "        print(i+j)\n",
    "    except:\n",
    "        pass"
   ]
  },
  {
   "cell_type": "markdown",
   "metadata": {},
   "source": [
    "Jak wywołać wyjątek?"
   ]
  },
  {
   "cell_type": "code",
   "execution_count": 79,
   "metadata": {},
   "outputs": [],
   "source": [
    "def fun(x):\n",
    "    if x > 5:\n",
    "        raise ValueError(\"Expected number less than or equal to 5\")\n",
    "    else:\n",
    "        print(x)"
   ]
  },
  {
   "cell_type": "code",
   "execution_count": 81,
   "metadata": {},
   "outputs": [
    {
     "name": "stdout",
     "output_type": "stream",
     "text": [
      "3\n"
     ]
    }
   ],
   "source": [
    "fun(3)"
   ]
  },
  {
   "cell_type": "code",
   "execution_count": 82,
   "metadata": {},
   "outputs": [
    {
     "ename": "ValueError",
     "evalue": "Expected number less than or equal to 5",
     "output_type": "error",
     "traceback": [
      "\u001b[1;31m---------------------------------------------------------------------------\u001b[0m",
      "\u001b[1;31mValueError\u001b[0m                                Traceback (most recent call last)",
      "\u001b[1;32mc:\\Users\\jsmulski\\kurs_analityk\\notebooks\\BasicsPython.ipynb Cell 154\u001b[0m line \u001b[0;36m1\n\u001b[1;32m----> <a href='vscode-notebook-cell:/c%3A/Users/jsmulski/kurs_analityk/notebooks/BasicsPython.ipynb#Y442sZmlsZQ%3D%3D?line=0'>1</a>\u001b[0m fun(\u001b[39m7\u001b[39;49m)\n",
      "\u001b[1;32mc:\\Users\\jsmulski\\kurs_analityk\\notebooks\\BasicsPython.ipynb Cell 154\u001b[0m line \u001b[0;36m3\n\u001b[0;32m      <a href='vscode-notebook-cell:/c%3A/Users/jsmulski/kurs_analityk/notebooks/BasicsPython.ipynb#Y442sZmlsZQ%3D%3D?line=0'>1</a>\u001b[0m \u001b[39mdef\u001b[39;00m \u001b[39mfun\u001b[39m(x):\n\u001b[0;32m      <a href='vscode-notebook-cell:/c%3A/Users/jsmulski/kurs_analityk/notebooks/BasicsPython.ipynb#Y442sZmlsZQ%3D%3D?line=1'>2</a>\u001b[0m     \u001b[39mif\u001b[39;00m x \u001b[39m>\u001b[39m \u001b[39m5\u001b[39m:\n\u001b[1;32m----> <a href='vscode-notebook-cell:/c%3A/Users/jsmulski/kurs_analityk/notebooks/BasicsPython.ipynb#Y442sZmlsZQ%3D%3D?line=2'>3</a>\u001b[0m         \u001b[39mraise\u001b[39;00m \u001b[39mValueError\u001b[39;00m(\u001b[39m\"\u001b[39m\u001b[39mExpected number less than or equal to 5\u001b[39m\u001b[39m\"\u001b[39m)\n\u001b[0;32m      <a href='vscode-notebook-cell:/c%3A/Users/jsmulski/kurs_analityk/notebooks/BasicsPython.ipynb#Y442sZmlsZQ%3D%3D?line=3'>4</a>\u001b[0m     \u001b[39melse\u001b[39;00m:\n\u001b[0;32m      <a href='vscode-notebook-cell:/c%3A/Users/jsmulski/kurs_analityk/notebooks/BasicsPython.ipynb#Y442sZmlsZQ%3D%3D?line=4'>5</a>\u001b[0m         \u001b[39mprint\u001b[39m(x)\n",
      "\u001b[1;31mValueError\u001b[0m: Expected number less than or equal to 5"
     ]
    }
   ],
   "source": [
    "fun(7)"
   ]
  },
  {
   "cell_type": "markdown",
   "metadata": {},
   "source": [
    "Przydatne informacje: https://docs.python.org/3/tutorial/errors.html\n",
    "\n",
    "Lista wyjątków i błędów: https://docs.python.org/3/library/exceptions.html"
   ]
  },
  {
   "cell_type": "markdown",
   "metadata": {},
   "source": [
    "## Funkcje"
   ]
  },
  {
   "cell_type": "markdown",
   "metadata": {},
   "source": [
    "### Podstawy"
   ]
  },
  {
   "cell_type": "markdown",
   "metadata": {},
   "source": [
    "<div class=\"alert alert-block alert-info\"> <b>INFO</b> Funkcja to blok kodu, który działa tylko wtedy, gdy zostanie wywołany. Do funkcji można przekazywać dane zwane parametrami. </div>"
   ]
  },
  {
   "cell_type": "markdown",
   "metadata": {},
   "source": [
    "Na przykład mamy za zadanie wyświetlić dwukrotność danej liczby powiększoną o 2."
   ]
  },
  {
   "cell_type": "code",
   "execution_count": 35,
   "metadata": {},
   "outputs": [],
   "source": [
    "def fun(x):\n",
    "    res = x*2+2\n",
    "    print(res)"
   ]
  },
  {
   "cell_type": "code",
   "execution_count": 36,
   "metadata": {},
   "outputs": [
    {
     "name": "stdout",
     "output_type": "stream",
     "text": [
      "2\n",
      "4\n"
     ]
    }
   ],
   "source": [
    "for i in range(2):\n",
    "    fun(i)"
   ]
  },
  {
   "cell_type": "markdown",
   "metadata": {},
   "source": [
    "W przypadku gdy chcemy dalej operować na rezultacie funkcji potrzebujemy wyrażenie **return**"
   ]
  },
  {
   "cell_type": "code",
   "execution_count": 52,
   "metadata": {},
   "outputs": [],
   "source": [
    "def fun(x):\n",
    "    res = x*2+2\n",
    "    print(res)\n",
    "    return res"
   ]
  },
  {
   "cell_type": "code",
   "execution_count": 53,
   "metadata": {},
   "outputs": [
    {
     "name": "stdout",
     "output_type": "stream",
     "text": [
      "6\n",
      "Result of function +2: 8\n"
     ]
    }
   ],
   "source": [
    "r = fun(2)\n",
    "print(f'Result of function +2: {r+2}')"
   ]
  },
  {
   "cell_type": "markdown",
   "metadata": {},
   "source": [
    "Co w przypadku jak chcemy zwrócić kilka argumentów?"
   ]
  },
  {
   "cell_type": "code",
   "execution_count": 55,
   "metadata": {},
   "outputs": [],
   "source": [
    "def fun(x):\n",
    "    res1 = x*2+2\n",
    "    res2 = x*2+3\n",
    "    return res1, res2"
   ]
  },
  {
   "cell_type": "code",
   "execution_count": 56,
   "metadata": {},
   "outputs": [
    {
     "name": "stdout",
     "output_type": "stream",
     "text": [
      "12 13\n"
     ]
    }
   ],
   "source": [
    "r1, r2 = fun(x = 5)\n",
    "print(r1, r2)"
   ]
  },
  {
   "cell_type": "code",
   "execution_count": 50,
   "metadata": {},
   "outputs": [
    {
     "name": "stdout",
     "output_type": "stream",
     "text": [
      "13\n"
     ]
    }
   ],
   "source": [
    "r = fun(5)[1]\n",
    "print(r)"
   ]
  },
  {
   "cell_type": "markdown",
   "metadata": {},
   "source": [
    "Parametr funkcji może przyjmować pewną wartość domyślną."
   ]
  },
  {
   "cell_type": "code",
   "execution_count": 87,
   "metadata": {},
   "outputs": [],
   "source": [
    "def fun(x=2):\n",
    "    res1 = x*2+2\n",
    "    res2 = x*2+3\n",
    "    return res1, res2"
   ]
  },
  {
   "cell_type": "code",
   "execution_count": 88,
   "metadata": {},
   "outputs": [
    {
     "name": "stdout",
     "output_type": "stream",
     "text": [
      "6 7\n"
     ]
    }
   ],
   "source": [
    "r1, r2 = fun()\n",
    "print(r1, r2)"
   ]
  },
  {
   "cell_type": "markdown",
   "metadata": {},
   "source": [
    "## **Zadanie 2**"
   ]
  },
  {
   "cell_type": "markdown",
   "metadata": {},
   "source": [
    "Utwórz funkcję *add_to_float*, która jako argument będzie przyjmować liczbę zmiennoprzecinkową (domyślnie równą 3.33) i na wyjściu będzie dodawać do tej liczby +2.33. Wynik powinien być zaokrąglony do dwóch miejsc po przecinku. Następnie napisz funkcję *transform_list*, która na wejściu przyjmie listę, a na wyjściu stworzy nową listę, gdzie dla każdej wartości większej od 1 z listy wejsciowej wywołana zostanie pierwsza funkcja.\n",
    "\n",
    "Sprawdź czy:\n",
    "```py\n",
    "add_to_float() == 5.66\n",
    "transform_list([1, 2.66, 3.13, 1.0001, 0.99, 2.667]) == [1, 4.99, 5.46, 3.33, 0.99, 5.0]\n",
    "```"
   ]
  },
  {
   "cell_type": "markdown",
   "metadata": {},
   "source": [
    "### Funkcja lambda"
   ]
  },
  {
   "cell_type": "markdown",
   "metadata": {},
   "source": [
    "Funkcja lambda może przyjmować dowolną liczbę argumentów, ale może mieć tylko jedno wyrażenie. Jest bardzo przydatna kiedy piszemy coś szybkiego."
   ]
  },
  {
   "cell_type": "code",
   "execution_count": 44,
   "metadata": {},
   "outputs": [],
   "source": [
    "fun = lambda x: x*2+2"
   ]
  },
  {
   "cell_type": "code",
   "execution_count": 45,
   "metadata": {},
   "outputs": [
    {
     "name": "stdout",
     "output_type": "stream",
     "text": [
      "2\n",
      "4\n"
     ]
    }
   ],
   "source": [
    "for i in range(2):\n",
    "    print(fun(i))"
   ]
  },
  {
   "cell_type": "markdown",
   "metadata": {},
   "source": [
    "Może także przyjmować wiele argumentów"
   ]
  },
  {
   "cell_type": "code",
   "execution_count": 46,
   "metadata": {},
   "outputs": [
    {
     "name": "stdout",
     "output_type": "stream",
     "text": [
      "13\n"
     ]
    }
   ],
   "source": [
    "fun = lambda a, b, c : a + b + c\n",
    "print(fun(5, 6, 2))"
   ]
  },
  {
   "cell_type": "markdown",
   "metadata": {},
   "source": [
    "Funkcję lambda można umieszczać wewnątrz zwykłej funkcji"
   ]
  },
  {
   "cell_type": "code",
   "execution_count": 54,
   "metadata": {},
   "outputs": [
    {
     "name": "stdout",
     "output_type": "stream",
     "text": [
      "22\n",
      "33\n"
     ]
    }
   ],
   "source": [
    "def myfunc(n):\n",
    "    return lambda a: a * n\n",
    "\n",
    "mydoubler = myfunc(2)\n",
    "mytripler = myfunc(3)\n",
    "\n",
    "print(mydoubler(11))\n",
    "print(mytripler(11))"
   ]
  },
  {
   "cell_type": "markdown",
   "metadata": {},
   "source": [
    "## **Zadanie 3**"
   ]
  },
  {
   "cell_type": "markdown",
   "metadata": {},
   "source": [
    "Powtórz zadanie 2 z jedna zmiana - na wyjsciu dostaniemy tylko te wartosci z pierwszej listy ktore poczatkowe byly wieksze od 1. Do tego celu wykorzystaj list comprehesion oraz instrukcje warunkowa, a takze funkcje lambda."
   ]
  },
  {
   "cell_type": "markdown",
   "metadata": {},
   "source": [
    "### args, kwargs"
   ]
  },
  {
   "cell_type": "markdown",
   "metadata": {},
   "source": [
    "Zdarzyć się może, że nie będziemy w stanie określić ile argumentów nasza funkcja ma przyjąć.\n",
    "\n",
    "Dodatkowo dla standardowych funkcji czasam zamiast wywoływać funkcję argumentami wprost łatwiej jest podać listę lub słownik."
   ]
  },
  {
   "cell_type": "markdown",
   "metadata": {},
   "source": [
    "#### args"
   ]
  },
  {
   "cell_type": "markdown",
   "metadata": {},
   "source": [
    "Specjalna składnia **args* w definicjach funkcji w Pythonie jest używana do przekazywania zmiennej liczby argumentów do funkcji. Służy do przekazywania listy argumentów o zmiennej długości bez słów kluczowych."
   ]
  },
  {
   "cell_type": "code",
   "execution_count": 25,
   "metadata": {},
   "outputs": [
    {
     "name": "stdout",
     "output_type": "stream",
     "text": [
      "Hello\n",
      "World!\n",
      ":)\n"
     ]
    }
   ],
   "source": [
    "def fun(*argv):\n",
    "    for arg in argv:\n",
    "        print(arg)\n",
    "        \n",
    "fun('Hello', 'World!', ':)')"
   ]
  },
  {
   "cell_type": "markdown",
   "metadata": {},
   "source": [
    "#### kwargs"
   ]
  },
  {
   "cell_type": "markdown",
   "metadata": {},
   "source": [
    "Specjalna składnia ** *kwargs* w definicjach funkcji w Pythonie jest używana do przekazywania listy argumentów wraz z ich nazwą. Używamy nazwy kwargs z podwójną gwiazdką."
   ]
  },
  {
   "cell_type": "code",
   "execution_count": 65,
   "metadata": {},
   "outputs": [
    {
     "name": "stdout",
     "output_type": "stream",
     "text": [
      "first == Hello\n",
      "mid == World!\n",
      "last == :)\n"
     ]
    }
   ],
   "source": [
    "def fun(**kwargs):\n",
    "    for key, value in kwargs.items():\n",
    "        print(\"%s == %s\" % (key, value))\n",
    "    \n",
    "fun(first='Hello', mid='World!', last=':)')"
   ]
  },
  {
   "cell_type": "markdown",
   "metadata": {},
   "source": [
    "Wywoływanie standardowej funkcji przy pomocy args i kwargs"
   ]
  },
  {
   "cell_type": "code",
   "execution_count": 78,
   "metadata": {},
   "outputs": [
    {
     "name": "stdout",
     "output_type": "stream",
     "text": [
      "Normal\n",
      "1 2 3\n",
      "Args\n",
      "1 2 3\n",
      "Kwargs\n",
      "1 2 3\n"
     ]
    }
   ],
   "source": [
    "def fun(param1, param2, param3):\n",
    "    print(param1, param2, param3)\n",
    "\n",
    "print(\"Normal\")\n",
    "fun(1, 2, 3)\n",
    "args = [1, 2, 3]\n",
    "print(\"Args\")\n",
    "fun(*args)\n",
    "print(\"Kwargs\")\n",
    "kwargs = {'param1': 1, 'param2': 2, 'param3': 3}\n",
    "fun(**kwargs)"
   ]
  },
  {
   "cell_type": "markdown",
   "metadata": {},
   "source": [
    "### Docstring"
   ]
  },
  {
   "cell_type": "markdown",
   "metadata": {},
   "source": [
    "Funkcje są często bardziej skomplikowane i nie od razu jasne jest co dana funkcja robi. Dobrą praktyką jest pisanie docstringów, czyli informacji co dana funkcja robi, co przyjmuje jako argumenty, co zwraca. Są różne praktyki pisania docstringów (niżej podlinkowane zostały standardowe metody)."
   ]
  },
  {
   "cell_type": "code",
   "execution_count": 66,
   "metadata": {},
   "outputs": [],
   "source": [
    "def fun_pow(x, n):\n",
    "    \"\"\"\n",
    "    Calculate the result of raising a number to a given power.\n",
    "\n",
    "    :param float x: The base number.\n",
    "    :param int n: The exponent to which 'x' will be raised.\n",
    "    :return: The result of 'x' raised to the power of 'n'.\n",
    "    :rtype: float\n",
    "\n",
    "    :Example:\n",
    "    >>> fun_pow(2, 3)\n",
    "    8.0\n",
    "    >>> fun_pow(3, 4)\n",
    "    81.0\n",
    "    \"\"\"\n",
    "    return x ** n"
   ]
  },
  {
   "cell_type": "markdown",
   "metadata": {},
   "source": [
    "Przydatne informacje: https://www.geeksforgeeks.org/python-docstrings/"
   ]
  },
  {
   "cell_type": "markdown",
   "metadata": {},
   "source": [
    "W swoich funkcjach warto dodać jeszcze jedną rzecz. Mianowicie jakiego typu zmiennych się spodziewamy i jakiego typu spodziewamy się na wyjściu."
   ]
  },
  {
   "cell_type": "code",
   "execution_count": 69,
   "metadata": {},
   "outputs": [],
   "source": [
    "def fun_pow(x:float, n:int)->float:\n",
    "    \"\"\"\n",
    "    Calculate the result of raising a number to a given power.\n",
    "\n",
    "    :param float x: The base number.\n",
    "    :param int n: The exponent to which 'x' will be raised.\n",
    "    :return: The result of 'x' raised to the power of 'n'.\n",
    "    :rtype: float\n",
    "\n",
    "    :Example:\n",
    "    >>> fun_pow(2, 3)\n",
    "    8.0\n",
    "    >>> fun_pow(3, 4)\n",
    "    81.0\n",
    "    \"\"\"\n",
    "    return x ** n"
   ]
  },
  {
   "cell_type": "markdown",
   "metadata": {},
   "source": [
    "Wtedy w trakcie pisania funkcji nawet jeżeli nie pamiętamy co ona robi to szybko sobie przypomnimy:\n",
    "\n",
    "![Alt text](img/tips.png)"
   ]
  },
  {
   "cell_type": "markdown",
   "metadata": {},
   "source": [
    "# User input"
   ]
  },
  {
   "cell_type": "markdown",
   "metadata": {},
   "source": [
    "Przydatnym elementem w trakcie pisania kodu może okazać się polecenie *input*. Daje to możliwość wpływu uzytkownika na wykonywane wyrażenie. "
   ]
  },
  {
   "cell_type": "markdown",
   "metadata": {},
   "source": [
    "#### **Przykład 1**"
   ]
  },
  {
   "cell_type": "code",
   "execution_count": 33,
   "metadata": {},
   "outputs": [
    {
     "name": "stdout",
     "output_type": "stream",
     "text": [
      "Enter username: piotr\n"
     ]
    },
    {
     "name": "stdout",
     "output_type": "stream",
     "text": [
      "Username is: Piotr\n"
     ]
    }
   ],
   "source": [
    "username = input(\"Enter username:\")\n",
    "new_username = username.capitalize()\n",
    "print(\"Username is: \" + new_username)"
   ]
  },
  {
   "cell_type": "markdown",
   "metadata": {},
   "source": [
    "#### **Przykład 2**"
   ]
  },
  {
   "cell_type": "code",
   "execution_count": 59,
   "metadata": {},
   "outputs": [],
   "source": [
    "def demandB3W(speed_of_sales_list: list[float], days_of_coverage: int):\n",
    "    return [round(speed_of_sales * days_of_coverage, 0) for speed_of_sales in speed_of_sales_list]"
   ]
  },
  {
   "cell_type": "code",
   "execution_count": 60,
   "metadata": {},
   "outputs": [
    {
     "name": "stdout",
     "output_type": "stream",
     "text": [
      "Enter Days of Coverage value: 25\n"
     ]
    },
    {
     "name": "stdout",
     "output_type": "stream",
     "text": [
      "Demand B3W: [28.0, 24.0, 11.0]\n"
     ]
    }
   ],
   "source": [
    "sos = [1.12, 0.98, 0.45]\n",
    "doc = int(input(\"Enter Days of Coverage value:\"))\n",
    "demand = demandB3W(sos, doc)\n",
    "print(f\"Demand B3W: {demand}\")"
   ]
  },
  {
   "cell_type": "markdown",
   "metadata": {},
   "source": [
    "#### **Przykład 3**"
   ]
  },
  {
   "cell_type": "code",
   "execution_count": 56,
   "metadata": {},
   "outputs": [],
   "source": [
    "def demand(speed_of_sales: float, days_of_coverage: int):\n",
    "    return round(speed_of_sales * days_of_coverage, 0)"
   ]
  },
  {
   "cell_type": "code",
   "execution_count": 57,
   "metadata": {},
   "outputs": [
    {
     "name": "stdout",
     "output_type": "stream",
     "text": [
      "Enter Speed Of Sales 0.33\n",
      "Enter Days of Coverage value: 10\n"
     ]
    },
    {
     "name": "stdout",
     "output_type": "stream",
     "text": [
      "Demand: 3.0\n"
     ]
    }
   ],
   "source": [
    "sos = float(input(\"Enter Speed Of Sales\"))\n",
    "doc = int(input(\"Enter Days of Coverage value:\"))\n",
    "demand = demand(sos, doc)\n",
    "print(f\"Demand: {demand}\")"
   ]
  }
 ],
 "metadata": {
  "kernelspec": {
   "display_name": "Python 3 (ipykernel)",
   "language": "python",
   "name": "python3"
  },
  "language_info": {
   "codemirror_mode": {
    "name": "ipython",
    "version": 3
   },
   "file_extension": ".py",
   "mimetype": "text/x-python",
   "name": "python",
   "nbconvert_exporter": "python",
   "pygments_lexer": "ipython3",
   "version": "3.12.3"
  }
 },
 "nbformat": 4,
 "nbformat_minor": 4
}