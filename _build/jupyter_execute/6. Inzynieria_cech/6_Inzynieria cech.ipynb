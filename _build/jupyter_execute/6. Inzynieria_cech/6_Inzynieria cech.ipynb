{
 "cells": [
  {
   "cell_type": "markdown",
   "metadata": {},
   "source": [
    "# Inżynieria cech"
   ]
  },
  {
   "cell_type": "markdown",
   "metadata": {},
   "source": [
    "<div class=\"alert alert-block alert-success\">\n",
    "<b>Definicja</b> \n",
    "\n",
    "<b>Feature Engineering</b> polega na przekształcaniu surowych danych w cechy użyteczne w procesie modelowania. \n",
    "</div>"
   ]
  },
  {
   "cell_type": "markdown",
   "metadata": {},
   "source": [
    "<div class=\"alert alert-block alert-info\">\n",
    "<b>Info</b> \n",
    "\n",
    "Tworzenie zmiennych predykcyjnych zawsze powinno opierać się przede wszystkim na zrozumieniu danych i wiedzy biznesowej związanej z danym problemem. Istnieje jednak kilka standardowych technik, które można stosować do tworzenia cech w większości problemów, można tu wyróżnić:\n",
    "- przekształcanie zmiennych kategorycznych\n",
    "- zmienne na podstawie cech z daty\n",
    "- zmienne powstałe przez przesunięcie w czasie\n",
    "- transformacje zmiennych numerycznych\n",
    "- zmienne interakcji\n",
    "</div>"
   ]
  },
  {
   "cell_type": "markdown",
   "metadata": {},
   "source": [
    "<div class=\"alert alert-block alert-danger\">\n",
    "<b>Uwaga!</b> \n",
    "    \n",
    "<b>Feature Engineering</b> stanowi jeden z ważniejszych etapów w procesie budowy uczenia maszynowego, dlatego należy mu poświęcić dużo uwagi. Często można uzyskać znacznie lepsze wyniki mając prosty model oparty na cechach predykcyjnych dobrze oddających naturę badanego zjawiska niż budując wyrafinowany model w oparciu o zbyt wąski zbiór zmiennych.\n",
    "</div>"
   ]
  },
  {
   "cell_type": "markdown",
   "metadata": {},
   "source": [
    "# Tworzenie przykładowych zbiorów danych"
   ]
  },
  {
   "cell_type": "markdown",
   "metadata": {},
   "source": [
    "Zaprezentujemy tutaj 2 przykładowe zbiory danych o różnym charakterze oraz przykłady zmiennych predykcyjnych, które można wygenerować na ich podstawie"
   ]
  },
  {
   "cell_type": "code",
   "execution_count": 1,
   "metadata": {
    "ExecuteTime": {
     "end_time": "2021-10-13T07:15:51.187621Z",
     "start_time": "2021-10-13T07:15:40.687595Z"
    }
   },
   "outputs": [],
   "source": [
    "import pandas as pd\n",
    "import numpy as np\n",
    "import matplotlib.pyplot as plt"
   ]
  },
  {
   "cell_type": "code",
   "execution_count": 2,
   "metadata": {
    "ExecuteTime": {
     "end_time": "2021-10-13T07:15:51.344602Z",
     "start_time": "2021-10-13T07:15:51.332608Z"
    }
   },
   "outputs": [],
   "source": [
    "def generateIceCreamSalesData(month_coef=10000, week_coef=1000, day_coef=100, random_coef =10000):\n",
    "    dates = pd.date_range(start=\"2018-01-01\", end=\"2020-12-31\", freq =\"D\")\n",
    "    df = pd.DataFrame(dates, columns=[\"SalesDate\"])\n",
    "    df[\"Month\"] = df.SalesDate.dt.month\n",
    "    df[\"Week\"] = df.SalesDate.dt.isocalendar().week\n",
    "    df[\"WeekDay\"] = df.SalesDate.dt.dayofweek+1\n",
    "    df[\"IceCreamSales\"] = (-1*np.power(df.Month-6,2)+np.power(6,2))*month_coef + (-1*np.power(df.Week-27,2)+np.power(27,2))*week_coef +df.WeekDay*day_coef +random_coef * np.random.randint(low =1,high =10, size=len(df))\n",
    "    return df.loc[:,[\"SalesDate\",\"IceCreamSales\"]]"
   ]
  },
  {
   "cell_type": "code",
   "execution_count": 3,
   "metadata": {
    "ExecuteTime": {
     "end_time": "2021-10-13T07:15:51.668480Z",
     "start_time": "2021-10-13T07:15:51.471482Z"
    }
   },
   "outputs": [
    {
     "data": {
      "text/html": [
       "<div>\n",
       "<style scoped>\n",
       "    .dataframe tbody tr th:only-of-type {\n",
       "        vertical-align: middle;\n",
       "    }\n",
       "\n",
       "    .dataframe tbody tr th {\n",
       "        vertical-align: top;\n",
       "    }\n",
       "\n",
       "    .dataframe thead th {\n",
       "        text-align: right;\n",
       "    }\n",
       "</style>\n",
       "<table border=\"1\" class=\"dataframe\">\n",
       "  <thead>\n",
       "    <tr style=\"text-align: right;\">\n",
       "      <th></th>\n",
       "      <th>SalesDate</th>\n",
       "      <th>IceCreamSales</th>\n",
       "    </tr>\n",
       "  </thead>\n",
       "  <tbody>\n",
       "    <tr>\n",
       "      <th>0</th>\n",
       "      <td>2018-01-01</td>\n",
       "      <td>173100</td>\n",
       "    </tr>\n",
       "    <tr>\n",
       "      <th>1</th>\n",
       "      <td>2018-01-02</td>\n",
       "      <td>203200</td>\n",
       "    </tr>\n",
       "    <tr>\n",
       "      <th>2</th>\n",
       "      <td>2018-01-03</td>\n",
       "      <td>213300</td>\n",
       "    </tr>\n",
       "    <tr>\n",
       "      <th>3</th>\n",
       "      <td>2018-01-04</td>\n",
       "      <td>223400</td>\n",
       "    </tr>\n",
       "    <tr>\n",
       "      <th>4</th>\n",
       "      <td>2018-01-05</td>\n",
       "      <td>253500</td>\n",
       "    </tr>\n",
       "    <tr>\n",
       "      <th>...</th>\n",
       "      <td>...</td>\n",
       "      <td>...</td>\n",
       "    </tr>\n",
       "    <tr>\n",
       "      <th>1091</th>\n",
       "      <td>2020-12-27</td>\n",
       "      <td>174700</td>\n",
       "    </tr>\n",
       "    <tr>\n",
       "      <th>1092</th>\n",
       "      <td>2020-12-28</td>\n",
       "      <td>123100</td>\n",
       "    </tr>\n",
       "    <tr>\n",
       "      <th>1093</th>\n",
       "      <td>2020-12-29</td>\n",
       "      <td>103200</td>\n",
       "    </tr>\n",
       "    <tr>\n",
       "      <th>1094</th>\n",
       "      <td>2020-12-30</td>\n",
       "      <td>143300</td>\n",
       "    </tr>\n",
       "    <tr>\n",
       "      <th>1095</th>\n",
       "      <td>2020-12-31</td>\n",
       "      <td>83400</td>\n",
       "    </tr>\n",
       "  </tbody>\n",
       "</table>\n",
       "<p>1096 rows × 2 columns</p>\n",
       "</div>"
      ],
      "text/plain": [
       "      SalesDate  IceCreamSales\n",
       "0    2018-01-01         173100\n",
       "1    2018-01-02         203200\n",
       "2    2018-01-03         213300\n",
       "3    2018-01-04         223400\n",
       "4    2018-01-05         253500\n",
       "...         ...            ...\n",
       "1091 2020-12-27         174700\n",
       "1092 2020-12-28         123100\n",
       "1093 2020-12-29         103200\n",
       "1094 2020-12-30         143300\n",
       "1095 2020-12-31          83400\n",
       "\n",
       "[1096 rows x 2 columns]"
      ]
     },
     "execution_count": 3,
     "metadata": {},
     "output_type": "execute_result"
    }
   ],
   "source": [
    "IceCream_df = generateIceCreamSalesData()\n",
    "IceCream_df"
   ]
  },
  {
   "cell_type": "code",
   "execution_count": 4,
   "metadata": {
    "ExecuteTime": {
     "end_time": "2021-10-13T07:15:51.898539Z",
     "start_time": "2021-10-13T07:15:51.872481Z"
    }
   },
   "outputs": [],
   "source": [
    "def generate_used_cars_data(len_df =1000):\n",
    "    conditions ={\"very_bad\":1,\"bad\":2,\"medium\":3,\"good\":4,\"very_good\":5}\n",
    "    brands =[\"Fiat\",\"Renault\",\"VW\", \"Seat\", \"Skoda\",\"Toyota\", \"Audi\",\"BMW\",\"Mercedes\", \"Bugatti\"]\n",
    "    standard_brands = [\"Fiat\",\"Renault\",\"VW\", \"Seat\", \"Skoda\",\"Toyota\"]\n",
    "    premium_brands = [\"Audi\",\"BMW\",\"Mercedes\"]\n",
    "    luxury_brands = [\"Bugatti\"]\n",
    "    dict_data ={\"condition\":np.random.choice(list(conditions.keys()),size=len_df, p = [0.05, 0.15, 0.3, 0.3,0.2 ]),\n",
    "                \"brand\":np.random.choice(brands,size=len_df, p=[0.1]*10 ),\n",
    "                \"year_manufactured\":np.random.randint(1950,2020,size =len_df)\n",
    "               }\n",
    "    df = pd.DataFrame(dict_data)\n",
    "    df[\"age\"] =2021- df.year_manufactured\n",
    "    df[\"mileage\"] = df.age *np.random.randint(100,10000, len_df)+np.random.randint(100,10000, len_df)\n",
    "    \n",
    "    df[\"selling_price\"] = 100000*df[\"brand\"].isin(standard_brands)+300000*df[\"brand\"].isin(premium_brands)+600000*df[\"brand\"].isin(luxury_brands)\n",
    "    df[\"selling_price\"] /= np.log1p(df.age)+np.log1p(df.mileage)\n",
    "    df[\"condition_num\"] = df.condition.map(lambda x:conditions[x])\n",
    "    df[\"selling_price\"] *=  np.log1p(df[\"condition_num\"])\n",
    "    df.loc[(df[\"brand\"].isin(luxury_brands))&(df.year_manufactured<=1970)&(df[\"condition_num\"]>3),\"selling_price\"] *=\\\n",
    "    np.log1p(df.loc[(df[\"brand\"].isin(luxury_brands))&(df.year_manufactured<=1970)&(df[\"condition_num\"]>3),\"age\"])\n",
    "    df[\"selling_price\"] = np.round(df[\"selling_price\"])\n",
    "    return df.loc[:,[\"selling_price\",\"condition\",\"mileage\",\"brand\",\"year_manufactured\"]]"
   ]
  },
  {
   "cell_type": "code",
   "execution_count": 5,
   "metadata": {
    "ExecuteTime": {
     "end_time": "2021-10-13T07:15:52.225195Z",
     "start_time": "2021-10-13T07:15:52.139106Z"
    }
   },
   "outputs": [
    {
     "data": {
      "text/html": [
       "<div>\n",
       "<style scoped>\n",
       "    .dataframe tbody tr th:only-of-type {\n",
       "        vertical-align: middle;\n",
       "    }\n",
       "\n",
       "    .dataframe tbody tr th {\n",
       "        vertical-align: top;\n",
       "    }\n",
       "\n",
       "    .dataframe thead th {\n",
       "        text-align: right;\n",
       "    }\n",
       "</style>\n",
       "<table border=\"1\" class=\"dataframe\">\n",
       "  <thead>\n",
       "    <tr style=\"text-align: right;\">\n",
       "      <th></th>\n",
       "      <th>selling_price</th>\n",
       "      <th>condition</th>\n",
       "      <th>mileage</th>\n",
       "      <th>brand</th>\n",
       "      <th>year_manufactured</th>\n",
       "    </tr>\n",
       "  </thead>\n",
       "  <tbody>\n",
       "    <tr>\n",
       "      <th>0</th>\n",
       "      <td>8655.0</td>\n",
       "      <td>medium</td>\n",
       "      <td>170639</td>\n",
       "      <td>VW</td>\n",
       "      <td>1969</td>\n",
       "    </tr>\n",
       "    <tr>\n",
       "      <th>1</th>\n",
       "      <td>32525.0</td>\n",
       "      <td>very_good</td>\n",
       "      <td>221288</td>\n",
       "      <td>Mercedes</td>\n",
       "      <td>1954</td>\n",
       "    </tr>\n",
       "    <tr>\n",
       "      <th>2</th>\n",
       "      <td>49170.0</td>\n",
       "      <td>medium</td>\n",
       "      <td>352612</td>\n",
       "      <td>Bugatti</td>\n",
       "      <td>1959</td>\n",
       "    </tr>\n",
       "    <tr>\n",
       "      <th>3</th>\n",
       "      <td>9567.0</td>\n",
       "      <td>good</td>\n",
       "      <td>421537</td>\n",
       "      <td>Seat</td>\n",
       "      <td>1974</td>\n",
       "    </tr>\n",
       "    <tr>\n",
       "      <th>4</th>\n",
       "      <td>27971.0</td>\n",
       "      <td>good</td>\n",
       "      <td>523044</td>\n",
       "      <td>Mercedes</td>\n",
       "      <td>1962</td>\n",
       "    </tr>\n",
       "    <tr>\n",
       "      <th>...</th>\n",
       "      <td>...</td>\n",
       "      <td>...</td>\n",
       "      <td>...</td>\n",
       "      <td>...</td>\n",
       "      <td>...</td>\n",
       "    </tr>\n",
       "    <tr>\n",
       "      <th>995</th>\n",
       "      <td>8410.0</td>\n",
       "      <td>medium</td>\n",
       "      <td>257487</td>\n",
       "      <td>Toyota</td>\n",
       "      <td>1966</td>\n",
       "    </tr>\n",
       "    <tr>\n",
       "      <th>996</th>\n",
       "      <td>10278.0</td>\n",
       "      <td>good</td>\n",
       "      <td>90302</td>\n",
       "      <td>VW</td>\n",
       "      <td>1952</td>\n",
       "    </tr>\n",
       "    <tr>\n",
       "      <th>997</th>\n",
       "      <td>35037.0</td>\n",
       "      <td>good</td>\n",
       "      <td>28405</td>\n",
       "      <td>Audi</td>\n",
       "      <td>1988</td>\n",
       "    </tr>\n",
       "    <tr>\n",
       "      <th>998</th>\n",
       "      <td>9633.0</td>\n",
       "      <td>good</td>\n",
       "      <td>281706</td>\n",
       "      <td>Seat</td>\n",
       "      <td>1958</td>\n",
       "    </tr>\n",
       "    <tr>\n",
       "      <th>999</th>\n",
       "      <td>6525.0</td>\n",
       "      <td>bad</td>\n",
       "      <td>394407</td>\n",
       "      <td>Fiat</td>\n",
       "      <td>1970</td>\n",
       "    </tr>\n",
       "  </tbody>\n",
       "</table>\n",
       "<p>1000 rows × 5 columns</p>\n",
       "</div>"
      ],
      "text/plain": [
       "     selling_price  condition  mileage     brand  year_manufactured\n",
       "0           8655.0     medium   170639        VW               1969\n",
       "1          32525.0  very_good   221288  Mercedes               1954\n",
       "2          49170.0     medium   352612   Bugatti               1959\n",
       "3           9567.0       good   421537      Seat               1974\n",
       "4          27971.0       good   523044  Mercedes               1962\n",
       "..             ...        ...      ...       ...                ...\n",
       "995         8410.0     medium   257487    Toyota               1966\n",
       "996        10278.0       good    90302        VW               1952\n",
       "997        35037.0       good    28405      Audi               1988\n",
       "998         9633.0       good   281706      Seat               1958\n",
       "999         6525.0        bad   394407      Fiat               1970\n",
       "\n",
       "[1000 rows x 5 columns]"
      ]
     },
     "execution_count": 5,
     "metadata": {},
     "output_type": "execute_result"
    }
   ],
   "source": [
    "UsedCars_df =generate_used_cars_data()\n",
    "UsedCars_df"
   ]
  },
  {
   "cell_type": "markdown",
   "metadata": {},
   "source": [
    "# Cechy tworzone na podstawie danych czasowych"
   ]
  },
  {
   "cell_type": "markdown",
   "metadata": {},
   "source": [
    "Pierwszy zbiór danych nazwany tutaj IceCream_df de facto ma charakter szeregu czasowego i patrząc na poniższy wykres mógłby być z powodzeniem przewidywany dedykowanymi metodami do predykcji szeregów czasowych, jednak dla celów pokazania tworzenia zmiennych na podstawie danych o charakterze czasowym potraktujemy to zagadnienie jako problem regresyjny, w którym naszą zmienną celu będzie IceCreamSales."
   ]
  },
  {
   "cell_type": "code",
   "execution_count": 6,
   "metadata": {
    "ExecuteTime": {
     "end_time": "2021-10-13T07:15:53.756282Z",
     "start_time": "2021-10-13T07:15:52.570422Z"
    }
   },
   "outputs": [
    {
     "data": {
      "text/plain": [
       "<AxesSubplot:title={'center':'IceCream Sales'}, xlabel='SalesDate'>"
      ]
     },
     "execution_count": 6,
     "metadata": {},
     "output_type": "execute_result"
    },
    {
     "data": {
      "image/png": "[encoded data removed]",
      "text/plain": [
       "<Figure size 1080x648 with 1 Axes>"
      ]
     },
     "metadata": {
      "filenames": {
       "image/png": "C:\\Users\\kazim\\book\\pg\\_build\\jupyter_execute\\6. Inzynieria_cech\\6_Inzynieria cech_13_1.png"
      },
      "needs_background": "light"
     },
     "output_type": "display_data"
    }
   ],
   "source": [
    "IceCream_df.set_index(\"SalesDate\").plot(figsize=(15,9), title=\"IceCream Sales\")"
   ]
  },
  {
   "cell_type": "markdown",
   "metadata": {},
   "source": [
    "Wyraźnie widać tutaj, że sprzedaż lodów ma silnie sezonowy charakter, stąd cechy wyciągnięte z daty powinny znacznie ułatwić dobrą predykcję. Funkcję generującą takie cechy zaprezentowano poniżej:"
   ]
  },
  {
   "cell_type": "code",
   "execution_count": 7,
   "metadata": {
    "ExecuteTime": {
     "end_time": "2021-10-13T07:15:54.203412Z",
     "start_time": "2021-10-13T07:15:54.184414Z"
    }
   },
   "outputs": [],
   "source": [
    "def extract_date_features(df, date_column):\n",
    "    df_temp = df.copy()\n",
    "    df_temp[date_column + 'Quarter'] = df_temp[date_column].dt.quarter\n",
    "    df_temp[date_column + 'Month'] = df_temp[date_column].dt.month\n",
    "    df_temp[date_column + 'Week'] = df_temp[date_column].dt.isocalendar().week\n",
    "    # poniżej zwracany rozkład to 0-6, dodajemy 1 aby przejsc na bardziej intuicyjne wrtości 1-7\n",
    "    df_temp[date_column + 'WeekDay'] = df_temp[date_column].dt.dayofweek + 1 \n",
    "    df_temp[date_column + 'YearDay'] = df_temp[date_column].dt.dayofyear\n",
    "    df_temp[date_column + 'isWeekend'] = np.where(df_temp[date_column + 'WeekDay']>5,1,0)\n",
    "    return df_temp"
   ]
  },
  {
   "cell_type": "code",
   "execution_count": 8,
   "metadata": {
    "ExecuteTime": {
     "end_time": "2021-10-13T07:15:54.836613Z",
     "start_time": "2021-10-13T07:15:54.737426Z"
    }
   },
   "outputs": [
    {
     "data": {
      "text/html": [
       "<div>\n",
       "<style scoped>\n",
       "    .dataframe tbody tr th:only-of-type {\n",
       "        vertical-align: middle;\n",
       "    }\n",
       "\n",
       "    .dataframe tbody tr th {\n",
       "        vertical-align: top;\n",
       "    }\n",
       "\n",
       "    .dataframe thead th {\n",
       "        text-align: right;\n",
       "    }\n",
       "</style>\n",
       "<table border=\"1\" class=\"dataframe\">\n",
       "  <thead>\n",
       "    <tr style=\"text-align: right;\">\n",
       "      <th></th>\n",
       "      <th>SalesDate</th>\n",
       "      <th>IceCreamSales</th>\n",
       "      <th>SalesDateQuarter</th>\n",
       "      <th>SalesDateMonth</th>\n",
       "      <th>SalesDateWeek</th>\n",
       "      <th>SalesDateWeekDay</th>\n",
       "      <th>SalesDateYearDay</th>\n",
       "      <th>SalesDateisWeekend</th>\n",
       "    </tr>\n",
       "  </thead>\n",
       "  <tbody>\n",
       "    <tr>\n",
       "      <th>0</th>\n",
       "      <td>2018-01-01</td>\n",
       "      <td>173100</td>\n",
       "      <td>1</td>\n",
       "      <td>1</td>\n",
       "      <td>1</td>\n",
       "      <td>1</td>\n",
       "      <td>1</td>\n",
       "      <td>0</td>\n",
       "    </tr>\n",
       "    <tr>\n",
       "      <th>1</th>\n",
       "      <td>2018-01-02</td>\n",
       "      <td>203200</td>\n",
       "      <td>1</td>\n",
       "      <td>1</td>\n",
       "      <td>1</td>\n",
       "      <td>2</td>\n",
       "      <td>2</td>\n",
       "      <td>0</td>\n",
       "    </tr>\n",
       "    <tr>\n",
       "      <th>2</th>\n",
       "      <td>2018-01-03</td>\n",
       "      <td>213300</td>\n",
       "      <td>1</td>\n",
       "      <td>1</td>\n",
       "      <td>1</td>\n",
       "      <td>3</td>\n",
       "      <td>3</td>\n",
       "      <td>0</td>\n",
       "    </tr>\n",
       "    <tr>\n",
       "      <th>3</th>\n",
       "      <td>2018-01-04</td>\n",
       "      <td>223400</td>\n",
       "      <td>1</td>\n",
       "      <td>1</td>\n",
       "      <td>1</td>\n",
       "      <td>4</td>\n",
       "      <td>4</td>\n",
       "      <td>0</td>\n",
       "    </tr>\n",
       "    <tr>\n",
       "      <th>4</th>\n",
       "      <td>2018-01-05</td>\n",
       "      <td>253500</td>\n",
       "      <td>1</td>\n",
       "      <td>1</td>\n",
       "      <td>1</td>\n",
       "      <td>5</td>\n",
       "      <td>5</td>\n",
       "      <td>0</td>\n",
       "    </tr>\n",
       "    <tr>\n",
       "      <th>...</th>\n",
       "      <td>...</td>\n",
       "      <td>...</td>\n",
       "      <td>...</td>\n",
       "      <td>...</td>\n",
       "      <td>...</td>\n",
       "      <td>...</td>\n",
       "      <td>...</td>\n",
       "      <td>...</td>\n",
       "    </tr>\n",
       "    <tr>\n",
       "      <th>1091</th>\n",
       "      <td>2020-12-27</td>\n",
       "      <td>174700</td>\n",
       "      <td>4</td>\n",
       "      <td>12</td>\n",
       "      <td>52</td>\n",
       "      <td>7</td>\n",
       "      <td>362</td>\n",
       "      <td>1</td>\n",
       "    </tr>\n",
       "    <tr>\n",
       "      <th>1092</th>\n",
       "      <td>2020-12-28</td>\n",
       "      <td>123100</td>\n",
       "      <td>4</td>\n",
       "      <td>12</td>\n",
       "      <td>53</td>\n",
       "      <td>1</td>\n",
       "      <td>363</td>\n",
       "      <td>0</td>\n",
       "    </tr>\n",
       "    <tr>\n",
       "      <th>1093</th>\n",
       "      <td>2020-12-29</td>\n",
       "      <td>103200</td>\n",
       "      <td>4</td>\n",
       "      <td>12</td>\n",
       "      <td>53</td>\n",
       "      <td>2</td>\n",
       "      <td>364</td>\n",
       "      <td>0</td>\n",
       "    </tr>\n",
       "    <tr>\n",
       "      <th>1094</th>\n",
       "      <td>2020-12-30</td>\n",
       "      <td>143300</td>\n",
       "      <td>4</td>\n",
       "      <td>12</td>\n",
       "      <td>53</td>\n",
       "      <td>3</td>\n",
       "      <td>365</td>\n",
       "      <td>0</td>\n",
       "    </tr>\n",
       "    <tr>\n",
       "      <th>1095</th>\n",
       "      <td>2020-12-31</td>\n",
       "      <td>83400</td>\n",
       "      <td>4</td>\n",
       "      <td>12</td>\n",
       "      <td>53</td>\n",
       "      <td>4</td>\n",
       "      <td>366</td>\n",
       "      <td>0</td>\n",
       "    </tr>\n",
       "  </tbody>\n",
       "</table>\n",
       "<p>1096 rows × 8 columns</p>\n",
       "</div>"
      ],
      "text/plain": [
       "      SalesDate  IceCreamSales  SalesDateQuarter  SalesDateMonth  \\\n",
       "0    2018-01-01         173100                 1               1   \n",
       "1    2018-01-02         203200                 1               1   \n",
       "2    2018-01-03         213300                 1               1   \n",
       "3    2018-01-04         223400                 1               1   \n",
       "4    2018-01-05         253500                 1               1   \n",
       "...         ...            ...               ...             ...   \n",
       "1091 2020-12-27         174700                 4              12   \n",
       "1092 2020-12-28         123100                 4              12   \n",
       "1093 2020-12-29         103200                 4              12   \n",
       "1094 2020-12-30         143300                 4              12   \n",
       "1095 2020-12-31          83400                 4              12   \n",
       "\n",
       "      SalesDateWeek  SalesDateWeekDay  SalesDateYearDay  SalesDateisWeekend  \n",
       "0                 1                 1                 1                   0  \n",
       "1                 1                 2                 2                   0  \n",
       "2                 1                 3                 3                   0  \n",
       "3                 1                 4                 4                   0  \n",
       "4                 1                 5                 5                   0  \n",
       "...             ...               ...               ...                 ...  \n",
       "1091             52                 7               362                   1  \n",
       "1092             53                 1               363                   0  \n",
       "1093             53                 2               364                   0  \n",
       "1094             53                 3               365                   0  \n",
       "1095             53                 4               366                   0  \n",
       "\n",
       "[1096 rows x 8 columns]"
      ]
     },
     "execution_count": 8,
     "metadata": {},
     "output_type": "execute_result"
    }
   ],
   "source": [
    "IceCream_df_extended = extract_date_features(IceCream_df,\"SalesDate\")\n",
    "IceCream_df_extended"
   ]
  },
  {
   "cell_type": "markdown",
   "metadata": {},
   "source": [
    "# Cechy powstałe przez przesunięcie w czasie"
   ]
  },
  {
   "cell_type": "markdown",
   "metadata": {},
   "source": [
    "Analizując wykres można zaobserwować, że sprzedaż lodów nie jest liniowo zależna od zmiennych takich jak numer kwartału, numer miesiąca czy numer tygodnia, aby uzyskać lepsze wyniki warto zbudować cechy w oparciu o przesunięte w czasie wartości zmiennej celu."
   ]
  },
  {
   "cell_type": "markdown",
   "metadata": {},
   "source": [
    "<div class=\"alert alert-block alert-danger\">\n",
    "<b>Uwaga!</b> \n",
    "    \n",
    "Przy korzystaniu ze zmiennych przesuniętych w czasie, w szczególności opartych o wcześniejsze wartości zmiennej celu nalezy zawsze wziąc pod uwagę jakie dane będziemy mieli dostępne na moment predykcji, inaczej możemy popełnić jeden z najczęstszych błędów czyli <b>data leakage</b>. \n",
    "Przy założeniu, że mamy przewidywać sprzedaż lodów np na rok do przodu wykorzystanie sprzedaży lodów z dnia poprzedniego stanowi data leakage, ponieważ ta informacja nie będzie dostępna na moment predykcji w tej samej formie. Moglibyśmy natomiast uwzględnić sprzedaż lodów sprzed roku, jako, że ta informacja będzie dostępna w tej samej formie.\n",
    "</div>"
   ]
  },
  {
   "cell_type": "markdown",
   "metadata": {},
   "source": [
    "Tutaj dla uproszczenia zakładamy chwilowo, że horyzont predykcji to tylko 1 dzień do przodu, co pozwoli zaprezentować większy zakres zmiennych przesuniętych w czasie."
   ]
  },
  {
   "cell_type": "code",
   "execution_count": 9,
   "metadata": {
    "ExecuteTime": {
     "end_time": "2021-10-13T07:15:57.805667Z",
     "start_time": "2021-10-13T07:15:57.788095Z"
    }
   },
   "outputs": [],
   "source": [
    "def get_shifted_target_values(df, lag_values, date_column, target_column):\n",
    "    df_temp = df.copy()\n",
    "    df_temp =df_temp.sort_values(by=date_column)\n",
    "    for lag in lag_values:\n",
    "        df_temp[target_column +\"_lagged_\" + str(lag)] = df_temp[target_column].shift(lag)\n",
    "    return df_temp"
   ]
  },
  {
   "cell_type": "markdown",
   "metadata": {},
   "source": [
    "Uwzględniając, że przewidujemy z horyzontem czasowym tylko na dzień w przód, pierwszym kandydatem na wartość przesunięcia jest 1 dzień, jako, że w danych o charakterze szeregu czasowego podobieństwo kolejnych obserwacji będzie siłą rzeczy relatywnie wysokie. Z analizy wykresu można łatwo wywnioskować, że wartośc przesunięcia 365 dni również będzie miała dużą siłę predykcyjną. Ponadto można tutaj wypróbować 7 dni co powinno być przydatne w przypadku tygodniowej sezonowości danych"
   ]
  },
  {
   "cell_type": "code",
   "execution_count": 10,
   "metadata": {
    "ExecuteTime": {
     "end_time": "2021-10-13T07:15:59.183156Z",
     "start_time": "2021-10-13T07:15:59.131159Z"
    }
   },
   "outputs": [
    {
     "data": {
      "text/html": [
       "<div>\n",
       "<style scoped>\n",
       "    .dataframe tbody tr th:only-of-type {\n",
       "        vertical-align: middle;\n",
       "    }\n",
       "\n",
       "    .dataframe tbody tr th {\n",
       "        vertical-align: top;\n",
       "    }\n",
       "\n",
       "    .dataframe thead th {\n",
       "        text-align: right;\n",
       "    }\n",
       "</style>\n",
       "<table border=\"1\" class=\"dataframe\">\n",
       "  <thead>\n",
       "    <tr style=\"text-align: right;\">\n",
       "      <th></th>\n",
       "      <th>SalesDate</th>\n",
       "      <th>IceCreamSales</th>\n",
       "      <th>SalesDateQuarter</th>\n",
       "      <th>SalesDateMonth</th>\n",
       "      <th>SalesDateWeek</th>\n",
       "      <th>SalesDateWeekDay</th>\n",
       "      <th>SalesDateYearDay</th>\n",
       "      <th>SalesDateisWeekend</th>\n",
       "      <th>IceCreamSales_lagged_1</th>\n",
       "      <th>IceCreamSales_lagged_7</th>\n",
       "      <th>IceCreamSales_lagged_365</th>\n",
       "    </tr>\n",
       "  </thead>\n",
       "  <tbody>\n",
       "    <tr>\n",
       "      <th>0</th>\n",
       "      <td>2018-01-01</td>\n",
       "      <td>173100</td>\n",
       "      <td>1</td>\n",
       "      <td>1</td>\n",
       "      <td>1</td>\n",
       "      <td>1</td>\n",
       "      <td>1</td>\n",
       "      <td>0</td>\n",
       "      <td>&lt;NA&gt;</td>\n",
       "      <td>&lt;NA&gt;</td>\n",
       "      <td>&lt;NA&gt;</td>\n",
       "    </tr>\n",
       "    <tr>\n",
       "      <th>1</th>\n",
       "      <td>2018-01-02</td>\n",
       "      <td>203200</td>\n",
       "      <td>1</td>\n",
       "      <td>1</td>\n",
       "      <td>1</td>\n",
       "      <td>2</td>\n",
       "      <td>2</td>\n",
       "      <td>0</td>\n",
       "      <td>173100</td>\n",
       "      <td>&lt;NA&gt;</td>\n",
       "      <td>&lt;NA&gt;</td>\n",
       "    </tr>\n",
       "    <tr>\n",
       "      <th>2</th>\n",
       "      <td>2018-01-03</td>\n",
       "      <td>213300</td>\n",
       "      <td>1</td>\n",
       "      <td>1</td>\n",
       "      <td>1</td>\n",
       "      <td>3</td>\n",
       "      <td>3</td>\n",
       "      <td>0</td>\n",
       "      <td>203200</td>\n",
       "      <td>&lt;NA&gt;</td>\n",
       "      <td>&lt;NA&gt;</td>\n",
       "    </tr>\n",
       "    <tr>\n",
       "      <th>3</th>\n",
       "      <td>2018-01-04</td>\n",
       "      <td>223400</td>\n",
       "      <td>1</td>\n",
       "      <td>1</td>\n",
       "      <td>1</td>\n",
       "      <td>4</td>\n",
       "      <td>4</td>\n",
       "      <td>0</td>\n",
       "      <td>213300</td>\n",
       "      <td>&lt;NA&gt;</td>\n",
       "      <td>&lt;NA&gt;</td>\n",
       "    </tr>\n",
       "    <tr>\n",
       "      <th>4</th>\n",
       "      <td>2018-01-05</td>\n",
       "      <td>253500</td>\n",
       "      <td>1</td>\n",
       "      <td>1</td>\n",
       "      <td>1</td>\n",
       "      <td>5</td>\n",
       "      <td>5</td>\n",
       "      <td>0</td>\n",
       "      <td>223400</td>\n",
       "      <td>&lt;NA&gt;</td>\n",
       "      <td>&lt;NA&gt;</td>\n",
       "    </tr>\n",
       "    <tr>\n",
       "      <th>...</th>\n",
       "      <td>...</td>\n",
       "      <td>...</td>\n",
       "      <td>...</td>\n",
       "      <td>...</td>\n",
       "      <td>...</td>\n",
       "      <td>...</td>\n",
       "      <td>...</td>\n",
       "      <td>...</td>\n",
       "      <td>...</td>\n",
       "      <td>...</td>\n",
       "      <td>...</td>\n",
       "    </tr>\n",
       "    <tr>\n",
       "      <th>1091</th>\n",
       "      <td>2020-12-27</td>\n",
       "      <td>174700</td>\n",
       "      <td>4</td>\n",
       "      <td>12</td>\n",
       "      <td>52</td>\n",
       "      <td>7</td>\n",
       "      <td>362</td>\n",
       "      <td>1</td>\n",
       "      <td>114600</td>\n",
       "      <td>233700</td>\n",
       "      <td>144600</td>\n",
       "    </tr>\n",
       "    <tr>\n",
       "      <th>1092</th>\n",
       "      <td>2020-12-28</td>\n",
       "      <td>123100</td>\n",
       "      <td>4</td>\n",
       "      <td>12</td>\n",
       "      <td>53</td>\n",
       "      <td>1</td>\n",
       "      <td>363</td>\n",
       "      <td>0</td>\n",
       "      <td>174700</td>\n",
       "      <td>194100</td>\n",
       "      <td>114700</td>\n",
       "    </tr>\n",
       "    <tr>\n",
       "      <th>1093</th>\n",
       "      <td>2020-12-29</td>\n",
       "      <td>103200</td>\n",
       "      <td>4</td>\n",
       "      <td>12</td>\n",
       "      <td>53</td>\n",
       "      <td>2</td>\n",
       "      <td>364</td>\n",
       "      <td>0</td>\n",
       "      <td>123100</td>\n",
       "      <td>134200</td>\n",
       "      <td>143100</td>\n",
       "    </tr>\n",
       "    <tr>\n",
       "      <th>1094</th>\n",
       "      <td>2020-12-30</td>\n",
       "      <td>143300</td>\n",
       "      <td>4</td>\n",
       "      <td>12</td>\n",
       "      <td>53</td>\n",
       "      <td>3</td>\n",
       "      <td>365</td>\n",
       "      <td>0</td>\n",
       "      <td>103200</td>\n",
       "      <td>154300</td>\n",
       "      <td>143200</td>\n",
       "    </tr>\n",
       "    <tr>\n",
       "      <th>1095</th>\n",
       "      <td>2020-12-31</td>\n",
       "      <td>83400</td>\n",
       "      <td>4</td>\n",
       "      <td>12</td>\n",
       "      <td>53</td>\n",
       "      <td>4</td>\n",
       "      <td>366</td>\n",
       "      <td>0</td>\n",
       "      <td>143300</td>\n",
       "      <td>154400</td>\n",
       "      <td>243300</td>\n",
       "    </tr>\n",
       "  </tbody>\n",
       "</table>\n",
       "<p>1096 rows × 11 columns</p>\n",
       "</div>"
      ],
      "text/plain": [
       "      SalesDate  IceCreamSales  SalesDateQuarter  SalesDateMonth  \\\n",
       "0    2018-01-01         173100                 1               1   \n",
       "1    2018-01-02         203200                 1               1   \n",
       "2    2018-01-03         213300                 1               1   \n",
       "3    2018-01-04         223400                 1               1   \n",
       "4    2018-01-05         253500                 1               1   \n",
       "...         ...            ...               ...             ...   \n",
       "1091 2020-12-27         174700                 4              12   \n",
       "1092 2020-12-28         123100                 4              12   \n",
       "1093 2020-12-29         103200                 4              12   \n",
       "1094 2020-12-30         143300                 4              12   \n",
       "1095 2020-12-31          83400                 4              12   \n",
       "\n",
       "      SalesDateWeek  SalesDateWeekDay  SalesDateYearDay  SalesDateisWeekend  \\\n",
       "0                 1                 1                 1                   0   \n",
       "1                 1                 2                 2                   0   \n",
       "2                 1                 3                 3                   0   \n",
       "3                 1                 4                 4                   0   \n",
       "4                 1                 5                 5                   0   \n",
       "...             ...               ...               ...                 ...   \n",
       "1091             52                 7               362                   1   \n",
       "1092             53                 1               363                   0   \n",
       "1093             53                 2               364                   0   \n",
       "1094             53                 3               365                   0   \n",
       "1095             53                 4               366                   0   \n",
       "\n",
       "      IceCreamSales_lagged_1  IceCreamSales_lagged_7  IceCreamSales_lagged_365  \n",
       "0                       <NA>                    <NA>                      <NA>  \n",
       "1                     173100                    <NA>                      <NA>  \n",
       "2                     203200                    <NA>                      <NA>  \n",
       "3                     213300                    <NA>                      <NA>  \n",
       "4                     223400                    <NA>                      <NA>  \n",
       "...                      ...                     ...                       ...  \n",
       "1091                  114600                  233700                    144600  \n",
       "1092                  174700                  194100                    114700  \n",
       "1093                  123100                  134200                    143100  \n",
       "1094                  103200                  154300                    143200  \n",
       "1095                  143300                  154400                    243300  \n",
       "\n",
       "[1096 rows x 11 columns]"
      ]
     },
     "execution_count": 10,
     "metadata": {},
     "output_type": "execute_result"
    }
   ],
   "source": [
    "IceCream_df_extended = get_shifted_target_values(IceCream_df_extended, [1,7,365], \"SalesDate\",\"IceCreamSales\")\n",
    "IceCream_df_extended"
   ]
  },
  {
   "cell_type": "markdown",
   "metadata": {},
   "source": [
    "Widzimy, że początek zbioru danych zawiera teraz wartości puste, ze względu na fakt, że dla wartości z roku 2018 nie istniały obserwacje cofnięte o rok. Do pokazywania liczby niepustych wartości w ramce danych przydatna jest funkcja info z biblioteki pandas"
   ]
  },
  {
   "cell_type": "code",
   "execution_count": 11,
   "metadata": {
    "ExecuteTime": {
     "end_time": "2021-10-13T07:16:00.709833Z",
     "start_time": "2021-10-13T07:16:00.680833Z"
    }
   },
   "outputs": [
    {
     "name": "stdout",
     "output_type": "stream",
     "text": [
      "<class 'pandas.core.frame.DataFrame'>\n",
      "Int64Index: 1096 entries, 0 to 1095\n",
      "Data columns (total 11 columns):\n",
      " #   Column                    Non-Null Count  Dtype         \n",
      "---  ------                    --------------  -----         \n",
      " 0   SalesDate                 1096 non-null   datetime64[ns]\n",
      " 1   IceCreamSales             1096 non-null   Int64         \n",
      " 2   SalesDateQuarter          1096 non-null   int64         \n",
      " 3   SalesDateMonth            1096 non-null   int64         \n",
      " 4   SalesDateWeek             1096 non-null   UInt32        \n",
      " 5   SalesDateWeekDay          1096 non-null   int64         \n",
      " 6   SalesDateYearDay          1096 non-null   int64         \n",
      " 7   SalesDateisWeekend        1096 non-null   int32         \n",
      " 8   IceCreamSales_lagged_1    1095 non-null   Int64         \n",
      " 9   IceCreamSales_lagged_7    1089 non-null   Int64         \n",
      " 10  IceCreamSales_lagged_365  731 non-null    Int64         \n",
      "dtypes: Int64(4), UInt32(1), datetime64[ns](1), int32(1), int64(4)\n",
      "memory usage: 99.5 KB\n"
     ]
    }
   ],
   "source": [
    "IceCream_df_extended.info()"
   ]
  },
  {
   "cell_type": "markdown",
   "metadata": {},
   "source": [
    "oczywiście wartości puste należy potem w jakiś sposób obsłużyć, poprzez ich usunięcie lub imputację"
   ]
  },
  {
   "cell_type": "markdown",
   "metadata": {},
   "source": [
    "<div class=\"alert alert-block alert-info\">\n",
    "<b>Info</b> \n",
    "\n",
    "Tworząc zmienne oparte o cechy przesunięte w czasie warto mieć na uwadze, że dane historyczne mogą zawierać wartości odstające. Dlatego zamiast brać wprost wartość sprzed np. 365 dni można rozważyć wygładzenie wartości stosując medianę z 5 dniowego okna, którego środek stanowi wartość sprzed 365 dni.\n",
    "</div>"
   ]
  },
  {
   "cell_type": "markdown",
   "metadata": {
    "ExecuteTime": {
     "end_time": "2021-10-11T12:30:06.208232Z",
     "start_time": "2021-10-11T12:30:06.192598Z"
    }
   },
   "source": [
    "# Cechy kategoryczne i ich transformacje"
   ]
  },
  {
   "cell_type": "markdown",
   "metadata": {},
   "source": [
    "Dla zilustrowania transformacji na zmiennych kategorycznych posłużymy się drugim z przygotowanych zbiorów danych, gdzie chcemy przewidzieć cenę sprzedaży używanego samochodu."
   ]
  },
  {
   "cell_type": "code",
   "execution_count": 12,
   "metadata": {
    "ExecuteTime": {
     "end_time": "2021-10-13T07:16:04.773577Z",
     "start_time": "2021-10-13T07:16:04.754574Z"
    }
   },
   "outputs": [
    {
     "data": {
      "text/html": [
       "<div>\n",
       "<style scoped>\n",
       "    .dataframe tbody tr th:only-of-type {\n",
       "        vertical-align: middle;\n",
       "    }\n",
       "\n",
       "    .dataframe tbody tr th {\n",
       "        vertical-align: top;\n",
       "    }\n",
       "\n",
       "    .dataframe thead th {\n",
       "        text-align: right;\n",
       "    }\n",
       "</style>\n",
       "<table border=\"1\" class=\"dataframe\">\n",
       "  <thead>\n",
       "    <tr style=\"text-align: right;\">\n",
       "      <th></th>\n",
       "      <th>selling_price</th>\n",
       "      <th>condition</th>\n",
       "      <th>mileage</th>\n",
       "      <th>brand</th>\n",
       "      <th>year_manufactured</th>\n",
       "    </tr>\n",
       "  </thead>\n",
       "  <tbody>\n",
       "    <tr>\n",
       "      <th>0</th>\n",
       "      <td>8655.0</td>\n",
       "      <td>medium</td>\n",
       "      <td>170639</td>\n",
       "      <td>VW</td>\n",
       "      <td>1969</td>\n",
       "    </tr>\n",
       "    <tr>\n",
       "      <th>1</th>\n",
       "      <td>32525.0</td>\n",
       "      <td>very_good</td>\n",
       "      <td>221288</td>\n",
       "      <td>Mercedes</td>\n",
       "      <td>1954</td>\n",
       "    </tr>\n",
       "    <tr>\n",
       "      <th>2</th>\n",
       "      <td>49170.0</td>\n",
       "      <td>medium</td>\n",
       "      <td>352612</td>\n",
       "      <td>Bugatti</td>\n",
       "      <td>1959</td>\n",
       "    </tr>\n",
       "    <tr>\n",
       "      <th>3</th>\n",
       "      <td>9567.0</td>\n",
       "      <td>good</td>\n",
       "      <td>421537</td>\n",
       "      <td>Seat</td>\n",
       "      <td>1974</td>\n",
       "    </tr>\n",
       "    <tr>\n",
       "      <th>4</th>\n",
       "      <td>27971.0</td>\n",
       "      <td>good</td>\n",
       "      <td>523044</td>\n",
       "      <td>Mercedes</td>\n",
       "      <td>1962</td>\n",
       "    </tr>\n",
       "  </tbody>\n",
       "</table>\n",
       "</div>"
      ],
      "text/plain": [
       "   selling_price  condition  mileage     brand  year_manufactured\n",
       "0         8655.0     medium   170639        VW               1969\n",
       "1        32525.0  very_good   221288  Mercedes               1954\n",
       "2        49170.0     medium   352612   Bugatti               1959\n",
       "3         9567.0       good   421537      Seat               1974\n",
       "4        27971.0       good   523044  Mercedes               1962"
      ]
     },
     "execution_count": 12,
     "metadata": {},
     "output_type": "execute_result"
    }
   ],
   "source": [
    "UsedCars_df.head()"
   ]
  },
  {
   "cell_type": "markdown",
   "metadata": {},
   "source": [
    "jak widzimy występują tutaj 2 cechy kategoryczne condition oraz brand, na podstawie których zaprezentujemy które transformacje danych najlepiej zastosować w którym przypadku. Aby umożliwić wykorzystanie tych cech w predykcji niezbędne jest odpowiednie ich przekształcenie w wartości numeryczne"
   ]
  },
  {
   "cell_type": "code",
   "execution_count": 13,
   "metadata": {
    "ExecuteTime": {
     "end_time": "2021-10-13T07:16:06.297398Z",
     "start_time": "2021-10-13T07:16:06.279408Z"
    }
   },
   "outputs": [
    {
     "data": {
      "text/plain": [
       "array(['medium', 'very_good', 'good', 'very_bad', 'bad'], dtype=object)"
      ]
     },
     "execution_count": 13,
     "metadata": {},
     "output_type": "execute_result"
    }
   ],
   "source": [
    "UsedCars_df.condition.unique()"
   ]
  },
  {
   "cell_type": "markdown",
   "metadata": {},
   "source": [
    "patrząc na atrybuty zmiennej condition widzimy, że ma ona charakter porządkowy - jesteśmy w stanie łatwo ustalić naturalną kolejność jej atrybutów. Stanowi ona zatem dobrego kandydata do zastosowania <b>kodowania porządkowego</b>"
   ]
  },
  {
   "cell_type": "markdown",
   "metadata": {
    "ExecuteTime": {
     "end_time": "2021-10-11T12:47:35.578945Z",
     "start_time": "2021-10-11T12:47:35.566890Z"
    }
   },
   "source": [
    "<div class=\"alert alert-block alert-success\">\n",
    "<b>Definicja</b> \n",
    "\n",
    "<b>kodowania porządkowe</b> (ang. *Ordinal encoding*) - reprezentacja każdego atrybutu kodowanej zmiennej jako kolejnej liczby naturalnej \n",
    "</div>"
   ]
  },
  {
   "cell_type": "markdown",
   "metadata": {},
   "source": [
    "poniżej zaprezentujemy kodowanie porządkowe z użyciem transformera OrdinalEncoder, najpierw jednak podzielimy nasze dane na zbiór treningowy i testowy, aby lepiej odwzorować to, że dane treningowe są oddzielone od danych produkcyjnych, na których model będzie potem stosowany."
   ]
  },
  {
   "cell_type": "code",
   "execution_count": 14,
   "metadata": {
    "ExecuteTime": {
     "end_time": "2021-10-13T07:16:22.871995Z",
     "start_time": "2021-10-13T07:16:10.112336Z"
    }
   },
   "outputs": [],
   "source": [
    "from sklearn.preprocessing import OrdinalEncoder\n",
    "from sklearn.model_selection import train_test_split"
   ]
  },
  {
   "cell_type": "markdown",
   "metadata": {},
   "source": [
    "tutaj dla uproszczenia stosujemy tylko prosty podział na zbiór treningowy i testowy, generalnie najlepszą praktyką jest wydzielenie osobnego zbioru testowego reprezentującego zdolność modelu do generalizacji na nowych, niewidzianych wcześniej danych i dobór najlepszego zestawu parametrów i transformacji stosując crosswalidację na zbiorze treningowym."
   ]
  },
  {
   "cell_type": "code",
   "execution_count": 15,
   "metadata": {
    "ExecuteTime": {
     "end_time": "2021-10-13T07:16:23.275504Z",
     "start_time": "2021-10-13T07:16:23.261497Z"
    }
   },
   "outputs": [],
   "source": [
    "X_train, X_test = train_test_split(UsedCars_df, test_size =0.25, random_state=42)"
   ]
  },
  {
   "cell_type": "markdown",
   "metadata": {},
   "source": [
    "następnie tworzymy obiekt klasy OrdinalEncoder, określamy tutaj porządek cechy atrybutów cechy, którą chcemy przetransformować, inaczej mogą one zostać po prostu posortowane alfabetycznie co najczęściej nie będzie odpowiadało ich znaczeniu biznesowemu"
   ]
  },
  {
   "cell_type": "code",
   "execution_count": 16,
   "metadata": {
    "ExecuteTime": {
     "end_time": "2021-10-13T07:16:23.894916Z",
     "start_time": "2021-10-13T07:16:23.860918Z"
    }
   },
   "outputs": [],
   "source": [
    "oe= OrdinalEncoder(categories =[['very_bad', 'bad', 'medium', 'good', 'very_good']],\n",
    "                   handle_unknown ='use_encoded_value', unknown_value=np.NaN)"
   ]
  },
  {
   "cell_type": "markdown",
   "metadata": {},
   "source": [
    "<div class=\"alert alert-block alert-danger\">\n",
    "<b>Uwaga!</b> \n",
    "    \n",
    "Kodując atrybuty należy mieć świadomość, że na nowych danych mogą pojawić się niewidziane wcześniej wartości, które należy w jakiś sposób obsłużyć. Domyślnym zachowaniem OrdinalEncoder w takiej sytuacji jest zwrócenie wyjątku, tutaj skorzystaliśmy z przypisania mu ustalonej wartości, gdzie wybraliśmy  przypisanie wartości pustej. Następnie taką wartość można zastąpić np. dominantą ze zbioru treningowego, lub przypisać jej wartość neutralną, którą tutaj byłoby 2 odpowiadające kategorii medium.\n",
    "</div>"
   ]
  },
  {
   "cell_type": "markdown",
   "metadata": {},
   "source": [
    "Zdecydowanie najlepszym sposobem użycia wszystkich transformerów jest skorzystanie z <b>pipeline</b>, co zostanie zaprezentowane potem. Tutaj zaprezentujemy najprostsze wykorzystanie polegające na skorzystaniu z metod <b>fit</b> i <b>transform</b>. OrdinalEncoder stosujemy tylko do przekształcenia jednej cechy, gdyby było inaczej moglibyśmy wykonać fit na całym zbiorze treningowym a następnie przetransformować zbiory treningowy i testowy."
   ]
  },
  {
   "cell_type": "code",
   "execution_count": 17,
   "metadata": {
    "ExecuteTime": {
     "end_time": "2021-10-13T07:16:24.439446Z",
     "start_time": "2021-10-13T07:16:24.425440Z"
    }
   },
   "outputs": [
    {
     "name": "stderr",
     "output_type": "stream",
     "text": [
      "C:\\Users\\kazim\\AppData\\Local\\Temp/ipykernel_20656/1043533196.py:2: SettingWithCopyWarning: \n",
      "A value is trying to be set on a copy of a slice from a DataFrame.\n",
      "Try using .loc[row_indexer,col_indexer] = value instead\n",
      "\n",
      "See the caveats in the documentation: https://pandas.pydata.org/pandas-docs/stable/user_guide/indexing.html#returning-a-view-versus-a-copy\n",
      "  X_train[\"condition_transformed\"] = oe.transform(X_train.condition.values.reshape(-1, 1))\n",
      "C:\\Users\\kazim\\AppData\\Local\\Temp/ipykernel_20656/1043533196.py:3: SettingWithCopyWarning: \n",
      "A value is trying to be set on a copy of a slice from a DataFrame.\n",
      "Try using .loc[row_indexer,col_indexer] = value instead\n",
      "\n",
      "See the caveats in the documentation: https://pandas.pydata.org/pandas-docs/stable/user_guide/indexing.html#returning-a-view-versus-a-copy\n",
      "  X_test[\"condition_transformed\"] = oe.transform(X_test.condition.values.reshape(-1, 1))\n"
     ]
    }
   ],
   "source": [
    "oe.fit(X_train.condition.values.reshape(-1, 1))\n",
    "X_train[\"condition_transformed\"] = oe.transform(X_train.condition.values.reshape(-1, 1))\n",
    "X_test[\"condition_transformed\"] = oe.transform(X_test.condition.values.reshape(-1, 1))"
   ]
  },
  {
   "cell_type": "markdown",
   "metadata": {},
   "source": [
    "<div class=\"alert alert-block alert-danger\">\n",
    "<b>Uwaga!</b> \n",
    "    \n",
    "Jeśli nie korzystamy z pipeline należy zwrócić szczególną uwagę żeby metody fit używać tylko na zbiorze treningowym a następnie mając już \"nauczony\" transformer stosować metodę transform na pozostałych zbiorach. Inaczej może dojść do przecieku informacji ze zbioru testowego.\n",
    "</div>"
   ]
  },
  {
   "cell_type": "markdown",
   "metadata": {},
   "source": [
    "możemy jeszcze sprawdzić czy przypisanie atrybutów na zbiorach treningowym i testowym jest prawidłowe, a następnie pozbyć się pierwotnej kolumny, wartości pierwotne mogą być łatwo odzyskane z przetransformowanych danych stosując metodę <b>inverse_transform</b>"
   ]
  },
  {
   "cell_type": "code",
   "execution_count": 18,
   "metadata": {
    "ExecuteTime": {
     "end_time": "2021-10-13T07:16:24.997502Z",
     "start_time": "2021-10-13T07:16:24.973502Z"
    }
   },
   "outputs": [
    {
     "data": {
      "text/html": [
       "<div>\n",
       "<style scoped>\n",
       "    .dataframe tbody tr th:only-of-type {\n",
       "        vertical-align: middle;\n",
       "    }\n",
       "\n",
       "    .dataframe tbody tr th {\n",
       "        vertical-align: top;\n",
       "    }\n",
       "\n",
       "    .dataframe thead th {\n",
       "        text-align: right;\n",
       "    }\n",
       "</style>\n",
       "<table border=\"1\" class=\"dataframe\">\n",
       "  <thead>\n",
       "    <tr style=\"text-align: right;\">\n",
       "      <th></th>\n",
       "      <th>condition</th>\n",
       "      <th>condition_transformed</th>\n",
       "    </tr>\n",
       "  </thead>\n",
       "  <tbody>\n",
       "    <tr>\n",
       "      <th>789</th>\n",
       "      <td>very_bad</td>\n",
       "      <td>0.0</td>\n",
       "    </tr>\n",
       "    <tr>\n",
       "      <th>398</th>\n",
       "      <td>bad</td>\n",
       "      <td>1.0</td>\n",
       "    </tr>\n",
       "    <tr>\n",
       "      <th>82</th>\n",
       "      <td>medium</td>\n",
       "      <td>2.0</td>\n",
       "    </tr>\n",
       "    <tr>\n",
       "      <th>323</th>\n",
       "      <td>good</td>\n",
       "      <td>3.0</td>\n",
       "    </tr>\n",
       "    <tr>\n",
       "      <th>991</th>\n",
       "      <td>very_good</td>\n",
       "      <td>4.0</td>\n",
       "    </tr>\n",
       "  </tbody>\n",
       "</table>\n",
       "</div>"
      ],
      "text/plain": [
       "     condition  condition_transformed\n",
       "789   very_bad                    0.0\n",
       "398        bad                    1.0\n",
       "82      medium                    2.0\n",
       "323       good                    3.0\n",
       "991  very_good                    4.0"
      ]
     },
     "execution_count": 18,
     "metadata": {},
     "output_type": "execute_result"
    }
   ],
   "source": [
    "X_train[[\"condition\",\"condition_transformed\"]].drop_duplicates().sort_values(by=\"condition_transformed\")"
   ]
  },
  {
   "cell_type": "code",
   "execution_count": 19,
   "metadata": {
    "ExecuteTime": {
     "end_time": "2021-10-13T07:16:25.785826Z",
     "start_time": "2021-10-13T07:16:25.749495Z"
    }
   },
   "outputs": [
    {
     "data": {
      "text/html": [
       "<div>\n",
       "<style scoped>\n",
       "    .dataframe tbody tr th:only-of-type {\n",
       "        vertical-align: middle;\n",
       "    }\n",
       "\n",
       "    .dataframe tbody tr th {\n",
       "        vertical-align: top;\n",
       "    }\n",
       "\n",
       "    .dataframe thead th {\n",
       "        text-align: right;\n",
       "    }\n",
       "</style>\n",
       "<table border=\"1\" class=\"dataframe\">\n",
       "  <thead>\n",
       "    <tr style=\"text-align: right;\">\n",
       "      <th></th>\n",
       "      <th>condition</th>\n",
       "      <th>condition_transformed</th>\n",
       "    </tr>\n",
       "  </thead>\n",
       "  <tbody>\n",
       "    <tr>\n",
       "      <th>740</th>\n",
       "      <td>very_bad</td>\n",
       "      <td>0.0</td>\n",
       "    </tr>\n",
       "    <tr>\n",
       "      <th>521</th>\n",
       "      <td>bad</td>\n",
       "      <td>1.0</td>\n",
       "    </tr>\n",
       "    <tr>\n",
       "      <th>411</th>\n",
       "      <td>medium</td>\n",
       "      <td>2.0</td>\n",
       "    </tr>\n",
       "    <tr>\n",
       "      <th>811</th>\n",
       "      <td>good</td>\n",
       "      <td>3.0</td>\n",
       "    </tr>\n",
       "    <tr>\n",
       "      <th>626</th>\n",
       "      <td>very_good</td>\n",
       "      <td>4.0</td>\n",
       "    </tr>\n",
       "  </tbody>\n",
       "</table>\n",
       "</div>"
      ],
      "text/plain": [
       "     condition  condition_transformed\n",
       "740   very_bad                    0.0\n",
       "521        bad                    1.0\n",
       "411     medium                    2.0\n",
       "811       good                    3.0\n",
       "626  very_good                    4.0"
      ]
     },
     "execution_count": 19,
     "metadata": {},
     "output_type": "execute_result"
    }
   ],
   "source": [
    "X_test[[\"condition\",\"condition_transformed\"]].drop_duplicates().sort_values(by=\"condition_transformed\")"
   ]
  },
  {
   "cell_type": "code",
   "execution_count": 20,
   "metadata": {
    "ExecuteTime": {
     "end_time": "2021-10-13T07:16:26.610243Z",
     "start_time": "2021-10-13T07:16:26.595250Z"
    }
   },
   "outputs": [
    {
     "name": "stderr",
     "output_type": "stream",
     "text": [
      "C:\\Users\\kazim\\.conda\\envs\\politechnika\\lib\\site-packages\\pandas\\core\\frame.py:4163: SettingWithCopyWarning: \n",
      "A value is trying to be set on a copy of a slice from a DataFrame\n",
      "\n",
      "See the caveats in the documentation: https://pandas.pydata.org/pandas-docs/stable/user_guide/indexing.html#returning-a-view-versus-a-copy\n",
      "  return super().drop(\n"
     ]
    }
   ],
   "source": [
    "X_train.drop([\"condition\"],axis=1, inplace=True)\n",
    "X_test.drop([\"condition\"],axis=1, inplace=True)"
   ]
  },
  {
   "cell_type": "code",
   "execution_count": 21,
   "metadata": {
    "ExecuteTime": {
     "end_time": "2021-10-13T07:16:27.463826Z",
     "start_time": "2021-10-13T07:16:27.441818Z"
    }
   },
   "outputs": [
    {
     "data": {
      "text/html": [
       "<div>\n",
       "<style scoped>\n",
       "    .dataframe tbody tr th:only-of-type {\n",
       "        vertical-align: middle;\n",
       "    }\n",
       "\n",
       "    .dataframe tbody tr th {\n",
       "        vertical-align: top;\n",
       "    }\n",
       "\n",
       "    .dataframe thead th {\n",
       "        text-align: right;\n",
       "    }\n",
       "</style>\n",
       "<table border=\"1\" class=\"dataframe\">\n",
       "  <thead>\n",
       "    <tr style=\"text-align: right;\">\n",
       "      <th></th>\n",
       "      <th>selling_price</th>\n",
       "      <th>mileage</th>\n",
       "      <th>brand</th>\n",
       "      <th>year_manufactured</th>\n",
       "      <th>condition_transformed</th>\n",
       "    </tr>\n",
       "  </thead>\n",
       "  <tbody>\n",
       "    <tr>\n",
       "      <th>82</th>\n",
       "      <td>32158.0</td>\n",
       "      <td>59093</td>\n",
       "      <td>BMW</td>\n",
       "      <td>2015</td>\n",
       "      <td>2.0</td>\n",
       "    </tr>\n",
       "    <tr>\n",
       "      <th>991</th>\n",
       "      <td>12437.0</td>\n",
       "      <td>56445</td>\n",
       "      <td>Toyota</td>\n",
       "      <td>1990</td>\n",
       "      <td>4.0</td>\n",
       "    </tr>\n",
       "    <tr>\n",
       "      <th>789</th>\n",
       "      <td>25305.0</td>\n",
       "      <td>312058</td>\n",
       "      <td>Bugatti</td>\n",
       "      <td>1978</td>\n",
       "      <td>0.0</td>\n",
       "    </tr>\n",
       "    <tr>\n",
       "      <th>894</th>\n",
       "      <td>17835.0</td>\n",
       "      <td>23150</td>\n",
       "      <td>BMW</td>\n",
       "      <td>2017</td>\n",
       "      <td>0.0</td>\n",
       "    </tr>\n",
       "    <tr>\n",
       "      <th>398</th>\n",
       "      <td>7357.0</td>\n",
       "      <td>138958</td>\n",
       "      <td>Renault</td>\n",
       "      <td>2000</td>\n",
       "      <td>1.0</td>\n",
       "    </tr>\n",
       "    <tr>\n",
       "      <th>...</th>\n",
       "      <td>...</td>\n",
       "      <td>...</td>\n",
       "      <td>...</td>\n",
       "      <td>...</td>\n",
       "      <td>...</td>\n",
       "    </tr>\n",
       "    <tr>\n",
       "      <th>106</th>\n",
       "      <td>11658.0</td>\n",
       "      <td>90034</td>\n",
       "      <td>Renault</td>\n",
       "      <td>2011</td>\n",
       "      <td>3.0</td>\n",
       "    </tr>\n",
       "    <tr>\n",
       "      <th>270</th>\n",
       "      <td>11296.0</td>\n",
       "      <td>110040</td>\n",
       "      <td>Toyota</td>\n",
       "      <td>2008</td>\n",
       "      <td>3.0</td>\n",
       "    </tr>\n",
       "    <tr>\n",
       "      <th>860</th>\n",
       "      <td>60956.0</td>\n",
       "      <td>18747</td>\n",
       "      <td>Bugatti</td>\n",
       "      <td>1977</td>\n",
       "      <td>2.0</td>\n",
       "    </tr>\n",
       "    <tr>\n",
       "      <th>435</th>\n",
       "      <td>9346.0</td>\n",
       "      <td>547899</td>\n",
       "      <td>Seat</td>\n",
       "      <td>1967</td>\n",
       "      <td>3.0</td>\n",
       "    </tr>\n",
       "    <tr>\n",
       "      <th>102</th>\n",
       "      <td>31597.0</td>\n",
       "      <td>70964</td>\n",
       "      <td>Mercedes</td>\n",
       "      <td>1961</td>\n",
       "      <td>3.0</td>\n",
       "    </tr>\n",
       "  </tbody>\n",
       "</table>\n",
       "<p>750 rows × 5 columns</p>\n",
       "</div>"
      ],
      "text/plain": [
       "     selling_price  mileage     brand  year_manufactured  \\\n",
       "82         32158.0    59093       BMW               2015   \n",
       "991        12437.0    56445    Toyota               1990   \n",
       "789        25305.0   312058   Bugatti               1978   \n",
       "894        17835.0    23150       BMW               2017   \n",
       "398         7357.0   138958   Renault               2000   \n",
       "..             ...      ...       ...                ...   \n",
       "106        11658.0    90034   Renault               2011   \n",
       "270        11296.0   110040    Toyota               2008   \n",
       "860        60956.0    18747   Bugatti               1977   \n",
       "435         9346.0   547899      Seat               1967   \n",
       "102        31597.0    70964  Mercedes               1961   \n",
       "\n",
       "     condition_transformed  \n",
       "82                     2.0  \n",
       "991                    4.0  \n",
       "789                    0.0  \n",
       "894                    0.0  \n",
       "398                    1.0  \n",
       "..                     ...  \n",
       "106                    3.0  \n",
       "270                    3.0  \n",
       "860                    2.0  \n",
       "435                    3.0  \n",
       "102                    3.0  \n",
       "\n",
       "[750 rows x 5 columns]"
      ]
     },
     "execution_count": 21,
     "metadata": {},
     "output_type": "execute_result"
    }
   ],
   "source": [
    "X_train"
   ]
  },
  {
   "cell_type": "markdown",
   "metadata": {},
   "source": [
    "widzimy, że do zakodowania pozostała nam jeszcze cecha - brand, w odróżnieniu od poprzednio rozważanej cechy tutaj nie ma oczywistego naturalnego porządku, dlatego należy tutaj zastosować inne podejście"
   ]
  },
  {
   "cell_type": "markdown",
   "metadata": {},
   "source": [
    "<div class=\"alert alert-block alert-success\">\n",
    "<b>Definicja</b> \n",
    "\n",
    "<b>kodowania 1 z n</b> (ang. *One-hot encoding*) - reprezentacja każdego atrybutu kodowanej zmiennej jako osobnej zmiennej binarnej, gdzie występowanie rozważanego atrybutu dla danej obserwacji oznaczane jest jako 1 a wszystkie pozostałe atrybuty oznaczane są jako 0 \n",
    "</div>"
   ]
  },
  {
   "cell_type": "markdown",
   "metadata": {},
   "source": [
    "kodowanie 1 z n stanowi jeden z najczęściej używanych i najbardziej intuicyjnych sposobów kodowania, jednak jego główną wadą jest zwiększanie wymiarowości danych, co zaraz zaprezentujemy"
   ]
  },
  {
   "cell_type": "markdown",
   "metadata": {},
   "source": [
    "najpierw pokażemy jak posługiwać się transformerem OneHotEncoder"
   ]
  },
  {
   "cell_type": "code",
   "execution_count": 22,
   "metadata": {
    "ExecuteTime": {
     "end_time": "2021-10-13T07:16:31.358006Z",
     "start_time": "2021-10-13T07:16:31.349906Z"
    }
   },
   "outputs": [],
   "source": [
    "from sklearn.preprocessing import OneHotEncoder"
   ]
  },
  {
   "cell_type": "markdown",
   "metadata": {},
   "source": [
    "tworzymy obiekt klasy OneHotEncoder, podobnie jak w przypadku poprzedniego transformera, tu także domyślnym sposobem obsługi nieznanych atrybutów jest zwracanie wyjątku, my wybieramy handle_unknown=\"ignore\" co sprawi, że nieznane atrybuty reprezentowane będą po prostu jako 0 we wszystkich zakodowanych kolumnach.\n",
    "\n",
    "Natomiast ustawienie sparse=False sprawia, że zwracane dane będą typu np.array zamiast domyślnego sparse matrix"
   ]
  },
  {
   "cell_type": "code",
   "execution_count": 23,
   "metadata": {
    "ExecuteTime": {
     "end_time": "2021-10-13T07:16:32.849003Z",
     "start_time": "2021-10-13T07:16:32.841484Z"
    }
   },
   "outputs": [],
   "source": [
    "ohe = OneHotEncoder(handle_unknown=\"ignore\",sparse=False)"
   ]
  },
  {
   "cell_type": "markdown",
   "metadata": {},
   "source": [
    "należy zwrócić uwagę, że we wszystkich transformerach z biblioteki sklearn stosowane jest to samo API, w związku z tym tutaj analogicznie jak w poprzednim przypadku możemy skorzystać z metod <b>fit</b> i <b>transform</b>"
   ]
  },
  {
   "cell_type": "code",
   "execution_count": 24,
   "metadata": {
    "ExecuteTime": {
     "end_time": "2021-10-13T07:16:34.371505Z",
     "start_time": "2021-10-13T07:16:34.354961Z"
    }
   },
   "outputs": [
    {
     "name": "stdout",
     "output_type": "stream",
     "text": [
      "rozmiar zakodowanej kolumny brand na danych treningowych to: (750, 10)\n",
      "rozmiar zakodowanej kolumny brand na danych testowych to: (250, 10)\n",
      "[[0. 1. 0. ... 0. 0. 0.]\n",
      " [0. 0. 0. ... 0. 1. 0.]\n",
      " [0. 0. 1. ... 0. 0. 0.]\n",
      " ...\n",
      " [0. 0. 1. ... 0. 0. 0.]\n",
      " [0. 0. 0. ... 0. 0. 0.]\n",
      " [0. 0. 0. ... 0. 0. 0.]]\n"
     ]
    }
   ],
   "source": [
    "ohe.fit(X_train.brand.values.reshape(-1, 1))\n",
    "brand_transformed_train = ohe.transform(X_train.brand.values.reshape(-1, 1))\n",
    "brand_transformed_test = ohe.transform(X_test.brand.values.reshape(-1, 1))\n",
    "print(f\"rozmiar zakodowanej kolumny brand na danych treningowych to: {brand_transformed_train.shape}\")\n",
    "print(f\"rozmiar zakodowanej kolumny brand na danych testowych to: {brand_transformed_test.shape}\")\n",
    "print(brand_transformed_train)"
   ]
  },
  {
   "cell_type": "markdown",
   "metadata": {},
   "source": [
    "jak widzimy kolumna brand reprezentowana jest teraz jako array gdzie każdy atrybut ze zbioru treningowego zaprezentowany jest w osobnej kolumnie binarnej. Można to sprawdzić zliczając liczbę unikalnych atrybutów tej kolumny na zbiorze treningowym"
   ]
  },
  {
   "cell_type": "code",
   "execution_count": 25,
   "metadata": {
    "ExecuteTime": {
     "end_time": "2021-10-13T07:16:35.963830Z",
     "start_time": "2021-10-13T07:16:35.957828Z"
    }
   },
   "outputs": [
    {
     "data": {
      "text/plain": [
       "10"
      ]
     },
     "execution_count": 25,
     "metadata": {},
     "output_type": "execute_result"
    }
   ],
   "source": [
    "X_train.brand.nunique()"
   ]
  },
  {
   "cell_type": "markdown",
   "metadata": {},
   "source": [
    "kolejność atrybutów odpowiadających kolumnom wynikowego arraya można zobaczyć korzystając z atrybutu categories_"
   ]
  },
  {
   "cell_type": "code",
   "execution_count": 26,
   "metadata": {
    "ExecuteTime": {
     "end_time": "2021-10-13T07:16:37.722373Z",
     "start_time": "2021-10-13T07:16:37.709372Z"
    }
   },
   "outputs": [
    {
     "data": {
      "text/plain": [
       "[array(['Audi', 'BMW', 'Bugatti', 'Fiat', 'Mercedes', 'Renault', 'Seat',\n",
       "        'Skoda', 'Toyota', 'VW'], dtype=object)]"
      ]
     },
     "execution_count": 26,
     "metadata": {},
     "output_type": "execute_result"
    }
   ],
   "source": [
    "ohe.categories_"
   ]
  },
  {
   "cell_type": "markdown",
   "metadata": {},
   "source": [
    "całą transformację wraz z dodaniem przetransformowanej zmiennej do zbioru treningowego można zrealizować za pomocą prostej funkcji"
   ]
  },
  {
   "cell_type": "code",
   "execution_count": 27,
   "metadata": {
    "ExecuteTime": {
     "end_time": "2021-10-13T07:16:39.641779Z",
     "start_time": "2021-10-13T07:16:39.632782Z"
    }
   },
   "outputs": [],
   "source": [
    "def OneHotEncode(X_train, X_test, encoded_column_name, **encoder_kwargs):\n",
    "    \n",
    "    ohe = OneHotEncoder(**encoder_kwargs)\n",
    "    ohe.fit(X_train[encoded_column_name].values.reshape(-1, 1))\n",
    "    transformed_train = ohe.transform(X_train[encoded_column_name].values.reshape(-1, 1))\n",
    "    transformed_test = ohe.transform(X_test[encoded_column_name].values.reshape(-1, 1))\n",
    "    \n",
    "    column_names = [encoded_column_name +\"_\"+category for category in list(ohe.categories_[0]) ]\n",
    "    df_transformed_train = pd.DataFrame(transformed_train, columns = column_names)\n",
    "    df_transformed_test = pd.DataFrame(transformed_test, columns = column_names)\n",
    "    \n",
    "    df_out_train = X_train.reset_index(drop=True).drop([encoded_column_name], axis=1)\n",
    "    df_out_test = X_test.reset_index(drop=True).drop([encoded_column_name], axis=1)\n",
    "    df_out_train = pd.concat([df_out_train, df_transformed_train],axis=1)\n",
    "    df_out_test = pd.concat([df_out_test, df_transformed_test],axis=1)\n",
    "    \n",
    "    return df_out_train, df_out_test"
   ]
  },
  {
   "cell_type": "markdown",
   "metadata": {},
   "source": [
    "powyższa funkcja zwraca zbiór treningowy i testowy po dodaniu odpowiednio nazwanych kolumn powstałych po transformacji obiektem OneHotEncoder i usunięciu pierwotnej zmiennej. Argumenty do OneHotEncoder przekazywane są z pomocą  **encoder_kwargs"
   ]
  },
  {
   "cell_type": "code",
   "execution_count": 28,
   "metadata": {
    "ExecuteTime": {
     "end_time": "2021-10-13T07:16:41.132045Z",
     "start_time": "2021-10-13T07:16:41.085522Z"
    }
   },
   "outputs": [
    {
     "data": {
      "text/html": [
       "<div>\n",
       "<style scoped>\n",
       "    .dataframe tbody tr th:only-of-type {\n",
       "        vertical-align: middle;\n",
       "    }\n",
       "\n",
       "    .dataframe tbody tr th {\n",
       "        vertical-align: top;\n",
       "    }\n",
       "\n",
       "    .dataframe thead th {\n",
       "        text-align: right;\n",
       "    }\n",
       "</style>\n",
       "<table border=\"1\" class=\"dataframe\">\n",
       "  <thead>\n",
       "    <tr style=\"text-align: right;\">\n",
       "      <th></th>\n",
       "      <th>selling_price</th>\n",
       "      <th>mileage</th>\n",
       "      <th>year_manufactured</th>\n",
       "      <th>condition_transformed</th>\n",
       "      <th>brand_Audi</th>\n",
       "      <th>brand_BMW</th>\n",
       "      <th>brand_Bugatti</th>\n",
       "      <th>brand_Fiat</th>\n",
       "      <th>brand_Mercedes</th>\n",
       "      <th>brand_Renault</th>\n",
       "      <th>brand_Seat</th>\n",
       "      <th>brand_Skoda</th>\n",
       "      <th>brand_Toyota</th>\n",
       "      <th>brand_VW</th>\n",
       "    </tr>\n",
       "  </thead>\n",
       "  <tbody>\n",
       "    <tr>\n",
       "      <th>0</th>\n",
       "      <td>32158.0</td>\n",
       "      <td>59093</td>\n",
       "      <td>2015</td>\n",
       "      <td>2.0</td>\n",
       "      <td>0.0</td>\n",
       "      <td>1.0</td>\n",
       "      <td>0.0</td>\n",
       "      <td>0.0</td>\n",
       "      <td>0.0</td>\n",
       "      <td>0.0</td>\n",
       "      <td>0.0</td>\n",
       "      <td>0.0</td>\n",
       "      <td>0.0</td>\n",
       "      <td>0.0</td>\n",
       "    </tr>\n",
       "    <tr>\n",
       "      <th>1</th>\n",
       "      <td>12437.0</td>\n",
       "      <td>56445</td>\n",
       "      <td>1990</td>\n",
       "      <td>4.0</td>\n",
       "      <td>0.0</td>\n",
       "      <td>0.0</td>\n",
       "      <td>0.0</td>\n",
       "      <td>0.0</td>\n",
       "      <td>0.0</td>\n",
       "      <td>0.0</td>\n",
       "      <td>0.0</td>\n",
       "      <td>0.0</td>\n",
       "      <td>1.0</td>\n",
       "      <td>0.0</td>\n",
       "    </tr>\n",
       "    <tr>\n",
       "      <th>2</th>\n",
       "      <td>25305.0</td>\n",
       "      <td>312058</td>\n",
       "      <td>1978</td>\n",
       "      <td>0.0</td>\n",
       "      <td>0.0</td>\n",
       "      <td>0.0</td>\n",
       "      <td>1.0</td>\n",
       "      <td>0.0</td>\n",
       "      <td>0.0</td>\n",
       "      <td>0.0</td>\n",
       "      <td>0.0</td>\n",
       "      <td>0.0</td>\n",
       "      <td>0.0</td>\n",
       "      <td>0.0</td>\n",
       "    </tr>\n",
       "    <tr>\n",
       "      <th>3</th>\n",
       "      <td>17835.0</td>\n",
       "      <td>23150</td>\n",
       "      <td>2017</td>\n",
       "      <td>0.0</td>\n",
       "      <td>0.0</td>\n",
       "      <td>1.0</td>\n",
       "      <td>0.0</td>\n",
       "      <td>0.0</td>\n",
       "      <td>0.0</td>\n",
       "      <td>0.0</td>\n",
       "      <td>0.0</td>\n",
       "      <td>0.0</td>\n",
       "      <td>0.0</td>\n",
       "      <td>0.0</td>\n",
       "    </tr>\n",
       "    <tr>\n",
       "      <th>4</th>\n",
       "      <td>7357.0</td>\n",
       "      <td>138958</td>\n",
       "      <td>2000</td>\n",
       "      <td>1.0</td>\n",
       "      <td>0.0</td>\n",
       "      <td>0.0</td>\n",
       "      <td>0.0</td>\n",
       "      <td>0.0</td>\n",
       "      <td>0.0</td>\n",
       "      <td>1.0</td>\n",
       "      <td>0.0</td>\n",
       "      <td>0.0</td>\n",
       "      <td>0.0</td>\n",
       "      <td>0.0</td>\n",
       "    </tr>\n",
       "  </tbody>\n",
       "</table>\n",
       "</div>"
      ],
      "text/plain": [
       "   selling_price  mileage  year_manufactured  condition_transformed  \\\n",
       "0        32158.0    59093               2015                    2.0   \n",
       "1        12437.0    56445               1990                    4.0   \n",
       "2        25305.0   312058               1978                    0.0   \n",
       "3        17835.0    23150               2017                    0.0   \n",
       "4         7357.0   138958               2000                    1.0   \n",
       "\n",
       "   brand_Audi  brand_BMW  brand_Bugatti  brand_Fiat  brand_Mercedes  \\\n",
       "0         0.0        1.0            0.0         0.0             0.0   \n",
       "1         0.0        0.0            0.0         0.0             0.0   \n",
       "2         0.0        0.0            1.0         0.0             0.0   \n",
       "3         0.0        1.0            0.0         0.0             0.0   \n",
       "4         0.0        0.0            0.0         0.0             0.0   \n",
       "\n",
       "   brand_Renault  brand_Seat  brand_Skoda  brand_Toyota  brand_VW  \n",
       "0            0.0         0.0          0.0           0.0       0.0  \n",
       "1            0.0         0.0          0.0           1.0       0.0  \n",
       "2            0.0         0.0          0.0           0.0       0.0  \n",
       "3            0.0         0.0          0.0           0.0       0.0  \n",
       "4            1.0         0.0          0.0           0.0       0.0  "
      ]
     },
     "execution_count": 28,
     "metadata": {},
     "output_type": "execute_result"
    }
   ],
   "source": [
    "X_train_ohe, X_test_ohe = OneHotEncode(X_train, X_test, \"brand\", handle_unknown=\"ignore\",sparse=False)\n",
    "X_train_ohe.head()"
   ]
  },
  {
   "cell_type": "markdown",
   "metadata": {},
   "source": [
    "<div class=\"alert alert-block alert-info\">\n",
    "<b>Info</b> \n",
    "\n",
    "Alternatywnie zamiast OneHotEncoder można wykorzystać funkcję <b>get_dummies</b> z biblioteki pandas, która jest nieco prostsza w użyciu, jednak OneHotEncoder jest lepiej dostosowany do obsługi niewidzianych wartości a ponadto znacznie łatwiej go zastosować w ramach pipeline\n",
    "</div>"
   ]
  },
  {
   "cell_type": "markdown",
   "metadata": {},
   "source": [
    "jak widzimy nawet przy tak niskiej liczbie atrybutów wymiarowość naszych danych znacznie wzrosła. W prawdziwych zastosowaniach możemy się spotkać ze zbiorami danych mającymi wiele zmiennych kategorycznych o dziesiątkach lub setkach unikalnych atrybutów, więc metodę OneHotEncoder zaleca się stosować tylko tam, gdzie atrybuty są niezbyt liczne, w pozostałych sytuacjach lepiej skorzystać z <b>kodowania zmienną celu</b>"
   ]
  },
  {
   "cell_type": "markdown",
   "metadata": {
    "ExecuteTime": {
     "end_time": "2021-10-12T09:05:01.108185Z",
     "start_time": "2021-10-12T09:05:01.092691Z"
    }
   },
   "source": [
    "<div class=\"alert alert-block alert-success\">\n",
    "<b>Definicja</b> \n",
    "\n",
    "<b>kodowanie zmienną celu</b> (ang. *Target encoding*) - reprezentacja każdego atrybutu kodowanej zmiennej jako estymata średniej wartości zmiennej celu na danych treningowych\n",
    "</div>"
   ]
  },
  {
   "cell_type": "markdown",
   "metadata": {},
   "source": [
    "Kodowanie zmienną celu stanowi jedną z najbardziej uniwersalnych metod kodowania zmiennych kategorycznych, nie wymaga naturalnego porządku w danych jak kodowanie porządkowe i nie zwiększa wymiarowości danych jak kodowanie 1 z n.\n",
    "\n",
    "Istnieje wiele różnych sposobów kodowania zmiennej celu, my tutaj posłużymy się metodą James-Stein Encoder dostępną w bibliotece category_encoders"
   ]
  },
  {
   "cell_type": "markdown",
   "metadata": {
    "ExecuteTime": {
     "end_time": "2021-10-12T09:15:40.326427Z",
     "start_time": "2021-10-12T09:15:40.319428Z"
    }
   },
   "source": [
    "<div class=\"alert alert-block alert-success\">\n",
    "<b>Definicja</b> \n",
    "\n",
    "Formuła na zakodowaną wartość k-tego atrybutu kodowanej zmiennej:\n",
    "$$\n",
    "X_{k} = (1-B) *Avg(Y_{k}) +B*Avg(Y)\n",
    "$$\n",
    "\n",
    "    \n",
    "gdzie:\n",
    "    \n",
    "$X_{k}$ - wartość przypisana k-temu atrybutowi kodowanej zmiennej kategorycznej\n",
    "    \n",
    "$Avg(Y_{k})$ - średnia wartości zmiennej celu dla k-tego atrybutu zmiennej kategorycznej\n",
    "    \n",
    "$Avg(Y)$ - globalna średnia zmiennej celu na zbiorze treningowym\n",
    "    \n",
    "$B$ -waga globalnej średniej, wyliczona według formuły:\n",
    "$$\n",
    "B = \\frac{Var(Y_{k})}{Var(Y) + Var(Y_{k})}\n",
    "$$\n",
    "gdzie:\n",
    "\n",
    "$Var(Y_{k})$ - wariancja zmiennej celu dla k-tego atrybutu zmiennej kategorycznej\n",
    "\n",
    "$Var(Y)$ - wariancja zmiennej celu dla całego zbioru treningowego"
   ]
  },
  {
   "cell_type": "markdown",
   "metadata": {},
   "source": [
    "importujemy potrzebną klasę"
   ]
  },
  {
   "cell_type": "code",
   "execution_count": 29,
   "metadata": {
    "ExecuteTime": {
     "end_time": "2021-10-13T07:16:47.637140Z",
     "start_time": "2021-10-13T07:16:46.169136Z"
    }
   },
   "outputs": [
    {
     "ename": "ModuleNotFoundError",
     "evalue": "No module named 'category_encoders'",
     "output_type": "error",
     "traceback": [
      "\u001b[1;31m---------------------------------------------------------------------------\u001b[0m",
      "\u001b[1;31mModuleNotFoundError\u001b[0m                       Traceback (most recent call last)",
      "\u001b[1;32m~\\AppData\\Local\\Temp/ipykernel_20656/3407394618.py\u001b[0m in \u001b[0;36m<module>\u001b[1;34m\u001b[0m\n\u001b[1;32m----> 1\u001b[1;33m \u001b[1;32mfrom\u001b[0m \u001b[0mcategory_encoders\u001b[0m\u001b[1;33m.\u001b[0m\u001b[0mjames_stein\u001b[0m \u001b[1;32mimport\u001b[0m \u001b[0mJamesSteinEncoder\u001b[0m\u001b[1;33m\u001b[0m\u001b[1;33m\u001b[0m\u001b[0m\n\u001b[0m",
      "\u001b[1;31mModuleNotFoundError\u001b[0m: No module named 'category_encoders'"
     ]
    }
   ],
   "source": [
    "from category_encoders.james_stein import JamesSteinEncoder"
   ]
  },
  {
   "cell_type": "markdown",
   "metadata": {},
   "source": [
    "tworzymy obiekt klasy JamesSteinEncoder, wybierając kolumnę brand do przekształcenia, domyślnie przekształcone zostaną wszystkie kolumny kategoryczne"
   ]
  },
  {
   "cell_type": "code",
   "execution_count": null,
   "metadata": {
    "ExecuteTime": {
     "end_time": "2021-10-13T07:16:48.554893Z",
     "start_time": "2021-10-13T07:16:48.542897Z"
    }
   },
   "outputs": [],
   "source": [
    "jse = JamesSteinEncoder(cols=[\"brand\"])"
   ]
  },
  {
   "cell_type": "markdown",
   "metadata": {},
   "source": [
    "tak jak w transformerach z biblioteki sklearn także tutaj posługujemy się metodami <b>fit</b> i <b>transform</b>, jednak jako, że jest to kodowanie zmienną celu niezbędne jest jej podanie do metody fit, dlatego najpierw wydzielimy zmienną celu"
   ]
  },
  {
   "cell_type": "code",
   "execution_count": null,
   "metadata": {
    "ExecuteTime": {
     "end_time": "2021-10-13T07:16:49.316898Z",
     "start_time": "2021-10-13T07:16:49.305893Z"
    }
   },
   "outputs": [],
   "source": [
    "y_train = X_train.selling_price\n",
    "y_test = X_test.selling_price\n",
    "X_train = X_train.drop(\"selling_price\",axis=1)\n",
    "X_test = X_test.drop(\"selling_price\",axis=1)"
   ]
  },
  {
   "cell_type": "code",
   "execution_count": null,
   "metadata": {
    "ExecuteTime": {
     "end_time": "2021-10-13T07:16:50.323299Z",
     "start_time": "2021-10-13T07:16:50.254236Z"
    }
   },
   "outputs": [
    {
     "data": {
      "text/html": [
       "<div>\n",
       "<style scoped>\n",
       "    .dataframe tbody tr th:only-of-type {\n",
       "        vertical-align: middle;\n",
       "    }\n",
       "\n",
       "    .dataframe tbody tr th {\n",
       "        vertical-align: top;\n",
       "    }\n",
       "\n",
       "    .dataframe thead th {\n",
       "        text-align: right;\n",
       "    }\n",
       "</style>\n",
       "<table border=\"1\" class=\"dataframe\">\n",
       "  <thead>\n",
       "    <tr style=\"text-align: right;\">\n",
       "      <th></th>\n",
       "      <th>mileage</th>\n",
       "      <th>brand</th>\n",
       "      <th>year_manufactured</th>\n",
       "      <th>condition_transformed</th>\n",
       "    </tr>\n",
       "  </thead>\n",
       "  <tbody>\n",
       "    <tr>\n",
       "      <th>82</th>\n",
       "      <td>524486</td>\n",
       "      <td>9530.009707</td>\n",
       "      <td>1956</td>\n",
       "      <td>2.0</td>\n",
       "    </tr>\n",
       "    <tr>\n",
       "      <th>991</th>\n",
       "      <td>166856</td>\n",
       "      <td>10018.691398</td>\n",
       "      <td>1996</td>\n",
       "      <td>3.0</td>\n",
       "    </tr>\n",
       "    <tr>\n",
       "      <th>789</th>\n",
       "      <td>94191</td>\n",
       "      <td>9636.700001</td>\n",
       "      <td>2000</td>\n",
       "      <td>2.0</td>\n",
       "    </tr>\n",
       "    <tr>\n",
       "      <th>894</th>\n",
       "      <td>54210</td>\n",
       "      <td>9530.009707</td>\n",
       "      <td>1954</td>\n",
       "      <td>1.0</td>\n",
       "    </tr>\n",
       "    <tr>\n",
       "      <th>398</th>\n",
       "      <td>264049</td>\n",
       "      <td>9636.700001</td>\n",
       "      <td>1985</td>\n",
       "      <td>4.0</td>\n",
       "    </tr>\n",
       "  </tbody>\n",
       "</table>\n",
       "</div>"
      ],
      "text/plain": [
       "     mileage         brand  year_manufactured  condition_transformed\n",
       "82    524486   9530.009707               1956                    2.0\n",
       "991   166856  10018.691398               1996                    3.0\n",
       "789    94191   9636.700001               2000                    2.0\n",
       "894    54210   9530.009707               1954                    1.0\n",
       "398   264049   9636.700001               1985                    4.0"
      ]
     },
     "execution_count": 34,
     "metadata": {},
     "output_type": "execute_result"
    }
   ],
   "source": [
    "jse.fit(X_train,y_train)\n",
    "X_train_jse = jse.transform(X_train)\n",
    "X_test_jse = jse.transform(X_test)\n",
    "X_train_jse.head()"
   ]
  },
  {
   "cell_type": "markdown",
   "metadata": {},
   "source": [
    "jak widzimy zmienna brand została teraz zastąpiona estymatami średniej wartości zmiennej celu w zależności od brandu"
   ]
  },
  {
   "cell_type": "markdown",
   "metadata": {},
   "source": [
    "# łączenie atrybutów cech kategorycznych"
   ]
  },
  {
   "cell_type": "markdown",
   "metadata": {},
   "source": [
    "Oprócz standardowych metod transformacji zmiennych kategorycznych opisanych w poprzedniej sekcji można też stosować różne przekształcenia polegające na łączeniu pierwotnych atrybutów w podgrupy. Takie łączenie może być oparte na podobieństwie atrybutów pod katęm statystycznym np. zbliżony poziom średniej wartości zmiennej celu lub, co bardziej zalecane - na wiedzy domenowej."
   ]
  },
  {
   "cell_type": "markdown",
   "metadata": {},
   "source": [
    "Tutaj zaprezentujemy prosty przykład łączenia atrybutów oparty na wiedzy domenowej - załóżmy, że znamy podział wszystkich marek samochodów ze zmiennej brand na 3 relatywnie jednolite podgrupy - marki podstawowe, marki premium i marki luksusowe. Na tej podstawie stworzymy nową zmienną korzystając z prostej funkcji:"
   ]
  },
  {
   "cell_type": "code",
   "execution_count": null,
   "metadata": {
    "ExecuteTime": {
     "end_time": "2021-10-13T07:16:54.379596Z",
     "start_time": "2021-10-13T07:16:54.368589Z"
    }
   },
   "outputs": [],
   "source": [
    "def brand_binning(brand):\n",
    "    result =\"standard\"\n",
    "    standard_brands = [\"Fiat\",\"Renault\",\"VW\", \"Seat\", \"Skoda\",\"Toyota\"]\n",
    "    premium_brands = [\"Audi\",\"BMW\",\"Mercedes\"]\n",
    "    luxury_brands = [\"Bugatti\"]\n",
    "    if brand in luxury_brands:\n",
    "        result = \"luxury\"\n",
    "    elif brand in premium_brands:\n",
    "        result = \"premium\"\n",
    "    return result"
   ]
  },
  {
   "cell_type": "code",
   "execution_count": null,
   "metadata": {
    "ExecuteTime": {
     "end_time": "2021-10-13T07:16:55.433592Z",
     "start_time": "2021-10-13T07:16:55.399599Z"
    }
   },
   "outputs": [
    {
     "data": {
      "text/html": [
       "<div>\n",
       "<style scoped>\n",
       "    .dataframe tbody tr th:only-of-type {\n",
       "        vertical-align: middle;\n",
       "    }\n",
       "\n",
       "    .dataframe tbody tr th {\n",
       "        vertical-align: top;\n",
       "    }\n",
       "\n",
       "    .dataframe thead th {\n",
       "        text-align: right;\n",
       "    }\n",
       "</style>\n",
       "<table border=\"1\" class=\"dataframe\">\n",
       "  <thead>\n",
       "    <tr style=\"text-align: right;\">\n",
       "      <th></th>\n",
       "      <th>mileage</th>\n",
       "      <th>brand</th>\n",
       "      <th>year_manufactured</th>\n",
       "      <th>condition_transformed</th>\n",
       "      <th>brand_binned</th>\n",
       "    </tr>\n",
       "  </thead>\n",
       "  <tbody>\n",
       "    <tr>\n",
       "      <th>82</th>\n",
       "      <td>524486</td>\n",
       "      <td>VW</td>\n",
       "      <td>1956</td>\n",
       "      <td>2.0</td>\n",
       "      <td>standard</td>\n",
       "    </tr>\n",
       "    <tr>\n",
       "      <th>991</th>\n",
       "      <td>166856</td>\n",
       "      <td>Toyota</td>\n",
       "      <td>1996</td>\n",
       "      <td>3.0</td>\n",
       "      <td>standard</td>\n",
       "    </tr>\n",
       "    <tr>\n",
       "      <th>789</th>\n",
       "      <td>94191</td>\n",
       "      <td>Skoda</td>\n",
       "      <td>2000</td>\n",
       "      <td>2.0</td>\n",
       "      <td>standard</td>\n",
       "    </tr>\n",
       "    <tr>\n",
       "      <th>894</th>\n",
       "      <td>54210</td>\n",
       "      <td>VW</td>\n",
       "      <td>1954</td>\n",
       "      <td>1.0</td>\n",
       "      <td>standard</td>\n",
       "    </tr>\n",
       "    <tr>\n",
       "      <th>398</th>\n",
       "      <td>264049</td>\n",
       "      <td>Skoda</td>\n",
       "      <td>1985</td>\n",
       "      <td>4.0</td>\n",
       "      <td>standard</td>\n",
       "    </tr>\n",
       "  </tbody>\n",
       "</table>\n",
       "</div>"
      ],
      "text/plain": [
       "     mileage   brand  year_manufactured  condition_transformed brand_binned\n",
       "82    524486      VW               1956                    2.0     standard\n",
       "991   166856  Toyota               1996                    3.0     standard\n",
       "789    94191   Skoda               2000                    2.0     standard\n",
       "894    54210      VW               1954                    1.0     standard\n",
       "398   264049   Skoda               1985                    4.0     standard"
      ]
     },
     "execution_count": 36,
     "metadata": {},
     "output_type": "execute_result"
    }
   ],
   "source": [
    "X_train[\"brand_binned\"] = X_train[\"brand\"].map(lambda x:brand_binning(x))\n",
    "X_test[\"brand_binned\"] = X_test[\"brand\"].map(lambda x:brand_binning(x))\n",
    "X_train.head()"
   ]
  },
  {
   "cell_type": "markdown",
   "metadata": {},
   "source": [
    "możemy też sprawdzić jak wygląda unikalne przypisanie pomiędzy pierwotną a zgrupowaną zmienną:"
   ]
  },
  {
   "cell_type": "code",
   "execution_count": null,
   "metadata": {
    "ExecuteTime": {
     "end_time": "2021-10-13T07:16:56.678205Z",
     "start_time": "2021-10-13T07:16:56.663102Z"
    }
   },
   "outputs": [
    {
     "data": {
      "text/html": [
       "<div>\n",
       "<style scoped>\n",
       "    .dataframe tbody tr th:only-of-type {\n",
       "        vertical-align: middle;\n",
       "    }\n",
       "\n",
       "    .dataframe tbody tr th {\n",
       "        vertical-align: top;\n",
       "    }\n",
       "\n",
       "    .dataframe thead th {\n",
       "        text-align: right;\n",
       "    }\n",
       "</style>\n",
       "<table border=\"1\" class=\"dataframe\">\n",
       "  <thead>\n",
       "    <tr style=\"text-align: right;\">\n",
       "      <th></th>\n",
       "      <th>brand</th>\n",
       "      <th>brand_binned</th>\n",
       "    </tr>\n",
       "  </thead>\n",
       "  <tbody>\n",
       "    <tr>\n",
       "      <th>5</th>\n",
       "      <td>Bugatti</td>\n",
       "      <td>luxury</td>\n",
       "    </tr>\n",
       "    <tr>\n",
       "      <th>323</th>\n",
       "      <td>Audi</td>\n",
       "      <td>premium</td>\n",
       "    </tr>\n",
       "    <tr>\n",
       "      <th>798</th>\n",
       "      <td>Mercedes</td>\n",
       "      <td>premium</td>\n",
       "    </tr>\n",
       "    <tr>\n",
       "      <th>717</th>\n",
       "      <td>BMW</td>\n",
       "      <td>premium</td>\n",
       "    </tr>\n",
       "    <tr>\n",
       "      <th>82</th>\n",
       "      <td>VW</td>\n",
       "      <td>standard</td>\n",
       "    </tr>\n",
       "    <tr>\n",
       "      <th>991</th>\n",
       "      <td>Toyota</td>\n",
       "      <td>standard</td>\n",
       "    </tr>\n",
       "    <tr>\n",
       "      <th>789</th>\n",
       "      <td>Skoda</td>\n",
       "      <td>standard</td>\n",
       "    </tr>\n",
       "    <tr>\n",
       "      <th>731</th>\n",
       "      <td>Fiat</td>\n",
       "      <td>standard</td>\n",
       "    </tr>\n",
       "    <tr>\n",
       "      <th>97</th>\n",
       "      <td>Renault</td>\n",
       "      <td>standard</td>\n",
       "    </tr>\n",
       "    <tr>\n",
       "      <th>523</th>\n",
       "      <td>Seat</td>\n",
       "      <td>standard</td>\n",
       "    </tr>\n",
       "  </tbody>\n",
       "</table>\n",
       "</div>"
      ],
      "text/plain": [
       "        brand brand_binned\n",
       "5     Bugatti       luxury\n",
       "323      Audi      premium\n",
       "798  Mercedes      premium\n",
       "717       BMW      premium\n",
       "82         VW     standard\n",
       "991    Toyota     standard\n",
       "789     Skoda     standard\n",
       "731      Fiat     standard\n",
       "97    Renault     standard\n",
       "523      Seat     standard"
      ]
     },
     "execution_count": 37,
     "metadata": {},
     "output_type": "execute_result"
    }
   ],
   "source": [
    "X_train[[\"brand\",\"brand_binned\"]].drop_duplicates().sort_values(by=\"brand_binned\")"
   ]
  },
  {
   "cell_type": "markdown",
   "metadata": {},
   "source": [
    "jak widzimy przypisanie zostało przeprowadzone poprawnie, nowa zmienna niesie mniej informacji niż zmienna pierwotna, dlatego zastąpienie nią pierwotnej zmiennej może być pomocne jeśli mamy problem z przeuczeniem modelu. Oczywiście tak powstałą zmienną należy potem jeszcze przetransformować zgodnie z wytycznymi z poprzedniej sekcji."
   ]
  },
  {
   "cell_type": "markdown",
   "metadata": {
    "ExecuteTime": {
     "end_time": "2021-10-12T10:12:01.320269Z",
     "start_time": "2021-10-12T10:12:01.311270Z"
    }
   },
   "source": [
    "# Cechy oparte na wiedzy domenowej oraz cechy interakcji"
   ]
  },
  {
   "cell_type": "markdown",
   "metadata": {},
   "source": [
    "Zaprezentowane powyżej grupowanie marek polegało na przekształceniu zmiennej kategorycznej w oparciu o wiedzę domenową. Tutaj pokażemy przykłady zastosowania wiedzy domenowej na zmiennych numerycznych i interakcji cech numerycznych i katgorycznych."
   ]
  },
  {
   "cell_type": "markdown",
   "metadata": {},
   "source": [
    "Przykładem prostej cechy opartej na wiedzy domenowej może być wiek samochodu w momencie sprzedaży. Nie mamy tutaj informacji o dacie transakcji, dlatego można dla ułatwienia założyć, że wszystkie transakcje odbyły się w bieżącym roku."
   ]
  },
  {
   "cell_type": "code",
   "execution_count": null,
   "metadata": {
    "ExecuteTime": {
     "end_time": "2021-10-13T07:17:00.413063Z",
     "start_time": "2021-10-13T07:17:00.375401Z"
    }
   },
   "outputs": [
    {
     "data": {
      "text/html": [
       "<div>\n",
       "<style scoped>\n",
       "    .dataframe tbody tr th:only-of-type {\n",
       "        vertical-align: middle;\n",
       "    }\n",
       "\n",
       "    .dataframe tbody tr th {\n",
       "        vertical-align: top;\n",
       "    }\n",
       "\n",
       "    .dataframe thead th {\n",
       "        text-align: right;\n",
       "    }\n",
       "</style>\n",
       "<table border=\"1\" class=\"dataframe\">\n",
       "  <thead>\n",
       "    <tr style=\"text-align: right;\">\n",
       "      <th></th>\n",
       "      <th>mileage</th>\n",
       "      <th>brand</th>\n",
       "      <th>year_manufactured</th>\n",
       "      <th>condition_transformed</th>\n",
       "      <th>brand_binned</th>\n",
       "      <th>age</th>\n",
       "    </tr>\n",
       "  </thead>\n",
       "  <tbody>\n",
       "    <tr>\n",
       "      <th>82</th>\n",
       "      <td>524486</td>\n",
       "      <td>VW</td>\n",
       "      <td>1956</td>\n",
       "      <td>2.0</td>\n",
       "      <td>standard</td>\n",
       "      <td>65</td>\n",
       "    </tr>\n",
       "    <tr>\n",
       "      <th>991</th>\n",
       "      <td>166856</td>\n",
       "      <td>Toyota</td>\n",
       "      <td>1996</td>\n",
       "      <td>3.0</td>\n",
       "      <td>standard</td>\n",
       "      <td>25</td>\n",
       "    </tr>\n",
       "    <tr>\n",
       "      <th>789</th>\n",
       "      <td>94191</td>\n",
       "      <td>Skoda</td>\n",
       "      <td>2000</td>\n",
       "      <td>2.0</td>\n",
       "      <td>standard</td>\n",
       "      <td>21</td>\n",
       "    </tr>\n",
       "    <tr>\n",
       "      <th>894</th>\n",
       "      <td>54210</td>\n",
       "      <td>VW</td>\n",
       "      <td>1954</td>\n",
       "      <td>1.0</td>\n",
       "      <td>standard</td>\n",
       "      <td>67</td>\n",
       "    </tr>\n",
       "    <tr>\n",
       "      <th>398</th>\n",
       "      <td>264049</td>\n",
       "      <td>Skoda</td>\n",
       "      <td>1985</td>\n",
       "      <td>4.0</td>\n",
       "      <td>standard</td>\n",
       "      <td>36</td>\n",
       "    </tr>\n",
       "    <tr>\n",
       "      <th>...</th>\n",
       "      <td>...</td>\n",
       "      <td>...</td>\n",
       "      <td>...</td>\n",
       "      <td>...</td>\n",
       "      <td>...</td>\n",
       "      <td>...</td>\n",
       "    </tr>\n",
       "    <tr>\n",
       "      <th>106</th>\n",
       "      <td>127914</td>\n",
       "      <td>Mercedes</td>\n",
       "      <td>1990</td>\n",
       "      <td>3.0</td>\n",
       "      <td>premium</td>\n",
       "      <td>31</td>\n",
       "    </tr>\n",
       "    <tr>\n",
       "      <th>270</th>\n",
       "      <td>185880</td>\n",
       "      <td>Seat</td>\n",
       "      <td>1962</td>\n",
       "      <td>3.0</td>\n",
       "      <td>standard</td>\n",
       "      <td>59</td>\n",
       "    </tr>\n",
       "    <tr>\n",
       "      <th>860</th>\n",
       "      <td>116011</td>\n",
       "      <td>VW</td>\n",
       "      <td>2007</td>\n",
       "      <td>0.0</td>\n",
       "      <td>standard</td>\n",
       "      <td>14</td>\n",
       "    </tr>\n",
       "    <tr>\n",
       "      <th>435</th>\n",
       "      <td>25782</td>\n",
       "      <td>Skoda</td>\n",
       "      <td>2014</td>\n",
       "      <td>2.0</td>\n",
       "      <td>standard</td>\n",
       "      <td>7</td>\n",
       "    </tr>\n",
       "    <tr>\n",
       "      <th>102</th>\n",
       "      <td>145116</td>\n",
       "      <td>Skoda</td>\n",
       "      <td>1979</td>\n",
       "      <td>2.0</td>\n",
       "      <td>standard</td>\n",
       "      <td>42</td>\n",
       "    </tr>\n",
       "  </tbody>\n",
       "</table>\n",
       "<p>750 rows × 6 columns</p>\n",
       "</div>"
      ],
      "text/plain": [
       "     mileage     brand  year_manufactured  condition_transformed brand_binned  \\\n",
       "82    524486        VW               1956                    2.0     standard   \n",
       "991   166856    Toyota               1996                    3.0     standard   \n",
       "789    94191     Skoda               2000                    2.0     standard   \n",
       "894    54210        VW               1954                    1.0     standard   \n",
       "398   264049     Skoda               1985                    4.0     standard   \n",
       "..       ...       ...                ...                    ...          ...   \n",
       "106   127914  Mercedes               1990                    3.0      premium   \n",
       "270   185880      Seat               1962                    3.0     standard   \n",
       "860   116011        VW               2007                    0.0     standard   \n",
       "435    25782     Skoda               2014                    2.0     standard   \n",
       "102   145116     Skoda               1979                    2.0     standard   \n",
       "\n",
       "     age  \n",
       "82    65  \n",
       "991   25  \n",
       "789   21  \n",
       "894   67  \n",
       "398   36  \n",
       "..   ...  \n",
       "106   31  \n",
       "270   59  \n",
       "860   14  \n",
       "435    7  \n",
       "102   42  \n",
       "\n",
       "[750 rows x 6 columns]"
      ]
     },
     "execution_count": 38,
     "metadata": {},
     "output_type": "execute_result"
    }
   ],
   "source": [
    "X_train[\"age\"] = 2021 - X_train[\"year_manufactured\"]\n",
    "X_test[\"age\"] = 2021 - X_test[\"year_manufactured\"]\n",
    "X_train"
   ]
  },
  {
   "cell_type": "markdown",
   "metadata": {},
   "source": [
    "Zmienne interakcji można wygenerować stosując np. iloczyny poszczególnych zmiennych numerycznych, tutaj wydaje się to nie być najlepszy pomysł, ponieważ intuicyjnie czujemy, że np mnożenie przebiegu * rok produkcji nie będzie zbyt dobrą cechą predykcyjną. Można natomiast wyliczyć np średni roczny przebieg dzieląc przebieg przez dodany powyżej wiek samochodu."
   ]
  },
  {
   "cell_type": "code",
   "execution_count": null,
   "metadata": {
    "ExecuteTime": {
     "end_time": "2021-10-13T07:17:02.036080Z",
     "start_time": "2021-10-13T07:17:02.002080Z"
    }
   },
   "outputs": [
    {
     "data": {
      "text/html": [
       "<div>\n",
       "<style scoped>\n",
       "    .dataframe tbody tr th:only-of-type {\n",
       "        vertical-align: middle;\n",
       "    }\n",
       "\n",
       "    .dataframe tbody tr th {\n",
       "        vertical-align: top;\n",
       "    }\n",
       "\n",
       "    .dataframe thead th {\n",
       "        text-align: right;\n",
       "    }\n",
       "</style>\n",
       "<table border=\"1\" class=\"dataframe\">\n",
       "  <thead>\n",
       "    <tr style=\"text-align: right;\">\n",
       "      <th></th>\n",
       "      <th>mileage</th>\n",
       "      <th>brand</th>\n",
       "      <th>year_manufactured</th>\n",
       "      <th>condition_transformed</th>\n",
       "      <th>brand_binned</th>\n",
       "      <th>age</th>\n",
       "      <th>avg_yearly_mileage</th>\n",
       "    </tr>\n",
       "  </thead>\n",
       "  <tbody>\n",
       "    <tr>\n",
       "      <th>82</th>\n",
       "      <td>524486</td>\n",
       "      <td>VW</td>\n",
       "      <td>1956</td>\n",
       "      <td>2.0</td>\n",
       "      <td>standard</td>\n",
       "      <td>65</td>\n",
       "      <td>8069.0</td>\n",
       "    </tr>\n",
       "    <tr>\n",
       "      <th>991</th>\n",
       "      <td>166856</td>\n",
       "      <td>Toyota</td>\n",
       "      <td>1996</td>\n",
       "      <td>3.0</td>\n",
       "      <td>standard</td>\n",
       "      <td>25</td>\n",
       "      <td>6674.0</td>\n",
       "    </tr>\n",
       "    <tr>\n",
       "      <th>789</th>\n",
       "      <td>94191</td>\n",
       "      <td>Skoda</td>\n",
       "      <td>2000</td>\n",
       "      <td>2.0</td>\n",
       "      <td>standard</td>\n",
       "      <td>21</td>\n",
       "      <td>4485.0</td>\n",
       "    </tr>\n",
       "    <tr>\n",
       "      <th>894</th>\n",
       "      <td>54210</td>\n",
       "      <td>VW</td>\n",
       "      <td>1954</td>\n",
       "      <td>1.0</td>\n",
       "      <td>standard</td>\n",
       "      <td>67</td>\n",
       "      <td>809.0</td>\n",
       "    </tr>\n",
       "    <tr>\n",
       "      <th>398</th>\n",
       "      <td>264049</td>\n",
       "      <td>Skoda</td>\n",
       "      <td>1985</td>\n",
       "      <td>4.0</td>\n",
       "      <td>standard</td>\n",
       "      <td>36</td>\n",
       "      <td>7335.0</td>\n",
       "    </tr>\n",
       "    <tr>\n",
       "      <th>...</th>\n",
       "      <td>...</td>\n",
       "      <td>...</td>\n",
       "      <td>...</td>\n",
       "      <td>...</td>\n",
       "      <td>...</td>\n",
       "      <td>...</td>\n",
       "      <td>...</td>\n",
       "    </tr>\n",
       "    <tr>\n",
       "      <th>106</th>\n",
       "      <td>127914</td>\n",
       "      <td>Mercedes</td>\n",
       "      <td>1990</td>\n",
       "      <td>3.0</td>\n",
       "      <td>premium</td>\n",
       "      <td>31</td>\n",
       "      <td>4126.0</td>\n",
       "    </tr>\n",
       "    <tr>\n",
       "      <th>270</th>\n",
       "      <td>185880</td>\n",
       "      <td>Seat</td>\n",
       "      <td>1962</td>\n",
       "      <td>3.0</td>\n",
       "      <td>standard</td>\n",
       "      <td>59</td>\n",
       "      <td>3151.0</td>\n",
       "    </tr>\n",
       "    <tr>\n",
       "      <th>860</th>\n",
       "      <td>116011</td>\n",
       "      <td>VW</td>\n",
       "      <td>2007</td>\n",
       "      <td>0.0</td>\n",
       "      <td>standard</td>\n",
       "      <td>14</td>\n",
       "      <td>8286.0</td>\n",
       "    </tr>\n",
       "    <tr>\n",
       "      <th>435</th>\n",
       "      <td>25782</td>\n",
       "      <td>Skoda</td>\n",
       "      <td>2014</td>\n",
       "      <td>2.0</td>\n",
       "      <td>standard</td>\n",
       "      <td>7</td>\n",
       "      <td>3683.0</td>\n",
       "    </tr>\n",
       "    <tr>\n",
       "      <th>102</th>\n",
       "      <td>145116</td>\n",
       "      <td>Skoda</td>\n",
       "      <td>1979</td>\n",
       "      <td>2.0</td>\n",
       "      <td>standard</td>\n",
       "      <td>42</td>\n",
       "      <td>3455.0</td>\n",
       "    </tr>\n",
       "  </tbody>\n",
       "</table>\n",
       "<p>750 rows × 7 columns</p>\n",
       "</div>"
      ],
      "text/plain": [
       "     mileage     brand  year_manufactured  condition_transformed brand_binned  \\\n",
       "82    524486        VW               1956                    2.0     standard   \n",
       "991   166856    Toyota               1996                    3.0     standard   \n",
       "789    94191     Skoda               2000                    2.0     standard   \n",
       "894    54210        VW               1954                    1.0     standard   \n",
       "398   264049     Skoda               1985                    4.0     standard   \n",
       "..       ...       ...                ...                    ...          ...   \n",
       "106   127914  Mercedes               1990                    3.0      premium   \n",
       "270   185880      Seat               1962                    3.0     standard   \n",
       "860   116011        VW               2007                    0.0     standard   \n",
       "435    25782     Skoda               2014                    2.0     standard   \n",
       "102   145116     Skoda               1979                    2.0     standard   \n",
       "\n",
       "     age  avg_yearly_mileage  \n",
       "82    65              8069.0  \n",
       "991   25              6674.0  \n",
       "789   21              4485.0  \n",
       "894   67               809.0  \n",
       "398   36              7335.0  \n",
       "..   ...                 ...  \n",
       "106   31              4126.0  \n",
       "270   59              3151.0  \n",
       "860   14              8286.0  \n",
       "435    7              3683.0  \n",
       "102   42              3455.0  \n",
       "\n",
       "[750 rows x 7 columns]"
      ]
     },
     "execution_count": 39,
     "metadata": {},
     "output_type": "execute_result"
    }
   ],
   "source": [
    "X_train[\"avg_yearly_mileage\"] = np.round(X_train[\"mileage\"]/X_train[\"age\"])\n",
    "X_test[\"avg_yearly_mileage\"] = np.round(X_test[\"mileage\"]/X_test[\"age\"])\n",
    "X_train"
   ]
  },
  {
   "cell_type": "markdown",
   "metadata": {},
   "source": [
    "Innym przykładem zmiennej opartej stricte na wiedzy domenowej łączecej ze sobą informacje ze zmiennych numerycznych i kategorycznych mogła by być informacja o klasycznych modelach. Załóżmy, że modele luksusowych marek wyprodukowane przed 1970 rokiem są modelami klasycznymi i jeśli ich stan jest co najmniej dobry to ich cena jest znacznie wyższa niż by to wynikało z wieku auta, gdzie normalnie spodziewamy się ujemnej relacji z ceną sprzedaży."
   ]
  },
  {
   "cell_type": "code",
   "execution_count": null,
   "metadata": {
    "ExecuteTime": {
     "end_time": "2021-10-13T07:17:03.554608Z",
     "start_time": "2021-10-13T07:17:03.535315Z"
    }
   },
   "outputs": [
    {
     "data": {
      "text/plain": [
       "0.0    739\n",
       "1.0     11\n",
       "Name: is_classic, dtype: int64"
      ]
     },
     "execution_count": 40,
     "metadata": {},
     "output_type": "execute_result"
    }
   ],
   "source": [
    "X_train.loc[(X_train.brand_binned==\"luxury\")&(X_train.year_manufactured<=1970)&(X_train.condition_transformed>2.0),\"is_classic\"]=1\n",
    "X_train[\"is_classic\"] = X_train[\"is_classic\"].fillna(0)\n",
    "X_test.loc[(X_test.brand_binned==\"luxury\")&(X_test.year_manufactured<=1970)&(X_test.condition_transformed>2.0),\"is_classic\"]=1\n",
    "X_test[\"is_classic\"] = X_test[\"is_classic\"].fillna(0)\n",
    "X_train[\"is_classic\"].value_counts()"
   ]
  },
  {
   "cell_type": "markdown",
   "metadata": {
    "ExecuteTime": {
     "end_time": "2021-10-12T10:57:29.776134Z",
     "start_time": "2021-10-12T10:57:29.751133Z"
    }
   },
   "source": [
    "Takie przypadki są stosunkowo rzadkie, ale tego typu zmienna może pomóc w dokładniejszym przewidzeniu tych obserwacji."
   ]
  },
  {
   "cell_type": "markdown",
   "metadata": {},
   "source": [
    "# Cechy oparte na transformacji zmiennych numerycznych"
   ]
  },
  {
   "cell_type": "markdown",
   "metadata": {},
   "source": [
    "Dość powszechnie spotykaną praktyką jest stosowanie nieliniowych transformacji zmiennych numerycznych, co zazwyczaj sprzyja uzyskaniu lepszej jakości predykcji ze względu na fakt, że modele najlepiej radzą sobie gdy rozkłady zmiennych są zbliżone do rozkładu normalnego."
   ]
  },
  {
   "cell_type": "markdown",
   "metadata": {
    "ExecuteTime": {
     "end_time": "2021-10-12T11:56:28.907518Z",
     "start_time": "2021-10-12T11:56:28.875293Z"
    }
   },
   "source": [
    "Często spotykaną jest po prostu logarytmowanie zmiennych numerycznych, tutaj natomiast posłużymy się gotowym transformerem z biblioteki sklearn, a mianowicie <b>PowerTransformer</b>"
   ]
  },
  {
   "cell_type": "code",
   "execution_count": null,
   "metadata": {
    "ExecuteTime": {
     "end_time": "2021-10-13T07:17:07.512038Z",
     "start_time": "2021-10-13T07:17:07.498042Z"
    }
   },
   "outputs": [],
   "source": [
    "from sklearn.preprocessing import PowerTransformer"
   ]
  },
  {
   "cell_type": "markdown",
   "metadata": {},
   "source": [
    "zanim dokonamy transformacji sprawdźmy jak wyglądają rozkłady zmiennych numerycznych, ograniczymy się tutaj do przebiegu, wieku i średniego przebiegu"
   ]
  },
  {
   "cell_type": "code",
   "execution_count": null,
   "metadata": {
    "ExecuteTime": {
     "end_time": "2021-10-13T07:17:09.592613Z",
     "start_time": "2021-10-13T07:17:08.864544Z"
    }
   },
   "outputs": [
    {
     "data": {
      "text/plain": [
       "array([[<AxesSubplot:title={'center':'mileage'}>,\n",
       "        <AxesSubplot:title={'center':'age'}>],\n",
       "       [<AxesSubplot:title={'center':'avg_yearly_mileage'}>,\n",
       "        <AxesSubplot:>]], dtype=object)"
      ]
     },
     "execution_count": 42,
     "metadata": {},
     "output_type": "execute_result"
    },
    {
     "data": {
      "image/png": "[encoded data removed]",
      "text/plain": [
       "<Figure size 1080x648 with 4 Axes>"
      ]
     },
     "metadata": {
      "filenames": {
       "image/png": "C:\\Users\\kazim\\book\\pg\\_build\\jupyter_execute\\6. Inzynieria_cech\\6_Inzynieria cech_102_1.png"
      },
      "needs_background": "light"
     },
     "output_type": "display_data"
    }
   ],
   "source": [
    "num_columns = [\"mileage\", \"age\",\"avg_yearly_mileage\"]\n",
    "X_train[num_columns].hist(figsize=(15,9), bins=30)"
   ]
  },
  {
   "cell_type": "markdown",
   "metadata": {},
   "source": [
    "można tu zaobserwować, że rozkład przebiegu jest silnie skośny, pozostałe 2 zmienne mają rozkład zbliżony do jednostajnego"
   ]
  },
  {
   "cell_type": "code",
   "execution_count": null,
   "metadata": {
    "ExecuteTime": {
     "end_time": "2021-10-13T07:17:10.658130Z",
     "start_time": "2021-10-13T07:17:10.645132Z"
    }
   },
   "outputs": [],
   "source": [
    "pt=PowerTransformer(standardize=False)"
   ]
  },
  {
   "cell_type": "markdown",
   "metadata": {},
   "source": [
    "tworzymy obiekt klasy PowerTransformer, korzystamy tutaj z domyślnej transformacji Yeo-Johnson, zmieniamy natomiast ustawienie o sprowadzeniu do rozkładu o średniej równej 0 i odchyleniu standardowym równym 1, które domyślnie jest ustawione na True"
   ]
  },
  {
   "cell_type": "markdown",
   "metadata": {},
   "source": [
    "<div class=\"alert alert-block alert-info\">\n",
    "<b>Info</b> \n",
    "\n",
    "Domyślna transformacja czyli metoda Yeo-Johnsona może być stosowana niezależnie od znaku transformowanych zmiennych, natomiast alternatywna transformacja Box-Cox wymaga ściśle dodatnich zmiennych na wejściu.\n",
    "</div>"
   ]
  },
  {
   "cell_type": "code",
   "execution_count": null,
   "metadata": {
    "ExecuteTime": {
     "end_time": "2021-10-13T07:17:12.567395Z",
     "start_time": "2021-10-13T07:17:12.504256Z"
    }
   },
   "outputs": [],
   "source": [
    "pt.fit(X_train[num_columns])\n",
    "X_train_num_transformed = pd.DataFrame(pt.transform(X_train[num_columns]), columns =num_columns)\n",
    "X_test_num_transformed =  pd.DataFrame(pt.transform(X_test[num_columns]), columns =num_columns)"
   ]
  },
  {
   "cell_type": "markdown",
   "metadata": {},
   "source": [
    "analogicznie jak przy poprzednio stosowanych transformerach korzystamy tutaj z metod fit i transform, a następnie konwertujemy wynik na ramkę danych."
   ]
  },
  {
   "cell_type": "markdown",
   "metadata": {},
   "source": [
    "Przeanalizujmy jak mocno zmieniły się rozkłady poszczególnych zmiennych:"
   ]
  },
  {
   "cell_type": "code",
   "execution_count": null,
   "metadata": {
    "ExecuteTime": {
     "end_time": "2021-10-13T07:17:15.319229Z",
     "start_time": "2021-10-13T07:17:14.579501Z"
    }
   },
   "outputs": [
    {
     "data": {
      "text/plain": [
       "array([[<AxesSubplot:title={'center':'mileage'}>,\n",
       "        <AxesSubplot:title={'center':'age'}>],\n",
       "       [<AxesSubplot:title={'center':'avg_yearly_mileage'}>,\n",
       "        <AxesSubplot:>]], dtype=object)"
      ]
     },
     "execution_count": 45,
     "metadata": {},
     "output_type": "execute_result"
    },
    {
     "data": {
      "image/png": "[encoded data removed]",
      "text/plain": [
       "<Figure size 1080x648 with 4 Axes>"
      ]
     },
     "metadata": {
      "filenames": {
       "image/png": "C:\\Users\\kazim\\book\\pg\\_build\\jupyter_execute\\6. Inzynieria_cech\\6_Inzynieria cech_110_1.png"
      },
      "needs_background": "light"
     },
     "output_type": "display_data"
    }
   ],
   "source": [
    "X_train_num_transformed.hist(figsize=(15,9), bins=30)"
   ]
  },
  {
   "cell_type": "code",
   "execution_count": null,
   "metadata": {
    "ExecuteTime": {
     "end_time": "2021-10-13T07:17:17.300950Z",
     "start_time": "2021-10-13T07:17:16.516675Z"
    }
   },
   "outputs": [
    {
     "data": {
      "text/plain": [
       "array([[<AxesSubplot:title={'center':'mileage'}>,\n",
       "        <AxesSubplot:title={'center':'age'}>],\n",
       "       [<AxesSubplot:title={'center':'avg_yearly_mileage'}>,\n",
       "        <AxesSubplot:>]], dtype=object)"
      ]
     },
     "execution_count": 46,
     "metadata": {},
     "output_type": "execute_result"
    },
    {
     "data": {
      "image/png": "[encoded data removed]",
      "text/plain": [
       "<Figure size 1080x648 with 4 Axes>"
      ]
     },
     "metadata": {
      "filenames": {
       "image/png": "C:\\Users\\kazim\\book\\pg\\_build\\jupyter_execute\\6. Inzynieria_cech\\6_Inzynieria cech_111_1.png"
      },
      "needs_background": "light"
     },
     "output_type": "display_data"
    }
   ],
   "source": [
    "X_test_num_transformed.hist(figsize=(15,9), bins=30)"
   ]
  },
  {
   "cell_type": "markdown",
   "metadata": {},
   "source": [
    "Zmienna mileage na zbiorze treningowym z silnie skośnej nabrała cech rozkładu normalnego, pozostałe przypadki nie wyglądają jednak na rozkład normalny.\n",
    "\n",
    "Wypróbujmy inny sposób modyfikacji rozkładu - <b>QuantileTransformer</b>"
   ]
  },
  {
   "cell_type": "code",
   "execution_count": null,
   "metadata": {
    "ExecuteTime": {
     "end_time": "2021-10-13T07:17:18.505059Z",
     "start_time": "2021-10-13T07:17:18.494059Z"
    }
   },
   "outputs": [],
   "source": [
    "from sklearn.preprocessing import QuantileTransformer"
   ]
  },
  {
   "cell_type": "markdown",
   "metadata": {
    "ExecuteTime": {
     "end_time": "2021-10-12T12:33:51.065807Z",
     "start_time": "2021-10-12T12:33:51.054809Z"
    }
   },
   "source": [
    "tworzymy obiekt klasy QuantileTransformer, zamiast bazowego rozkładu jednostajnego wybierając rozkład normalny"
   ]
  },
  {
   "cell_type": "code",
   "execution_count": null,
   "metadata": {
    "ExecuteTime": {
     "end_time": "2021-10-13T07:17:19.603548Z",
     "start_time": "2021-10-13T07:17:19.595552Z"
    }
   },
   "outputs": [],
   "source": [
    "qt = QuantileTransformer(output_distribution=\"normal\")"
   ]
  },
  {
   "cell_type": "code",
   "execution_count": null,
   "metadata": {
    "ExecuteTime": {
     "end_time": "2021-10-13T07:17:20.741079Z",
     "start_time": "2021-10-13T07:17:20.712098Z"
    }
   },
   "outputs": [],
   "source": [
    "qt.fit(X_train[num_columns])\n",
    "X_train_num_transformed = pd.DataFrame(qt.transform(X_train[num_columns]), columns =num_columns)\n",
    "X_test_num_transformed =  pd.DataFrame(qt.transform(X_test[num_columns]), columns =num_columns)"
   ]
  },
  {
   "cell_type": "code",
   "execution_count": null,
   "metadata": {
    "ExecuteTime": {
     "end_time": "2021-10-13T07:17:22.402716Z",
     "start_time": "2021-10-13T07:17:21.796969Z"
    }
   },
   "outputs": [
    {
     "data": {
      "text/plain": [
       "array([[<AxesSubplot:title={'center':'mileage'}>,\n",
       "        <AxesSubplot:title={'center':'age'}>],\n",
       "       [<AxesSubplot:title={'center':'avg_yearly_mileage'}>,\n",
       "        <AxesSubplot:>]], dtype=object)"
      ]
     },
     "execution_count": 50,
     "metadata": {},
     "output_type": "execute_result"
    },
    {
     "data": {
      "image/png": "[encoded data removed]",
      "text/plain": [
       "<Figure size 1080x648 with 4 Axes>"
      ]
     },
     "metadata": {
      "filenames": {
       "image/png": "C:\\Users\\kazim\\book\\pg\\_build\\jupyter_execute\\6. Inzynieria_cech\\6_Inzynieria cech_117_1.png"
      },
      "needs_background": "light"
     },
     "output_type": "display_data"
    }
   ],
   "source": [
    "X_train_num_transformed.hist(figsize=(15,9), bins=30)"
   ]
  },
  {
   "cell_type": "code",
   "execution_count": null,
   "metadata": {
    "ExecuteTime": {
     "end_time": "2021-10-13T07:17:24.287340Z",
     "start_time": "2021-10-13T07:17:23.467093Z"
    }
   },
   "outputs": [
    {
     "data": {
      "text/plain": [
       "array([[<AxesSubplot:title={'center':'mileage'}>,\n",
       "        <AxesSubplot:title={'center':'age'}>],\n",
       "       [<AxesSubplot:title={'center':'avg_yearly_mileage'}>,\n",
       "        <AxesSubplot:>]], dtype=object)"
      ]
     },
     "execution_count": 51,
     "metadata": {},
     "output_type": "execute_result"
    },
    {
     "data": {
      "image/png": "[encoded data removed]",
      "text/plain": [
       "<Figure size 1080x648 with 4 Axes>"
      ]
     },
     "metadata": {
      "filenames": {
       "image/png": "C:\\Users\\kazim\\book\\pg\\_build\\jupyter_execute\\6. Inzynieria_cech\\6_Inzynieria cech_118_1.png"
      },
      "needs_background": "light"
     },
     "output_type": "display_data"
    }
   ],
   "source": [
    "X_test_num_transformed.hist(figsize=(15,9), bins=30)"
   ]
  },
  {
   "cell_type": "markdown",
   "metadata": {},
   "source": [
    "Jak widzimy rozkłady są teraz zupełnie inne, na zbiorze treningowym bardzo zbliżone do rozkładu normalnego, jednak na zbiorze testowym juz dość znacznie się różnią, co może wynikać po części z niewielkiego rozmiaru próby."
   ]
  },
  {
   "cell_type": "markdown",
   "metadata": {
    "ExecuteTime": {
     "end_time": "2021-10-12T12:44:21.258422Z",
     "start_time": "2021-10-12T12:44:21.242568Z"
    }
   },
   "source": [
    "<div class=\"alert alert-block alert-info\">\n",
    "<b>Info</b> \n",
    "\n",
    "To jaki dokładnie zestaw transformacji ostatecznie wybrać powinno wynikać przede wszystkim z obserwacji ustalonej wcześniej metryki jakości modelu.\n",
    "</div>"
   ]
  },
  {
   "cell_type": "markdown",
   "metadata": {
    "ExecuteTime": {
     "end_time": "2021-10-13T05:54:13.280903Z",
     "start_time": "2021-10-13T05:54:13.268867Z"
    }
   },
   "source": [
    "# łączenie zmiennych numerycznych w przedziały"
   ]
  },
  {
   "cell_type": "markdown",
   "metadata": {
    "ExecuteTime": {
     "end_time": "2021-10-13T05:58:15.399488Z",
     "start_time": "2021-10-13T05:58:15.382490Z"
    }
   },
   "source": [
    "podobnie jak w przypadku zmiennych kategorycznych, zmienne numeryczne również można przekształcać grupując razem pewne ich wartości. Proces taki nazywamy <b>kubełkowaniem</b>."
   ]
  },
  {
   "cell_type": "markdown",
   "metadata": {},
   "source": [
    "<div class=\"alert alert-block alert-success\">\n",
    "<b>Definicja</b> \n",
    "\n",
    "<b>Kubełkowanie</b> (ang. *binning*) polega na łączeniu wartości zmiennych numerycznych w przedziały, ma to na celu zmniejszenie możliwości przeuczenia modelu.\n",
    "</div>"
   ]
  },
  {
   "cell_type": "markdown",
   "metadata": {},
   "source": [
    "Wybór takich przedziałów może występować zarówno na podstawie cech rozkładu zmiennych (np wartości kwartyli) jak i wiedzy domenowej, tutaj zaprezentujemy obie możliwości."
   ]
  },
  {
   "cell_type": "markdown",
   "metadata": {
    "ExecuteTime": {
     "end_time": "2021-10-13T06:29:15.187589Z",
     "start_time": "2021-10-13T06:29:15.174595Z"
    }
   },
   "source": [
    "do podziału wg statystyk pozycyjnych z rozkładu wykorzystamy funkcję <b>qcut</b> z biblioteki pandas"
   ]
  },
  {
   "cell_type": "code",
   "execution_count": null,
   "metadata": {
    "ExecuteTime": {
     "end_time": "2021-10-13T07:17:26.802519Z",
     "start_time": "2021-10-13T07:17:26.750194Z"
    }
   },
   "outputs": [
    {
     "data": {
      "text/html": [
       "<div>\n",
       "<style scoped>\n",
       "    .dataframe tbody tr th:only-of-type {\n",
       "        vertical-align: middle;\n",
       "    }\n",
       "\n",
       "    .dataframe tbody tr th {\n",
       "        vertical-align: top;\n",
       "    }\n",
       "\n",
       "    .dataframe thead th {\n",
       "        text-align: right;\n",
       "    }\n",
       "</style>\n",
       "<table border=\"1\" class=\"dataframe\">\n",
       "  <thead>\n",
       "    <tr style=\"text-align: right;\">\n",
       "      <th></th>\n",
       "      <th>mileage</th>\n",
       "      <th>mileage_binned_4</th>\n",
       "      <th>mileage_binned_10</th>\n",
       "    </tr>\n",
       "  </thead>\n",
       "  <tbody>\n",
       "    <tr>\n",
       "      <th>82</th>\n",
       "      <td>524486</td>\n",
       "      <td>(293524.25, 699892.0]</td>\n",
       "      <td>(429566.5, 699892.0]</td>\n",
       "    </tr>\n",
       "    <tr>\n",
       "      <th>991</th>\n",
       "      <td>166856</td>\n",
       "      <td>(162418.5, 293524.25]</td>\n",
       "      <td>(162418.5, 212552.8]</td>\n",
       "    </tr>\n",
       "    <tr>\n",
       "      <th>789</th>\n",
       "      <td>94191</td>\n",
       "      <td>(61161.25, 162418.5]</td>\n",
       "      <td>(78348.9, 116729.4]</td>\n",
       "    </tr>\n",
       "    <tr>\n",
       "      <th>894</th>\n",
       "      <td>54210</td>\n",
       "      <td>(3784.999, 61161.25]</td>\n",
       "      <td>(48631.6, 78348.9]</td>\n",
       "    </tr>\n",
       "    <tr>\n",
       "      <th>398</th>\n",
       "      <td>264049</td>\n",
       "      <td>(162418.5, 293524.25]</td>\n",
       "      <td>(212552.8, 265707.6]</td>\n",
       "    </tr>\n",
       "    <tr>\n",
       "      <th>...</th>\n",
       "      <td>...</td>\n",
       "      <td>...</td>\n",
       "      <td>...</td>\n",
       "    </tr>\n",
       "    <tr>\n",
       "      <th>106</th>\n",
       "      <td>127914</td>\n",
       "      <td>(61161.25, 162418.5]</td>\n",
       "      <td>(116729.4, 162418.5]</td>\n",
       "    </tr>\n",
       "    <tr>\n",
       "      <th>270</th>\n",
       "      <td>185880</td>\n",
       "      <td>(162418.5, 293524.25]</td>\n",
       "      <td>(162418.5, 212552.8]</td>\n",
       "    </tr>\n",
       "    <tr>\n",
       "      <th>860</th>\n",
       "      <td>116011</td>\n",
       "      <td>(61161.25, 162418.5]</td>\n",
       "      <td>(78348.9, 116729.4]</td>\n",
       "    </tr>\n",
       "    <tr>\n",
       "      <th>435</th>\n",
       "      <td>25782</td>\n",
       "      <td>(3784.999, 61161.25]</td>\n",
       "      <td>(25757.7, 48631.6]</td>\n",
       "    </tr>\n",
       "    <tr>\n",
       "      <th>102</th>\n",
       "      <td>145116</td>\n",
       "      <td>(61161.25, 162418.5]</td>\n",
       "      <td>(116729.4, 162418.5]</td>\n",
       "    </tr>\n",
       "  </tbody>\n",
       "</table>\n",
       "<p>750 rows × 3 columns</p>\n",
       "</div>"
      ],
      "text/plain": [
       "     mileage       mileage_binned_4     mileage_binned_10\n",
       "82    524486  (293524.25, 699892.0]  (429566.5, 699892.0]\n",
       "991   166856  (162418.5, 293524.25]  (162418.5, 212552.8]\n",
       "789    94191   (61161.25, 162418.5]   (78348.9, 116729.4]\n",
       "894    54210   (3784.999, 61161.25]    (48631.6, 78348.9]\n",
       "398   264049  (162418.5, 293524.25]  (212552.8, 265707.6]\n",
       "..       ...                    ...                   ...\n",
       "106   127914   (61161.25, 162418.5]  (116729.4, 162418.5]\n",
       "270   185880  (162418.5, 293524.25]  (162418.5, 212552.8]\n",
       "860   116011   (61161.25, 162418.5]   (78348.9, 116729.4]\n",
       "435    25782   (3784.999, 61161.25]    (25757.7, 48631.6]\n",
       "102   145116   (61161.25, 162418.5]  (116729.4, 162418.5]\n",
       "\n",
       "[750 rows x 3 columns]"
      ]
     },
     "execution_count": 52,
     "metadata": {},
     "output_type": "execute_result"
    }
   ],
   "source": [
    "X_train[\"mileage_binned_4\"] = pd.qcut(X_train[\"mileage\"], q=4)\n",
    "X_train[\"mileage_binned_10\"] = pd.qcut(X_train[\"mileage\"], q=10)\n",
    "X_train[[\"mileage\",\"mileage_binned_4\",\"mileage_binned_10\"]]"
   ]
  },
  {
   "cell_type": "markdown",
   "metadata": {},
   "source": [
    "Stworzyliśmy tutaj 2 nowe cechy na zbiorze treningowym w oparciu o kwartyle i decyle rozkładu zmiennej mileage. Jak widzimy poszczególnym wartościom przypisane zostały wartości przedziałów do których one wpadają w danym podziale na kubełki."
   ]
  },
  {
   "cell_type": "markdown",
   "metadata": {},
   "source": [
    "jeśli chcemy samodzielnie określić etykiety przedziałów można posłużyć się parametrem labels"
   ]
  },
  {
   "cell_type": "code",
   "execution_count": null,
   "metadata": {
    "ExecuteTime": {
     "end_time": "2021-10-13T07:17:28.921670Z",
     "start_time": "2021-10-13T07:17:28.889069Z"
    }
   },
   "outputs": [
    {
     "data": {
      "text/html": [
       "<div>\n",
       "<style scoped>\n",
       "    .dataframe tbody tr th:only-of-type {\n",
       "        vertical-align: middle;\n",
       "    }\n",
       "\n",
       "    .dataframe tbody tr th {\n",
       "        vertical-align: top;\n",
       "    }\n",
       "\n",
       "    .dataframe thead th {\n",
       "        text-align: right;\n",
       "    }\n",
       "</style>\n",
       "<table border=\"1\" class=\"dataframe\">\n",
       "  <thead>\n",
       "    <tr style=\"text-align: right;\">\n",
       "      <th></th>\n",
       "      <th>mileage</th>\n",
       "      <th>mileage_binned_4</th>\n",
       "      <th>mileage_binned_10</th>\n",
       "    </tr>\n",
       "  </thead>\n",
       "  <tbody>\n",
       "    <tr>\n",
       "      <th>82</th>\n",
       "      <td>524486</td>\n",
       "      <td>4</td>\n",
       "      <td>10</td>\n",
       "    </tr>\n",
       "    <tr>\n",
       "      <th>991</th>\n",
       "      <td>166856</td>\n",
       "      <td>3</td>\n",
       "      <td>6</td>\n",
       "    </tr>\n",
       "    <tr>\n",
       "      <th>789</th>\n",
       "      <td>94191</td>\n",
       "      <td>2</td>\n",
       "      <td>4</td>\n",
       "    </tr>\n",
       "    <tr>\n",
       "      <th>894</th>\n",
       "      <td>54210</td>\n",
       "      <td>1</td>\n",
       "      <td>3</td>\n",
       "    </tr>\n",
       "    <tr>\n",
       "      <th>398</th>\n",
       "      <td>264049</td>\n",
       "      <td>3</td>\n",
       "      <td>7</td>\n",
       "    </tr>\n",
       "    <tr>\n",
       "      <th>...</th>\n",
       "      <td>...</td>\n",
       "      <td>...</td>\n",
       "      <td>...</td>\n",
       "    </tr>\n",
       "    <tr>\n",
       "      <th>106</th>\n",
       "      <td>127914</td>\n",
       "      <td>2</td>\n",
       "      <td>5</td>\n",
       "    </tr>\n",
       "    <tr>\n",
       "      <th>270</th>\n",
       "      <td>185880</td>\n",
       "      <td>3</td>\n",
       "      <td>6</td>\n",
       "    </tr>\n",
       "    <tr>\n",
       "      <th>860</th>\n",
       "      <td>116011</td>\n",
       "      <td>2</td>\n",
       "      <td>4</td>\n",
       "    </tr>\n",
       "    <tr>\n",
       "      <th>435</th>\n",
       "      <td>25782</td>\n",
       "      <td>1</td>\n",
       "      <td>2</td>\n",
       "    </tr>\n",
       "    <tr>\n",
       "      <th>102</th>\n",
       "      <td>145116</td>\n",
       "      <td>2</td>\n",
       "      <td>5</td>\n",
       "    </tr>\n",
       "  </tbody>\n",
       "</table>\n",
       "<p>750 rows × 3 columns</p>\n",
       "</div>"
      ],
      "text/plain": [
       "     mileage mileage_binned_4 mileage_binned_10\n",
       "82    524486                4                10\n",
       "991   166856                3                 6\n",
       "789    94191                2                 4\n",
       "894    54210                1                 3\n",
       "398   264049                3                 7\n",
       "..       ...              ...               ...\n",
       "106   127914                2                 5\n",
       "270   185880                3                 6\n",
       "860   116011                2                 4\n",
       "435    25782                1                 2\n",
       "102   145116                2                 5\n",
       "\n",
       "[750 rows x 3 columns]"
      ]
     },
     "execution_count": 53,
     "metadata": {},
     "output_type": "execute_result"
    }
   ],
   "source": [
    "X_train[\"mileage_binned_4\"] = pd.qcut(X_train[\"mileage\"], q=4, labels=np.arange(1,5))\n",
    "X_train[\"mileage_binned_10\"] = pd.qcut(X_train[\"mileage\"], q=10, labels=np.arange(1,11))\n",
    "X_train[[\"mileage\",\"mileage_binned_4\",\"mileage_binned_10\"]]"
   ]
  },
  {
   "cell_type": "markdown",
   "metadata": {},
   "source": [
    "<div class=\"alert alert-block alert-danger\">\n",
    "<b>Uwaga!</b> \n",
    "    \n",
    "Wszystkie przekształcenia wykorzystujące informacje o rozkładach cech należy implementować najpierw na zbiorze treningowym, a następnie w oparciu o rozkład ze zbioru treningowego - na zbiorze testowym. Inaczej wykorzystujemy informacje ze zbioru testowego i przestaje on być niezależny.\n",
    "</div>"
   ]
  },
  {
   "cell_type": "markdown",
   "metadata": {},
   "source": [
    "tutaj możemy skorzystać z parametru <b>retbins</b> i dostać granice kubełków a następnie w oparciu o te granice dokonać identycznego podziału na zbiorze testowym"
   ]
  },
  {
   "cell_type": "code",
   "execution_count": null,
   "metadata": {
    "ExecuteTime": {
     "end_time": "2021-10-13T07:17:31.262868Z",
     "start_time": "2021-10-13T07:17:31.238876Z"
    }
   },
   "outputs": [
    {
     "data": {
      "text/plain": [
       "array([  3785.  ,  61161.25, 162418.5 , 293524.25, 699892.  ])"
      ]
     },
     "execution_count": 54,
     "metadata": {},
     "output_type": "execute_result"
    }
   ],
   "source": [
    "_, bins = pd.qcut(X_train[\"mileage\"], q=4, retbins=True)\n",
    "bins"
   ]
  },
  {
   "cell_type": "markdown",
   "metadata": {},
   "source": [
    "alternatywnym podejściem jest użycie funkcji <b>cut</b> z biblioteki pandas, która pozwala podzielić wartości zmiennej na zdefiniowaną liczbę przedziałów o identycznej szerokości lub przypisać je do zdefiniowanych samodzielnie przedziałów"
   ]
  },
  {
   "cell_type": "markdown",
   "metadata": {},
   "source": [
    "załóżmy, że jeśli chodzi o wiek samochodu znaczenie mają przedziały do 3 lat, od 3 do 7, od 7 do 12, 12-25 oraz ponad 25. Możemy łatwo dokonać takiego przypisania przydzielając poszczególnym kubełkom odpowiednie nazwy:"
   ]
  },
  {
   "cell_type": "code",
   "execution_count": null,
   "metadata": {
    "ExecuteTime": {
     "end_time": "2021-10-13T07:17:33.515740Z",
     "start_time": "2021-10-13T07:17:33.488642Z"
    }
   },
   "outputs": [
    {
     "data": {
      "text/html": [
       "<div>\n",
       "<style scoped>\n",
       "    .dataframe tbody tr th:only-of-type {\n",
       "        vertical-align: middle;\n",
       "    }\n",
       "\n",
       "    .dataframe tbody tr th {\n",
       "        vertical-align: top;\n",
       "    }\n",
       "\n",
       "    .dataframe thead th {\n",
       "        text-align: right;\n",
       "    }\n",
       "</style>\n",
       "<table border=\"1\" class=\"dataframe\">\n",
       "  <thead>\n",
       "    <tr style=\"text-align: right;\">\n",
       "      <th></th>\n",
       "      <th>age</th>\n",
       "      <th>age_binned</th>\n",
       "    </tr>\n",
       "  </thead>\n",
       "  <tbody>\n",
       "    <tr>\n",
       "      <th>82</th>\n",
       "      <td>65</td>\n",
       "      <td>extremely_old</td>\n",
       "    </tr>\n",
       "    <tr>\n",
       "      <th>991</th>\n",
       "      <td>25</td>\n",
       "      <td>very_old</td>\n",
       "    </tr>\n",
       "    <tr>\n",
       "      <th>789</th>\n",
       "      <td>21</td>\n",
       "      <td>very_old</td>\n",
       "    </tr>\n",
       "    <tr>\n",
       "      <th>894</th>\n",
       "      <td>67</td>\n",
       "      <td>extremely_old</td>\n",
       "    </tr>\n",
       "    <tr>\n",
       "      <th>398</th>\n",
       "      <td>36</td>\n",
       "      <td>extremely_old</td>\n",
       "    </tr>\n",
       "    <tr>\n",
       "      <th>...</th>\n",
       "      <td>...</td>\n",
       "      <td>...</td>\n",
       "    </tr>\n",
       "    <tr>\n",
       "      <th>106</th>\n",
       "      <td>31</td>\n",
       "      <td>extremely_old</td>\n",
       "    </tr>\n",
       "    <tr>\n",
       "      <th>270</th>\n",
       "      <td>59</td>\n",
       "      <td>extremely_old</td>\n",
       "    </tr>\n",
       "    <tr>\n",
       "      <th>860</th>\n",
       "      <td>14</td>\n",
       "      <td>very_old</td>\n",
       "    </tr>\n",
       "    <tr>\n",
       "      <th>435</th>\n",
       "      <td>7</td>\n",
       "      <td>middle_age</td>\n",
       "    </tr>\n",
       "    <tr>\n",
       "      <th>102</th>\n",
       "      <td>42</td>\n",
       "      <td>extremely_old</td>\n",
       "    </tr>\n",
       "  </tbody>\n",
       "</table>\n",
       "<p>750 rows × 2 columns</p>\n",
       "</div>"
      ],
      "text/plain": [
       "     age     age_binned\n",
       "82    65  extremely_old\n",
       "991   25       very_old\n",
       "789   21       very_old\n",
       "894   67  extremely_old\n",
       "398   36  extremely_old\n",
       "..   ...            ...\n",
       "106   31  extremely_old\n",
       "270   59  extremely_old\n",
       "860   14       very_old\n",
       "435    7     middle_age\n",
       "102   42  extremely_old\n",
       "\n",
       "[750 rows x 2 columns]"
      ]
     },
     "execution_count": 55,
     "metadata": {},
     "output_type": "execute_result"
    }
   ],
   "source": [
    "X_train[\"age_binned\"] = pd.cut(X_train[\"age\"],[0,3,7,12,25,100], labels =[\"new\",\"middle_age\",\"old\",\"very_old\",\"extremely_old\"] )\n",
    "X_train[[\"age\",\"age_binned\"]]"
   ]
  },
  {
   "cell_type": "markdown",
   "metadata": {},
   "source": [
    "# Normalizacja i Standaryzacja"
   ]
  },
  {
   "cell_type": "markdown",
   "metadata": {},
   "source": [
    "Załóżmy, że finalnie mamy zbiór danych złożony stricte ze zmiennych numerycznych:"
   ]
  },
  {
   "cell_type": "code",
   "execution_count": null,
   "metadata": {
    "ExecuteTime": {
     "end_time": "2021-10-13T07:17:35.815133Z",
     "start_time": "2021-10-13T07:17:35.791137Z"
    }
   },
   "outputs": [
    {
     "data": {
      "text/html": [
       "<div>\n",
       "<style scoped>\n",
       "    .dataframe tbody tr th:only-of-type {\n",
       "        vertical-align: middle;\n",
       "    }\n",
       "\n",
       "    .dataframe tbody tr th {\n",
       "        vertical-align: top;\n",
       "    }\n",
       "\n",
       "    .dataframe thead th {\n",
       "        text-align: right;\n",
       "    }\n",
       "</style>\n",
       "<table border=\"1\" class=\"dataframe\">\n",
       "  <thead>\n",
       "    <tr style=\"text-align: right;\">\n",
       "      <th></th>\n",
       "      <th>mileage</th>\n",
       "      <th>condition_transformed</th>\n",
       "      <th>age</th>\n",
       "      <th>avg_yearly_mileage</th>\n",
       "      <th>is_classic</th>\n",
       "    </tr>\n",
       "  </thead>\n",
       "  <tbody>\n",
       "    <tr>\n",
       "      <th>82</th>\n",
       "      <td>524486</td>\n",
       "      <td>2.0</td>\n",
       "      <td>65</td>\n",
       "      <td>8069.0</td>\n",
       "      <td>0.0</td>\n",
       "    </tr>\n",
       "    <tr>\n",
       "      <th>991</th>\n",
       "      <td>166856</td>\n",
       "      <td>3.0</td>\n",
       "      <td>25</td>\n",
       "      <td>6674.0</td>\n",
       "      <td>0.0</td>\n",
       "    </tr>\n",
       "    <tr>\n",
       "      <th>789</th>\n",
       "      <td>94191</td>\n",
       "      <td>2.0</td>\n",
       "      <td>21</td>\n",
       "      <td>4485.0</td>\n",
       "      <td>0.0</td>\n",
       "    </tr>\n",
       "    <tr>\n",
       "      <th>894</th>\n",
       "      <td>54210</td>\n",
       "      <td>1.0</td>\n",
       "      <td>67</td>\n",
       "      <td>809.0</td>\n",
       "      <td>0.0</td>\n",
       "    </tr>\n",
       "    <tr>\n",
       "      <th>398</th>\n",
       "      <td>264049</td>\n",
       "      <td>4.0</td>\n",
       "      <td>36</td>\n",
       "      <td>7335.0</td>\n",
       "      <td>0.0</td>\n",
       "    </tr>\n",
       "    <tr>\n",
       "      <th>...</th>\n",
       "      <td>...</td>\n",
       "      <td>...</td>\n",
       "      <td>...</td>\n",
       "      <td>...</td>\n",
       "      <td>...</td>\n",
       "    </tr>\n",
       "    <tr>\n",
       "      <th>106</th>\n",
       "      <td>127914</td>\n",
       "      <td>3.0</td>\n",
       "      <td>31</td>\n",
       "      <td>4126.0</td>\n",
       "      <td>0.0</td>\n",
       "    </tr>\n",
       "    <tr>\n",
       "      <th>270</th>\n",
       "      <td>185880</td>\n",
       "      <td>3.0</td>\n",
       "      <td>59</td>\n",
       "      <td>3151.0</td>\n",
       "      <td>0.0</td>\n",
       "    </tr>\n",
       "    <tr>\n",
       "      <th>860</th>\n",
       "      <td>116011</td>\n",
       "      <td>0.0</td>\n",
       "      <td>14</td>\n",
       "      <td>8286.0</td>\n",
       "      <td>0.0</td>\n",
       "    </tr>\n",
       "    <tr>\n",
       "      <th>435</th>\n",
       "      <td>25782</td>\n",
       "      <td>2.0</td>\n",
       "      <td>7</td>\n",
       "      <td>3683.0</td>\n",
       "      <td>0.0</td>\n",
       "    </tr>\n",
       "    <tr>\n",
       "      <th>102</th>\n",
       "      <td>145116</td>\n",
       "      <td>2.0</td>\n",
       "      <td>42</td>\n",
       "      <td>3455.0</td>\n",
       "      <td>0.0</td>\n",
       "    </tr>\n",
       "  </tbody>\n",
       "</table>\n",
       "<p>750 rows × 5 columns</p>\n",
       "</div>"
      ],
      "text/plain": [
       "     mileage  condition_transformed  age  avg_yearly_mileage  is_classic\n",
       "82    524486                    2.0   65              8069.0         0.0\n",
       "991   166856                    3.0   25              6674.0         0.0\n",
       "789    94191                    2.0   21              4485.0         0.0\n",
       "894    54210                    1.0   67               809.0         0.0\n",
       "398   264049                    4.0   36              7335.0         0.0\n",
       "..       ...                    ...  ...                 ...         ...\n",
       "106   127914                    3.0   31              4126.0         0.0\n",
       "270   185880                    3.0   59              3151.0         0.0\n",
       "860   116011                    0.0   14              8286.0         0.0\n",
       "435    25782                    2.0    7              3683.0         0.0\n",
       "102   145116                    2.0   42              3455.0         0.0\n",
       "\n",
       "[750 rows x 5 columns]"
      ]
     },
     "execution_count": 56,
     "metadata": {},
     "output_type": "execute_result"
    }
   ],
   "source": [
    "X_train = X_train.loc[:,[\"mileage\",\"condition_transformed\", \"age\",\"avg_yearly_mileage\",\"is_classic\"]]\n",
    "X_test = X_test.loc[:,[\"mileage\",\"condition_transformed\", \"age\",\"avg_yearly_mileage\",\"is_classic\"]]\n",
    "X_train"
   ]
  },
  {
   "cell_type": "markdown",
   "metadata": {},
   "source": [
    "możemy łatwo zaobserwować, że zmienne znacznie różnią się pod względem średniej czy wariancji:"
   ]
  },
  {
   "cell_type": "code",
   "execution_count": null,
   "metadata": {
    "ExecuteTime": {
     "end_time": "2021-10-13T07:17:37.305187Z",
     "start_time": "2021-10-13T07:17:37.248078Z"
    }
   },
   "outputs": [
    {
     "data": {
      "text/html": [
       "<div>\n",
       "<style scoped>\n",
       "    .dataframe tbody tr th:only-of-type {\n",
       "        vertical-align: middle;\n",
       "    }\n",
       "\n",
       "    .dataframe tbody tr th {\n",
       "        vertical-align: top;\n",
       "    }\n",
       "\n",
       "    .dataframe thead th {\n",
       "        text-align: right;\n",
       "    }\n",
       "</style>\n",
       "<table border=\"1\" class=\"dataframe\">\n",
       "  <thead>\n",
       "    <tr style=\"text-align: right;\">\n",
       "      <th></th>\n",
       "      <th>mileage</th>\n",
       "      <th>condition_transformed</th>\n",
       "      <th>age</th>\n",
       "      <th>avg_yearly_mileage</th>\n",
       "      <th>is_classic</th>\n",
       "    </tr>\n",
       "  </thead>\n",
       "  <tbody>\n",
       "    <tr>\n",
       "      <th>count</th>\n",
       "      <td>750.00</td>\n",
       "      <td>750.00</td>\n",
       "      <td>750.00</td>\n",
       "      <td>750.00</td>\n",
       "      <td>750.00</td>\n",
       "    </tr>\n",
       "    <tr>\n",
       "      <th>mean</th>\n",
       "      <td>198670.12</td>\n",
       "      <td>2.41</td>\n",
       "      <td>36.94</td>\n",
       "      <td>5458.12</td>\n",
       "      <td>0.01</td>\n",
       "    </tr>\n",
       "    <tr>\n",
       "      <th>std</th>\n",
       "      <td>158883.17</td>\n",
       "      <td>1.16</td>\n",
       "      <td>20.34</td>\n",
       "      <td>2766.60</td>\n",
       "      <td>0.12</td>\n",
       "    </tr>\n",
       "    <tr>\n",
       "      <th>min</th>\n",
       "      <td>3785.00</td>\n",
       "      <td>0.00</td>\n",
       "      <td>2.00</td>\n",
       "      <td>118.00</td>\n",
       "      <td>0.00</td>\n",
       "    </tr>\n",
       "    <tr>\n",
       "      <th>25%</th>\n",
       "      <td>61161.25</td>\n",
       "      <td>2.00</td>\n",
       "      <td>19.00</td>\n",
       "      <td>3306.75</td>\n",
       "      <td>0.00</td>\n",
       "    </tr>\n",
       "    <tr>\n",
       "      <th>50%</th>\n",
       "      <td>162418.50</td>\n",
       "      <td>2.00</td>\n",
       "      <td>37.00</td>\n",
       "      <td>5615.00</td>\n",
       "      <td>0.00</td>\n",
       "    </tr>\n",
       "    <tr>\n",
       "      <th>75%</th>\n",
       "      <td>293524.25</td>\n",
       "      <td>3.00</td>\n",
       "      <td>55.00</td>\n",
       "      <td>7816.25</td>\n",
       "      <td>0.00</td>\n",
       "    </tr>\n",
       "    <tr>\n",
       "      <th>max</th>\n",
       "      <td>699892.00</td>\n",
       "      <td>4.00</td>\n",
       "      <td>71.00</td>\n",
       "      <td>12205.00</td>\n",
       "      <td>1.00</td>\n",
       "    </tr>\n",
       "  </tbody>\n",
       "</table>\n",
       "</div>"
      ],
      "text/plain": [
       "         mileage  condition_transformed     age  avg_yearly_mileage  \\\n",
       "count     750.00                 750.00  750.00              750.00   \n",
       "mean   198670.12                   2.41   36.94             5458.12   \n",
       "std    158883.17                   1.16   20.34             2766.60   \n",
       "min      3785.00                   0.00    2.00              118.00   \n",
       "25%     61161.25                   2.00   19.00             3306.75   \n",
       "50%    162418.50                   2.00   37.00             5615.00   \n",
       "75%    293524.25                   3.00   55.00             7816.25   \n",
       "max    699892.00                   4.00   71.00            12205.00   \n",
       "\n",
       "       is_classic  \n",
       "count      750.00  \n",
       "mean         0.01  \n",
       "std          0.12  \n",
       "min          0.00  \n",
       "25%          0.00  \n",
       "50%          0.00  \n",
       "75%          0.00  \n",
       "max          1.00  "
      ]
     },
     "execution_count": 57,
     "metadata": {},
     "output_type": "execute_result"
    }
   ],
   "source": [
    "np.round(X_train.describe(),2)"
   ]
  },
  {
   "cell_type": "markdown",
   "metadata": {
    "ExecuteTime": {
     "end_time": "2021-10-12T12:57:38.502082Z",
     "start_time": "2021-10-12T12:57:38.483083Z"
    }
   },
   "source": [
    "Niektóre metody modelowania są zależne od odległości bądź wariancji zmiennych, więc chcąc aby wpływ danej zmiennej na predykcje wynikał przede wszystkim z jej związku ze zmienną celu, a nie ze skali, powinniśmy zastosować <b>normalizację</b> lub <b>standaryzację</b>"
   ]
  },
  {
   "cell_type": "markdown",
   "metadata": {},
   "source": [
    "zacznijmy od normalizacji, zrealizujemy ją za pomocą kolejnego transformera z biblioteki sklearn: MinMaxScaler"
   ]
  },
  {
   "cell_type": "markdown",
   "metadata": {
    "ExecuteTime": {
     "end_time": "2021-10-12T12:59:31.456780Z",
     "start_time": "2021-10-12T12:59:31.451782Z"
    }
   },
   "source": [
    "<div class=\"alert alert-block alert-success\">\n",
    "<b>Definicja</b> \n",
    "\n",
    "<b>Normalizacja</b> polega na przekształcaniu zmiennej do zakresu wartości <0,1> poprzez odjęcie minumum i podzielenie przez różnicę pomiędzy maksimum a minimum z rozkładu.\n",
    "</div>"
   ]
  },
  {
   "cell_type": "code",
   "execution_count": null,
   "metadata": {
    "ExecuteTime": {
     "end_time": "2021-10-13T07:17:40.148991Z",
     "start_time": "2021-10-13T07:17:40.135140Z"
    }
   },
   "outputs": [],
   "source": [
    "from sklearn.preprocessing import MinMaxScaler"
   ]
  },
  {
   "cell_type": "markdown",
   "metadata": {
    "ExecuteTime": {
     "end_time": "2021-10-13T05:15:34.463942Z",
     "start_time": "2021-10-13T05:15:34.450911Z"
    }
   },
   "source": [
    "tworzymy obiekt klasy MinMaxScaler korzystając z bazowych ustawień, możliwa jest zmiana docelowego zakresu wartości z bazowego <0,1> na dowolnie wybrany poprzez użycie parametru <b>feature_range</b>"
   ]
  },
  {
   "cell_type": "code",
   "execution_count": null,
   "metadata": {
    "ExecuteTime": {
     "end_time": "2021-10-13T07:17:41.519658Z",
     "start_time": "2021-10-13T07:17:41.505312Z"
    }
   },
   "outputs": [],
   "source": [
    "mm = MinMaxScaler()"
   ]
  },
  {
   "cell_type": "markdown",
   "metadata": {},
   "source": [
    "Metody są oczywiście analogiczne jak w poprzednich przypadkach, konwertujemy wyniki z powrotem na ramki danych aby łatwiej było je oglądać"
   ]
  },
  {
   "cell_type": "code",
   "execution_count": null,
   "metadata": {
    "ExecuteTime": {
     "end_time": "2021-10-13T07:17:42.980277Z",
     "start_time": "2021-10-13T07:17:42.922226Z"
    }
   },
   "outputs": [
    {
     "data": {
      "text/html": [
       "<div>\n",
       "<style scoped>\n",
       "    .dataframe tbody tr th:only-of-type {\n",
       "        vertical-align: middle;\n",
       "    }\n",
       "\n",
       "    .dataframe tbody tr th {\n",
       "        vertical-align: top;\n",
       "    }\n",
       "\n",
       "    .dataframe thead th {\n",
       "        text-align: right;\n",
       "    }\n",
       "</style>\n",
       "<table border=\"1\" class=\"dataframe\">\n",
       "  <thead>\n",
       "    <tr style=\"text-align: right;\">\n",
       "      <th></th>\n",
       "      <th>mileage</th>\n",
       "      <th>condition_transformed</th>\n",
       "      <th>age</th>\n",
       "      <th>avg_yearly_mileage</th>\n",
       "      <th>is_classic</th>\n",
       "    </tr>\n",
       "  </thead>\n",
       "  <tbody>\n",
       "    <tr>\n",
       "      <th>count</th>\n",
       "      <td>750.00</td>\n",
       "      <td>750.00</td>\n",
       "      <td>750.00</td>\n",
       "      <td>750.00</td>\n",
       "      <td>750.00</td>\n",
       "    </tr>\n",
       "    <tr>\n",
       "      <th>mean</th>\n",
       "      <td>0.28</td>\n",
       "      <td>0.60</td>\n",
       "      <td>0.51</td>\n",
       "      <td>0.44</td>\n",
       "      <td>0.01</td>\n",
       "    </tr>\n",
       "    <tr>\n",
       "      <th>std</th>\n",
       "      <td>0.23</td>\n",
       "      <td>0.29</td>\n",
       "      <td>0.29</td>\n",
       "      <td>0.23</td>\n",
       "      <td>0.12</td>\n",
       "    </tr>\n",
       "    <tr>\n",
       "      <th>min</th>\n",
       "      <td>0.00</td>\n",
       "      <td>0.00</td>\n",
       "      <td>0.00</td>\n",
       "      <td>0.00</td>\n",
       "      <td>0.00</td>\n",
       "    </tr>\n",
       "    <tr>\n",
       "      <th>25%</th>\n",
       "      <td>0.08</td>\n",
       "      <td>0.50</td>\n",
       "      <td>0.25</td>\n",
       "      <td>0.26</td>\n",
       "      <td>0.00</td>\n",
       "    </tr>\n",
       "    <tr>\n",
       "      <th>50%</th>\n",
       "      <td>0.23</td>\n",
       "      <td>0.50</td>\n",
       "      <td>0.51</td>\n",
       "      <td>0.45</td>\n",
       "      <td>0.00</td>\n",
       "    </tr>\n",
       "    <tr>\n",
       "      <th>75%</th>\n",
       "      <td>0.42</td>\n",
       "      <td>0.75</td>\n",
       "      <td>0.77</td>\n",
       "      <td>0.64</td>\n",
       "      <td>0.00</td>\n",
       "    </tr>\n",
       "    <tr>\n",
       "      <th>max</th>\n",
       "      <td>1.00</td>\n",
       "      <td>1.00</td>\n",
       "      <td>1.00</td>\n",
       "      <td>1.00</td>\n",
       "      <td>1.00</td>\n",
       "    </tr>\n",
       "  </tbody>\n",
       "</table>\n",
       "</div>"
      ],
      "text/plain": [
       "       mileage  condition_transformed     age  avg_yearly_mileage  is_classic\n",
       "count   750.00                 750.00  750.00              750.00      750.00\n",
       "mean      0.28                   0.60    0.51                0.44        0.01\n",
       "std       0.23                   0.29    0.29                0.23        0.12\n",
       "min       0.00                   0.00    0.00                0.00        0.00\n",
       "25%       0.08                   0.50    0.25                0.26        0.00\n",
       "50%       0.23                   0.50    0.51                0.45        0.00\n",
       "75%       0.42                   0.75    0.77                0.64        0.00\n",
       "max       1.00                   1.00    1.00                1.00        1.00"
      ]
     },
     "execution_count": 60,
     "metadata": {},
     "output_type": "execute_result"
    }
   ],
   "source": [
    "mm.fit(X_train)\n",
    "X_train_mm_scaled = pd.DataFrame(mm.transform(X_train), columns=X_train.columns)\n",
    "X_test_mm_scaled = pd.DataFrame(mm.transform(X_test), columns=X_test.columns)\n",
    "np.round(X_train_mm_scaled.describe(),2)"
   ]
  },
  {
   "cell_type": "markdown",
   "metadata": {},
   "source": [
    "jak widzimy wszystkie cechy zostały teraz przeniesione do tego samego zakresu wartości <0,1>, ale ich średnia i odchylenie standardowe nie są identyczne. Oczywiście nie mamy gwarancji, że na nowych danych nie pojawią się wartości spoza wykresu widzianego na zbiorze treningowym. Jeśli chcemy być pewni, że znormalizowane zmienne zachowają swój zakres wartości należy tworząc obiekt klasy MinMaxScaler ustawić parametr <b>clip</b> na True."
   ]
  },
  {
   "cell_type": "markdown",
   "metadata": {},
   "source": [
    "<div class=\"alert alert-block alert-danger\">\n",
    "<b>Uwaga!</b> \n",
    "    \n",
    "Nie zaleca się korzystania z MinMaxScaler dla zmiennych posiadających <b>wartości odstające</b>. Jeśli takie wartości nie zostaną wcześniej prawidłowo obsłużone, to większość \"normalnych\" wartości zmiennej będzie \"upchana\" w małym zakresie wartości co nie będzie sprzyjać jej wartości dla predykcji. \n",
    "</div>"
   ]
  },
  {
   "cell_type": "markdown",
   "metadata": {},
   "source": [
    "zaprezentujemy teraz przykład standaryzacji z wykorzystaniem transformera StandardScaler z biblioteki sklearn"
   ]
  },
  {
   "cell_type": "markdown",
   "metadata": {
    "ExecuteTime": {
     "end_time": "2021-10-12T13:00:59.929173Z",
     "start_time": "2021-10-12T13:00:59.914162Z"
    }
   },
   "source": [
    "<div class=\"alert alert-block alert-success\">\n",
    "<b>Definicja</b> \n",
    "\n",
    "<b>Standaryzacja</b> polega na przekształcaniu zmiennej do rozkładu o wartości oczekiwanej 0 i odchyleniu standardowym 1 poprzez odjęcie średniej i podzielenie przez odchylenie standardowe\n",
    "</div>"
   ]
  },
  {
   "cell_type": "code",
   "execution_count": null,
   "metadata": {
    "ExecuteTime": {
     "end_time": "2021-10-13T07:17:46.352480Z",
     "start_time": "2021-10-13T07:17:46.341479Z"
    }
   },
   "outputs": [],
   "source": [
    "from sklearn.preprocessing import StandardScaler"
   ]
  },
  {
   "cell_type": "markdown",
   "metadata": {},
   "source": [
    "tworzymy obiekt klasy StandardScaler korzystając z bazowych ustawień"
   ]
  },
  {
   "cell_type": "code",
   "execution_count": null,
   "metadata": {
    "ExecuteTime": {
     "end_time": "2021-10-13T07:17:47.954486Z",
     "start_time": "2021-10-13T07:17:47.945485Z"
    }
   },
   "outputs": [],
   "source": [
    "ss =StandardScaler()"
   ]
  },
  {
   "cell_type": "markdown",
   "metadata": {},
   "source": [
    "Metody rownież są analogiczne jak w poprzednich przypadkach, konwertujemy wyniki z powrotem na ramki danych aby łatwiej było je oglądać"
   ]
  },
  {
   "cell_type": "code",
   "execution_count": null,
   "metadata": {
    "ExecuteTime": {
     "end_time": "2021-10-13T07:17:49.512341Z",
     "start_time": "2021-10-13T07:17:49.423237Z"
    }
   },
   "outputs": [
    {
     "data": {
      "text/html": [
       "<div>\n",
       "<style scoped>\n",
       "    .dataframe tbody tr th:only-of-type {\n",
       "        vertical-align: middle;\n",
       "    }\n",
       "\n",
       "    .dataframe tbody tr th {\n",
       "        vertical-align: top;\n",
       "    }\n",
       "\n",
       "    .dataframe thead th {\n",
       "        text-align: right;\n",
       "    }\n",
       "</style>\n",
       "<table border=\"1\" class=\"dataframe\">\n",
       "  <thead>\n",
       "    <tr style=\"text-align: right;\">\n",
       "      <th></th>\n",
       "      <th>mileage</th>\n",
       "      <th>condition_transformed</th>\n",
       "      <th>age</th>\n",
       "      <th>avg_yearly_mileage</th>\n",
       "      <th>is_classic</th>\n",
       "    </tr>\n",
       "  </thead>\n",
       "  <tbody>\n",
       "    <tr>\n",
       "      <th>count</th>\n",
       "      <td>750.00</td>\n",
       "      <td>750.00</td>\n",
       "      <td>750.00</td>\n",
       "      <td>750.00</td>\n",
       "      <td>750.00</td>\n",
       "    </tr>\n",
       "    <tr>\n",
       "      <th>mean</th>\n",
       "      <td>0.00</td>\n",
       "      <td>-0.00</td>\n",
       "      <td>-0.00</td>\n",
       "      <td>-0.00</td>\n",
       "      <td>0.00</td>\n",
       "    </tr>\n",
       "    <tr>\n",
       "      <th>std</th>\n",
       "      <td>1.00</td>\n",
       "      <td>1.00</td>\n",
       "      <td>1.00</td>\n",
       "      <td>1.00</td>\n",
       "      <td>1.00</td>\n",
       "    </tr>\n",
       "    <tr>\n",
       "      <th>min</th>\n",
       "      <td>-1.23</td>\n",
       "      <td>-2.08</td>\n",
       "      <td>-1.72</td>\n",
       "      <td>-1.93</td>\n",
       "      <td>-0.12</td>\n",
       "    </tr>\n",
       "    <tr>\n",
       "      <th>25%</th>\n",
       "      <td>-0.87</td>\n",
       "      <td>-0.35</td>\n",
       "      <td>-0.88</td>\n",
       "      <td>-0.78</td>\n",
       "      <td>-0.12</td>\n",
       "    </tr>\n",
       "    <tr>\n",
       "      <th>50%</th>\n",
       "      <td>-0.23</td>\n",
       "      <td>-0.35</td>\n",
       "      <td>0.00</td>\n",
       "      <td>0.06</td>\n",
       "      <td>-0.12</td>\n",
       "    </tr>\n",
       "    <tr>\n",
       "      <th>75%</th>\n",
       "      <td>0.60</td>\n",
       "      <td>0.51</td>\n",
       "      <td>0.89</td>\n",
       "      <td>0.85</td>\n",
       "      <td>-0.12</td>\n",
       "    </tr>\n",
       "    <tr>\n",
       "      <th>max</th>\n",
       "      <td>3.16</td>\n",
       "      <td>1.37</td>\n",
       "      <td>1.68</td>\n",
       "      <td>2.44</td>\n",
       "      <td>8.20</td>\n",
       "    </tr>\n",
       "  </tbody>\n",
       "</table>\n",
       "</div>"
      ],
      "text/plain": [
       "       mileage  condition_transformed     age  avg_yearly_mileage  is_classic\n",
       "count   750.00                 750.00  750.00              750.00      750.00\n",
       "mean      0.00                  -0.00   -0.00               -0.00        0.00\n",
       "std       1.00                   1.00    1.00                1.00        1.00\n",
       "min      -1.23                  -2.08   -1.72               -1.93       -0.12\n",
       "25%      -0.87                  -0.35   -0.88               -0.78       -0.12\n",
       "50%      -0.23                  -0.35    0.00                0.06       -0.12\n",
       "75%       0.60                   0.51    0.89                0.85       -0.12\n",
       "max       3.16                   1.37    1.68                2.44        8.20"
      ]
     },
     "execution_count": 63,
     "metadata": {},
     "output_type": "execute_result"
    }
   ],
   "source": [
    "ss.fit(X_train)\n",
    "X_train_ss_scaled = pd.DataFrame(ss.transform(X_train), columns=X_train.columns)\n",
    "X_test_ss_scaled = pd.DataFrame(ss.transform(X_test), columns=X_test.columns)\n",
    "np.round(X_train_ss_scaled.describe(),2)"
   ]
  },
  {
   "cell_type": "markdown",
   "metadata": {
    "ExecuteTime": {
     "end_time": "2021-10-13T05:47:31.194364Z",
     "start_time": "2021-10-13T05:47:31.178364Z"
    }
   },
   "source": [
    "W przeciwieństwie do poprzedniego przekształcenia zmienne mają identyczną średnią i odchylenie standardowe, za to różnią sie zakresami wartości."
   ]
  },
  {
   "cell_type": "markdown",
   "metadata": {
    "ExecuteTime": {
     "end_time": "2021-10-13T05:50:25.897677Z",
     "start_time": "2021-10-13T05:50:25.880675Z"
    }
   },
   "source": [
    "<div class=\"alert alert-block alert-info\">\n",
    "<b>Info</b> \n",
    "\n",
    "Jako że StandardScaler opiera się na użyciu średniej i odchylenia standardowego z transformowanej zmiennej, również nie jest on wolny od wpływu wartości odstających. Jeśli chcemy być pewni, że wartości odstające nie będą miały wpływu na skalę przekształconej zmiennej można skorzystać z klasy <b>RobustScaler</b> \n",
    "</div>"
   ]
  },
  {
   "cell_type": "markdown",
   "metadata": {},
   "source": [
    "# łączenie różnych transformacji w ramach pipeline"
   ]
  },
  {
   "cell_type": "markdown",
   "metadata": {},
   "source": [
    "cofnijmy się teraz na chwilę do etapu generowania danych i zobaczmy jak można w łatwy i niezawodny sposób łączyć ze sobą różne transformacje z wykorzystaniem obiektów Pipeline oraz ColumnTransformer"
   ]
  },
  {
   "cell_type": "markdown",
   "metadata": {},
   "source": [
    "<div class=\"alert alert-block alert-success\">\n",
    "<b>Definicja</b> \n",
    "\n",
    "<b>Pipeline</b> jest to przepływ danych przez ułożone w kolejności moduły wykonujące ustalone transformacje, zazwyczaj ostatnim elementem jest model predykcyjny\n",
    "</div>"
   ]
  },
  {
   "cell_type": "code",
   "execution_count": null,
   "metadata": {
    "ExecuteTime": {
     "end_time": "2021-10-13T08:30:51.418449Z",
     "start_time": "2021-10-13T08:30:51.387402Z"
    }
   },
   "outputs": [
    {
     "data": {
      "text/html": [
       "<div>\n",
       "<style scoped>\n",
       "    .dataframe tbody tr th:only-of-type {\n",
       "        vertical-align: middle;\n",
       "    }\n",
       "\n",
       "    .dataframe tbody tr th {\n",
       "        vertical-align: top;\n",
       "    }\n",
       "\n",
       "    .dataframe thead th {\n",
       "        text-align: right;\n",
       "    }\n",
       "</style>\n",
       "<table border=\"1\" class=\"dataframe\">\n",
       "  <thead>\n",
       "    <tr style=\"text-align: right;\">\n",
       "      <th></th>\n",
       "      <th>condition</th>\n",
       "      <th>mileage</th>\n",
       "      <th>brand</th>\n",
       "      <th>age</th>\n",
       "    </tr>\n",
       "  </thead>\n",
       "  <tbody>\n",
       "    <tr>\n",
       "      <th>82</th>\n",
       "      <td>very_good</td>\n",
       "      <td>69205</td>\n",
       "      <td>Skoda</td>\n",
       "      <td>6</td>\n",
       "    </tr>\n",
       "    <tr>\n",
       "      <th>991</th>\n",
       "      <td>good</td>\n",
       "      <td>322639</td>\n",
       "      <td>VW</td>\n",
       "      <td>46</td>\n",
       "    </tr>\n",
       "    <tr>\n",
       "      <th>789</th>\n",
       "      <td>good</td>\n",
       "      <td>86970</td>\n",
       "      <td>Fiat</td>\n",
       "      <td>20</td>\n",
       "    </tr>\n",
       "    <tr>\n",
       "      <th>894</th>\n",
       "      <td>very_good</td>\n",
       "      <td>524559</td>\n",
       "      <td>Fiat</td>\n",
       "      <td>66</td>\n",
       "    </tr>\n",
       "    <tr>\n",
       "      <th>398</th>\n",
       "      <td>medium</td>\n",
       "      <td>18954</td>\n",
       "      <td>Audi</td>\n",
       "      <td>35</td>\n",
       "    </tr>\n",
       "    <tr>\n",
       "      <th>...</th>\n",
       "      <td>...</td>\n",
       "      <td>...</td>\n",
       "      <td>...</td>\n",
       "      <td>...</td>\n",
       "    </tr>\n",
       "    <tr>\n",
       "      <th>106</th>\n",
       "      <td>good</td>\n",
       "      <td>209892</td>\n",
       "      <td>Renault</td>\n",
       "      <td>38</td>\n",
       "    </tr>\n",
       "    <tr>\n",
       "      <th>270</th>\n",
       "      <td>very_good</td>\n",
       "      <td>108168</td>\n",
       "      <td>Seat</td>\n",
       "      <td>51</td>\n",
       "    </tr>\n",
       "    <tr>\n",
       "      <th>860</th>\n",
       "      <td>good</td>\n",
       "      <td>39632</td>\n",
       "      <td>Mercedes</td>\n",
       "      <td>59</td>\n",
       "    </tr>\n",
       "    <tr>\n",
       "      <th>435</th>\n",
       "      <td>medium</td>\n",
       "      <td>267041</td>\n",
       "      <td>Fiat</td>\n",
       "      <td>50</td>\n",
       "    </tr>\n",
       "    <tr>\n",
       "      <th>102</th>\n",
       "      <td>good</td>\n",
       "      <td>24438</td>\n",
       "      <td>Audi</td>\n",
       "      <td>26</td>\n",
       "    </tr>\n",
       "  </tbody>\n",
       "</table>\n",
       "<p>750 rows × 4 columns</p>\n",
       "</div>"
      ],
      "text/plain": [
       "     condition  mileage     brand  age\n",
       "82   very_good    69205     Skoda    6\n",
       "991       good   322639        VW   46\n",
       "789       good    86970      Fiat   20\n",
       "894  very_good   524559      Fiat   66\n",
       "398     medium    18954      Audi   35\n",
       "..         ...      ...       ...  ...\n",
       "106       good   209892   Renault   38\n",
       "270  very_good   108168      Seat   51\n",
       "860       good    39632  Mercedes   59\n",
       "435     medium   267041      Fiat   50\n",
       "102       good    24438      Audi   26\n",
       "\n",
       "[750 rows x 4 columns]"
      ]
     },
     "execution_count": 69,
     "metadata": {},
     "output_type": "execute_result"
    }
   ],
   "source": [
    "UsedCars_df =generate_used_cars_data()\n",
    "X = UsedCars_df.drop(\"selling_price\",axis=1)\n",
    "y = UsedCars_df[\"selling_price\"]\n",
    "X[\"age\"] = 2021 - X[\"year_manufactured\"]\n",
    "X.drop(\"year_manufactured\", axis=1, inplace=True)\n",
    "X_train, X_test, y_train, y_test = train_test_split(X,y, test_size=0.25, random_state=42)\n",
    "X_train"
   ]
  },
  {
   "cell_type": "markdown",
   "metadata": {},
   "source": [
    "zdefiniujmy teraz grupy zmiennych, które będziemy poddawać poszczególnym transformacjom:"
   ]
  },
  {
   "cell_type": "code",
   "execution_count": null,
   "metadata": {
    "ExecuteTime": {
     "end_time": "2021-10-13T08:31:37.861867Z",
     "start_time": "2021-10-13T08:31:37.843794Z"
    }
   },
   "outputs": [],
   "source": [
    "columns_for_ordinal_encoding =[\"condition\"]\n",
    "columns_for_target_encoding =[\"brand\"]\n",
    "numerical_columns =[\"age\",\"mileage\"]"
   ]
  },
  {
   "cell_type": "markdown",
   "metadata": {},
   "source": [
    "następnie importujemy niezbędne klasy"
   ]
  },
  {
   "cell_type": "code",
   "execution_count": null,
   "metadata": {
    "ExecuteTime": {
     "end_time": "2021-10-13T07:37:51.258106Z",
     "start_time": "2021-10-13T07:37:50.986228Z"
    }
   },
   "outputs": [],
   "source": [
    "from sklearn.compose import ColumnTransformer\n",
    "from sklearn.pipeline import Pipeline"
   ]
  },
  {
   "cell_type": "markdown",
   "metadata": {},
   "source": [
    "definiujemy pipeline do przetwarzania poszczególnych grup kolumn, pipeline mogą zawierać wiele kroków, tutaj dla uproszczenia wykorzystamy jednoelementowe"
   ]
  },
  {
   "cell_type": "code",
   "execution_count": null,
   "metadata": {
    "ExecuteTime": {
     "end_time": "2021-10-13T08:46:33.279578Z",
     "start_time": "2021-10-13T08:46:33.264583Z"
    }
   },
   "outputs": [],
   "source": [
    "pipeline_oe = Pipeline(steps =[(\"OrdinalEncoder\",\n",
    "                            OrdinalEncoder(\n",
    "                               categories =[['very_bad', 'bad', 'medium', 'good', 'very_good']],\n",
    "                               handle_unknown ='use_encoded_value', unknown_value=np.NaN))])\n",
    "\n",
    "pipeline_jse = Pipeline(steps=[(\"JamesSteinEncoder\",JamesSteinEncoder())])\n",
    "\n",
    "pipeline_num = Pipeline(steps=[(\"PowerTransformer\",PowerTransformer(standardize=False))])"
   ]
  },
  {
   "cell_type": "markdown",
   "metadata": {
    "ExecuteTime": {
     "end_time": "2021-10-13T08:47:50.362158Z",
     "start_time": "2021-10-13T08:47:50.346529Z"
    }
   },
   "source": [
    "następnie przypisujemy zmienne do poszczególnych transformacji, korzystając z obiektu ColumnTransformer"
   ]
  },
  {
   "cell_type": "code",
   "execution_count": null,
   "metadata": {
    "ExecuteTime": {
     "end_time": "2021-10-13T08:50:55.791722Z",
     "start_time": "2021-10-13T08:50:55.784725Z"
    }
   },
   "outputs": [],
   "source": [
    "column_transformer = ColumnTransformer(\n",
    "                        transformers=[\n",
    "                         ('categorical_oe', pipeline_oe, columns_for_ordinal_encoding),\n",
    "                         ('categorical_jse', pipeline_jse, columns_for_target_encoding),\n",
    "                         ('numerical', pipeline_num, numerical_columns)\n",
    "                         ])"
   ]
  },
  {
   "cell_type": "markdown",
   "metadata": {},
   "source": [
    "sam ColumnTransformer również może być częścią pipeline, przykładowo możemy na koniec zastosować standaryzacje"
   ]
  },
  {
   "cell_type": "code",
   "execution_count": null,
   "metadata": {
    "ExecuteTime": {
     "end_time": "2021-10-13T08:59:34.098331Z",
     "start_time": "2021-10-13T08:59:34.091331Z"
    }
   },
   "outputs": [],
   "source": [
    "preprocessing_pipeline = Pipeline(steps = [\n",
    "                        (\"column_transformer\", column_transformer),\n",
    "                        (\"scaler\",StandardScaler())\n",
    "                    ])"
   ]
  },
  {
   "cell_type": "markdown",
   "metadata": {
    "ExecuteTime": {
     "end_time": "2021-10-13T09:08:30.550361Z",
     "start_time": "2021-10-13T09:08:30.533364Z"
    }
   },
   "source": [
    "jeśli używamy pipeline bez modelu predykcyjnego na końcu to stosujemy te same metody co przy zwykłych transformerach"
   ]
  },
  {
   "cell_type": "code",
   "execution_count": null,
   "metadata": {
    "ExecuteTime": {
     "end_time": "2021-10-13T08:59:37.863310Z",
     "start_time": "2021-10-13T08:59:37.797282Z"
    }
   },
   "outputs": [
    {
     "data": {
      "text/plain": [
       "Pipeline(steps=[('column_transformer',\n",
       "                 ColumnTransformer(transformers=[('categorical_oe',\n",
       "                                                  Pipeline(steps=[('OrdinalEncoder',\n",
       "                                                                   OrdinalEncoder(categories=[['very_bad',\n",
       "                                                                                               'bad',\n",
       "                                                                                               'medium',\n",
       "                                                                                               'good',\n",
       "                                                                                               'very_good']],\n",
       "                                                                                  handle_unknown='use_encoded_value',\n",
       "                                                                                  unknown_value=nan))]),\n",
       "                                                  ['condition']),\n",
       "                                                 ('categorical_jse',\n",
       "                                                  Pipeline(steps=[('JamesSteinEncoder',\n",
       "                                                                   JamesSteinEncoder())]),\n",
       "                                                  ['brand']),\n",
       "                                                 ('numerical',\n",
       "                                                  Pipeline(steps=[('PowerTransformer',\n",
       "                                                                   PowerTransformer(standardize=False))]),\n",
       "                                                  ['age', 'mileage'])])),\n",
       "                ('scaler', StandardScaler())])"
      ]
     },
     "execution_count": 81,
     "metadata": {},
     "output_type": "execute_result"
    }
   ],
   "source": [
    "preprocessing_pipeline.fit(X_train,y_train)"
   ]
  },
  {
   "cell_type": "markdown",
   "metadata": {},
   "source": [
    "po uruchomieniu metody fit widzimy wszystkie kroki całego pipeline"
   ]
  },
  {
   "cell_type": "code",
   "execution_count": null,
   "metadata": {
    "ExecuteTime": {
     "end_time": "2021-10-13T09:04:04.397527Z",
     "start_time": "2021-10-13T09:04:04.362537Z"
    }
   },
   "outputs": [
    {
     "name": "stdout",
     "output_type": "stream",
     "text": [
      "rozmiar zbioru treningowego po transformacji: (750, 4)\n",
      "rozmiar zbioru testowego po transformacji: (250, 4)\n",
      "[[ 1.34093122 -0.77016684 -1.5987142  -0.59924888]\n",
      " [ 0.46641086 -0.80925124  0.58475157  0.97365003]\n",
      " [ 0.46641086 -0.7939586  -0.68985786 -0.40448688]\n",
      " ...\n",
      " [ 0.46641086  0.70876962  1.13401097 -1.02756173]\n",
      " [-0.4081095  -0.7939586   0.75822769  0.74397369]\n",
      " [ 0.46641086  0.80959101 -0.36550292 -1.35095193]]\n"
     ]
    }
   ],
   "source": [
    "X_train_transformed = preprocessing_pipeline.transform(X_train)\n",
    "X_test_transformed = preprocessing_pipeline.transform(X_test)\n",
    "print(f\"rozmiar zbioru treningowego po transformacji: {X_train_transformed.shape}\")\n",
    "print(f\"rozmiar zbioru testowego po transformacji: {X_test_transformed.shape}\")\n",
    "print(X_train_transformed)"
   ]
  },
  {
   "cell_type": "markdown",
   "metadata": {
    "ExecuteTime": {
     "end_time": "2021-10-13T09:11:50.317268Z",
     "start_time": "2021-10-13T09:11:50.299272Z"
    }
   },
   "source": [
    "jak widzimy zwrócony zbiór treningowy ma typ danych array a jego wymiary odpowiadają tym przed transformacją, zgodność wymiarów zależy jednak od zastosowanych transformacji"
   ]
  },
  {
   "cell_type": "markdown",
   "metadata": {},
   "source": [
    "jeśli pipeline jest zakończony modelem predykcyjnym jego metody są identyczne jak metody modelu, czyli korzystamy z fit i predict, tak jak w poniższym przykładzie"
   ]
  },
  {
   "cell_type": "code",
   "execution_count": null,
   "metadata": {
    "ExecuteTime": {
     "end_time": "2021-10-13T09:15:56.032669Z",
     "start_time": "2021-10-13T09:15:56.026673Z"
    }
   },
   "outputs": [],
   "source": [
    "from sklearn.linear_model import LinearRegression\n",
    "\n",
    "final_pipeline = Pipeline(steps = [\n",
    "                (\"preprocessing\", preprocessing_pipeline),\n",
    "                (\"model\", LinearRegression())\n",
    "                ])"
   ]
  },
  {
   "cell_type": "markdown",
   "metadata": {
    "ExecuteTime": {
     "end_time": "2021-10-13T09:19:56.002592Z",
     "start_time": "2021-10-13T09:19:55.993593Z"
    }
   },
   "source": [
    "poniżej pokazujemy jak wytrenować pipeline w oparciu o zbiór treningowy a następnie dokonać predykcji na zbiorze testowym"
   ]
  },
  {
   "cell_type": "code",
   "execution_count": null,
   "metadata": {
    "ExecuteTime": {
     "end_time": "2021-10-13T09:20:56.132669Z",
     "start_time": "2021-10-13T09:20:56.071678Z"
    }
   },
   "outputs": [
    {
     "data": {
      "text/plain": [
       "0     9649.925584\n",
       "1    30782.788094\n",
       "2    44681.214268\n",
       "3     5967.815692\n",
       "4    45684.785298\n",
       "Name: prediction, dtype: float64"
      ]
     },
     "execution_count": 91,
     "metadata": {},
     "output_type": "execute_result"
    }
   ],
   "source": [
    "final_pipeline.fit(X_train, y_train)\n",
    "X_test_predicted = pd.Series(final_pipeline.predict(X_test),name=\"prediction\")\n",
    "X_test_predicted.head()"
   ]
  },
  {
   "cell_type": "markdown",
   "metadata": {},
   "source": [
    "# Podsumowanie"
   ]
  },
  {
   "cell_type": "markdown",
   "metadata": {},
   "source": [
    "Powyżej zaprezentowaliśmy kilka różnych przykładów przekształcania surowych danych w cechy predykcyjne przydatne przy modelowaniu. Niektóre transformacje można z powodzeniem stosować przy pracy nad innymi problemami, inne należy raczej potraktować jako inspirację. Ważne aby prace nad Feature Engineering poprzedzone były dobrym zrozumieniem danych. Niezwykle ważne jest tutaj aby już na tym etapie stosować odpowiednią strategię walidacyjną, aby zapobiec korzystaniu z informacji ze zbioru testowego, inaczej nasze wyniki nie będą miarodajne."
   ]
  },
  {
   "cell_type": "code",
   "execution_count": null,
   "metadata": {},
   "outputs": [],
   "source": []
  }
 ],
 "metadata": {
  "kernelspec": {
   "display_name": "Python 3 (ipykernel)",
   "language": "python",
   "name": "python3"
  },
  "language_info": {
   "codemirror_mode": {
    "name": "ipython",
    "version": 3
   },
   "file_extension": ".py",
   "mimetype": "text/x-python",
   "name": "python",
   "nbconvert_exporter": "python",
   "pygments_lexer": "ipython3",
   "version": "3.9.7"
  },
  "toc": {
   "base_numbering": 1,
   "nav_menu": {},
   "number_sections": true,
   "sideBar": true,
   "skip_h1_title": false,
   "title_cell": "Table of Contents",
   "title_sidebar": "Contents",
   "toc_cell": false,
   "toc_position": {
    "height": "calc(100% - 180px)",
    "left": "10px",
    "top": "150px",
    "width": "426.667px"
   },
   "toc_section_display": true,
   "toc_window_display": true
  },
  "varInspector": {
   "cols": {
    "lenName": 16,
    "lenType": 16,
    "lenVar": 40
   },
   "kernels_config": {
    "python": {
     "delete_cmd_postfix": "",
     "delete_cmd_prefix": "del ",
     "library": "var_list.py",
     "varRefreshCmd": "print(var_dic_list())"
    },
    "r": {
     "delete_cmd_postfix": ") ",
     "delete_cmd_prefix": "rm(",
     "library": "var_list.r",
     "varRefreshCmd": "cat(var_dic_list()) "
    }
   },
   "types_to_exclude": [
    "module",
    "function",
    "builtin_function_or_method",
    "instance",
    "_Feature"
   ],
   "window_display": false
  }
 },
 "nbformat": 4,
 "nbformat_minor": 4
}