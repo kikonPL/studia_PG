{
 "cells": [
  {
   "cell_type": "markdown",
   "id": "0fb2a896-4bba-48cb-8479-f3d26d38f1d4",
   "metadata": {},
   "source": [
    "# NLP"
   ]
  },
  {
   "cell_type": "markdown",
   "id": "9a6b20f7-626b-45a2-9676-5e7753d98e0b",
   "metadata": {},
   "source": [
    "# Wstęp"
   ]
  },
  {
   "cell_type": "markdown",
   "id": "28c0fa42-917a-47fe-9a51-cf5a82061b65",
   "metadata": {},
   "source": [
    "<div class=\"alert alert-block alert-success\">\n",
    "<b>Definicja</b> \n",
    "    \n",
    "<b>Natural Language Processing (NLP)</b>, czyli przetwarzanie języka naturalnego, to dziedzina sztucznej inteligencji, która skupia się na interakcji między komputerami a językiem naturalnym używanym przez ludzi. NLP łączy w sobie elementy lingwistyki, informatyki i uczenia maszynowego, a jej celem jest umożliwienie komputerom zrozumienie, interpretowanie oraz generowanie ludzkiej mowy w sposób jak najbardziej zbliżony do ludzkiego. Technologia ta znajduje szerokie zastosowanie w takich dziedzinach jak tłumaczenie maszynowe, analiza sentymentu, chatboty, automatyczne rozpoznawanie mowy czy przetwarzanie tekstu.\n",
    "</div>\n",
    "\n",
    "<div class=\"alert alert-block alert-info\">\n",
    "<b>Info</b> \n",
    "\n",
    "Aby komputer mógł zrozumieć i analizować tekst, konieczne jest jego odpowiednie przetworzenie. Proces ten polega na transformacji tekstu na formę, którą komputer jest w stanie analizować i interpretować. Oto kilka z metod przetwarzania tekstu:\n",
    "\n",
    "1. `Tokenizacja` - polega na rozbiciu tekstu na mniejsze jednostki zwane tokenami. Zazwyczaj tokenami są słowa, ale mogą to być także frazy lub zdania.\n",
    "\n",
    "2. `Stemming` - proces sprowadzania słów do ich podstawowej formy, zwanej rdzeniem (stem). Stemming usuwa końcówki fleksyjne (np. „przetwarzać” -> „przetwarz”).\n",
    "3. `Lematyzacja` - bardziej czasochłonna i zaawansowana metoda niż stemming. Polega na sprowadzeniu słowa do jego formy podstawowej, czyli lematu (np. „przetwarzający” -> „przetwarzać”).\n",
    "4. `Bag of Words (BoW)` - metoda reprezentacji tekstu, w której dokument jest traktowany jako zbiór słów, biorąc pod uwagę ich częstotliwość występowania. Przydatne w problemach takich jak klasyfikacja tekstu czy analiza sentymentu, gdzie ważna jest obecność słów kluczowych, a nie ich kolejność.\n",
    "5. `TF-IDF (Term Frequency-Inverse Document Frequency)` - metoda oceny wagę słowa w dokumencie w kontekście całego zbioru. TF (częstotliwość terminu) mierzy, jak często dane słowo pojawia się w tekście, natomiast IDF (odwrotna częstotliwość dokumentów) ocenia, jak unikalne jest dane słowo w zbiorze dokumentów.\n",
    "6. `Rozpoznawanie części mowy (POS Tagging)` - polega na automatycznym przypisaniu słowom w tekście ich odpowiednich części mowy (rzeczownik, czasownik, przymiotnik itp.).\n",
    "7. `Word Embeddings` - metoda reprezentowania słów w postaci wektorów liczbowych w przestrzeni wielowymiarowej, która uwzględnia semantykę słów. Popularne metody to <b>Word2Vec</b>, <b>GloVe</b> czy <b>FastText</b>.\n",
    "8. `Transformery i modele głębokie` - modele oparte na architekturze transformatorów, takie jak <b>BERT</b> czy <b>GPT</b>, umożliwiają analizowanie całych sekwencji tekstu, biorąc pod uwagę kontekst słów. Transformery używają mechanizmów uwagi (attention), aby modelować relacje między słowami w zdaniach niezależnie od ich odległości od siebie.\n",
    "\n",
    "</div>"
   ]
  },
  {
   "cell_type": "markdown",
   "id": "89fe1daf-99bb-4a84-a60c-882f1612948f",
   "metadata": {},
   "source": [
    "W związku z trudniejszym dostępem do zbioru danych w języku polskim, w poniższym tutorialu wykorzystywany będzie zbiór w języku angielskim, a wybrane metody przetwarzania tekstu będą przedstawiane również w języku polskim na przykładowych zdaniach. "
   ]
  },
  {
   "cell_type": "markdown",
   "id": "9e97de3e-50b3-414b-9788-142c4a8bf988",
   "metadata": {},
   "source": [
    "Do przetwarzania języka polskiego będziemy korzystać głównie z biblioteki <b>SpaCy</b>, używanej do przetwarzania języka naturalnego i metod takich jak POS tagging, lematyzacja i tokenizacja. Kolejną popularną biblioteką do NLP jest <b>NLTK</b>, ale niestety język polski nie jest przez nią wspierany."
   ]
  },
  {
   "cell_type": "code",
   "execution_count": 47,
   "id": "536e396f-4d1f-4ad5-be4e-352490e92c61",
   "metadata": {},
   "outputs": [],
   "source": [
    "# libraries\n",
    "import pandas as pd\n",
    "\n",
    "import spacy\n",
    "from spacy.lang.pl.examples import sentences \n",
    "from string import punctuation\n",
    "from spacy.lang.pl import stop_words\n",
    "\n",
    "\n",
    "from nltk.stem import WordNetLemmatizer\n",
    "from nltk.tokenize import word_tokenize\n",
    "from nltk.stem import PorterStemmer\n",
    "\n",
    "import re\n",
    "from sklearn.feature_extraction.text import TfidfVectorizer, CountVectorizer\n",
    "\n",
    "import gensim\n",
    "from gensim.models import Word2Vec, KeyedVectors\n",
    "import gensim.downloader\n",
    "import gensim\n",
    "import os\n",
    "from gensim.test.utils import datapath\n",
    "\n",
    "from nltk import sent_tokenize\n",
    "from gensim.utils import simple_preprocess\n",
    "from gensim.models import Word2Vec\n",
    "\n",
    "from time import time\n",
    "import multiprocessing\n",
    "\n",
    "import logging\n",
    "logging.basicConfig(format=\"%(levelname)s - %(asctime)s: %(message)s\", datefmt= '%H:%M:%S', level=logging.INFO)\n",
    "\n",
    "import plotly.express as px\n",
    "from sklearn.decomposition import PCA\n",
    "\n",
    "from transformers import AutoTokenizer, AutoModel\n",
    "import torch"
   ]
  },
  {
   "cell_type": "code",
   "execution_count": 48,
   "id": "d93a2ee0-39b5-417c-b8df-b3e5d37300a8",
   "metadata": {},
   "outputs": [
    {
     "name": "stdout",
     "output_type": "stream",
     "text": [
      "Poczuł przyjemną woń mocnej kawy.\n"
     ]
    }
   ],
   "source": [
    "nlp = spacy.load(\"pl_core_news_sm\") # wykonujemy uprzednio python -m spacy download pl_core_news_sm\n",
    "doc = nlp(sentences[0])\n",
    "print(doc.text)"
   ]
  },
  {
   "cell_type": "code",
   "execution_count": 49,
   "id": "db165974-35f8-4fa9-8393-62d2d7862be8",
   "metadata": {},
   "outputs": [
    {
     "name": "stdout",
     "output_type": "stream",
     "text": [
      "Poczuł VERB ROOT\n",
      "przyjemną ADJ amod\n",
      "woń NOUN iobj\n",
      "mocnej ADJ amod\n",
      "kawy NOUN nmod:arg\n",
      ". PUNCT punct\n"
     ]
    }
   ],
   "source": [
    "for token in doc:\n",
    "    print(token.text, token.pos_, token.dep_)"
   ]
  },
  {
   "cell_type": "code",
   "execution_count": 50,
   "id": "436213dc-c938-47c6-8a58-e106f9dc7fb3",
   "metadata": {},
   "outputs": [
    {
     "data": {
      "text/plain": [
       "['Poczuł przyjemną woń mocnej kawy.',\n",
       " 'Istnieje wiele dróg oddziaływania substancji psychoaktywnej na układ nerwowy.',\n",
       " 'Powitał mnie biało-czarny kot, płosząc siedzące na płocie trzy dorodne dudki.',\n",
       " 'Nowy abonament pod lupą Komisji Europejskiej',\n",
       " 'Czy w ciągu ostatnich 48 godzin spożyłeś leki zawierające paracetamol?',\n",
       " 'Kto ma ochotę zapoznać się z innymi niż w książkach przygodami Muminków i ich przyjaciół, temu polecam komiks Tove Jansson „Muminki i morze”.']"
      ]
     },
     "execution_count": 50,
     "metadata": {},
     "output_type": "execute_result"
    }
   ],
   "source": [
    "sentences"
   ]
  },
  {
   "cell_type": "markdown",
   "id": "3ed3a827-70b4-4926-b2d6-e1846d4de160",
   "metadata": {},
   "source": [
    "# Normalizacja danych tekstowych"
   ]
  },
  {
   "cell_type": "markdown",
   "id": "d2b52647-9637-4610-bc9a-5b808a00812f",
   "metadata": {},
   "source": [
    "## Znaki interpunkcyjne"
   ]
  },
  {
   "cell_type": "code",
   "execution_count": 51,
   "id": "29a4a986-d31b-4a6c-9158-f709a744da6b",
   "metadata": {},
   "outputs": [
    {
     "name": "stdout",
     "output_type": "stream",
     "text": [
      "['!', '\"', '#', '$', '%', '&', \"'\", '(', ')', '*', '+', ',', '-', '.', '/', ':', ';', '<', '=', '>', '?', '@', '[', '\\\\', ']', '^', '_', '`', '{', '|', '}', '~']\n"
     ]
    }
   ],
   "source": [
    "punctuations = list(punctuation)\n",
    "print(punctuations)"
   ]
  },
  {
   "cell_type": "code",
   "execution_count": 52,
   "id": "f1d4e7a9-1011-4719-9efd-fcff3722d136",
   "metadata": {},
   "outputs": [
    {
     "name": "stdout",
     "output_type": "stream",
     "text": [
      "Input: Przykładowe 'zdanie' [ze] znakami: interpunkcyjnymi...!?\n",
      "Output: Przykładowe zdanie ze znakami interpunkcyjnymi\n"
     ]
    }
   ],
   "source": [
    "# removing punctuations\n",
    "def remove_punctuation(tekst):\n",
    "    return tekst.translate(str.maketrans('', '', punctuation))\n",
    "\n",
    "text = \"Przykładowe 'zdanie' [ze] znakami: interpunkcyjnymi...!?\"\n",
    "print(f\"Input: {text}\")\n",
    "print(f\"Output: {remove_punctuation(text)}\")"
   ]
  },
  {
   "cell_type": "markdown",
   "id": "1ef5f5e8-fb24-4199-95a5-107b32edf435",
   "metadata": {},
   "source": [
    "## Konwersja na małe litery"
   ]
  },
  {
   "cell_type": "code",
   "execution_count": 53,
   "id": "a03efbf3-0e0c-4f16-8251-75983ad5dc87",
   "metadata": {},
   "outputs": [
    {
     "name": "stdout",
     "output_type": "stream",
     "text": [
      "Input: SUPER Super supeR super\n",
      "Output: super super super super\n"
     ]
    }
   ],
   "source": [
    "# converting to lowercase\n",
    "def convert_to_lowercase(tekst):\n",
    "    return tekst.lower()\n",
    "\n",
    "text = \"SUPER Super supeR super\"\n",
    "print(f\"Input: {text}\")\n",
    "print(f\"Output: {convert_to_lowercase(text)}\")"
   ]
  },
  {
   "cell_type": "markdown",
   "id": "8f2327b6-6604-4d9c-a8b8-a51f14ae4952",
   "metadata": {},
   "source": [
    "## Usuwanie stop-wordsów"
   ]
  },
  {
   "cell_type": "markdown",
   "id": "3e8544c1-3f9c-420c-a7d5-1eb00856898e",
   "metadata": {},
   "source": [
    "<div class=\"alert alert-block alert-info\">\n",
    "<b>Info</b> \n",
    "    \n",
    "Usunięcie stop-wordsów z danych tekstowych zmniejsza wymiarowość danych i zwiększa wydajność, a czasami także skuteczność algorytmów. Na przykład, usunięcie ich z dokumentu może pomóc w klasyfikacji tekstu, kiedy chcemy skupić się na najważniejszych i najbardziej istotnych słowach, dzięki którym algorytm będzie w stanie przypisać tekst do odpowiedniej kategorii. Należy jednak pamiętać, że słowa te nie zawsze są nieistotne, a w niektórych przypadkach wykluczenie stop-wordsów może wpłynąć na cały kontekst zdania. Dlatego ważne jest, aby starannie przemyśleć, czy i w jaki sposób uwzględniać stop-wordsy w naszym problemie.\n",
    "\n",
    "**Zalety**  \n",
    "- Zmniejszenie rozmiaru danych tekstowych, co sprawia, że są one łatwiejsze do zarządzania i szybsze w przetwarzaniu.\n",
    "- Poprawa wydajności algorytmów przetwarzania języka naturalnego poprzez redukcję nieistotnych słów.\n",
    "- Zwiększenie przejrzystości i zrozumiałości wyników poprzez usunięcie słów, które nie mają większego znaczenia.\n",
    "\n",
    "**Wady**\n",
    "- Ryzyko utraty istotnych informacji poprzez usunięcie słów, które mogą mieć znaczenie w określonym kontekście.\n",
    "- Trudności w znalezieniu odpowiednich list stop-wordsów w niektórych językach, co może ograniczać skalowalność w przypadku przetwarzania wielu języków.\n",
    "</div>"
   ]
  },
  {
   "cell_type": "markdown",
   "id": "30dba2bf-38e7-4560-847f-74cb77f2e4bb",
   "metadata": {},
   "source": [
    "Lista stop-wordsów w języku polskim z biblioteki <b>SpaCy</b>:"
   ]
  },
  {
   "cell_type": "code",
   "execution_count": 54,
   "id": "cefd9873-1b79-4ec1-aa37-6c4d32c3cbb6",
   "metadata": {},
   "outputs": [
    {
     "name": "stdout",
     "output_type": "stream",
     "text": [
      "{'wszystkim', 'ktorej', 'znow', 'duzo', 'ktore', 'xv', 'ponieważ', 'ono', 'lecz', 'ten', 'kto', 'którzy', 'zawsze', 'nie', 'kilka', 'tys', 'albo', 'we', 'cala', 'około', 'mu', 'jakichś', 'jedna', 'wasze', 'jakkolwiek', 'choć', 'twoim', 'tam', 'tzw', 'którym', 'cie', 'każdy', 'bede', 'iż', 'zaś', 'daleko', 'beda', 'vii', 'pan', 'wszyscy', 'oni', 'ponad', 'których', 'zapewne', 'naszych', 'sam', 'pana', 'dwie', 'będę', 'oto', 'pomimo', 'również', 'jakaś', 'jednak', 'niego', 'ją', 'nawet', 'wszystkich', 'cały', 'nam', 'niemu', 'jeśli', 'się', 'gdyby', 'nim', 'byla', 'nami', 'wlasnie', 'skąd', 'ile', 'może', 'coraz', 'mozna', 'razie', 'już', 'aby', 'według', 'moga', 'lub', 'dziś', 'dokad', 'podczas', 'dwa', 'bo', 'zostal', 'cała', 'zaden', 'no', 'tel', 'aczkolwiek', 'było', 'czasem', 'kimś', 'która', 'nich', 'natomiast', 'on', 'kazdy', 'ona', 'jakichs', 'xii', 'takich', 'juz', 'przedtem', 'go', 'moja', 'gdzieś', 'aż', 'alez', 'bardziej', 'sobą', 'takze', 'znowu', 'mało', 'twoi', 'ktorego', 'oraz', 'cos', 'bym', 'gdy', 'wiele', 'tu', 'jakiż', 'nasz', 'soba', 'iz', 'mamy', 'to', 'mną', 'do', 'znów', 'jej', 'moim', 'ktorzy', 'jakiś', 'dużo', 'rowniez', 'wtedy', 'chce', 'była', 'jedno', 'pod', 'raz', 'nasza', 'dla', 'a', 'niz', 'czemu', 'trzeba', 'czyli', 'totez', 'między', 'naszego', 'cokolwiek', 'nas', 'ix', 'sposob', 'ty', 'wielu', 'mimo', 'będzie', 'nią', 'ktoś', 'ktokolwiek', 'właśnie', 'za', 'my', 'jakas', 'jako', 'jezeli', 'tę', 'sobie', 'xiv', 'wie', 'także', 'inne', 'czy', 'jestem', 'jakoś', 'że', 'tej', 'je', 'caly', 'będą', 'kilku', 'żadne', 'od', 'mnie', 'jednakze', 'bowiem', 'roku', 'dosc', 'wy', 'gdyz', 'ktorych', 'u', 'taki', 'viii', 'kierunku', 'dwoje', 'można', 'one', 'który', 'byc', 'gdziekolwiek', 'mój', 'inna', 'jakby', 'tak', 'wasi', 'swoje', 'twym', 'tutaj', 'az', 'bedzie', 'ta', 'totobą', 'dokąd', 'jakie', 'wami', 'mają', 'przecież', 'dwaj', 'jeden', 'i', 'ok', 'tych', 'moze', 'jakiz', 'przeciez', 'by', 'wasza', 'często', 'godz', 'teraz', 'na', 'dzisiaj', 'moje', 'którego', 'niech', 'przed', 'moj', 'miał', 'ze', 'dobrze', 'poza', 'żeby', 'kiedy', 'zadna', 'są', 'musi', 'ci', 'cali', 'wszystko', 'możliwe', 'nigdy', 'iv', 'jedynie', 'twoj', 'natychmiast', 'toteż', 'czasami', 'sama', 'innych', 'jeszcze', 'niż', 'przy', 'pani', 'xi', 'być', 'nimi', 'powinna', 'jednakże', 'ciebie', 'przede', 'prawie', 'ani', 'nad', 'sie', 'nasze', 'dlatego', 'zadne', 'ktory', 'po', 'temu', 'vi', 'jego', 'acz', 'nia', 'aj', 'bardzo', 'obok', 'twój', 'takie', 'bez', 'tego', 'mozliwe', 'wam', 'więc', 'mam', 'o', 'dzis', 'mogą', 'cię', 'też', 'gdzies', 'tym', 'ach', 'jesli', 'owszem', 'mna', 'w', 'sposób', 'jeżeli', 'z', 'was', 'były', 'nic', 'xiii', 'przez', 'bylo', 'ktora', 'bynajmniej', 'byl', 'jakis', 'został', 'im', 'ktos', 'byli', 'żaden', 'żadnych', 'powinien', 'ja', 'powinni', 'dość', 'mi', 'inny', 'ich', 'ma', 'poniewaz', 'miedzy', 'co', 'tobą', 'zadnych', 'dlaczego', 'byly', 'te', 'ktorym', 'jest', 'wasz', 'był', 'gdzie', 'twoja', 'kims', 'tobie', 'jakos', 'moi', 'jednym', 'wśród', 'nasi', 'więcej', 'ku', 'żadna', 'zeby', 'ale', 'toba', 'powinno', 'skad', 'wszystkie', 'jaki', 'ależ', 'jemu', 'twoje', 'taka', 'tylko', 'gdyż', 'której', 'jak', 'które', 'niej', 'coś'}\n"
     ]
    }
   ],
   "source": [
    "stopwords = stop_words.STOP_WORDS\n",
    "print(stopwords)"
   ]
  },
  {
   "cell_type": "code",
   "execution_count": 55,
   "id": "48399327-7f13-4197-938c-1e3e782b5454",
   "metadata": {},
   "outputs": [
    {
     "name": "stdout",
     "output_type": "stream",
     "text": [
      "Input: Kto ma ochotę zapoznać się z innymi niż w książkach przygodami Muminków i ich przyjaciół, temu polecam komiks Tove Jansson „Muminki i morze”.\n",
      "Output: ochotę zapoznać innymi książkach przygodami Muminków przyjaciół , polecam komiks Tove Jansson „ Muminki morze ” .\n"
     ]
    }
   ],
   "source": [
    "# removing stop-words using SpaCy\n",
    "def remove_stopwords(tekst):\n",
    "    doc = nlp(tekst)\n",
    "    removed = \" \".join([token.text for token in doc if not token.is_stop])\n",
    "    return removed\n",
    "\n",
    "text = \"Kto ma ochotę zapoznać się z innymi niż w książkach przygodami Muminków i ich przyjaciół, temu polecam komiks Tove Jansson „Muminki i morze”.\"\n",
    "print(f\"Input: {text}\")\n",
    "print(f\"Output: {remove_stopwords(text)}\")"
   ]
  },
  {
   "cell_type": "markdown",
   "id": "c15db3fe-48a9-4625-87f8-56876304b2a0",
   "metadata": {},
   "source": [
    "## Lematyzacja, stemming"
   ]
  },
  {
   "cell_type": "markdown",
   "id": "cc212294-2f56-4a67-8ce1-966b88b82709",
   "metadata": {},
   "source": [
    "<div class=\"alert alert-block alert-info\">\n",
    "<b>Info</b> \n",
    "    \n",
    "<b>Lematyzacja</b> i <b>stemming</b> to dwie techniki przetwarzania języka naturalnego (NLP), które pozwalają na sprowadzanie wyrazów do ich skróconych form.\n",
    "\n",
    "Lematyzacja polega na sprowadzeniu wyrazu do jego lematu, czyli formy podstawowej. Proces ten uwzględnia reguły gramatyczne danego języka, co sprawia, że lematyzacja jest bardziej precyzyjna niż stemming.\n",
    "Stemming to prostsza technika, która polega na obcięciu końcówek wyrazów w celu sprowadzenia ich do wspólnego trzonu (rdzenia), bez dbania o poprawność gramatyczną. Stemming jest szybszy niż lematyzacja, ale mniej precyzyjny.\n",
    "\n",
    "Dla języka polskiego istnieje kilka bibliotek i narzędzi, które wspierają lematyzację oraz stemming:\n",
    "\n",
    "1. `Morfeusz2 (lematyzacja)`\n",
    "   \n",
    "Morfeusz2 to zaawansowane narzędzie służące do analizy morfologicznej języka polskiego, rozwijane przez Instytut Podstaw Informatyki PAN. Jest to narzędzie wspierające lematyzację, które pozwala rozpoznawać podstawową formę wyrazu i jego kategorie gramatyczne. Dokumentacja: http://morfeusz.sgjp.pl/\n",
    "\n",
    "2. `Stempel (stemming)`\n",
    "   \n",
    "Stempel to algorytm stemmingowy dla języka polskiego oparty na bibliotece Lucene, który został zaimplementowany w Pythonie. Jest to stemming specyficznie zaprojektowany z myślą o polskim, który lepiej radzi sobie z złożonością tego języka niż proste algorytmy obcinające końcówki.\n",
    "\n",
    "3. `SpaCy (lematyzacja)`\n",
    "</div>"
   ]
  },
  {
   "cell_type": "code",
   "execution_count": 56,
   "id": "06b60675-2191-4dcb-b7f6-44cf2edc6d8b",
   "metadata": {},
   "outputs": [
    {
     "name": "stdout",
     "output_type": "stream",
     "text": [
      "Input: Nie ma rzeczy niemożliwych, są tylko trudne do zrealizowania.\n",
      "Output: nie mieć rzecz niemożliwy , być tylko trudny do zrealizować .\n"
     ]
    }
   ],
   "source": [
    "# lemmatization using SpaCy\n",
    "text = \"Nie ma rzeczy niemożliwych, są tylko trudne do zrealizowania.\"\n",
    "doc = nlp(text)\n",
    "\n",
    "print(f\"Input: {text}\")\n",
    "print(f\"Output: {\" \".join([token.lemma_ for token in doc])}\")"
   ]
  },
  {
   "cell_type": "code",
   "execution_count": 57,
   "id": "49e581ba-9b7c-4274-8bde-ee319c8d8913",
   "metadata": {},
   "outputs": [],
   "source": [
    "def lemmatization(tekst):\n",
    "    nlp = spacy.load(\"pl_core_news_sm\")\n",
    "    doc = nlp(tekst)\n",
    "    return \" \".join([token.lemma_ for token in doc])"
   ]
  },
  {
   "cell_type": "markdown",
   "id": "a2af15d1-e700-4fb9-aebc-e2a78f75ad3a",
   "metadata": {},
   "source": [
    "Porównajmy jak działa lematyzacja i stemming w języku angielskim:"
   ]
  },
  {
   "cell_type": "code",
   "execution_count": 58,
   "id": "3705e116-8fa5-4095-8b42-221f3159b620",
   "metadata": {},
   "outputs": [
    {
     "name": "stdout",
     "output_type": "stream",
     "text": [
      "Input: Dogs are barking loudly in the distance.\n",
      "Output: dog be bark loudly in the distance .\n"
     ]
    }
   ],
   "source": [
    "# lemmatization using SpaCy in english\n",
    "nlp_en = spacy.load(\"en_core_web_sm\")\n",
    "\n",
    "text = \"Dogs are barking loudly in the distance.\"\n",
    "doc = nlp_en(text)\n",
    "\n",
    "print(f\"Input: {text}\")\n",
    "print(f\"Output: {\" \".join([token.lemma_ for token in doc])}\")"
   ]
  },
  {
   "cell_type": "code",
   "execution_count": 59,
   "id": "59271eca",
   "metadata": {},
   "outputs": [
    {
     "name": "stderr",
     "output_type": "stream",
     "text": [
      "[nltk_data] Downloading package punkt_tab to\n",
      "[nltk_data]     C:\\Users\\knajmajer\\AppData\\Roaming\\nltk_data...\n",
      "[nltk_data]   Package punkt_tab is already up-to-date!\n"
     ]
    },
    {
     "data": {
      "text/plain": [
       "True"
      ]
     },
     "execution_count": 59,
     "metadata": {},
     "output_type": "execute_result"
    }
   ],
   "source": [
    "import nltk\n",
    "nltk.download('punkt_tab')"
   ]
  },
  {
   "cell_type": "code",
   "execution_count": 60,
   "id": "af693a35-e74b-4496-a6c7-5ce5ea6a5331",
   "metadata": {},
   "outputs": [
    {
     "name": "stdout",
     "output_type": "stream",
     "text": [
      "Input: Dogs are barking loudly in the distance.\n",
      "Output: dog are bark loudli in the distanc .\n"
     ]
    }
   ],
   "source": [
    "# stemming using NLTK in english\n",
    "ps = PorterStemmer()\n",
    " \n",
    "text = \"Dogs are barking loudly in the distance.\"\n",
    "words = word_tokenize(text)\n",
    "  \n",
    "print(f\"Input: {text}\")\n",
    "print(f\"Output: {\" \".join([ps.stem(word) for word in words])}\")"
   ]
  },
  {
   "cell_type": "markdown",
   "id": "77839d30-ee19-4029-9f8a-0fb84bc08b11",
   "metadata": {},
   "source": [
    "<div class=\"alert alert-block alert-warning\">\n",
    "<b>Uwaga</b> \n",
    "\n",
    "Oprócz przedstawionych wyżej metod,  istnieją także inne istotne techniki przetwarzania tekstu, które mogą być przydatne w różnych zadaniach związanych z analizą tekstu. Do tych metod należą m.in.:\n",
    "\n",
    "- usuwanie białych znaków,\n",
    "\n",
    "- usuwanie emotikonów,\n",
    "\n",
    "- usuwanie linków i adresów URL,\n",
    "\n",
    "- usuwanie liczb i symboli,\n",
    "\n",
    "- rozwijanie akronimów, np. \"dr\", \"mgr\", \"m.in.\", \"np.\",\n",
    "\n",
    "- korekta ortografii.\n",
    "\n",
    "Wszystkie te techniki mają na celu poprawę jakości danych i ułatwienie dalszej analizy tekstu, zwłaszcza w kontekście przetwarzania języka naturalnego (NLP).\n",
    "    \n",
    "</div>\n",
    "    "
   ]
  },
  {
   "cell_type": "code",
   "execution_count": 61,
   "id": "3ef98787-e622-404f-9e4b-54f64cd4eba2",
   "metadata": {},
   "outputs": [],
   "source": [
    "def text_normalization(tekst):\n",
    "    tekst = convert_to_lowercase(tekst)\n",
    "    tekst = lemmatization(tekst)\n",
    "    tekst = remove_punctuation(tekst)\n",
    "    tekst = remove_stopwords(tekst)\n",
    "    tekst = \" \".join(re.split(r\"\\s+\", tekst, flags=re.UNICODE)) # remove duplicated whitespaces\n",
    "\n",
    "    return tekst"
   ]
  },
  {
   "cell_type": "code",
   "execution_count": 62,
   "id": "0190a056-22ef-473e-a44a-8d4b8a41f385",
   "metadata": {},
   "outputs": [
    {
     "data": {
      "text/plain": [
       "'mieć rzecz niemożliwy trudny zrealizować'"
      ]
     },
     "execution_count": 62,
     "metadata": {},
     "output_type": "execute_result"
    }
   ],
   "source": [
    "text_normalization(\"Nie ma         rzeczy niemożliwych, są tylko trudne do zrealizowania.\")"
   ]
  },
  {
   "cell_type": "markdown",
   "id": "5e91e516-804c-4df1-b2be-2cce8e50f023",
   "metadata": {},
   "source": [
    "# Wektoryzacja"
   ]
  },
  {
   "cell_type": "markdown",
   "id": "0e371400-9120-4d99-8ff7-5a774c0352ff",
   "metadata": {},
   "source": [
    "<div class=\"alert alert-block alert-success\">\n",
    "<b>Definicja</b> \n",
    "\n",
    "Algorytmy wymagają danych numerycznych, najczęściej w postaci dwuwymiarowej macierzy. Problem z językiem naturalnym polega na tym, że dane występują w formie surowego tekstu, który musi zostać przekształcony w wektor. Proces ten nazywany jest <b>wektoryzacją tekstu</b> i stanowi kluczowy etap w przetwarzaniu języka naturalnego.\n",
    "</div>"
   ]
  },
  {
   "cell_type": "markdown",
   "id": "78be7409-91f2-4263-9d2f-292b3e413406",
   "metadata": {},
   "source": [
    "## Bag of Words"
   ]
  },
  {
   "cell_type": "markdown",
   "id": "df70937a-ac2b-4568-8d4a-c68f3a039bda",
   "metadata": {},
   "source": [
    "<div class=\"alert alert-block alert-info\">\n",
    "<b>Info</b> \n",
    "    \n",
    "<b>Bag of Words (BoW)</b> - metoda ta polega na prostym zliczaniu częstotliwości występowania słów w dokumencie. Powstały wektor dla danego dokumentu zawiera liczbę wystąpień każdego słowa w korpusie.\n",
    "</div>"
   ]
  },
  {
   "cell_type": "markdown",
   "id": "2d79bb3e-876f-4ca0-855e-756949ffd6eb",
   "metadata": {},
   "source": [
    "`CountVectorizer` z biblioteki scikit-learn, realizuje jednocześnie tokenizację dokumentu, jak i zliczanie wystąpień danego słowa w dokumencie."
   ]
  },
  {
   "cell_type": "code",
   "execution_count": 63,
   "id": "5f56726e-9e2f-4c3a-80b5-ff4391cac67a",
   "metadata": {},
   "outputs": [
    {
     "name": "stdout",
     "output_type": "stream",
     "text": [
      "Tokeny: ['ciepło' 'czytać' 'czytać książek' 'czytać nlp' 'jest' 'jest ciepło'\n",
      " 'jest super' 'książek' 'lato' 'lato jest' 'lubię' 'lubię czytać'\n",
      " 'lubię nlp' 'nie' 'nie lubię' 'nlp' 'nlp jest' 'nlp nlp' 'super']\n",
      "\n",
      "\n",
      "[[0 1 0 1 0 0 0 0 0 0 1 1 0 0 0 1 0 0 0]\n",
      " [0 1 1 0 0 0 0 1 0 0 1 1 0 1 1 0 0 0 0]\n",
      " [0 0 0 0 0 0 0 0 0 0 1 0 1 0 0 1 0 0 0]\n",
      " [0 0 0 0 1 0 1 0 0 0 1 0 1 0 0 2 1 1 1]\n",
      " [1 0 0 0 1 1 0 0 1 1 0 0 0 0 0 0 0 0 0]]\n"
     ]
    }
   ],
   "source": [
    "corpus = ['Lubię czytać o NLP', 'Nie lubię czytać książek', 'Lubię NLP', 'Lubię NLP, NLP jest super!', 'W lato jest ciepło.']\n",
    "\n",
    "vectorizer = CountVectorizer(ngram_range=(1, 2))\n",
    "X = vectorizer.fit_transform(corpus)\n",
    "\n",
    "print(f\"Tokeny: {vectorizer.get_feature_names_out()}\")\n",
    "print(\"\\n\")\n",
    "print(X.toarray())"
   ]
  },
  {
   "cell_type": "markdown",
   "id": "561087c6-2f96-4155-9aff-6cdb9cfd2c7a",
   "metadata": {},
   "source": [
    "Każde zliczone wystąpienie danego słowa traktowane jest jako cecha do modelu. "
   ]
  },
  {
   "cell_type": "markdown",
   "id": "d910c46d-f246-4cd2-b761-93d6dd0539f6",
   "metadata": {},
   "source": [
    "## TF-IDF"
   ]
  },
  {
   "cell_type": "markdown",
   "id": "d16ec701-db9e-492d-9aac-09ce22bad15b",
   "metadata": {},
   "source": [
    "<div class=\"alert alert-block alert-info\">\n",
    "<b>Info</b> \n",
    "    \n",
    "Jednym z najpopularniejszych algorytmów wektoryzacji tekstu jest <b>TF-IDF</b>, szeroko stosowany w tradycyjnych algorytmach uczenia maszynowego, który pomaga przekształcić tekst w wektory. \n",
    "\n",
    "\n",
    "TF-IDF (Term Frequency–Inverse Document Frequency) jest jednym ze sposobów na przeprowadzenie wektoryzacji. Zwracany jest wektor, w którym każdy wymiar odpowiada danemu słowu w słowniku. Każdy składnik tego wektora odzwierciedla częstotliwość występowania danego słowa w porównaniu z całą kolekcją tekstów. Metoda ta nie uwzględnia jednak kolejności słów w tekście i ignoruje semantyczne podobieństwo między nimi. Ponadto nie rozróżnia różnych znaczeń polisemicznych słów (np. „dźwięk” w zdaniach: „głośny dźwięk”, „brzmi poprawnie” czy „rozsądna propozycja”).\"\n",
    "\n",
    "Wartość TF-IDF oblicza się ze wzoru:\n",
    "\n",
    "$ (tf-idf)_{i,j} = tf_{i,j} \\times idf_i,$\n",
    "\n",
    "gdzie $tf_{i,j}$ to tzw. \"term frequency\", wyrażone wzorem:\n",
    "\n",
    "$tf_{i,j} = \\frac{n_{i,j}}{\\sum_k n_{k,j}},$\n",
    "\n",
    "gdzie $n_{i,j}$ jest liczbą wystąpień termu $(t_i)$ w dokumencie $d_j$. Miara $idf_i$ (inverse document frequence), wyrażana jest następująco:\n",
    "\n",
    "$idf_i = log \\frac{|D|}{|\\{d:  t_i \\in d\\}|},$\n",
    "\n",
    "gdzie $|D|$ - liczba dokumentów w korpusie, $|\\{d:  t_i \\in d\\}|$ - liczba dokumentów zawierających przynajmniej jedno wystąpienie danego termu.\n",
    "</div>"
   ]
  },
  {
   "cell_type": "markdown",
   "id": "261ea558-d6ab-4e6f-8599-e27ac317033b",
   "metadata": {},
   "source": [
    "\n",
    "\n",
    "Korzystając z `TfidfVectorizer` z biblioteki scikit-learn, nie trzeba ręcznie tokenizować tekstu przed przekazaniem go do wektoryzatora. TfidfVectorizer oferuje wbudowane funkcje, które automatycznie dokonują tokenizacji i wstępnego przetwarzania tekstu.\n",
    "\n",
    "### Tokenizacja w TfidfVectorizer\n",
    "\n",
    "**Tokenizacja**: W domyślnej konfiguracji TfidfVectorizer dzieli tekst na słowa, ignorując przy tym znaki interpunkcyjne oraz białe znaki. Działa to na bazie wyrażenia regularnego, które określa, co kwalifikuje się jako token (czyli słowo). Domyślny wzorzec `r\"(?u)\\b\\w\\w+\\b\"` wychwytuje sekwencje alfanumeryczne (słowa) o długości co najmniej dwóch znaków. Ten wzorzec można dostosować za pomocą parametru `token_pattern`. Chociaż spacje zazwyczaj wskazują, gdzie jedno słowo się kończy, a inne zaczyna, wyrażenie regularne nie dzieli tekstu wyłącznie na podstawie spacji. Zamiast tego wyszukuje alfanumeryczne sekwencje otoczone znakami niebędącymi słowami lub końcami tekstu, co lepiej oddaje nasze intuicyjne rozumienie \"pełnych\" słów. Taki sposób tokenizacji jest bardziej precyzyjny, ponieważ:\n",
    "\n",
    "- **Pomija interpunkcję**: Na przykład w wyrażeniu \"koniec-zdania.\", kropka nie jest traktowana jako część ostatniego słowa, a wzorzec poprawnie ignoruje ją przy tworzeniu tokenu \"zdania\".\n",
    "- **Obsługuje złożone przypadki**: Nie każde słowo jest idealnie oddzielone spacją. Języki z różnymi systemami pisma czy teksty z interpunkcją, jak myślniki czy apostrofy, mogą wprowadzać dodatkowe komplikacje. Domyślny wzorzec dobrze radzi sobie z takimi złożonymi przypadkami, identyfikując słowa w wielu różnych sytuacjach.\n",
    "\n",
    "\n",
    "**Wstępne przetwarzanie**: TfidfVectorizer domyślnie przekształca wszystkie litery na małe (domyślnie `lowercase=True`) i może przeprowadzać dodatkowe operacje normalizacyjne, takie jak usuwanie akcentów.\n",
    "\n",
    "### Opcje dostosowywania\n",
    "\n",
    "- **Niestandardowy tokenizator**: można użyć własnej funkcji tokenizującej za pomocą parametru `tokenizer`. Funkcja ta przyjmuje jako wejście ciąg tekstu i zwraca listę tokenów.\n",
    "  \n",
    "- **Niestandardowe wstępne przetwarzanie**: można również dostarczyć własną funkcję do wstępnej obróbki tekstu poprzez parametr `preprocessor`. Funkcja ta przyjmuje tekst jako wejście i zwraca przetworzony ciąg, który następnie podlega tokenizacji.\n",
    "\n",
    "Ważnym parametrem jest `ngram_range` - parametr ten definiuje zakres n-gramów, które zostaną uwzględnione przy zliczaniu tokenów. Ustawienie `(1, 3)` oznacza, że wektoryzator będzie brał pod uwagę unigramy (pojedyncze słowa), bigramy (pary kolejnych słów) oraz trigramy (trzy kolejne słowa) jako indywidualne cechy do wektoryzacji. Innymi słowy, podczas tworzenia wektorów, analizowane będą zarówno pojedyncze słowa, jak i pary oraz trójki słów pojawiających się obok siebie. To podejście pozwala uchwycić bardziej złożone zależności między słowami w tekście, co może znacząco poprawić jakość modelu.\n",
    "\n",
    "\n",
    "Więcej parametrów można znaleźć w dokumentacji https://scikit-learn.org/1.5/modules/generated/sklearn.feature_extraction.text.TfidfVectorizer.html.\n"
   ]
  },
  {
   "cell_type": "code",
   "execution_count": 64,
   "id": "46d4d3cb-fb67-420a-b759-0209bd0c4e05",
   "metadata": {},
   "outputs": [
    {
     "name": "stdout",
     "output_type": "stream",
     "text": [
      "Tokeny: ['ciepło' 'czytać' 'czytać książek' 'czytać nlp' 'jest' 'jest ciepło'\n",
      " 'jest super' 'książek' 'lato' 'lato jest' 'lubię' 'lubię czytać'\n",
      " 'lubię nlp' 'nie' 'nie lubię' 'nlp' 'nlp jest' 'nlp nlp' 'super']\n",
      "\n",
      "\n",
      "Shape: (5, 19)\n"
     ]
    }
   ],
   "source": [
    "# tfidf vectorizer from scikit-learn\n",
    "vectorizer = TfidfVectorizer(ngram_range = (1,2), sublinear_tf=True)\n",
    "X = vectorizer.fit_transform(corpus)\n",
    "print(f\"Tokeny: {vectorizer.get_feature_names_out()}\")\n",
    "print(\"\\n\")\n",
    "print(f\"Shape: {X.shape}\")"
   ]
  },
  {
   "cell_type": "code",
   "execution_count": 65,
   "id": "831c9c82-7db6-4075-baff-7e7efa257da0",
   "metadata": {},
   "outputs": [
    {
     "data": {
      "text/html": [
       "<div>\n",
       "<style scoped>\n",
       "    .dataframe tbody tr th:only-of-type {\n",
       "        vertical-align: middle;\n",
       "    }\n",
       "\n",
       "    .dataframe tbody tr th {\n",
       "        vertical-align: top;\n",
       "    }\n",
       "\n",
       "    .dataframe thead th {\n",
       "        text-align: right;\n",
       "    }\n",
       "</style>\n",
       "<table border=\"1\" class=\"dataframe\">\n",
       "  <thead>\n",
       "    <tr style=\"text-align: right;\">\n",
       "      <th></th>\n",
       "      <th>czytać nlp</th>\n",
       "      <th>lubię czytać</th>\n",
       "      <th>czytać</th>\n",
       "      <th>nlp</th>\n",
       "      <th>lubię</th>\n",
       "      <th>ciepło</th>\n",
       "      <th>nlp nlp</th>\n",
       "      <th>nlp jest</th>\n",
       "      <th>nie lubię</th>\n",
       "      <th>nie</th>\n",
       "      <th>lubię nlp</th>\n",
       "      <th>lato jest</th>\n",
       "      <th>lato</th>\n",
       "      <th>książek</th>\n",
       "      <th>jest super</th>\n",
       "      <th>jest ciepło</th>\n",
       "      <th>jest</th>\n",
       "      <th>czytać książek</th>\n",
       "      <th>super</th>\n",
       "    </tr>\n",
       "  </thead>\n",
       "  <tbody>\n",
       "    <tr>\n",
       "      <th>tfidf</th>\n",
       "      <td>0.57094</td>\n",
       "      <td>0.460631</td>\n",
       "      <td>0.460631</td>\n",
       "      <td>0.382365</td>\n",
       "      <td>0.321658</td>\n",
       "      <td>0.000000</td>\n",
       "      <td>0.000000</td>\n",
       "      <td>0.000000</td>\n",
       "      <td>0.000000</td>\n",
       "      <td>0.000000</td>\n",
       "      <td>0.000000</td>\n",
       "      <td>0.000000</td>\n",
       "      <td>0.000000</td>\n",
       "      <td>0.000000</td>\n",
       "      <td>0.000000</td>\n",
       "      <td>0.000000</td>\n",
       "      <td>0.000000</td>\n",
       "      <td>0.000000</td>\n",
       "      <td>0.000000</td>\n",
       "    </tr>\n",
       "    <tr>\n",
       "      <th>tfidf_2</th>\n",
       "      <td>0.00000</td>\n",
       "      <td>0.340349</td>\n",
       "      <td>0.340349</td>\n",
       "      <td>0.000000</td>\n",
       "      <td>0.237665</td>\n",
       "      <td>0.000000</td>\n",
       "      <td>0.000000</td>\n",
       "      <td>0.000000</td>\n",
       "      <td>0.421853</td>\n",
       "      <td>0.421853</td>\n",
       "      <td>0.000000</td>\n",
       "      <td>0.000000</td>\n",
       "      <td>0.000000</td>\n",
       "      <td>0.421853</td>\n",
       "      <td>0.000000</td>\n",
       "      <td>0.000000</td>\n",
       "      <td>0.000000</td>\n",
       "      <td>0.421853</td>\n",
       "      <td>0.000000</td>\n",
       "    </tr>\n",
       "    <tr>\n",
       "      <th>tfidf_3</th>\n",
       "      <td>0.00000</td>\n",
       "      <td>0.000000</td>\n",
       "      <td>0.000000</td>\n",
       "      <td>0.562638</td>\n",
       "      <td>0.473309</td>\n",
       "      <td>0.000000</td>\n",
       "      <td>0.000000</td>\n",
       "      <td>0.000000</td>\n",
       "      <td>0.000000</td>\n",
       "      <td>0.000000</td>\n",
       "      <td>0.677803</td>\n",
       "      <td>0.000000</td>\n",
       "      <td>0.000000</td>\n",
       "      <td>0.000000</td>\n",
       "      <td>0.000000</td>\n",
       "      <td>0.000000</td>\n",
       "      <td>0.000000</td>\n",
       "      <td>0.000000</td>\n",
       "      <td>0.000000</td>\n",
       "    </tr>\n",
       "    <tr>\n",
       "      <th>tfidf_4</th>\n",
       "      <td>0.00000</td>\n",
       "      <td>0.000000</td>\n",
       "      <td>0.000000</td>\n",
       "      <td>0.431520</td>\n",
       "      <td>0.214398</td>\n",
       "      <td>0.000000</td>\n",
       "      <td>0.380555</td>\n",
       "      <td>0.380555</td>\n",
       "      <td>0.000000</td>\n",
       "      <td>0.000000</td>\n",
       "      <td>0.307030</td>\n",
       "      <td>0.000000</td>\n",
       "      <td>0.000000</td>\n",
       "      <td>0.000000</td>\n",
       "      <td>0.380555</td>\n",
       "      <td>0.000000</td>\n",
       "      <td>0.307030</td>\n",
       "      <td>0.000000</td>\n",
       "      <td>0.380555</td>\n",
       "    </tr>\n",
       "    <tr>\n",
       "      <th>tfidf_5</th>\n",
       "      <td>0.00000</td>\n",
       "      <td>0.000000</td>\n",
       "      <td>0.000000</td>\n",
       "      <td>0.000000</td>\n",
       "      <td>0.000000</td>\n",
       "      <td>0.463693</td>\n",
       "      <td>0.000000</td>\n",
       "      <td>0.000000</td>\n",
       "      <td>0.000000</td>\n",
       "      <td>0.000000</td>\n",
       "      <td>0.000000</td>\n",
       "      <td>0.463693</td>\n",
       "      <td>0.463693</td>\n",
       "      <td>0.000000</td>\n",
       "      <td>0.000000</td>\n",
       "      <td>0.463693</td>\n",
       "      <td>0.374105</td>\n",
       "      <td>0.000000</td>\n",
       "      <td>0.000000</td>\n",
       "    </tr>\n",
       "  </tbody>\n",
       "</table>\n",
       "</div>"
      ],
      "text/plain": [
       "         czytać nlp  lubię czytać    czytać       nlp     lubię    ciepło  \\\n",
       "tfidf       0.57094      0.460631  0.460631  0.382365  0.321658  0.000000   \n",
       "tfidf_2     0.00000      0.340349  0.340349  0.000000  0.237665  0.000000   \n",
       "tfidf_3     0.00000      0.000000  0.000000  0.562638  0.473309  0.000000   \n",
       "tfidf_4     0.00000      0.000000  0.000000  0.431520  0.214398  0.000000   \n",
       "tfidf_5     0.00000      0.000000  0.000000  0.000000  0.000000  0.463693   \n",
       "\n",
       "          nlp nlp  nlp jest  nie lubię       nie  lubię nlp  lato jest  \\\n",
       "tfidf    0.000000  0.000000   0.000000  0.000000   0.000000   0.000000   \n",
       "tfidf_2  0.000000  0.000000   0.421853  0.421853   0.000000   0.000000   \n",
       "tfidf_3  0.000000  0.000000   0.000000  0.000000   0.677803   0.000000   \n",
       "tfidf_4  0.380555  0.380555   0.000000  0.000000   0.307030   0.000000   \n",
       "tfidf_5  0.000000  0.000000   0.000000  0.000000   0.000000   0.463693   \n",
       "\n",
       "             lato   książek  jest super  jest ciepło      jest  \\\n",
       "tfidf    0.000000  0.000000    0.000000     0.000000  0.000000   \n",
       "tfidf_2  0.000000  0.421853    0.000000     0.000000  0.000000   \n",
       "tfidf_3  0.000000  0.000000    0.000000     0.000000  0.000000   \n",
       "tfidf_4  0.000000  0.000000    0.380555     0.000000  0.307030   \n",
       "tfidf_5  0.463693  0.000000    0.000000     0.463693  0.374105   \n",
       "\n",
       "         czytać książek     super  \n",
       "tfidf          0.000000  0.000000  \n",
       "tfidf_2        0.421853  0.000000  \n",
       "tfidf_3        0.000000  0.000000  \n",
       "tfidf_4        0.000000  0.380555  \n",
       "tfidf_5        0.000000  0.000000  "
      ]
     },
     "metadata": {},
     "output_type": "display_data"
    }
   ],
   "source": [
    "# get the first vector out (for the first document) \n",
    "first_vector_tfidfvectorizer = X[0] \n",
    "\n",
    "# place tf-idf values in a data frame \n",
    "df = pd.DataFrame(first_vector_tfidfvectorizer.T.todense(), index=vectorizer.get_feature_names_out(), columns=[\"tfidf\"])\n",
    "df['tfidf_2'] = (X[1].T.todense())\n",
    "df['tfidf_3'] = (X[2].T.todense())\n",
    "df['tfidf_4'] = (X[3].T.todense())\n",
    "df['tfidf_5'] = (X[4].T.todense())\n",
    "display(df.sort_values(by=[\"tfidf\"], ascending = False).T)"
   ]
  },
  {
   "cell_type": "markdown",
   "id": "a9833687-b765-4073-b91e-e2b699a2b47c",
   "metadata": {},
   "source": [
    "Metody <b>Bag of Words</b> oraz <b>TF-IDF</b> nie sprawdzają się zbyt dobrze, gdy w tekstach pojawiają się drobne zmiany terminologiczne. Mamy wtedy zdania o podobnym znaczeniu, lecz używające różnych słów.\n",
    "\n",
    "Powoduje to powstanie wektorów z wieloma zerowymi wartościami, zwanych <b>wektorami rzadkimi</b> (sparse vectors) lub <b>rzadką reprezentacją</b>.\n",
    "Wektory rzadkie wymagają większej ilości pamięci i zasobów obliczeniowych podczas modelowania, a ogromna liczba wymiarów może spowodować, że tradycyjne algorytmy będą miały trudności z przetwarzaniem tych danych. Dlatego kluczowe jest zmniejszenie rozmiaru słownika słów uniknalnych, np. poprzez usunięcie stop-wordsów, aby zoptymalizować proces modelowania."
   ]
  },
  {
   "cell_type": "markdown",
   "id": "9e32c4a1-7b48-4233-9db1-7bcd72060a48",
   "metadata": {},
   "source": [
    "# Embeddings"
   ]
  },
  {
   "cell_type": "markdown",
   "id": "b16880c6-8094-4f19-8566-521410764918",
   "metadata": {},
   "source": [
    "<div class=\"alert alert-block alert-success\">\n",
    "<b>Definicja</b>\n",
    "    \n",
    "<b>Word embeddings</b> to reprezentacje słów, które uchwytują ich konteksty i podobieństwa poprzez zakodowanie w przestrzeni wektorowej - słowa o zbliżonym znaczeniu mają podobne wektory.\n",
    "\n",
    "</div>"
   ]
  },
  {
   "cell_type": "markdown",
   "id": "d17b709e-cbe5-421d-a9f1-c8c4c7a4d003",
   "metadata": {},
   "source": [
    "<div class=\"alert alert-block alert-warning\">\n",
    "<b>Uwaga</b> \n",
    "    \n",
    "Standardowe procesy normalizacji tekstu, takie jak stemming, lematyzacja czy usuwanie stop-wordsów, nie są zalecane w przypadku używania wstępnie wytrenowanych embeddingów. Etapy te mogą powodować utratę cennych informacji, które mogłyby zostać wykorzystane przez sieć neuronową.\n",
    "\n",
    "</div>"
   ]
  },
  {
   "cell_type": "markdown",
   "id": "843e691f-d795-45b4-bdf7-43c1b03948ad",
   "metadata": {},
   "source": [
    "## Word2Vec"
   ]
  },
  {
   "cell_type": "markdown",
   "id": "9cbfbedc-3377-4599-b055-15fce53874f6",
   "metadata": {},
   "source": [
    "<div class=\"alert alert-block alert-info\">\n",
    "<b>Info</b> \n",
    "    \n",
    "<b>Word2Vec</b> to popularny algorytm używany w przetwarzaniu języka naturalnego (NLP), którego głównym celem jest przekształcanie słów w numeryczne reprezentacje - wektory. Został opracowany przez Google w 2013 roku.\n",
    "\n",
    "Algorytm Word2Vec wykorzystuje dwuwarstwową sieć neuronową (nie głęboką), aby przetworzyć korpus tekstu i wygenerować zestawy wektorów reprezentujących słowa. Kluczowym założeniem Word2Vec jest to, że słowa pojawiające się w podobnych kontekstach mają podobne znaczenia. Dwa główne podejścia wykorzystywane przez ten algorytm to:\n",
    "\n",
    "- CBOW (Continuous Bag of Words) - Przewiduje słowo na podstawie jego kontekstu, czyli słów otaczających dane słowo w zdaniu.\n",
    "<!-- <img src=\"Continuous_Bag_of_Words_model_(CBOW).svg.png\" alt=\"image\" width=\"300\"/>\n",
    " -->\n",
    "![media](Continuous_Bag_of_Words_model_(CBOW).svg.png)\n",
    "\n",
    "- Skip-gram - Przewiduje kontekstowe słowa (słowa otaczające), na podstawie danego słowa.\n",
    "\n",
    "  \n",
    "<!-- <img src=\"Skip-gram.svg.png\" alt=\"image\" width=\"300\"/>\n",
    " -->\n",
    "![media](Skip-gram.svg.png)\n",
    "\n",
    "By Zhang, Aston and Lipton, Zachary C. and Li, Mu and Smola, Alexander J. - https://github.com/d2l-ai/d2l-en, CC BY-SA 4.0.\n",
    "\n",
    "Dane wejściowe zawierają wszystkie dokumenty/teksty z naszego zestawu treningowego. Aby sieć mogła je przetwarzać, teksty są reprezentowane za pomocą 1-hot encodingu.\n",
    "Liczba neuronów w warstwie ukrytej jest równa długości wektora embeddingu, który chcemy uzyskać. Na przykład, jeśli chcemy, aby nasze słowa były reprezentowane jako wektory o długości 300, warstwa ukryta będzie zawierać 300 neuronów.\n",
    "Warstwa wyjściowa generuje prawdopodobieństwa dla słowa docelowego.\n",
    "Na końcu, wagi z warstwy ukrytej są traktowane jako embeddingi. Można to intuicyjnie rozumieć jako przypisanie każdemu słowu zestawu n wag (w tym przykładzie 300).\n",
    "\n",
    "</div>\n"
   ]
  },
  {
   "cell_type": "markdown",
   "id": "99b8d50f-d407-4d24-9add-bf453210d4a4",
   "metadata": {},
   "source": [
    "### Korzystanie z modeli wstępnie wytrenowanych\n",
    "\n",
    "Biblioteka `Gensim` oferuje dostęp do wielu wstępnie wytrenowanych modeli. Aby wyświetlić listę modeli wytrenowanych na dużych zbiorach danych, które są dostępne do użycia, możemy skorzystać z poniższej metody. Lista ta obejmuje nie tylko modele typu Word2Vec, ale również takie jak GloVe czy FastText."
   ]
  },
  {
   "cell_type": "markdown",
   "id": "b8e0c93a-1994-46cb-8208-5554fc7fc013",
   "metadata": {},
   "source": [
    "Model *google-news-300* został wytrenowany na części zbioru danych Google News, obejmującego około 100 miliardów słów. Model zawiera wektory o 300 wymiarach dla 3 milionów słów i fraz."
   ]
  },
  {
   "cell_type": "code",
   "execution_count": 66,
   "id": "886d90b4-46e2-4c7a-926a-efee43882e2c",
   "metadata": {},
   "outputs": [
    {
     "name": "stderr",
     "output_type": "stream",
     "text": [
      "INFO - 21:28:47: Creating C:\\Users\\knajmajer/gensim-data\n"
     ]
    },
    {
     "name": "stdout",
     "output_type": "stream",
     "text": [
      "['fasttext-wiki-news-subwords-300', 'conceptnet-numberbatch-17-06-300', 'word2vec-ruscorpora-300', 'word2vec-google-news-300', 'glove-wiki-gigaword-50', 'glove-wiki-gigaword-100', 'glove-wiki-gigaword-200', 'glove-wiki-gigaword-300', 'glove-twitter-25', 'glove-twitter-50', 'glove-twitter-100', 'glove-twitter-200', '__testing_word2vec-matrix-synopsis']\n"
     ]
    }
   ],
   "source": [
    "# show all available models in gensim\n",
    "print(list(gensim.downloader.info()['models'].keys()))"
   ]
  },
  {
   "cell_type": "code",
   "execution_count": 67,
   "id": "e918abb1-d9ef-40cd-8ea9-12e0f173d860",
   "metadata": {},
   "outputs": [
    {
     "name": "stdout",
     "output_type": "stream",
     "text": [
      "[==================================================] 100.0% 1662.8/1662.8MB downloaded\n"
     ]
    },
    {
     "name": "stderr",
     "output_type": "stream",
     "text": [
      "INFO - 21:32:17: word2vec-google-news-300 downloaded\n",
      "INFO - 21:32:17: loading projection weights from C:\\Users\\knajmajer/gensim-data\\word2vec-google-news-300\\word2vec-google-news-300.gz\n",
      "INFO - 21:32:41: KeyedVectors lifecycle event {'msg': 'loaded (3000000, 300) matrix of type float32 from C:\\\\Users\\\\knajmajer/gensim-data\\\\word2vec-google-news-300\\\\word2vec-google-news-300.gz', 'binary': True, 'encoding': 'utf8', 'datetime': '2024-11-11T21:32:41.563206', 'gensim': '4.3.3', 'python': '3.12.7 | packaged by Anaconda, Inc. | (main, Oct  4 2024, 13:17:27) [MSC v.1929 64 bit (AMD64)]', 'platform': 'Windows-11-10.0.22631-SP0', 'event': 'load_word2vec_format'}\n"
     ]
    }
   ],
   "source": [
    "google_news = gensim.downloader.load('word2vec-google-news-300')"
   ]
  },
  {
   "cell_type": "code",
   "execution_count": 68,
   "id": "d0424423-57fe-431d-958e-cdb2ca141f0e",
   "metadata": {},
   "outputs": [
    {
     "data": {
      "text/plain": [
       "[('dresses', 0.83203125),\n",
       " ('frock', 0.725713312625885),\n",
       " ('attire', 0.7096524834632874),\n",
       " ('gown', 0.7021297216415405),\n",
       " ('cocktail_dress', 0.6975935697555542),\n",
       " ('gowns', 0.6693259477615356),\n",
       " ('dressed', 0.6680650115013123),\n",
       " ('backless_dress', 0.6655371785163879),\n",
       " ('couture_gown', 0.6646832823753357),\n",
       " ('maxi_dress', 0.6581150889396667)]"
      ]
     },
     "execution_count": 68,
     "metadata": {},
     "output_type": "execute_result"
    }
   ],
   "source": [
    "# most similar to dress\n",
    "google_news.most_similar('dress')"
   ]
  },
  {
   "cell_type": "code",
   "execution_count": 69,
   "id": "e6c0c81d-bd59-4b92-b130-75f27325d23e",
   "metadata": {},
   "outputs": [
    {
     "data": {
      "text/plain": [
       "[('dresses', 0.7367835640907288),\n",
       " ('cottons', 0.6351203918457031),\n",
       " ('denim', 0.6321719884872437),\n",
       " ('tunic_tops', 0.6279573440551758),\n",
       " ('peasant_skirt', 0.6216402053833008)]"
      ]
     },
     "execution_count": 69,
     "metadata": {},
     "output_type": "execute_result"
    }
   ],
   "source": [
    "# most similar to dress and cotton\n",
    "google_news.most_similar(positive=['dress', 'cotton'], topn=5)"
   ]
  },
  {
   "cell_type": "code",
   "execution_count": 70,
   "id": "00279d8b-74bd-480e-b3fc-8248ae897181",
   "metadata": {},
   "outputs": [
    {
     "data": {
      "text/plain": [
       "'car'"
      ]
     },
     "execution_count": 70,
     "metadata": {},
     "output_type": "execute_result"
    }
   ],
   "source": [
    "# words than doesnt match \n",
    "google_news.doesnt_match(['fire', 'water', 'land', 'sea', 'air', 'car'])"
   ]
  },
  {
   "cell_type": "code",
   "execution_count": 71,
   "id": "9e397cb5-96f1-473a-aacc-68695b494972",
   "metadata": {},
   "outputs": [
    {
     "data": {
      "text/plain": [
       "0.76640123"
      ]
     },
     "execution_count": 71,
     "metadata": {},
     "output_type": "execute_result"
    }
   ],
   "source": [
    "# measure similarity between woman and man\n",
    "google_news.similarity('woman', 'man') "
   ]
  },
  {
   "cell_type": "code",
   "execution_count": 72,
   "id": "efaeba20-8aac-4c46-8cda-0b54ce4c3eae",
   "metadata": {},
   "outputs": [
    {
     "data": {
      "text/plain": [
       "0.12830706"
      ]
     },
     "execution_count": 72,
     "metadata": {},
     "output_type": "execute_result"
    }
   ],
   "source": [
    "# measure similarity between car and apple\n",
    "google_news.similarity('car', 'apple') "
   ]
  },
  {
   "cell_type": "markdown",
   "id": "d3ceafea-70fb-4393-a2de-5881f2d7f77a",
   "metadata": {},
   "source": [
    "### Word2Vec na własnym zbiorze danych"
   ]
  },
  {
   "cell_type": "markdown",
   "id": "1dcaafe0-ae54-4655-af9f-5c2d42737490",
   "metadata": {},
   "source": [
    "Dokumentacja: https://radimrehurek.com/gensim/models/word2vec.html#gensim.models.word2vec.Word2Vec"
   ]
  },
  {
   "cell_type": "code",
   "execution_count": 73,
   "id": "9169bc29-23de-4fe9-8166-22c9639d6eaa",
   "metadata": {},
   "outputs": [],
   "source": [
    "sntcs = []\n",
    "corpus_path = datapath('lee_background.cor')\n",
    "f = open(corpus_path)\n",
    "corpus = f.read()\n",
    "raw_sent = sent_tokenize(corpus)\n",
    "for sent in raw_sent:\n",
    "    sntcs.append(simple_preprocess(sent))"
   ]
  },
  {
   "cell_type": "code",
   "execution_count": 74,
   "id": "bbcd62f2-e1f0-46f3-8054-c72d8902d68f",
   "metadata": {},
   "outputs": [
    {
     "data": {
      "text/plain": [
       "2684"
      ]
     },
     "execution_count": 74,
     "metadata": {},
     "output_type": "execute_result"
    }
   ],
   "source": [
    "len(sntcs)"
   ]
  },
  {
   "cell_type": "code",
   "execution_count": 75,
   "id": "15ef3eb3-2850-4d3c-b0e2-4db34849678d",
   "metadata": {},
   "outputs": [
    {
     "name": "stderr",
     "output_type": "stream",
     "text": [
      "INFO - 21:32:43: Word2Vec lifecycle event {'params': 'Word2Vec<vocab=0, vector_size=100, alpha=0.025>', 'datetime': '2024-11-11T21:32:43.528749', 'gensim': '4.3.3', 'python': '3.12.7 | packaged by Anaconda, Inc. | (main, Oct  4 2024, 13:17:27) [MSC v.1929 64 bit (AMD64)]', 'platform': 'Windows-11-10.0.22631-SP0', 'event': 'created'}\n",
      "INFO - 21:32:43: collecting all words and their counts\n",
      "INFO - 21:32:43: PROGRESS: at sentence #0, processed 0 words, keeping 0 word types\n",
      "INFO - 21:32:43: PROGRESS: at sentence #500, processed 10181 words, keeping 2603 word types\n",
      "INFO - 21:32:43: PROGRESS: at sentence #1000, processed 21505 words, keeping 4062 word types\n",
      "INFO - 21:32:43: PROGRESS: at sentence #1500, processed 32282 words, keeping 5048 word types\n",
      "INFO - 21:32:43: PROGRESS: at sentence #2000, processed 43343 words, keeping 5958 word types\n",
      "INFO - 21:32:43: PROGRESS: at sentence #2500, processed 54338 words, keeping 6737 word types\n",
      "INFO - 21:32:43: collected 6981 word types from a corpus of 58152 raw words and 2684 sentences\n",
      "INFO - 21:32:43: Creating a fresh vocabulary\n",
      "INFO - 21:32:43: Word2Vec lifecycle event {'msg': 'effective_min_count=5 retains 1750 unique words (25.07% of original 6981, drops 5231)', 'datetime': '2024-11-11T21:32:43.550179', 'gensim': '4.3.3', 'python': '3.12.7 | packaged by Anaconda, Inc. | (main, Oct  4 2024, 13:17:27) [MSC v.1929 64 bit (AMD64)]', 'platform': 'Windows-11-10.0.22631-SP0', 'event': 'prepare_vocab'}\n",
      "INFO - 21:32:43: Word2Vec lifecycle event {'msg': 'effective_min_count=5 leaves 49335 word corpus (84.84% of original 58152, drops 8817)', 'datetime': '2024-11-11T21:32:43.550179', 'gensim': '4.3.3', 'python': '3.12.7 | packaged by Anaconda, Inc. | (main, Oct  4 2024, 13:17:27) [MSC v.1929 64 bit (AMD64)]', 'platform': 'Windows-11-10.0.22631-SP0', 'event': 'prepare_vocab'}\n",
      "INFO - 21:32:43: deleting the raw counts dictionary of 6981 items\n",
      "INFO - 21:32:43: sample=0.001 downsamples 51 most-common words\n",
      "INFO - 21:32:43: Word2Vec lifecycle event {'msg': 'downsampling leaves estimated 35935.33721568072 word corpus (72.8%% of prior 49335)', 'datetime': '2024-11-11T21:32:43.560893', 'gensim': '4.3.3', 'python': '3.12.7 | packaged by Anaconda, Inc. | (main, Oct  4 2024, 13:17:27) [MSC v.1929 64 bit (AMD64)]', 'platform': 'Windows-11-10.0.22631-SP0', 'event': 'prepare_vocab'}\n",
      "INFO - 21:32:43: estimated required memory for 1750 words and 100 dimensions: 2275000 bytes\n",
      "INFO - 21:32:43: resetting layer weights\n",
      "INFO - 21:32:43: Word2Vec lifecycle event {'update': False, 'trim_rule': 'None', 'datetime': '2024-11-11T21:32:43.578359', 'gensim': '4.3.3', 'python': '3.12.7 | packaged by Anaconda, Inc. | (main, Oct  4 2024, 13:17:27) [MSC v.1929 64 bit (AMD64)]', 'platform': 'Windows-11-10.0.22631-SP0', 'event': 'build_vocab'}\n"
     ]
    },
    {
     "name": "stdout",
     "output_type": "stream",
     "text": [
      "Czas budowania słownika: 0.05 s.\n"
     ]
    }
   ],
   "source": [
    "cores = multiprocessing.cpu_count()\n",
    "model = gensim.models.Word2Vec(workers=cores-1) # with default parameters\n",
    "\n",
    "t = time()\n",
    "model.build_vocab(sntcs, progress_per=500)\n",
    "\n",
    "print(f'Czas budowania słownika: {round((time() - t), 2)} s.')"
   ]
  },
  {
   "cell_type": "code",
   "execution_count": 76,
   "id": "5bc07e55-6ee3-4420-86e2-dc7f3fa6e2e3",
   "metadata": {},
   "outputs": [
    {
     "name": "stderr",
     "output_type": "stream",
     "text": [
      "INFO - 21:32:43: Word2Vec lifecycle event {'msg': 'training model with 19 workers on 1750 vocabulary and 100 features, using sg=0 hs=0 sample=0.001 negative=5 window=5 shrink_windows=True', 'datetime': '2024-11-11T21:32:43.597091', 'gensim': '4.3.3', 'python': '3.12.7 | packaged by Anaconda, Inc. | (main, Oct  4 2024, 13:17:27) [MSC v.1929 64 bit (AMD64)]', 'platform': 'Windows-11-10.0.22631-SP0', 'event': 'train'}\n",
      "INFO - 21:32:43: EPOCH 0: training on 58152 raw words (35923 effective words) took 0.0s, 1311628 effective words/s\n",
      "INFO - 21:32:43: EPOCH 1: training on 58152 raw words (35920 effective words) took 0.0s, 1465016 effective words/s\n",
      "INFO - 21:32:43: EPOCH 2: training on 58152 raw words (35959 effective words) took 0.0s, 1377681 effective words/s\n",
      "INFO - 21:32:43: EPOCH 3: training on 58152 raw words (35983 effective words) took 0.0s, 1290703 effective words/s\n",
      "INFO - 21:32:43: EPOCH 4: training on 58152 raw words (36003 effective words) took 0.0s, 1443168 effective words/s\n",
      "INFO - 21:32:43: EPOCH 5: training on 58152 raw words (35989 effective words) took 0.0s, 1398978 effective words/s\n",
      "INFO - 21:32:43: EPOCH 6: training on 58152 raw words (35968 effective words) took 0.0s, 1506892 effective words/s\n",
      "INFO - 21:32:43: EPOCH 7: training on 58152 raw words (36023 effective words) took 0.0s, 1484156 effective words/s\n",
      "INFO - 21:32:43: EPOCH 8: training on 58152 raw words (35945 effective words) took 0.0s, 1356477 effective words/s\n",
      "INFO - 21:32:43: EPOCH 9: training on 58152 raw words (35920 effective words) took 0.0s, 1444223 effective words/s\n",
      "INFO - 21:32:43: EPOCH 10: training on 58152 raw words (35962 effective words) took 0.0s, 1434504 effective words/s\n",
      "INFO - 21:32:44: EPOCH 11: training on 58152 raw words (35987 effective words) took 0.0s, 1532731 effective words/s\n",
      "INFO - 21:32:44: EPOCH 12: training on 58152 raw words (35911 effective words) took 0.0s, 1461621 effective words/s\n",
      "INFO - 21:32:44: EPOCH 13: training on 58152 raw words (35979 effective words) took 0.0s, 1565918 effective words/s\n",
      "INFO - 21:32:44: EPOCH 14: training on 58152 raw words (35871 effective words) took 0.0s, 1555672 effective words/s\n",
      "INFO - 21:32:44: EPOCH 15: training on 58152 raw words (35961 effective words) took 0.0s, 1491025 effective words/s\n",
      "INFO - 21:32:44: EPOCH 16: training on 58152 raw words (35921 effective words) took 0.0s, 1807319 effective words/s\n",
      "INFO - 21:32:44: EPOCH 17: training on 58152 raw words (35911 effective words) took 0.0s, 1424446 effective words/s\n",
      "INFO - 21:32:44: EPOCH 18: training on 58152 raw words (35975 effective words) took 0.0s, 1464983 effective words/s\n",
      "INFO - 21:32:44: EPOCH 19: training on 58152 raw words (35859 effective words) took 0.0s, 1584802 effective words/s\n",
      "INFO - 21:32:44: EPOCH 20: training on 58152 raw words (35929 effective words) took 0.0s, 1800167 effective words/s\n",
      "INFO - 21:32:44: EPOCH 21: training on 58152 raw words (35977 effective words) took 0.0s, 1767043 effective words/s\n",
      "INFO - 21:32:44: EPOCH 22: training on 58152 raw words (35909 effective words) took 0.0s, 1795549 effective words/s\n",
      "INFO - 21:32:44: EPOCH 23: training on 58152 raw words (36001 effective words) took 0.0s, 2750982 effective words/s\n",
      "INFO - 21:32:44: EPOCH 24: training on 58152 raw words (35808 effective words) took 0.0s, 1588156 effective words/s\n",
      "INFO - 21:32:44: EPOCH 25: training on 58152 raw words (35953 effective words) took 0.0s, 1621067 effective words/s\n",
      "INFO - 21:32:44: EPOCH 26: training on 58152 raw words (35951 effective words) took 0.0s, 1948458 effective words/s\n",
      "INFO - 21:32:44: EPOCH 27: training on 58152 raw words (35828 effective words) took 0.0s, 1938954 effective words/s\n",
      "INFO - 21:32:44: EPOCH 28: training on 58152 raw words (36080 effective words) took 0.0s, 1553084 effective words/s\n",
      "INFO - 21:32:44: EPOCH 29: training on 58152 raw words (35923 effective words) took 0.0s, 1551743 effective words/s\n",
      "INFO - 21:32:44: Word2Vec lifecycle event {'msg': 'training on 1744560 raw words (1078329 effective words) took 1.0s, 1081424 effective words/s', 'datetime': '2024-11-11T21:32:44.595175', 'gensim': '4.3.3', 'python': '3.12.7 | packaged by Anaconda, Inc. | (main, Oct  4 2024, 13:17:27) [MSC v.1929 64 bit (AMD64)]', 'platform': 'Windows-11-10.0.22631-SP0', 'event': 'train'}\n"
     ]
    },
    {
     "name": "stdout",
     "output_type": "stream",
     "text": [
      "Czas treningu modelu: 1.0 s.\n"
     ]
    }
   ],
   "source": [
    "t = time()\n",
    "model.train(sntcs, total_examples=model.corpus_count, epochs=30) #model.epochs\n",
    "\n",
    "print(f\"Czas treningu modelu: {round((time() - t), 2)} s.\")"
   ]
  },
  {
   "cell_type": "code",
   "execution_count": 77,
   "id": "8e8ceab1-2b9a-419b-91e1-982cfa6124a5",
   "metadata": {},
   "outputs": [
    {
     "data": {
      "text/plain": [
       "[('north', 0.9045909643173218),\n",
       " ('hobart', 0.8887859582901001),\n",
       " ('yacht', 0.8850155472755432),\n",
       " ('western', 0.8669837713241577),\n",
       " ('coast', 0.8629576563835144),\n",
       " ('highway', 0.8396092057228088),\n",
       " ('blaze', 0.8345851302146912),\n",
       " ('perth', 0.828113317489624),\n",
       " ('spencer', 0.8216715455055237),\n",
       " ('tasmania', 0.8178014755249023)]"
      ]
     },
     "execution_count": 77,
     "metadata": {},
     "output_type": "execute_result"
    }
   ],
   "source": [
    "model.wv.most_similar('sydney')"
   ]
  },
  {
   "cell_type": "code",
   "execution_count": 78,
   "id": "57da3737-925c-4f41-b441-8bc14ad1474b",
   "metadata": {},
   "outputs": [
    {
     "name": "stdout",
     "output_type": "stream",
     "text": [
      "(1750, 3)\n",
      "1750\n"
     ]
    }
   ],
   "source": [
    "# PCA\n",
    "pca = PCA(n_components=3)\n",
    "X = pca.fit_transform(model.wv.get_normed_vectors())\n",
    "y = model.wv.index_to_key\n",
    "\n",
    "print(X.shape)\n",
    "print(len(y))"
   ]
  },
  {
   "cell_type": "code",
   "execution_count": 79,
   "id": "aaf5368e-5042-4ded-8204-a488b7311184",
   "metadata": {},
   "outputs": [
    {
     "data": {
      "application/vnd.plotly.v1+json": {
       "config": {
        "plotlyServerURL": "https://plot.ly"
       },
       "data": [
        {
         "hovertemplate": "color=still<br>x=%{x}<br>y=%{y}<br>z=%{z}<extra></extra>",
         "legendgroup": "still",
         "marker": {
          "color": "#636efa",
          "symbol": "circle"
         },
         "mode": "markers",
         "name": "still",
         "scene": "scene",
         "showlegend": true,
         "type": "scatter3d",
         "x": [
          -0.4378642141819
         ],
         "y": [
          -0.22547705471515656
         ],
         "z": [
          -0.3697092533111572
         ]
        },
        {
         "hovertemplate": "color=company<br>x=%{x}<br>y=%{y}<br>z=%{z}<extra></extra>",
         "legendgroup": "company",
         "marker": {
          "color": "#EF553B",
          "symbol": "circle"
         },
         "mode": "markers",
         "name": "company",
         "scene": "scene",
         "showlegend": true,
         "type": "scatter3d",
         "x": [
          -0.41106775403022766
         ],
         "y": [
          -0.0800965428352356
         ],
         "z": [
          0.029395557940006256
         ]
        },
        {
         "hovertemplate": "color=president<br>x=%{x}<br>y=%{y}<br>z=%{z}<extra></extra>",
         "legendgroup": "president",
         "marker": {
          "color": "#00cc96",
          "symbol": "circle"
         },
         "mode": "markers",
         "name": "president",
         "scene": "scene",
         "showlegend": true,
         "type": "scatter3d",
         "x": [
          0.09953660517930984
         ],
         "y": [
          0.7007135152816772
         ],
         "z": [
          0.15979023277759552
         ]
        },
        {
         "hovertemplate": "color=man<br>x=%{x}<br>y=%{y}<br>z=%{z}<extra></extra>",
         "legendgroup": "man",
         "marker": {
          "color": "#ab63fa",
          "symbol": "circle"
         },
         "mode": "markers",
         "name": "man",
         "scene": "scene",
         "showlegend": true,
         "type": "scatter3d",
         "x": [
          0.1276068389415741
         ],
         "y": [
          0.23773762583732605
         ],
         "z": [
          -0.31311243772506714
         ]
        },
        {
         "hovertemplate": "color=four<br>x=%{x}<br>y=%{y}<br>z=%{z}<extra></extra>",
         "legendgroup": "four",
         "marker": {
          "color": "#FFA15A",
          "symbol": "circle"
         },
         "mode": "markers",
         "name": "four",
         "scene": "scene",
         "showlegend": true,
         "type": "scatter3d",
         "x": [
          0.5145479440689087
         ],
         "y": [
          -0.5178537368774414
         ],
         "z": [
          -0.3983451724052429
         ]
        },
        {
         "hovertemplate": "color=taliban<br>x=%{x}<br>y=%{y}<br>z=%{z}<extra></extra>",
         "legendgroup": "taliban",
         "marker": {
          "color": "#19d3f3",
          "symbol": "circle"
         },
         "mode": "markers",
         "name": "taliban",
         "scene": "scene",
         "showlegend": true,
         "type": "scatter3d",
         "x": [
          0.34985312819480896
         ],
         "y": [
          0.2787911295890808
         ],
         "z": [
          -0.4808982014656067
         ]
        },
        {
         "hovertemplate": "color=killed<br>x=%{x}<br>y=%{y}<br>z=%{z}<extra></extra>",
         "legendgroup": "killed",
         "marker": {
          "color": "#FF6692",
          "symbol": "circle"
         },
         "mode": "markers",
         "name": "killed",
         "scene": "scene",
         "showlegend": true,
         "type": "scatter3d",
         "x": [
          0.5679038166999817
         ],
         "y": [
          -0.19431863725185394
         ],
         "z": [
          -0.6360967755317688
         ]
        },
        {
         "hovertemplate": "color=our<br>x=%{x}<br>y=%{y}<br>z=%{z}<extra></extra>",
         "legendgroup": "our",
         "marker": {
          "color": "#B6E880",
          "symbol": "circle"
         },
         "mode": "markers",
         "name": "our",
         "scene": "scene",
         "showlegend": true,
         "type": "scatter3d",
         "x": [
          -0.562249481678009
         ],
         "y": [
          -0.08283355832099915
         ],
         "z": [
          -0.24161595106124878
         ]
        },
        {
         "hovertemplate": "color=forces<br>x=%{x}<br>y=%{y}<br>z=%{z}<extra></extra>",
         "legendgroup": "forces",
         "marker": {
          "color": "#FF97FF",
          "symbol": "circle"
         },
         "mode": "markers",
         "name": "forces",
         "scene": "scene",
         "showlegend": true,
         "type": "scatter3d",
         "x": [
          0.35650548338890076
         ],
         "y": [
          0.2876768410205841
         ],
         "z": [
          -0.6256243586540222
         ]
        },
        {
         "hovertemplate": "color=al<br>x=%{x}<br>y=%{y}<br>z=%{z}<extra></extra>",
         "legendgroup": "al",
         "marker": {
          "color": "#FECB52",
          "symbol": "circle"
         },
         "mode": "markers",
         "name": "al",
         "scene": "scene",
         "showlegend": true,
         "type": "scatter3d",
         "x": [
          0.17855212092399597
         ],
         "y": [
          0.18815067410469055
         ],
         "z": [
          -0.5665478706359863
         ]
        },
        {
         "hovertemplate": "color=around<br>x=%{x}<br>y=%{y}<br>z=%{z}<extra></extra>",
         "legendgroup": "around",
         "marker": {
          "color": "#636efa",
          "symbol": "circle"
         },
         "mode": "markers",
         "name": "around",
         "scene": "scene",
         "showlegend": true,
         "type": "scatter3d",
         "x": [
          0.20251315832138062
         ],
         "y": [
          -0.6037939786911011
         ],
         "z": [
          -0.2840707302093506
         ]
        },
        {
         "hovertemplate": "color=being<br>x=%{x}<br>y=%{y}<br>z=%{z}<extra></extra>",
         "legendgroup": "being",
         "marker": {
          "color": "#EF553B",
          "symbol": "circle"
         },
         "mode": "markers",
         "name": "being",
         "scene": "scene",
         "showlegend": true,
         "type": "scatter3d",
         "x": [
          -0.14463990926742554
         ],
         "y": [
          -0.06040554866194725
         ],
         "z": [
          -0.1171090230345726
         ]
        },
        {
         "hovertemplate": "color=days<br>x=%{x}<br>y=%{y}<br>z=%{z}<extra></extra>",
         "legendgroup": "days",
         "marker": {
          "color": "#00cc96",
          "symbol": "circle"
         },
         "mode": "markers",
         "name": "days",
         "scene": "scene",
         "showlegend": true,
         "type": "scatter3d",
         "x": [
          0.22145196795463562
         ],
         "y": [
          -0.5449129343032837
         ],
         "z": [
          -0.25139957666397095
         ]
        },
        {
         "hovertemplate": "color=west<br>x=%{x}<br>y=%{y}<br>z=%{z}<extra></extra>",
         "legendgroup": "west",
         "marker": {
          "color": "#ab63fa",
          "symbol": "circle"
         },
         "mode": "markers",
         "name": "west",
         "scene": "scene",
         "showlegend": true,
         "type": "scatter3d",
         "x": [
          0.6236017942428589
         ],
         "y": [
          -0.211549773812294
         ],
         "z": [
          -0.03638311102986336
         ]
        },
        {
         "hovertemplate": "color=old<br>x=%{x}<br>y=%{y}<br>z=%{z}<extra></extra>",
         "legendgroup": "old",
         "marker": {
          "color": "#FFA15A",
          "symbol": "circle"
         },
         "mode": "markers",
         "name": "old",
         "scene": "scene",
         "showlegend": true,
         "type": "scatter3d",
         "x": [
          0.1974705159664154
         ],
         "y": [
          -0.16413134336471558
         ],
         "z": [
          0.04589499533176422
         ]
        },
        {
         "hovertemplate": "color=other<br>x=%{x}<br>y=%{y}<br>z=%{z}<extra></extra>",
         "legendgroup": "other",
         "marker": {
          "color": "#19d3f3",
          "symbol": "circle"
         },
         "mode": "markers",
         "name": "other",
         "scene": "scene",
         "showlegend": true,
         "type": "scatter3d",
         "x": [
          -0.08086089044809341
         ],
         "y": [
          -0.26567235589027405
         ],
         "z": [
          -0.4750213623046875
         ]
        },
        {
         "hovertemplate": "color=officials<br>x=%{x}<br>y=%{y}<br>z=%{z}<extra></extra>",
         "legendgroup": "officials",
         "marker": {
          "color": "#FF6692",
          "symbol": "circle"
         },
         "mode": "markers",
         "name": "officials",
         "scene": "scene",
         "showlegend": true,
         "type": "scatter3d",
         "x": [
          0.1412893384695053
         ],
         "y": [
          0.3944844901561737
         ],
         "z": [
          -0.7173142433166504
         ]
        },
        {
         "hovertemplate": "color=where<br>x=%{x}<br>y=%{y}<br>z=%{z}<extra></extra>",
         "legendgroup": "where",
         "marker": {
          "color": "#B6E880",
          "symbol": "circle"
         },
         "mode": "markers",
         "name": "where",
         "scene": "scene",
         "showlegend": true,
         "type": "scatter3d",
         "x": [
          -0.1911296248435974
         ],
         "y": [
          -0.30081576108932495
         ],
         "z": [
          -0.42420536279678345
         ]
        },
        {
         "hovertemplate": "color=so<br>x=%{x}<br>y=%{y}<br>z=%{z}<extra></extra>",
         "legendgroup": "so",
         "marker": {
          "color": "#FF97FF",
          "symbol": "circle"
         },
         "mode": "markers",
         "name": "so",
         "scene": "scene",
         "showlegend": true,
         "type": "scatter3d",
         "x": [
          -0.718311071395874
         ],
         "y": [
          -0.1649012416601181
         ],
         "z": [
          -0.2568468749523163
         ]
        },
        {
         "hovertemplate": "color=test<br>x=%{x}<br>y=%{y}<br>z=%{z}<extra></extra>",
         "legendgroup": "test",
         "marker": {
          "color": "#FECB52",
          "symbol": "circle"
         },
         "mode": "markers",
         "name": "test",
         "scene": "scene",
         "showlegend": true,
         "type": "scatter3d",
         "x": [
          0.28841015696525574
         ],
         "y": [
          -0.4084208309650421
         ],
         "z": [
          0.5038525462150574
         ]
        },
        {
         "hovertemplate": "color=qaeda<br>x=%{x}<br>y=%{y}<br>z=%{z}<extra></extra>",
         "legendgroup": "qaeda",
         "marker": {
          "color": "#636efa",
          "symbol": "circle"
         },
         "mode": "markers",
         "name": "qaeda",
         "scene": "scene",
         "showlegend": true,
         "type": "scatter3d",
         "x": [
          0.10393255949020386
         ],
         "y": [
          0.14889422059059143
         ],
         "z": [
          -0.580832302570343
         ]
        },
        {
         "hovertemplate": "color=israel<br>x=%{x}<br>y=%{y}<br>z=%{z}<extra></extra>",
         "legendgroup": "israel",
         "marker": {
          "color": "#EF553B",
          "symbol": "circle"
         },
         "mode": "markers",
         "name": "israel",
         "scene": "scene",
         "showlegend": true,
         "type": "scatter3d",
         "x": [
          0.48171213269233704
         ],
         "y": [
          0.46545007824897766
         ],
         "z": [
          -0.15894225239753723
         ]
        },
        {
         "hovertemplate": "color=think<br>x=%{x}<br>y=%{y}<br>z=%{z}<extra></extra>",
         "legendgroup": "think",
         "marker": {
          "color": "#00cc96",
          "symbol": "circle"
         },
         "mode": "markers",
         "name": "think",
         "scene": "scene",
         "showlegend": true,
         "type": "scatter3d",
         "x": [
          -0.7796897888183594
         ],
         "y": [
          -0.15540294349193573
         ],
         "z": [
          -0.3302411437034607
         ]
        },
        {
         "hovertemplate": "color=per<br>x=%{x}<br>y=%{y}<br>z=%{z}<extra></extra>",
         "legendgroup": "per",
         "marker": {
          "color": "#ab63fa",
          "symbol": "circle"
         },
         "mode": "markers",
         "name": "per",
         "scene": "scene",
         "showlegend": true,
         "type": "scatter3d",
         "x": [
          -0.15172302722930908
         ],
         "y": [
          -0.25322651863098145
         ],
         "z": [
          0.0922180563211441
         ]
        },
        {
         "hovertemplate": "color=general<br>x=%{x}<br>y=%{y}<br>z=%{z}<extra></extra>",
         "legendgroup": "general",
         "marker": {
          "color": "#FFA15A",
          "symbol": "circle"
         },
         "mode": "markers",
         "name": "general",
         "scene": "scene",
         "showlegend": true,
         "type": "scatter3d",
         "x": [
          -0.17943710088729858
         ],
         "y": [
          0.7159339189529419
         ],
         "z": [
          0.18922071158885956
         ]
        },
        {
         "hovertemplate": "color=next<br>x=%{x}<br>y=%{y}<br>z=%{z}<extra></extra>",
         "legendgroup": "next",
         "marker": {
          "color": "#19d3f3",
          "symbol": "circle"
         },
         "mode": "markers",
         "name": "next",
         "scene": "scene",
         "showlegend": true,
         "type": "scatter3d",
         "x": [
          0.013124924153089523
         ],
         "y": [
          -0.4487105906009674
         ],
         "z": [
          0.31542521715164185
         ]
        },
        {
         "hovertemplate": "color=federal<br>x=%{x}<br>y=%{y}<br>z=%{z}<extra></extra>",
         "legendgroup": "federal",
         "marker": {
          "color": "#FF6692",
          "symbol": "circle"
         },
         "mode": "markers",
         "name": "federal",
         "scene": "scene",
         "showlegend": true,
         "type": "scatter3d",
         "x": [
          -0.01426854357123375
         ],
         "y": [
          0.5996044874191284
         ],
         "z": [
          0.4631401300430298
         ]
        },
        {
         "hovertemplate": "color=force<br>x=%{x}<br>y=%{y}<br>z=%{z}<extra></extra>",
         "legendgroup": "force",
         "marker": {
          "color": "#B6E880",
          "symbol": "circle"
         },
         "mode": "markers",
         "name": "force",
         "scene": "scene",
         "showlegend": true,
         "type": "scatter3d",
         "x": [
          0.10637307912111282
         ],
         "y": [
          0.4151782989501953
         ],
         "z": [
          0.1290343850851059
         ]
        },
        {
         "hovertemplate": "color=cent<br>x=%{x}<br>y=%{y}<br>z=%{z}<extra></extra>",
         "legendgroup": "cent",
         "marker": {
          "color": "#FF97FF",
          "symbol": "circle"
         },
         "mode": "markers",
         "name": "cent",
         "scene": "scene",
         "showlegend": true,
         "type": "scatter3d",
         "x": [
          -0.15941381454467773
         ],
         "y": [
          -0.30239394307136536
         ],
         "z": [
          0.018572360277175903
         ]
        },
        {
         "hovertemplate": "color=she<br>x=%{x}<br>y=%{y}<br>z=%{z}<extra></extra>",
         "legendgroup": "she",
         "marker": {
          "color": "#FECB52",
          "symbol": "circle"
         },
         "mode": "markers",
         "name": "she",
         "scene": "scene",
         "showlegend": true,
         "type": "scatter3d",
         "x": [
          -0.45898088812828064
         ],
         "y": [
          0.2020391970872879
         ],
         "z": [
          -0.31854498386383057
         ]
        },
        {
         "hovertemplate": "color=leader<br>x=%{x}<br>y=%{y}<br>z=%{z}<extra></extra>",
         "legendgroup": "leader",
         "marker": {
          "color": "#636efa",
          "symbol": "circle"
         },
         "mode": "markers",
         "name": "leader",
         "scene": "scene",
         "showlegend": true,
         "type": "scatter3d",
         "x": [
          0.32401663064956665
         ],
         "y": [
          0.6443307399749756
         ],
         "z": [
          -0.2721789479255676
         ]
        },
        {
         "hovertemplate": "color=yesterday<br>x=%{x}<br>y=%{y}<br>z=%{z}<extra></extra>",
         "legendgroup": "yesterday",
         "marker": {
          "color": "#EF553B",
          "symbol": "circle"
         },
         "mode": "markers",
         "name": "yesterday",
         "scene": "scene",
         "showlegend": true,
         "type": "scatter3d",
         "x": [
          0.2329564094543457
         ],
         "y": [
          -0.24873529374599457
         ],
         "z": [
          0.37881141901016235
         ]
        },
        {
         "hovertemplate": "color=workers<br>x=%{x}<br>y=%{y}<br>z=%{z}<extra></extra>",
         "legendgroup": "workers",
         "marker": {
          "color": "#00cc96",
          "symbol": "circle"
         },
         "mode": "markers",
         "name": "workers",
         "scene": "scene",
         "showlegend": true,
         "type": "scatter3d",
         "x": [
          -0.4104279577732086
         ],
         "y": [
          0.04400186240673065
         ],
         "z": [
          0.2181967943906784
         ]
        },
        {
         "hovertemplate": "color=take<br>x=%{x}<br>y=%{y}<br>z=%{z}<extra></extra>",
         "legendgroup": "take",
         "marker": {
          "color": "#ab63fa",
          "symbol": "circle"
         },
         "mode": "markers",
         "name": "take",
         "scene": "scene",
         "showlegend": true,
         "type": "scatter3d",
         "x": [
          -0.2983873784542084
         ],
         "y": [
          0.048059578984975815
         ],
         "z": [
          0.1985161453485489
         ]
        },
        {
         "hovertemplate": "color=him<br>x=%{x}<br>y=%{y}<br>z=%{z}<extra></extra>",
         "legendgroup": "him",
         "marker": {
          "color": "#FFA15A",
          "symbol": "circle"
         },
         "mode": "markers",
         "name": "him",
         "scene": "scene",
         "showlegend": true,
         "type": "scatter3d",
         "x": [
          -0.4226051867008209
         ],
         "y": [
          0.14201590418815613
         ],
         "z": [
          -0.17806878685951233
         ]
        },
        {
         "hovertemplate": "color=hamas<br>x=%{x}<br>y=%{y}<br>z=%{z}<extra></extra>",
         "legendgroup": "hamas",
         "marker": {
          "color": "#19d3f3",
          "symbol": "circle"
         },
         "mode": "markers",
         "name": "hamas",
         "scene": "scene",
         "showlegend": true,
         "type": "scatter3d",
         "x": [
          0.5621612071990967
         ],
         "y": [
          0.3058914542198181
         ],
         "z": [
          -0.5506264567375183
         ]
        },
        {
         "hovertemplate": "color=under<br>x=%{x}<br>y=%{y}<br>z=%{z}<extra></extra>",
         "legendgroup": "under",
         "marker": {
          "color": "#FF6692",
          "symbol": "circle"
         },
         "mode": "markers",
         "name": "under",
         "scene": "scene",
         "showlegend": true,
         "type": "scatter3d",
         "x": [
          0.039381567388772964
         ],
         "y": [
          0.12122252583503723
         ],
         "z": [
          0.07851110398769379
         ]
        },
        {
         "hovertemplate": "color=state<br>x=%{x}<br>y=%{y}<br>z=%{z}<extra></extra>",
         "legendgroup": "state",
         "marker": {
          "color": "#B6E880",
          "symbol": "circle"
         },
         "mode": "markers",
         "name": "state",
         "scene": "scene",
         "showlegend": true,
         "type": "scatter3d",
         "x": [
          0.42839863896369934
         ],
         "y": [
          0.18098272383213043
         ],
         "z": [
          0.44784486293792725
         ]
        },
        {
         "hovertemplate": "color=those<br>x=%{x}<br>y=%{y}<br>z=%{z}<extra></extra>",
         "legendgroup": "those",
         "marker": {
          "color": "#FF97FF",
          "symbol": "circle"
         },
         "mode": "markers",
         "name": "those",
         "scene": "scene",
         "showlegend": true,
         "type": "scatter3d",
         "x": [
          -0.39980560541152954
         ],
         "y": [
          -0.4027183949947357
         ],
         "z": [
          -0.5298877358436584
         ]
        },
        {
         "hovertemplate": "color=years<br>x=%{x}<br>y=%{y}<br>z=%{z}<extra></extra>",
         "legendgroup": "years",
         "marker": {
          "color": "#FECB52",
          "symbol": "circle"
         },
         "mode": "markers",
         "name": "years",
         "scene": "scene",
         "showlegend": true,
         "type": "scatter3d",
         "x": [
          0.18074890971183777
         ],
         "y": [
          -0.5462709665298462
         ],
         "z": [
          -0.29494836926460266
         ]
        },
        {
         "hovertemplate": "color=meeting<br>x=%{x}<br>y=%{y}<br>z=%{z}<extra></extra>",
         "legendgroup": "meeting",
         "marker": {
          "color": "#636efa",
          "symbol": "circle"
         },
         "mode": "markers",
         "name": "meeting",
         "scene": "scene",
         "showlegend": true,
         "type": "scatter3d",
         "x": [
          0.5562230348587036
         ],
         "y": [
          0.4542793333530426
         ],
         "z": [
          0.17993994057178497
         ]
        },
        {
         "hovertemplate": "color=bank<br>x=%{x}<br>y=%{y}<br>z=%{z}<extra></extra>",
         "legendgroup": "bank",
         "marker": {
          "color": "#EF553B",
          "symbol": "circle"
         },
         "mode": "markers",
         "name": "bank",
         "scene": "scene",
         "showlegend": true,
         "type": "scatter3d",
         "x": [
          0.5822198390960693
         ],
         "y": [
          -0.013056043535470963
         ],
         "z": [
          0.07083067297935486
         ]
        },
        {
         "hovertemplate": "color=suicide<br>x=%{x}<br>y=%{y}<br>z=%{z}<extra></extra>",
         "legendgroup": "suicide",
         "marker": {
          "color": "#00cc96",
          "symbol": "circle"
         },
         "mode": "markers",
         "name": "suicide",
         "scene": "scene",
         "showlegend": true,
         "type": "scatter3d",
         "x": [
          0.7722020149230957
         ],
         "y": [
          0.03738062456250191
         ],
         "z": [
          -0.2980489730834961
         ]
        },
        {
         "hovertemplate": "color=back<br>x=%{x}<br>y=%{y}<br>z=%{z}<extra></extra>",
         "legendgroup": "back",
         "marker": {
          "color": "#ab63fa",
          "symbol": "circle"
         },
         "mode": "markers",
         "name": "back",
         "scene": "scene",
         "showlegend": true,
         "type": "scatter3d",
         "x": [
          -0.5409715175628662
         ],
         "y": [
          -0.1850416362285614
         ],
         "z": [
          -0.10009072721004486
         ]
        },
        {
         "hovertemplate": "color=action<br>x=%{x}<br>y=%{y}<br>z=%{z}<extra></extra>",
         "legendgroup": "action",
         "marker": {
          "color": "#FFA15A",
          "symbol": "circle"
         },
         "mode": "markers",
         "name": "action",
         "scene": "scene",
         "showlegend": true,
         "type": "scatter3d",
         "x": [
          -0.46193888783454895
         ],
         "y": [
          0.2748708128929138
         ],
         "z": [
          0.0992928147315979
         ]
        },
        {
         "hovertemplate": "color=commission<br>x=%{x}<br>y=%{y}<br>z=%{z}<extra></extra>",
         "legendgroup": "commission",
         "marker": {
          "color": "#19d3f3",
          "symbol": "circle"
         },
         "mode": "markers",
         "name": "commission",
         "scene": "scene",
         "showlegend": true,
         "type": "scatter3d",
         "x": [
          -0.08297467231750488
         ],
         "y": [
          0.07542319595813751
         ],
         "z": [
          0.579830527305603
         ]
        },
        {
         "hovertemplate": "color=made<br>x=%{x}<br>y=%{y}<br>z=%{z}<extra></extra>",
         "legendgroup": "made",
         "marker": {
          "color": "#FF6692",
          "symbol": "circle"
         },
         "mode": "markers",
         "name": "made",
         "scene": "scene",
         "showlegend": true,
         "type": "scatter3d",
         "x": [
          -0.3227439522743225
         ],
         "y": [
          0.3241722583770752
         ],
         "z": [
          -0.06218724325299263
         ]
        },
        {
         "hovertemplate": "color=down<br>x=%{x}<br>y=%{y}<br>z=%{z}<extra></extra>",
         "legendgroup": "down",
         "marker": {
          "color": "#B6E880",
          "symbol": "circle"
         },
         "mode": "markers",
         "name": "down",
         "scene": "scene",
         "showlegend": true,
         "type": "scatter3d",
         "x": [
          0.11190816760063171
         ],
         "y": [
          -0.1620325744152069
         ],
         "z": [
          -0.6665555834770203
         ]
        },
        {
         "hovertemplate": "color=morning<br>x=%{x}<br>y=%{y}<br>z=%{z}<extra></extra>",
         "legendgroup": "morning",
         "marker": {
          "color": "#FF97FF",
          "symbol": "circle"
         },
         "mode": "markers",
         "name": "morning",
         "scene": "scene",
         "showlegend": true,
         "type": "scatter3d",
         "x": [
          0.058379776775836945
         ],
         "y": [
          -0.4578453600406647
         ],
         "z": [
          0.19395865499973297
         ]
        },
        {
         "hovertemplate": "color=re<br>x=%{x}<br>y=%{y}<br>z=%{z}<extra></extra>",
         "legendgroup": "re",
         "marker": {
          "color": "#FECB52",
          "symbol": "circle"
         },
         "mode": "markers",
         "name": "re",
         "scene": "scene",
         "showlegend": true,
         "type": "scatter3d",
         "x": [
          -0.6591582298278809
         ],
         "y": [
          -0.24966003000736237
         ],
         "z": [
          -0.2863978147506714
         ]
        },
        {
         "hovertemplate": "color=pakistan<br>x=%{x}<br>y=%{y}<br>z=%{z}<extra></extra>",
         "legendgroup": "pakistan",
         "marker": {
          "color": "#636efa",
          "symbol": "circle"
         },
         "mode": "markers",
         "name": "pakistan",
         "scene": "scene",
         "showlegend": true,
         "type": "scatter3d",
         "x": [
          0.32790473103523254
         ],
         "y": [
          0.619208037853241
         ],
         "z": [
          -0.08611246943473816
         ]
        },
        {
         "hovertemplate": "color=international<br>x=%{x}<br>y=%{y}<br>z=%{z}<extra></extra>",
         "legendgroup": "international",
         "marker": {
          "color": "#EF553B",
          "symbol": "circle"
         },
         "mode": "markers",
         "name": "international",
         "scene": "scene",
         "showlegend": true,
         "type": "scatter3d",
         "x": [
          0.396820992231369
         ],
         "y": [
          0.47555088996887207
         ],
         "z": [
          0.09880904853343964
         ]
        },
        {
         "hovertemplate": "color=city<br>x=%{x}<br>y=%{y}<br>z=%{z}<extra></extra>",
         "legendgroup": "city",
         "marker": {
          "color": "#00cc96",
          "symbol": "circle"
         },
         "mode": "markers",
         "name": "city",
         "scene": "scene",
         "showlegend": true,
         "type": "scatter3d",
         "x": [
          0.8028944730758667
         ],
         "y": [
          -0.13732920587062836
         ],
         "z": [
          -0.1604190468788147
         ]
        },
        {
         "hovertemplate": "color=attack<br>x=%{x}<br>y=%{y}<br>z=%{z}<extra></extra>",
         "legendgroup": "attack",
         "marker": {
          "color": "#ab63fa",
          "symbol": "circle"
         },
         "mode": "markers",
         "name": "attack",
         "scene": "scene",
         "showlegend": true,
         "type": "scatter3d",
         "x": [
          0.740664005279541
         ],
         "y": [
          0.1578354388475418
         ],
         "z": [
          -0.37713170051574707
         ]
        },
        {
         "hovertemplate": "color=centre<br>x=%{x}<br>y=%{y}<br>z=%{z}<extra></extra>",
         "legendgroup": "centre",
         "marker": {
          "color": "#FFA15A",
          "symbol": "circle"
         },
         "mode": "markers",
         "name": "centre",
         "scene": "scene",
         "showlegend": true,
         "type": "scatter3d",
         "x": [
          0.35210198163986206
         ],
         "y": [
          -0.5242255926132202
         ],
         "z": [
          0.19539190828800201
         ]
        },
        {
         "hovertemplate": "color=group<br>x=%{x}<br>y=%{y}<br>z=%{z}<extra></extra>",
         "legendgroup": "group",
         "marker": {
          "color": "#19d3f3",
          "symbol": "circle"
         },
         "mode": "markers",
         "name": "group",
         "scene": "scene",
         "showlegend": true,
         "type": "scatter3d",
         "x": [
          0.49845534563064575
         ],
         "y": [
          0.3919919431209564
         ],
         "z": [
          -0.4355737566947937
         ]
        },
        {
         "hovertemplate": "color=afghan<br>x=%{x}<br>y=%{y}<br>z=%{z}<extra></extra>",
         "legendgroup": "afghan",
         "marker": {
          "color": "#FF6692",
          "symbol": "circle"
         },
         "mode": "markers",
         "name": "afghan",
         "scene": "scene",
         "showlegend": true,
         "type": "scatter3d",
         "x": [
          0.5326539278030396
         ],
         "y": [
          0.2960342764854431
         ],
         "z": [
          -0.35883957147598267
         ]
        },
        {
         "hovertemplate": "color=members<br>x=%{x}<br>y=%{y}<br>z=%{z}<extra></extra>",
         "legendgroup": "members",
         "marker": {
          "color": "#B6E880",
          "symbol": "circle"
         },
         "mode": "markers",
         "name": "members",
         "scene": "scene",
         "showlegend": true,
         "type": "scatter3d",
         "x": [
          0.2284417748451233
         ],
         "y": [
          0.14383099973201752
         ],
         "z": [
          -0.38798314332962036
         ]
        },
        {
         "hovertemplate": "color=while<br>x=%{x}<br>y=%{y}<br>z=%{z}<extra></extra>",
         "legendgroup": "while",
         "marker": {
          "color": "#FF97FF",
          "symbol": "circle"
         },
         "mode": "markers",
         "name": "while",
         "scene": "scene",
         "showlegend": true,
         "type": "scatter3d",
         "x": [
          -0.056164637207984924
         ],
         "y": [
          -0.3811458647251129
         ],
         "z": [
          0.13895843923091888
         ]
        },
        {
         "hovertemplate": "color=military<br>x=%{x}<br>y=%{y}<br>z=%{z}<extra></extra>",
         "legendgroup": "military",
         "marker": {
          "color": "#FECB52",
          "symbol": "circle"
         },
         "mode": "markers",
         "name": "military",
         "scene": "scene",
         "showlegend": true,
         "type": "scatter3d",
         "x": [
          0.5620352029800415
         ],
         "y": [
          0.4504324495792389
         ],
         "z": [
          -0.27905958890914917
         ]
        },
        {
         "hovertemplate": "color=well<br>x=%{x}<br>y=%{y}<br>z=%{z}<extra></extra>",
         "legendgroup": "well",
         "marker": {
          "color": "#636efa",
          "symbol": "circle"
         },
         "mode": "markers",
         "name": "well",
         "scene": "scene",
         "showlegend": true,
         "type": "scatter3d",
         "x": [
          -0.32913991808891296
         ],
         "y": [
          -0.034393634647130966
         ],
         "z": [
          -0.469587504863739
         ]
        },
        {
         "hovertemplate": "color=number<br>x=%{x}<br>y=%{y}<br>z=%{z}<extra></extra>",
         "legendgroup": "number",
         "marker": {
          "color": "#EF553B",
          "symbol": "circle"
         },
         "mode": "markers",
         "name": "number",
         "scene": "scene",
         "showlegend": true,
         "type": "scatter3d",
         "x": [
          -0.04438672214746475
         ],
         "y": [
          -0.4780283272266388
         ],
         "z": [
          -0.3317180871963501
         ]
        },
        {
         "hovertemplate": "color=through<br>x=%{x}<br>y=%{y}<br>z=%{z}<extra></extra>",
         "legendgroup": "through",
         "marker": {
          "color": "#00cc96",
          "symbol": "circle"
         },
         "mode": "markers",
         "name": "through",
         "scene": "scene",
         "showlegend": true,
         "type": "scatter3d",
         "x": [
          -0.3502791225910187
         ],
         "y": [
          -0.37686100602149963
         ],
         "z": [
          0.07573749125003815
         ]
        },
        {
         "hovertemplate": "color=qantas<br>x=%{x}<br>y=%{y}<br>z=%{z}<extra></extra>",
         "legendgroup": "qantas",
         "marker": {
          "color": "#ab63fa",
          "symbol": "circle"
         },
         "mode": "markers",
         "name": "qantas",
         "scene": "scene",
         "showlegend": true,
         "type": "scatter3d",
         "x": [
          -0.6329642534255981
         ],
         "y": [
          0.12077225744724274
         ],
         "z": [
          0.12365470826625824
         ]
        },
        {
         "hovertemplate": "color=five<br>x=%{x}<br>y=%{y}<br>z=%{z}<extra></extra>",
         "legendgroup": "five",
         "marker": {
          "color": "#FFA15A",
          "symbol": "circle"
         },
         "mode": "markers",
         "name": "five",
         "scene": "scene",
         "showlegend": true,
         "type": "scatter3d",
         "x": [
          0.24859407544136047
         ],
         "y": [
          -0.7428957223892212
         ],
         "z": [
          -0.16435949504375458
         ]
        },
        {
         "hovertemplate": "color=local<br>x=%{x}<br>y=%{y}<br>z=%{z}<extra></extra>",
         "legendgroup": "local",
         "marker": {
          "color": "#19d3f3",
          "symbol": "circle"
         },
         "mode": "markers",
         "name": "local",
         "scene": "scene",
         "showlegend": true,
         "type": "scatter3d",
         "x": [
          0.25624513626098633
         ],
         "y": [
          -0.14679725468158722
         ],
         "z": [
          -0.3867276906967163
         ]
        },
        {
         "hovertemplate": "color=called<br>x=%{x}<br>y=%{y}<br>z=%{z}<extra></extra>",
         "legendgroup": "called",
         "marker": {
          "color": "#FF6692",
          "symbol": "circle"
         },
         "mode": "markers",
         "name": "called",
         "scene": "scene",
         "showlegend": true,
         "type": "scatter3d",
         "x": [
          0.2526225447654724
         ],
         "y": [
          0.6527990698814392
         ],
         "z": [
          0.013102807104587555
         ]
        },
        {
         "hovertemplate": "color=area<br>x=%{x}<br>y=%{y}<br>z=%{z}<extra></extra>",
         "legendgroup": "area",
         "marker": {
          "color": "#B6E880",
          "symbol": "circle"
         },
         "mode": "markers",
         "name": "area",
         "scene": "scene",
         "showlegend": true,
         "type": "scatter3d",
         "x": [
          0.30306246876716614
         ],
         "y": [
          -0.36034345626831055
         ],
         "z": [
          -0.41507500410079956
         ]
        },
        {
         "hovertemplate": "color=union<br>x=%{x}<br>y=%{y}<br>z=%{z}<extra></extra>",
         "legendgroup": "union",
         "marker": {
          "color": "#FF97FF",
          "symbol": "circle"
         },
         "mode": "markers",
         "name": "union",
         "scene": "scene",
         "showlegend": true,
         "type": "scatter3d",
         "x": [
          -0.3616367280483246
         ],
         "y": [
          0.5290146470069885
         ],
         "z": [
          0.25457894802093506
         ]
        },
        {
         "hovertemplate": "color=gaza<br>x=%{x}<br>y=%{y}<br>z=%{z}<extra></extra>",
         "legendgroup": "gaza",
         "marker": {
          "color": "#FECB52",
          "symbol": "circle"
         },
         "mode": "markers",
         "name": "gaza",
         "scene": "scene",
         "showlegend": true,
         "type": "scatter3d",
         "x": [
          0.7655889987945557
         ],
         "y": [
          -0.0725022554397583
         ],
         "z": [
          -0.20962995290756226
         ]
        },
        {
         "hovertemplate": "color=week<br>x=%{x}<br>y=%{y}<br>z=%{z}<extra></extra>",
         "legendgroup": "week",
         "marker": {
          "color": "#636efa",
          "symbol": "circle"
         },
         "mode": "markers",
         "name": "week",
         "scene": "scene",
         "showlegend": true,
         "type": "scatter3d",
         "x": [
          0.17956656217575073
         ],
         "y": [
          -0.08246108889579773
         ],
         "z": [
          0.10656115412712097
         ]
        },
        {
         "hovertemplate": "color=national<br>x=%{x}<br>y=%{y}<br>z=%{z}<extra></extra>",
         "legendgroup": "national",
         "marker": {
          "color": "#EF553B",
          "symbol": "circle"
         },
         "mode": "markers",
         "name": "national",
         "scene": "scene",
         "showlegend": true,
         "type": "scatter3d",
         "x": [
          0.1999020278453827
         ],
         "y": [
          0.17907777428627014
         ],
         "z": [
          0.728468120098114
         ]
        },
        {
         "hovertemplate": "color=since<br>x=%{x}<br>y=%{y}<br>z=%{z}<extra></extra>",
         "legendgroup": "since",
         "marker": {
          "color": "#00cc96",
          "symbol": "circle"
         },
         "mode": "markers",
         "name": "since",
         "scene": "scene",
         "showlegend": true,
         "type": "scatter3d",
         "x": [
          0.6649196147918701
         ],
         "y": [
          -0.15927806496620178
         ],
         "z": [
          0.1334424763917923
         ]
        },
        {
         "hovertemplate": "color=wales<br>x=%{x}<br>y=%{y}<br>z=%{z}<extra></extra>",
         "legendgroup": "wales",
         "marker": {
          "color": "#ab63fa",
          "symbol": "circle"
         },
         "mode": "markers",
         "name": "wales",
         "scene": "scene",
         "showlegend": true,
         "type": "scatter3d",
         "x": [
          0.1099315956234932
         ],
         "y": [
          -0.21885241568088531
         ],
         "z": [
          0.44919097423553467
         ]
        },
        {
         "hovertemplate": "color=including<br>x=%{x}<br>y=%{y}<br>z=%{z}<extra></extra>",
         "legendgroup": "including",
         "marker": {
          "color": "#FFA15A",
          "symbol": "circle"
         },
         "mode": "markers",
         "name": "including",
         "scene": "scene",
         "showlegend": true,
         "type": "scatter3d",
         "x": [
          0.4416396915912628
         ],
         "y": [
          -0.2298809438943863
         ],
         "z": [
          -0.09830969572067261
         ]
        },
        {
         "hovertemplate": "color=hours<br>x=%{x}<br>y=%{y}<br>z=%{z}<extra></extra>",
         "legendgroup": "hours",
         "marker": {
          "color": "#19d3f3",
          "symbol": "circle"
         },
         "mode": "markers",
         "name": "hours",
         "scene": "scene",
         "showlegend": true,
         "type": "scatter3d",
         "x": [
          0.04830328747630119
         ],
         "y": [
          -0.5986003875732422
         ],
         "z": [
          -0.21682122349739075
         ]
        },
        {
         "hovertemplate": "color=september<br>x=%{x}<br>y=%{y}<br>z=%{z}<extra></extra>",
         "legendgroup": "september",
         "marker": {
          "color": "#FF6692",
          "symbol": "circle"
         },
         "mode": "markers",
         "name": "september",
         "scene": "scene",
         "showlegend": true,
         "type": "scatter3d",
         "x": [
          0.6078386306762695
         ],
         "y": [
          0.062101881951093674
         ],
         "z": [
          0.007337942719459534
         ]
        },
        {
         "hovertemplate": "color=another<br>x=%{x}<br>y=%{y}<br>z=%{z}<extra></extra>",
         "legendgroup": "another",
         "marker": {
          "color": "#B6E880",
          "symbol": "circle"
         },
         "mode": "markers",
         "name": "another",
         "scene": "scene",
         "showlegend": true,
         "type": "scatter3d",
         "x": [
          0.1647331416606903
         ],
         "y": [
          -0.2376050502061844
         ],
         "z": [
          -0.4252958297729492
         ]
        },
        {
         "hovertemplate": "color=east<br>x=%{x}<br>y=%{y}<br>z=%{z}<extra></extra>",
         "legendgroup": "east",
         "marker": {
          "color": "#FF97FF",
          "symbol": "circle"
         },
         "mode": "markers",
         "name": "east",
         "scene": "scene",
         "showlegend": true,
         "type": "scatter3d",
         "x": [
          0.5000123381614685
         ],
         "y": [
          0.007821828126907349
         ],
         "z": [
          0.5332059860229492
         ]
        },
        {
         "hovertemplate": "color=night<br>x=%{x}<br>y=%{y}<br>z=%{z}<extra></extra>",
         "legendgroup": "night",
         "marker": {
          "color": "#FECB52",
          "symbol": "circle"
         },
         "mode": "markers",
         "name": "night",
         "scene": "scene",
         "showlegend": true,
         "type": "scatter3d",
         "x": [
          0.4574880301952362
         ],
         "y": [
          -0.3714769780635834
         ],
         "z": [
          -0.0646507516503334
         ]
        },
        {
         "hovertemplate": "color=report<br>x=%{x}<br>y=%{y}<br>z=%{z}<extra></extra>",
         "legendgroup": "report",
         "marker": {
          "color": "#636efa",
          "symbol": "circle"
         },
         "mode": "markers",
         "name": "report",
         "scene": "scene",
         "showlegend": true,
         "type": "scatter3d",
         "x": [
          -0.205030620098114
         ],
         "y": [
          -0.012036852538585663
         ],
         "z": [
          0.5135196447372437
         ]
        },
        {
         "hovertemplate": "color=off<br>x=%{x}<br>y=%{y}<br>z=%{z}<extra></extra>",
         "legendgroup": "off",
         "marker": {
          "color": "#EF553B",
          "symbol": "circle"
         },
         "mode": "markers",
         "name": "off",
         "scene": "scene",
         "showlegend": true,
         "type": "scatter3d",
         "x": [
          0.2355923354625702
         ],
         "y": [
          -0.395734578371048
         ],
         "z": [
          0.25346308946609497
         ]
        },
        {
         "hovertemplate": "color=north<br>x=%{x}<br>y=%{y}<br>z=%{z}<extra></extra>",
         "legendgroup": "north",
         "marker": {
          "color": "#00cc96",
          "symbol": "circle"
         },
         "mode": "markers",
         "name": "north",
         "scene": "scene",
         "showlegend": true,
         "type": "scatter3d",
         "x": [
          0.614172101020813
         ],
         "y": [
          -0.4183546006679535
         ],
         "z": [
          0.16974641382694244
         ]
        },
        {
         "hovertemplate": "color=should<br>x=%{x}<br>y=%{y}<br>z=%{z}<extra></extra>",
         "legendgroup": "should",
         "marker": {
          "color": "#ab63fa",
          "symbol": "circle"
         },
         "mode": "markers",
         "name": "should",
         "scene": "scene",
         "showlegend": true,
         "type": "scatter3d",
         "x": [
          -0.5961403250694275
         ],
         "y": [
          0.1868535280227661
         ],
         "z": [
          0.02356751263141632
         ]
        },
        {
         "hovertemplate": "color=get<br>x=%{x}<br>y=%{y}<br>z=%{z}<extra></extra>",
         "legendgroup": "get",
         "marker": {
          "color": "#FFA15A",
          "symbol": "circle"
         },
         "mode": "markers",
         "name": "get",
         "scene": "scene",
         "showlegend": true,
         "type": "scatter3d",
         "x": [
          -0.6494916677474976
         ],
         "y": [
          -0.18173809349536896
         ],
         "z": [
          -0.28784751892089844
         ]
        },
        {
         "hovertemplate": "color=second<br>x=%{x}<br>y=%{y}<br>z=%{z}<extra></extra>",
         "legendgroup": "second",
         "marker": {
          "color": "#19d3f3",
          "symbol": "circle"
         },
         "mode": "markers",
         "name": "second",
         "scene": "scene",
         "showlegend": true,
         "type": "scatter3d",
         "x": [
          0.27243730425834656
         ],
         "y": [
          -0.4876668155193329
         ],
         "z": [
          0.47849392890930176
         ]
        },
        {
         "hovertemplate": "color=go<br>x=%{x}<br>y=%{y}<br>z=%{z}<extra></extra>",
         "legendgroup": "go",
         "marker": {
          "color": "#FF6692",
          "symbol": "circle"
         },
         "mode": "markers",
         "name": "go",
         "scene": "scene",
         "showlegend": true,
         "type": "scatter3d",
         "x": [
          -0.6538877487182617
         ],
         "y": [
          -0.2974851429462433
         ],
         "z": [
          0.13670633733272552
         ]
        },
        {
         "hovertemplate": "color=earlier<br>x=%{x}<br>y=%{y}<br>z=%{z}<extra></extra>",
         "legendgroup": "earlier",
         "marker": {
          "color": "#B6E880",
          "symbol": "circle"
         },
         "mode": "markers",
         "name": "earlier",
         "scene": "scene",
         "showlegend": true,
         "type": "scatter3d",
         "x": [
          0.4323106110095978
         ],
         "y": [
          0.24995289742946625
         ],
         "z": [
          -0.3653301000595093
         ]
        },
        {
         "hovertemplate": "color=war<br>x=%{x}<br>y=%{y}<br>z=%{z}<extra></extra>",
         "legendgroup": "war",
         "marker": {
          "color": "#FF97FF",
          "symbol": "circle"
         },
         "mode": "markers",
         "name": "war",
         "scene": "scene",
         "showlegend": true,
         "type": "scatter3d",
         "x": [
          0.5236032009124756
         ],
         "y": [
          0.4162351191043854
         ],
         "z": [
          0.12588827311992645
         ]
        },
        {
         "hovertemplate": "color=staff<br>x=%{x}<br>y=%{y}<br>z=%{z}<extra></extra>",
         "legendgroup": "staff",
         "marker": {
          "color": "#FECB52",
          "symbol": "circle"
         },
         "mode": "markers",
         "name": "staff",
         "scene": "scene",
         "showlegend": true,
         "type": "scatter3d",
         "x": [
          -0.30609554052352905
         ],
         "y": [
          -0.4990001618862152
         ],
         "z": [
          -0.07069084793329239
         ]
        },
        {
         "hovertemplate": "color=six<br>x=%{x}<br>y=%{y}<br>z=%{z}<extra></extra>",
         "legendgroup": "six",
         "marker": {
          "color": "#636efa",
          "symbol": "circle"
         },
         "mode": "markers",
         "name": "six",
         "scene": "scene",
         "showlegend": true,
         "type": "scatter3d",
         "x": [
          0.30932989716529846
         ],
         "y": [
          -0.6061758995056152
         ],
         "z": [
          -0.08484078198671341
         ]
        },
        {
         "hovertemplate": "color=these<br>x=%{x}<br>y=%{y}<br>z=%{z}<extra></extra>",
         "legendgroup": "these",
         "marker": {
          "color": "#EF553B",
          "symbol": "circle"
         },
         "mode": "markers",
         "name": "these",
         "scene": "scene",
         "showlegend": true,
         "type": "scatter3d",
         "x": [
          -0.5987298488616943
         ],
         "y": [
          -0.21401479840278625
         ],
         "z": [
          -0.39041584730148315
         ]
        },
        {
         "hovertemplate": "color=between<br>x=%{x}<br>y=%{y}<br>z=%{z}<extra></extra>",
         "legendgroup": "between",
         "marker": {
          "color": "#00cc96",
          "symbol": "circle"
         },
         "mode": "markers",
         "name": "between",
         "scene": "scene",
         "showlegend": true,
         "type": "scatter3d",
         "x": [
          0.7201316356658936
         ],
         "y": [
          -0.038706135004758835
         ],
         "z": [
          0.04226672649383545
         ]
        },
        {
         "hovertemplate": "color=islamic<br>x=%{x}<br>y=%{y}<br>z=%{z}<extra></extra>",
         "legendgroup": "islamic",
         "marker": {
          "color": "#ab63fa",
          "symbol": "circle"
         },
         "mode": "markers",
         "name": "islamic",
         "scene": "scene",
         "showlegend": true,
         "type": "scatter3d",
         "x": [
          0.5804901123046875
         ],
         "y": [
          0.3501978814601898
         ],
         "z": [
          -0.45586562156677246
         ]
        },
        {
         "hovertemplate": "color=months<br>x=%{x}<br>y=%{y}<br>z=%{z}<extra></extra>",
         "legendgroup": "months",
         "marker": {
          "color": "#FFA15A",
          "symbol": "circle"
         },
         "mode": "markers",
         "name": "months",
         "scene": "scene",
         "showlegend": true,
         "type": "scatter3d",
         "x": [
          0.37014511227607727
         ],
         "y": [
          -0.5305798053741455
         ],
         "z": [
          -0.1809774786233902
         ]
        },
        {
         "hovertemplate": "color=further<br>x=%{x}<br>y=%{y}<br>z=%{z}<extra></extra>",
         "legendgroup": "further",
         "marker": {
          "color": "#19d3f3",
          "symbol": "circle"
         },
         "mode": "markers",
         "name": "further",
         "scene": "scene",
         "showlegend": true,
         "type": "scatter3d",
         "x": [
          -0.43808749318122864
         ],
         "y": [
          0.013659805059432983
         ],
         "z": [
          0.31106823682785034
         ]
        },
        {
         "hovertemplate": "color=end<br>x=%{x}<br>y=%{y}<br>z=%{z}<extra></extra>",
         "legendgroup": "end",
         "marker": {
          "color": "#FF6692",
          "symbol": "circle"
         },
         "mode": "markers",
         "name": "end",
         "scene": "scene",
         "showlegend": true,
         "type": "scatter3d",
         "x": [
          0.45625630021095276
         ],
         "y": [
          0.06454014778137207
         ],
         "z": [
          0.11492614448070526
         ]
        },
        {
         "hovertemplate": "color=defence<br>x=%{x}<br>y=%{y}<br>z=%{z}<extra></extra>",
         "legendgroup": "defence",
         "marker": {
          "color": "#B6E880",
          "symbol": "circle"
         },
         "mode": "markers",
         "name": "defence",
         "scene": "scene",
         "showlegend": true,
         "type": "scatter3d",
         "x": [
          0.05788782611489296
         ],
         "y": [
          0.7579762935638428
         ],
         "z": [
          0.15056033432483673
         ]
        },
        {
         "hovertemplate": "color=do<br>x=%{x}<br>y=%{y}<br>z=%{z}<extra></extra>",
         "legendgroup": "do",
         "marker": {
          "color": "#FF97FF",
          "symbol": "circle"
         },
         "mode": "markers",
         "name": "do",
         "scene": "scene",
         "showlegend": true,
         "type": "scatter3d",
         "x": [
          -0.8011115193367004
         ],
         "y": [
          -0.004087693989276886
         ],
         "z": [
          -0.20201000571250916
         ]
        },
        {
         "hovertemplate": "color=sharon<br>x=%{x}<br>y=%{y}<br>z=%{z}<extra></extra>",
         "legendgroup": "sharon",
         "marker": {
          "color": "#FECB52",
          "symbol": "circle"
         },
         "mode": "markers",
         "name": "sharon",
         "scene": "scene",
         "showlegend": true,
         "type": "scatter3d",
         "x": [
          0.3305719494819641
         ],
         "y": [
          0.6424498558044434
         ],
         "z": [
          -0.08027923852205276
         ]
        },
        {
         "hovertemplate": "color=near<br>x=%{x}<br>y=%{y}<br>z=%{z}<extra></extra>",
         "legendgroup": "near",
         "marker": {
          "color": "#636efa",
          "symbol": "circle"
         },
         "mode": "markers",
         "name": "near",
         "scene": "scene",
         "showlegend": true,
         "type": "scatter3d",
         "x": [
          0.6985955238342285
         ],
         "y": [
          -0.2269885390996933
         ],
         "z": [
          -0.31158626079559326
         ]
        },
        {
         "hovertemplate": "color=team<br>x=%{x}<br>y=%{y}<br>z=%{z}<extra></extra>",
         "legendgroup": "team",
         "marker": {
          "color": "#EF553B",
          "symbol": "circle"
         },
         "mode": "markers",
         "name": "team",
         "scene": "scene",
         "showlegend": true,
         "type": "scatter3d",
         "x": [
          -0.0881706103682518
         ],
         "y": [
          0.08650898933410645
         ],
         "z": [
          0.5614868402481079
         ]
        },
        {
         "hovertemplate": "color=foreign<br>x=%{x}<br>y=%{y}<br>z=%{z}<extra></extra>",
         "legendgroup": "foreign",
         "marker": {
          "color": "#00cc96",
          "symbol": "circle"
         },
         "mode": "markers",
         "name": "foreign",
         "scene": "scene",
         "showlegend": true,
         "type": "scatter3d",
         "x": [
          0.30414119362831116
         ],
         "y": [
          0.6250896453857422
         ],
         "z": [
          0.06851564347743988
         ]
        },
        {
         "hovertemplate": "color=power<br>x=%{x}<br>y=%{y}<br>z=%{z}<extra></extra>",
         "legendgroup": "power",
         "marker": {
          "color": "#ab63fa",
          "symbol": "circle"
         },
         "mode": "markers",
         "name": "power",
         "scene": "scene",
         "showlegend": true,
         "type": "scatter3d",
         "x": [
          -0.2763601541519165
         ],
         "y": [
          0.09329704940319061
         ],
         "z": [
          0.2944098711013794
         ]
        },
        {
         "hovertemplate": "color=areas<br>x=%{x}<br>y=%{y}<br>z=%{z}<extra></extra>",
         "legendgroup": "areas",
         "marker": {
          "color": "#FFA15A",
          "symbol": "circle"
         },
         "mode": "markers",
         "name": "areas",
         "scene": "scene",
         "showlegend": true,
         "type": "scatter3d",
         "x": [
          0.05124979466199875
         ],
         "y": [
          -0.3550291955471039
         ],
         "z": [
          -0.3633962869644165
         ]
        },
        {
         "hovertemplate": "color=work<br>x=%{x}<br>y=%{y}<br>z=%{z}<extra></extra>",
         "legendgroup": "work",
         "marker": {
          "color": "#19d3f3",
          "symbol": "circle"
         },
         "mode": "markers",
         "name": "work",
         "scene": "scene",
         "showlegend": true,
         "type": "scatter3d",
         "x": [
          -0.547245979309082
         ],
         "y": [
          -0.35501644015312195
         ],
         "z": [
          -0.08877547085285187
         ]
        },
        {
         "hovertemplate": "color=going<br>x=%{x}<br>y=%{y}<br>z=%{z}<extra></extra>",
         "legendgroup": "going",
         "marker": {
          "color": "#FF6692",
          "symbol": "circle"
         },
         "mode": "markers",
         "name": "going",
         "scene": "scene",
         "showlegend": true,
         "type": "scatter3d",
         "x": [
          -0.6698975563049316
         ],
         "y": [
          -0.17073576152324677
         ],
         "z": [
          -0.3121802806854248
         ]
        },
        {
         "hovertemplate": "color=authority<br>x=%{x}<br>y=%{y}<br>z=%{z}<extra></extra>",
         "legendgroup": "authority",
         "marker": {
          "color": "#B6E880",
          "symbol": "circle"
         },
         "mode": "markers",
         "name": "authority",
         "scene": "scene",
         "showlegend": true,
         "type": "scatter3d",
         "x": [
          0.1498906910419464
         ],
         "y": [
          0.676018238067627
         ],
         "z": [
          -0.09566381573677063
         ]
        },
        {
         "hovertemplate": "color=because<br>x=%{x}<br>y=%{y}<br>z=%{z}<extra></extra>",
         "legendgroup": "because",
         "marker": {
          "color": "#FF97FF",
          "symbol": "circle"
         },
         "mode": "markers",
         "name": "because",
         "scene": "scene",
         "showlegend": true,
         "type": "scatter3d",
         "x": [
          -0.6821513772010803
         ],
         "y": [
          0.0383031964302063
         ],
         "z": [
          -0.4284785985946655
         ]
        },
        {
         "hovertemplate": "color=way<br>x=%{x}<br>y=%{y}<br>z=%{z}<extra></extra>",
         "legendgroup": "way",
         "marker": {
          "color": "#FECB52",
          "symbol": "circle"
         },
         "mode": "markers",
         "name": "way",
         "scene": "scene",
         "showlegend": true,
         "type": "scatter3d",
         "x": [
          -0.6540148854255676
         ],
         "y": [
          -0.2647436559200287
         ],
         "z": [
          -0.12837302684783936
         ]
        },
        {
         "hovertemplate": "color=eight<br>x=%{x}<br>y=%{y}<br>z=%{z}<extra></extra>",
         "legendgroup": "eight",
         "marker": {
          "color": "#636efa",
          "symbol": "circle"
         },
         "mode": "markers",
         "name": "eight",
         "scene": "scene",
         "showlegend": true,
         "type": "scatter3d",
         "x": [
          0.40423133969306946
         ],
         "y": [
          -0.6085915565490723
         ],
         "z": [
          -0.24749544262886047
         ]
        },
        {
         "hovertemplate": "color=india<br>x=%{x}<br>y=%{y}<br>z=%{z}<extra></extra>",
         "legendgroup": "india",
         "marker": {
          "color": "#EF553B",
          "symbol": "circle"
         },
         "mode": "markers",
         "name": "india",
         "scene": "scene",
         "showlegend": true,
         "type": "scatter3d",
         "x": [
          0.2307160496711731
         ],
         "y": [
          0.41025209426879883
         ],
         "z": [
          0.2758709788322449
         ]
        },
        {
         "hovertemplate": "color=only<br>x=%{x}<br>y=%{y}<br>z=%{z}<extra></extra>",
         "legendgroup": "only",
         "marker": {
          "color": "#00cc96",
          "symbol": "circle"
         },
         "mode": "markers",
         "name": "only",
         "scene": "scene",
         "showlegend": true,
         "type": "scatter3d",
         "x": [
          -0.4712463915348053
         ],
         "y": [
          -0.0880361795425415
         ],
         "z": [
          -0.010510660707950592
         ]
        },
        {
         "hovertemplate": "color=know<br>x=%{x}<br>y=%{y}<br>z=%{z}<extra></extra>",
         "legendgroup": "know",
         "marker": {
          "color": "#ab63fa",
          "symbol": "circle"
         },
         "mode": "markers",
         "name": "know",
         "scene": "scene",
         "showlegend": true,
         "type": "scatter3d",
         "x": [
          -0.7420405745506287
         ],
         "y": [
          -0.12622006237506866
         ],
         "z": [
          -0.3549128770828247
         ]
        },
        {
         "hovertemplate": "color=month<br>x=%{x}<br>y=%{y}<br>z=%{z}<extra></extra>",
         "legendgroup": "month",
         "marker": {
          "color": "#FFA15A",
          "symbol": "circle"
         },
         "mode": "markers",
         "name": "month",
         "scene": "scene",
         "showlegend": true,
         "type": "scatter3d",
         "x": [
          0.2213141918182373
         ],
         "y": [
          -0.42891570925712585
         ],
         "z": [
          0.057312026619911194
         ]
        },
        {
         "hovertemplate": "color=during<br>x=%{x}<br>y=%{y}<br>z=%{z}<extra></extra>",
         "legendgroup": "during",
         "marker": {
          "color": "#19d3f3",
          "symbol": "circle"
         },
         "mode": "markers",
         "name": "during",
         "scene": "scene",
         "showlegend": true,
         "type": "scatter3d",
         "x": [
          0.7175307869911194
         ],
         "y": [
          -0.19140242040157318
         ],
         "z": [
          0.012563034892082214
         ]
        },
        {
         "hovertemplate": "color=died<br>x=%{x}<br>y=%{y}<br>z=%{z}<extra></extra>",
         "legendgroup": "died",
         "marker": {
          "color": "#FF6692",
          "symbol": "circle"
         },
         "mode": "markers",
         "name": "died",
         "scene": "scene",
         "showlegend": true,
         "type": "scatter3d",
         "x": [
          0.21348732709884644
         ],
         "y": [
          -0.49658915400505066
         ],
         "z": [
          -0.31316056847572327
         ]
        },
        {
         "hovertemplate": "color=many<br>x=%{x}<br>y=%{y}<br>z=%{z}<extra></extra>",
         "legendgroup": "many",
         "marker": {
          "color": "#B6E880",
          "symbol": "circle"
         },
         "mode": "markers",
         "name": "many",
         "scene": "scene",
         "showlegend": true,
         "type": "scatter3d",
         "x": [
          -0.3820026218891144
         ],
         "y": [
          -0.2795468866825104
         ],
         "z": [
          -0.5508321523666382
         ]
        },
        {
         "hovertemplate": "color=match<br>x=%{x}<br>y=%{y}<br>z=%{z}<extra></extra>",
         "legendgroup": "match",
         "marker": {
          "color": "#FF97FF",
          "symbol": "circle"
         },
         "mode": "markers",
         "name": "match",
         "scene": "scene",
         "showlegend": true,
         "type": "scatter3d",
         "x": [
          0.19716498255729675
         ],
         "y": [
          -0.40799787640571594
         ],
         "z": [
          0.4965258836746216
         ]
        },
        {
         "hovertemplate": "color=make<br>x=%{x}<br>y=%{y}<br>z=%{z}<extra></extra>",
         "legendgroup": "make",
         "marker": {
          "color": "#FECB52",
          "symbol": "circle"
         },
         "mode": "markers",
         "name": "make",
         "scene": "scene",
         "showlegend": true,
         "type": "scatter3d",
         "x": [
          -0.718854546546936
         ],
         "y": [
          0.172367125749588
         ],
         "z": [
          -0.14431484043598175
         ]
        },
        {
         "hovertemplate": "color=air<br>x=%{x}<br>y=%{y}<br>z=%{z}<extra></extra>",
         "legendgroup": "air",
         "marker": {
          "color": "#636efa",
          "symbol": "circle"
         },
         "mode": "markers",
         "name": "air",
         "scene": "scene",
         "showlegend": true,
         "type": "scatter3d",
         "x": [
          0.7543478012084961
         ],
         "y": [
          0.11069053411483765
         ],
         "z": [
          -0.19698181748390198
         ]
        },
        {
         "hovertemplate": "color=metres<br>x=%{x}<br>y=%{y}<br>z=%{z}<extra></extra>",
         "legendgroup": "metres",
         "marker": {
          "color": "#EF553B",
          "symbol": "circle"
         },
         "mode": "markers",
         "name": "metres",
         "scene": "scene",
         "showlegend": true,
         "type": "scatter3d",
         "x": [
          0.2559760510921478
         ],
         "y": [
          -0.5063173770904541
         ],
         "z": [
          0.08723202347755432
         ]
        },
        {
         "hovertemplate": "color=left<br>x=%{x}<br>y=%{y}<br>z=%{z}<extra></extra>",
         "legendgroup": "left",
         "marker": {
          "color": "#00cc96",
          "symbol": "circle"
         },
         "mode": "markers",
         "name": "left",
         "scene": "scene",
         "showlegend": true,
         "type": "scatter3d",
         "x": [
          0.17346876859664917
         ],
         "y": [
          -0.3108130991458893
         ],
         "z": [
          -0.39189213514328003
         ]
        },
        {
         "hovertemplate": "color=claims<br>x=%{x}<br>y=%{y}<br>z=%{z}<extra></extra>",
         "legendgroup": "claims",
         "marker": {
          "color": "#ab63fa",
          "symbol": "circle"
         },
         "mode": "markers",
         "name": "claims",
         "scene": "scene",
         "showlegend": true,
         "type": "scatter3d",
         "x": [
          -0.42659124732017517
         ],
         "y": [
          0.4064834415912628
         ],
         "z": [
          0.1710578054189682
         ]
        },
        {
         "hovertemplate": "color=spokesman<br>x=%{x}<br>y=%{y}<br>z=%{z}<extra></extra>",
         "legendgroup": "spokesman",
         "marker": {
          "color": "#FFA15A",
          "symbol": "circle"
         },
         "mode": "markers",
         "name": "spokesman",
         "scene": "scene",
         "showlegend": true,
         "type": "scatter3d",
         "x": [
          0.17424467206001282
         ],
         "y": [
          0.6719048023223877
         ],
         "z": [
          0.07379840314388275
         ]
        },
        {
         "hovertemplate": "color=ve<br>x=%{x}<br>y=%{y}<br>z=%{z}<extra></extra>",
         "legendgroup": "ve",
         "marker": {
          "color": "#19d3f3",
          "symbol": "circle"
         },
         "mode": "markers",
         "name": "ve",
         "scene": "scene",
         "showlegend": true,
         "type": "scatter3d",
         "x": [
          -0.6180237531661987
         ],
         "y": [
          -0.24837912619113922
         ],
         "z": [
          -0.4860445261001587
         ]
        },
        {
         "hovertemplate": "color=former<br>x=%{x}<br>y=%{y}<br>z=%{z}<extra></extra>",
         "legendgroup": "former",
         "marker": {
          "color": "#FF6692",
          "symbol": "circle"
         },
         "mode": "markers",
         "name": "former",
         "scene": "scene",
         "showlegend": true,
         "type": "scatter3d",
         "x": [
          0.25399214029312134
         ],
         "y": [
          0.4847738444805145
         ],
         "z": [
          0.2518112063407898
         ]
        },
        {
         "hovertemplate": "color=melbourne<br>x=%{x}<br>y=%{y}<br>z=%{z}<extra></extra>",
         "legendgroup": "melbourne",
         "marker": {
          "color": "#B6E880",
          "symbol": "circle"
         },
         "mode": "markers",
         "name": "melbourne",
         "scene": "scene",
         "showlegend": true,
         "type": "scatter3d",
         "x": [
          0.01776362955570221
         ],
         "y": [
          -0.48006126284599304
         ],
         "z": [
          0.539065957069397
         ]
        },
        {
         "hovertemplate": "color=northern<br>x=%{x}<br>y=%{y}<br>z=%{z}<extra></extra>",
         "legendgroup": "northern",
         "marker": {
          "color": "#FF97FF",
          "symbol": "circle"
         },
         "mode": "markers",
         "name": "northern",
         "scene": "scene",
         "showlegend": true,
         "type": "scatter3d",
         "x": [
          0.8557280898094177
         ],
         "y": [
          -0.024820271879434586
         ],
         "z": [
          -0.04076980799436569
         ]
        },
        {
         "hovertemplate": "color=good<br>x=%{x}<br>y=%{y}<br>z=%{z}<extra></extra>",
         "legendgroup": "good",
         "marker": {
          "color": "#FECB52",
          "symbol": "circle"
         },
         "mode": "markers",
         "name": "good",
         "scene": "scene",
         "showlegend": true,
         "type": "scatter3d",
         "x": [
          -0.7347157001495361
         ],
         "y": [
          -0.2537541091442108
         ],
         "z": [
          0.02888849377632141
         ]
        },
        {
         "hovertemplate": "color=authorities<br>x=%{x}<br>y=%{y}<br>z=%{z}<extra></extra>",
         "legendgroup": "authorities",
         "marker": {
          "color": "#636efa",
          "symbol": "circle"
         },
         "mode": "markers",
         "name": "authorities",
         "scene": "scene",
         "showlegend": true,
         "type": "scatter3d",
         "x": [
          -0.24448883533477783
         ],
         "y": [
          0.24642395973205566
         ],
         "z": [
          -0.14091745018959045
         ]
        },
        {
         "hovertemplate": "color=most<br>x=%{x}<br>y=%{y}<br>z=%{z}<extra></extra>",
         "legendgroup": "most",
         "marker": {
          "color": "#EF553B",
          "symbol": "circle"
         },
         "mode": "markers",
         "name": "most",
         "scene": "scene",
         "showlegend": true,
         "type": "scatter3d",
         "x": [
          -0.25962725281715393
         ],
         "y": [
          -0.3614490032196045
         ],
         "z": [
          -0.22247357666492462
         ]
        },
        {
         "hovertemplate": "color=osama<br>x=%{x}<br>y=%{y}<br>z=%{z}<extra></extra>",
         "legendgroup": "osama",
         "marker": {
          "color": "#00cc96",
          "symbol": "circle"
         },
         "mode": "markers",
         "name": "osama",
         "scene": "scene",
         "showlegend": true,
         "type": "scatter3d",
         "x": [
          0.08118423074483871
         ],
         "y": [
          0.3007388710975647
         ],
         "z": [
          -0.27452772855758667
         ]
        },
        {
         "hovertemplate": "color=support<br>x=%{x}<br>y=%{y}<br>z=%{z}<extra></extra>",
         "legendgroup": "support",
         "marker": {
          "color": "#ab63fa",
          "symbol": "circle"
         },
         "mode": "markers",
         "name": "support",
         "scene": "scene",
         "showlegend": true,
         "type": "scatter3d",
         "x": [
          -0.27731671929359436
         ],
         "y": [
          0.613351583480835
         ],
         "z": [
          -0.007295973598957062
         ]
        },
        {
         "hovertemplate": "color=prime<br>x=%{x}<br>y=%{y}<br>z=%{z}<extra></extra>",
         "legendgroup": "prime",
         "marker": {
          "color": "#FFA15A",
          "symbol": "circle"
         },
         "mode": "markers",
         "name": "prime",
         "scene": "scene",
         "showlegend": true,
         "type": "scatter3d",
         "x": [
          0.24361899495124817
         ],
         "y": [
          0.5264258980751038
         ],
         "z": [
          0.25124895572662354
         ]
        },
        {
         "hovertemplate": "color=peace<br>x=%{x}<br>y=%{y}<br>z=%{z}<extra></extra>",
         "legendgroup": "peace",
         "marker": {
          "color": "#19d3f3",
          "symbol": "circle"
         },
         "mode": "markers",
         "name": "peace",
         "scene": "scene",
         "showlegend": true,
         "type": "scatter3d",
         "x": [
          0.32680949568748474
         ],
         "y": [
          0.5450831055641174
         ],
         "z": [
          0.2677614688873291
         ]
        },
        {
         "hovertemplate": "color=like<br>x=%{x}<br>y=%{y}<br>z=%{z}<extra></extra>",
         "legendgroup": "like",
         "marker": {
          "color": "#FF6692",
          "symbol": "circle"
         },
         "mode": "markers",
         "name": "like",
         "scene": "scene",
         "showlegend": true,
         "type": "scatter3d",
         "x": [
          -0.5280717611312866
         ],
         "y": [
          -0.14936181902885437
         ],
         "z": [
          -0.23741057515144348
         ]
        },
        {
         "hovertemplate": "color=set<br>x=%{x}<br>y=%{y}<br>z=%{z}<extra></extra>",
         "legendgroup": "set",
         "marker": {
          "color": "#B6E880",
          "symbol": "circle"
         },
         "mode": "markers",
         "name": "set",
         "scene": "scene",
         "showlegend": true,
         "type": "scatter3d",
         "x": [
          0.279951274394989
         ],
         "y": [
          -0.12649115920066833
         ],
         "z": [
          0.5079576969146729
         ]
        },
        {
         "hovertemplate": "color=ago<br>x=%{x}<br>y=%{y}<br>z=%{z}<extra></extra>",
         "legendgroup": "ago",
         "marker": {
          "color": "#FF97FF",
          "symbol": "circle"
         },
         "mode": "markers",
         "name": "ago",
         "scene": "scene",
         "showlegend": true,
         "type": "scatter3d",
         "x": [
          0.0516933873295784
         ],
         "y": [
          -0.544558048248291
         ],
         "z": [
          -0.2907523810863495
         ]
        },
        {
         "hovertemplate": "color=expected<br>x=%{x}<br>y=%{y}<br>z=%{z}<extra></extra>",
         "legendgroup": "expected",
         "marker": {
          "color": "#FECB52",
          "symbol": "circle"
         },
         "mode": "markers",
         "name": "expected",
         "scene": "scene",
         "showlegend": true,
         "type": "scatter3d",
         "x": [
          -0.3804401457309723
         ],
         "y": [
          -0.055789414793252945
         ],
         "z": [
          0.46626055240631104
         ]
        },
        {
         "hovertemplate": "color=saying<br>x=%{x}<br>y=%{y}<br>z=%{z}<extra></extra>",
         "legendgroup": "saying",
         "marker": {
          "color": "#636efa",
          "symbol": "circle"
         },
         "mode": "markers",
         "name": "saying",
         "scene": "scene",
         "showlegend": true,
         "type": "scatter3d",
         "x": [
          -0.5748209953308105
         ],
         "y": [
          0.3388146460056305
         ],
         "z": [
          -0.2760723829269409
         ]
        },
        {
         "hovertemplate": "color=given<br>x=%{x}<br>y=%{y}<br>z=%{z}<extra></extra>",
         "legendgroup": "given",
         "marker": {
          "color": "#EF553B",
          "symbol": "circle"
         },
         "mode": "markers",
         "name": "given",
         "scene": "scene",
         "showlegend": true,
         "type": "scatter3d",
         "x": [
          -0.3409031331539154
         ],
         "y": [
          -0.15434885025024414
         ],
         "z": [
          -0.13160040974617004
         ]
        },
        {
         "hovertemplate": "color=am<br>x=%{x}<br>y=%{y}<br>z=%{z}<extra></extra>",
         "legendgroup": "am",
         "marker": {
          "color": "#00cc96",
          "symbol": "circle"
         },
         "mode": "markers",
         "name": "am",
         "scene": "scene",
         "showlegend": true,
         "type": "scatter3d",
         "x": [
          -0.09100127220153809
         ],
         "y": [
          -0.5980051159858704
         ],
         "z": [
          0.14671695232391357
         ]
        },
        {
         "hovertemplate": "color=come<br>x=%{x}<br>y=%{y}<br>z=%{z}<extra></extra>",
         "legendgroup": "come",
         "marker": {
          "color": "#ab63fa",
          "symbol": "circle"
         },
         "mode": "markers",
         "name": "come",
         "scene": "scene",
         "showlegend": true,
         "type": "scatter3d",
         "x": [
          -0.6555293798446655
         ],
         "y": [
          -0.15408329665660858
         ],
         "z": [
          -0.21641407907009125
         ]
        },
        {
         "hovertemplate": "color=looking<br>x=%{x}<br>y=%{y}<br>z=%{z}<extra></extra>",
         "legendgroup": "looking",
         "marker": {
          "color": "#FFA15A",
          "symbol": "circle"
         },
         "mode": "markers",
         "name": "looking",
         "scene": "scene",
         "showlegend": true,
         "type": "scatter3d",
         "x": [
          -0.5937508344650269
         ],
         "y": [
          -0.24546639621257782
         ],
         "z": [
          0.05145934224128723
         ]
        },
        {
         "hovertemplate": "color=militants<br>x=%{x}<br>y=%{y}<br>z=%{z}<extra></extra>",
         "legendgroup": "militants",
         "marker": {
          "color": "#19d3f3",
          "symbol": "circle"
         },
         "mode": "markers",
         "name": "militants",
         "scene": "scene",
         "showlegend": true,
         "type": "scatter3d",
         "x": [
          0.5332080125808716
         ],
         "y": [
          0.1332125961780548
         ],
         "z": [
          -0.5376890897750854
         ]
        },
        {
         "hovertemplate": "color=bora<br>x=%{x}<br>y=%{y}<br>z=%{z}<extra></extra>",
         "legendgroup": "bora",
         "marker": {
          "color": "#FF6692",
          "symbol": "circle"
         },
         "mode": "markers",
         "name": "bora",
         "scene": "scene",
         "showlegend": true,
         "type": "scatter3d",
         "x": [
          0.34182772040367126
         ],
         "y": [
          -0.16771969199180603
         ],
         "z": [
          -0.2717670798301697
         ]
        },
        {
         "hovertemplate": "color=tora<br>x=%{x}<br>y=%{y}<br>z=%{z}<extra></extra>",
         "legendgroup": "tora",
         "marker": {
          "color": "#B6E880",
          "symbol": "circle"
         },
         "mode": "markers",
         "name": "tora",
         "scene": "scene",
         "showlegend": true,
         "type": "scatter3d",
         "x": [
          0.3289446532726288
         ],
         "y": [
          -0.16409938037395477
         ],
         "z": [
          -0.290463924407959
         ]
        },
        {
         "hovertemplate": "color=put<br>x=%{x}<br>y=%{y}<br>z=%{z}<extra></extra>",
         "legendgroup": "put",
         "marker": {
          "color": "#FF97FF",
          "symbol": "circle"
         },
         "mode": "markers",
         "name": "put",
         "scene": "scene",
         "showlegend": true,
         "type": "scatter3d",
         "x": [
          -0.45583227276802063
         ],
         "y": [
          0.3238963782787323
         ],
         "z": [
          0.018821105360984802
         ]
        },
        {
         "hovertemplate": "color=place<br>x=%{x}<br>y=%{y}<br>z=%{z}<extra></extra>",
         "legendgroup": "place",
         "marker": {
          "color": "#FECB52",
          "symbol": "circle"
         },
         "mode": "markers",
         "name": "place",
         "scene": "scene",
         "showlegend": true,
         "type": "scatter3d",
         "x": [
          -0.3533514440059662
         ],
         "y": [
          -0.38520514965057373
         ],
         "z": [
          0.013592876493930817
         ]
        },
        {
         "hovertemplate": "color=several<br>x=%{x}<br>y=%{y}<br>z=%{z}<extra></extra>",
         "legendgroup": "several",
         "marker": {
          "color": "#636efa",
          "symbol": "circle"
         },
         "mode": "markers",
         "name": "several",
         "scene": "scene",
         "showlegend": true,
         "type": "scatter3d",
         "x": [
          0.34909534454345703
         ],
         "y": [
          -0.4228992760181427
         ],
         "z": [
          -0.3433939218521118
         ]
        },
        {
         "hovertemplate": "color=fighters<br>x=%{x}<br>y=%{y}<br>z=%{z}<extra></extra>",
         "legendgroup": "fighters",
         "marker": {
          "color": "#EF553B",
          "symbol": "circle"
         },
         "mode": "markers",
         "name": "fighters",
         "scene": "scene",
         "showlegend": true,
         "type": "scatter3d",
         "x": [
          0.16416972875595093
         ],
         "y": [
          0.07844734936952591
         ],
         "z": [
          -0.5637906193733215
         ]
        },
        {
         "hovertemplate": "color=children<br>x=%{x}<br>y=%{y}<br>z=%{z}<extra></extra>",
         "legendgroup": "children",
         "marker": {
          "color": "#00cc96",
          "symbol": "circle"
         },
         "mode": "markers",
         "name": "children",
         "scene": "scene",
         "showlegend": true,
         "type": "scatter3d",
         "x": [
          -0.03204397112131119
         ],
         "y": [
          -0.47863730788230896
         ],
         "z": [
          -0.6052995920181274
         ]
        },
        {
         "hovertemplate": "color=arrested<br>x=%{x}<br>y=%{y}<br>z=%{z}<extra></extra>",
         "legendgroup": "arrested",
         "marker": {
          "color": "#ab63fa",
          "symbol": "circle"
         },
         "mode": "markers",
         "name": "arrested",
         "scene": "scene",
         "showlegend": true,
         "type": "scatter3d",
         "x": [
          0.361901193857193
         ],
         "y": [
          0.03274978697299957
         ],
         "z": [
          -0.4254094958305359
         ]
        },
        {
         "hovertemplate": "color=injured<br>x=%{x}<br>y=%{y}<br>z=%{z}<extra></extra>",
         "legendgroup": "injured",
         "marker": {
          "color": "#FFA15A",
          "symbol": "circle"
         },
         "mode": "markers",
         "name": "injured",
         "scene": "scene",
         "showlegend": true,
         "type": "scatter3d",
         "x": [
          0.3177599608898163
         ],
         "y": [
          -0.3359142243862152
         ],
         "z": [
          -0.6297340393066406
         ]
        },
        {
         "hovertemplate": "color=found<br>x=%{x}<br>y=%{y}<br>z=%{z}<extra></extra>",
         "legendgroup": "found",
         "marker": {
          "color": "#19d3f3",
          "symbol": "circle"
         },
         "mode": "markers",
         "name": "found",
         "scene": "scene",
         "showlegend": true,
         "type": "scatter3d",
         "x": [
          0.34606581926345825
         ],
         "y": [
          -0.3040980398654938
         ],
         "z": [
          -0.11794625222682953
         ]
        },
        {
         "hovertemplate": "color=river<br>x=%{x}<br>y=%{y}<br>z=%{z}<extra></extra>",
         "legendgroup": "river",
         "marker": {
          "color": "#FF6692",
          "symbol": "circle"
         },
         "mode": "markers",
         "name": "river",
         "scene": "scene",
         "showlegend": true,
         "type": "scatter3d",
         "x": [
          0.198024183511734
         ],
         "y": [
          -0.4855510890483856
         ],
         "z": [
          -0.29507166147232056
         ]
        },
        {
         "hovertemplate": "color=royal<br>x=%{x}<br>y=%{y}<br>z=%{z}<extra></extra>",
         "legendgroup": "royal",
         "marker": {
          "color": "#B6E880",
          "symbol": "circle"
         },
         "mode": "markers",
         "name": "royal",
         "scene": "scene",
         "showlegend": true,
         "type": "scatter3d",
         "x": [
          0.00830882415175438
         ],
         "y": [
          -0.08309875428676605
         ],
         "z": [
          0.5363397598266602
         ]
        },
        {
         "hovertemplate": "color=groups<br>x=%{x}<br>y=%{y}<br>z=%{z}<extra></extra>",
         "legendgroup": "groups",
         "marker": {
          "color": "#FF97FF",
          "symbol": "circle"
         },
         "mode": "markers",
         "name": "groups",
         "scene": "scene",
         "showlegend": true,
         "type": "scatter3d",
         "x": [
          0.6054487228393555
         ],
         "y": [
          0.23629751801490784
         ],
         "z": [
          -0.4191780090332031
         ]
        },
        {
         "hovertemplate": "color=africa<br>x=%{x}<br>y=%{y}<br>z=%{z}<extra></extra>",
         "legendgroup": "africa",
         "marker": {
          "color": "#FECB52",
          "symbol": "circle"
         },
         "mode": "markers",
         "name": "africa",
         "scene": "scene",
         "showlegend": true,
         "type": "scatter3d",
         "x": [
          0.03234319016337395
         ],
         "y": [
          -0.37551042437553406
         ],
         "z": [
          0.5141075849533081
         ]
        },
        {
         "hovertemplate": "color=unions<br>x=%{x}<br>y=%{y}<br>z=%{z}<extra></extra>",
         "legendgroup": "unions",
         "marker": {
          "color": "#636efa",
          "symbol": "circle"
         },
         "mode": "markers",
         "name": "unions",
         "scene": "scene",
         "showlegend": true,
         "type": "scatter3d",
         "x": [
          -0.5113168954849243
         ],
         "y": [
          0.0878492146730423
         ],
         "z": [
          0.09547264873981476
         ]
        },
        {
         "hovertemplate": "color=christmas<br>x=%{x}<br>y=%{y}<br>z=%{z}<extra></extra>",
         "legendgroup": "christmas",
         "marker": {
          "color": "#EF553B",
          "symbol": "circle"
         },
         "mode": "markers",
         "name": "christmas",
         "scene": "scene",
         "showlegend": true,
         "type": "scatter3d",
         "x": [
          0.04393225163221359
         ],
         "y": [
          -0.3959652781486511
         ],
         "z": [
          0.22981096804141998
         ]
        },
        {
         "hovertemplate": "color=troops<br>x=%{x}<br>y=%{y}<br>z=%{z}<extra></extra>",
         "legendgroup": "troops",
         "marker": {
          "color": "#00cc96",
          "symbol": "circle"
         },
         "mode": "markers",
         "name": "troops",
         "scene": "scene",
         "showlegend": true,
         "type": "scatter3d",
         "x": [
          0.5595327019691467
         ],
         "y": [
          0.20652684569358826
         ],
         "z": [
          0.05158396065235138
         ]
        },
        {
         "hovertemplate": "color=meanwhile<br>x=%{x}<br>y=%{y}<br>z=%{z}<extra></extra>",
         "legendgroup": "meanwhile",
         "marker": {
          "color": "#ab63fa",
          "symbol": "circle"
         },
         "mode": "markers",
         "name": "meanwhile",
         "scene": "scene",
         "showlegend": true,
         "type": "scatter3d",
         "x": [
          0.32562336325645447
         ],
         "y": [
          0.42756664752960205
         ],
         "z": [
          0.3420525789260864
         ]
        },
        {
         "hovertemplate": "color=indian<br>x=%{x}<br>y=%{y}<br>z=%{z}<extra></extra>",
         "legendgroup": "indian",
         "marker": {
          "color": "#FFA15A",
          "symbol": "circle"
         },
         "mode": "markers",
         "name": "indian",
         "scene": "scene",
         "showlegend": true,
         "type": "scatter3d",
         "x": [
          0.4659781754016876
         ],
         "y": [
          0.44384750723838806
         ],
         "z": [
          0.1462487429380417
         ]
        },
        {
         "hovertemplate": "color=child<br>x=%{x}<br>y=%{y}<br>z=%{z}<extra></extra>",
         "legendgroup": "child",
         "marker": {
          "color": "#19d3f3",
          "symbol": "circle"
         },
         "mode": "markers",
         "name": "child",
         "scene": "scene",
         "showlegend": true,
         "type": "scatter3d",
         "x": [
          0.03136833384633064
         ],
         "y": [
          -0.07208521664142609
         ],
         "z": [
          0.18124501407146454
         ]
        },
        {
         "hovertemplate": "color=hospital<br>x=%{x}<br>y=%{y}<br>z=%{z}<extra></extra>",
         "legendgroup": "hospital",
         "marker": {
          "color": "#FF6692",
          "symbol": "circle"
         },
         "mode": "markers",
         "name": "hospital",
         "scene": "scene",
         "showlegend": true,
         "type": "scatter3d",
         "x": [
          0.29717257618904114
         ],
         "y": [
          -0.32778021693229675
         ],
         "z": [
          -0.415882408618927
         ]
        },
        {
         "hovertemplate": "color=terrorist<br>x=%{x}<br>y=%{y}<br>z=%{z}<extra></extra>",
         "legendgroup": "terrorist",
         "marker": {
          "color": "#B6E880",
          "symbol": "circle"
         },
         "mode": "markers",
         "name": "terrorist",
         "scene": "scene",
         "showlegend": true,
         "type": "scatter3d",
         "x": [
          0.4812968969345093
         ],
         "y": [
          0.2751077115535736
         ],
         "z": [
          -0.15837372839450836
         ]
        },
        {
         "hovertemplate": "color=interim<br>x=%{x}<br>y=%{y}<br>z=%{z}<extra></extra>",
         "legendgroup": "interim",
         "marker": {
          "color": "#FF97FF",
          "symbol": "circle"
         },
         "mode": "markers",
         "name": "interim",
         "scene": "scene",
         "showlegend": true,
         "type": "scatter3d",
         "x": [
          0.21312564611434937
         ],
         "y": [
          0.550079345703125
         ],
         "z": [
          0.3368932008743286
         ]
        },
        {
         "hovertemplate": "color=part<br>x=%{x}<br>y=%{y}<br>z=%{z}<extra></extra>",
         "legendgroup": "part",
         "marker": {
          "color": "#FECB52",
          "symbol": "circle"
         },
         "mode": "markers",
         "name": "part",
         "scene": "scene",
         "showlegend": true,
         "type": "scatter3d",
         "x": [
          0.23286467790603638
         ],
         "y": [
          0.0021792687475681305
         ],
         "z": [
          0.2800220847129822
         ]
        },
        {
         "hovertemplate": "color=reports<br>x=%{x}<br>y=%{y}<br>z=%{z}<extra></extra>",
         "legendgroup": "reports",
         "marker": {
          "color": "#636efa",
          "symbol": "circle"
         },
         "mode": "markers",
         "name": "reports",
         "scene": "scene",
         "showlegend": true,
         "type": "scatter3d",
         "x": [
          -0.1755945384502411
         ],
         "y": [
          0.19739946722984314
         ],
         "z": [
          -0.5863808989524841
         ]
        },
        {
         "hovertemplate": "color=talks<br>x=%{x}<br>y=%{y}<br>z=%{z}<extra></extra>",
         "legendgroup": "talks",
         "marker": {
          "color": "#EF553B",
          "symbol": "circle"
         },
         "mode": "markers",
         "name": "talks",
         "scene": "scene",
         "showlegend": true,
         "type": "scatter3d",
         "x": [
          0.5071097016334534
         ],
         "y": [
          0.32155290246009827
         ],
         "z": [
          0.23327656090259552
         ]
        },
        {
         "hovertemplate": "color=official<br>x=%{x}<br>y=%{y}<br>z=%{z}<extra></extra>",
         "legendgroup": "official",
         "marker": {
          "color": "#00cc96",
          "symbol": "circle"
         },
         "mode": "markers",
         "name": "official",
         "scene": "scene",
         "showlegend": true,
         "type": "scatter3d",
         "x": [
          0.3403540551662445
         ],
         "y": [
          0.6496930122375488
         ],
         "z": [
          -0.3062514364719391
         ]
        },
        {
         "hovertemplate": "color=whether<br>x=%{x}<br>y=%{y}<br>z=%{z}<extra></extra>",
         "legendgroup": "whether",
         "marker": {
          "color": "#ab63fa",
          "symbol": "circle"
         },
         "mode": "markers",
         "name": "whether",
         "scene": "scene",
         "showlegend": true,
         "type": "scatter3d",
         "x": [
          -0.717017412185669
         ],
         "y": [
          0.2687867283821106
         ],
         "z": [
          -0.28473544120788574
         ]
        },
        {
         "hovertemplate": "color=then<br>x=%{x}<br>y=%{y}<br>z=%{z}<extra></extra>",
         "legendgroup": "then",
         "marker": {
          "color": "#FFA15A",
          "symbol": "circle"
         },
         "mode": "markers",
         "name": "then",
         "scene": "scene",
         "showlegend": true,
         "type": "scatter3d",
         "x": [
          0.13178037106990814
         ],
         "y": [
          0.03665950521826744
         ],
         "z": [
          -0.21056701242923737
         ]
        },
        {
         "hovertemplate": "color=yasser<br>x=%{x}<br>y=%{y}<br>z=%{z}<extra></extra>",
         "legendgroup": "yasser",
         "marker": {
          "color": "#19d3f3",
          "symbol": "circle"
         },
         "mode": "markers",
         "name": "yasser",
         "scene": "scene",
         "showlegend": true,
         "type": "scatter3d",
         "x": [
          0.32390841841697693
         ],
         "y": [
          0.5033649206161499
         ],
         "z": [
          -0.20679785311222076
         ]
        },
        {
         "hovertemplate": "color=statement<br>x=%{x}<br>y=%{y}<br>z=%{z}<extra></extra>",
         "legendgroup": "statement",
         "marker": {
          "color": "#FF6692",
          "symbol": "circle"
         },
         "mode": "markers",
         "name": "statement",
         "scene": "scene",
         "showlegend": true,
         "type": "scatter3d",
         "x": [
          0.2707235813140869
         ],
         "y": [
          0.6197202205657959
         ],
         "z": [
          -0.15774908661842346
         ]
        },
        {
         "hovertemplate": "color=leaders<br>x=%{x}<br>y=%{y}<br>z=%{z}<extra></extra>",
         "legendgroup": "leaders",
         "marker": {
          "color": "#B6E880",
          "symbol": "circle"
         },
         "mode": "markers",
         "name": "leaders",
         "scene": "scene",
         "showlegend": true,
         "type": "scatter3d",
         "x": [
          0.29095563292503357
         ],
         "y": [
          0.2497582882642746
         ],
         "z": [
          -0.3946802616119385
         ]
        },
        {
         "hovertemplate": "color=economy<br>x=%{x}<br>y=%{y}<br>z=%{z}<extra></extra>",
         "legendgroup": "economy",
         "marker": {
          "color": "#FF97FF",
          "symbol": "circle"
         },
         "mode": "markers",
         "name": "economy",
         "scene": "scene",
         "showlegend": true,
         "type": "scatter3d",
         "x": [
          0.008427735418081284
         ],
         "y": [
          0.08029107749462128
         ],
         "z": [
          0.3955436944961548
         ]
        },
        {
         "hovertemplate": "color=mountains<br>x=%{x}<br>y=%{y}<br>z=%{z}<extra></extra>",
         "legendgroup": "mountains",
         "marker": {
          "color": "#FECB52",
          "symbol": "circle"
         },
         "mode": "markers",
         "name": "mountains",
         "scene": "scene",
         "showlegend": true,
         "type": "scatter3d",
         "x": [
          0.28877851366996765
         ],
         "y": [
          -0.3154762387275696
         ],
         "z": [
          -0.10958757996559143
         ]
        },
        {
         "hovertemplate": "color=how<br>x=%{x}<br>y=%{y}<br>z=%{z}<extra></extra>",
         "legendgroup": "how",
         "marker": {
          "color": "#636efa",
          "symbol": "circle"
         },
         "mode": "markers",
         "name": "how",
         "scene": "scene",
         "showlegend": true,
         "type": "scatter3d",
         "x": [
          -0.6514699459075928
         ],
         "y": [
          0.1122521311044693
         ],
         "z": [
          -0.42981916666030884
         ]
        },
        {
         "hovertemplate": "color=industrial<br>x=%{x}<br>y=%{y}<br>z=%{z}<extra></extra>",
         "legendgroup": "industrial",
         "marker": {
          "color": "#EF553B",
          "symbol": "circle"
         },
         "mode": "markers",
         "name": "industrial",
         "scene": "scene",
         "showlegend": true,
         "type": "scatter3d",
         "x": [
          -0.2571980655193329
         ],
         "y": [
          -0.0630863606929779
         ],
         "z": [
          0.4290856719017029
         ]
        },
        {
         "hovertemplate": "color=third<br>x=%{x}<br>y=%{y}<br>z=%{z}<extra></extra>",
         "legendgroup": "third",
         "marker": {
          "color": "#00cc96",
          "symbol": "circle"
         },
         "mode": "markers",
         "name": "third",
         "scene": "scene",
         "showlegend": true,
         "type": "scatter3d",
         "x": [
          0.34113410115242004
         ],
         "y": [
          -0.35904812812805176
         ],
         "z": [
          0.5108993649482727
         ]
        },
        {
         "hovertemplate": "color=terrorism<br>x=%{x}<br>y=%{y}<br>z=%{z}<extra></extra>",
         "legendgroup": "terrorism",
         "marker": {
          "color": "#ab63fa",
          "symbol": "circle"
         },
         "mode": "markers",
         "name": "terrorism",
         "scene": "scene",
         "showlegend": true,
         "type": "scatter3d",
         "x": [
          0.3021866977214813
         ],
         "y": [
          0.5062333345413208
         ],
         "z": [
          0.043744832277297974
         ]
        },
        {
         "hovertemplate": "color=senior<br>x=%{x}<br>y=%{y}<br>z=%{z}<extra></extra>",
         "legendgroup": "senior",
         "marker": {
          "color": "#FFA15A",
          "symbol": "circle"
         },
         "mode": "markers",
         "name": "senior",
         "scene": "scene",
         "showlegend": true,
         "type": "scatter3d",
         "x": [
          0.1783919334411621
         ],
         "y": [
          0.5137866735458374
         ],
         "z": [
          -0.5801985859870911
         ]
        },
        {
         "hovertemplate": "color=start<br>x=%{x}<br>y=%{y}<br>z=%{z}<extra></extra>",
         "legendgroup": "start",
         "marker": {
          "color": "#19d3f3",
          "symbol": "circle"
         },
         "mode": "markers",
         "name": "start",
         "scene": "scene",
         "showlegend": true,
         "type": "scatter3d",
         "x": [
          -0.28740665316581726
         ],
         "y": [
          -0.282086044549942
         ],
         "z": [
          0.5102422833442688
         ]
        },
        {
         "hovertemplate": "color=don<br>x=%{x}<br>y=%{y}<br>z=%{z}<extra></extra>",
         "legendgroup": "don",
         "marker": {
          "color": "#FF6692",
          "symbol": "circle"
         },
         "mode": "markers",
         "name": "don",
         "scene": "scene",
         "showlegend": true,
         "type": "scatter3d",
         "x": [
          -0.7127150297164917
         ],
         "y": [
          -0.06718207895755768
         ],
         "z": [
          -0.3172560930252075
         ]
        },
        {
         "hovertemplate": "color=early<br>x=%{x}<br>y=%{y}<br>z=%{z}<extra></extra>",
         "legendgroup": "early",
         "marker": {
          "color": "#B6E880",
          "symbol": "circle"
         },
         "mode": "markers",
         "name": "early",
         "scene": "scene",
         "showlegend": true,
         "type": "scatter3d",
         "x": [
          0.026061350479722023
         ],
         "y": [
          -0.34930387139320374
         ],
         "z": [
          0.24899743497371674
         ]
        },
        {
         "hovertemplate": "color=radio<br>x=%{x}<br>y=%{y}<br>z=%{z}<extra></extra>",
         "legendgroup": "radio",
         "marker": {
          "color": "#FF97FF",
          "symbol": "circle"
         },
         "mode": "markers",
         "name": "radio",
         "scene": "scene",
         "showlegend": true,
         "type": "scatter3d",
         "x": [
          0.4775386154651642
         ],
         "y": [
          0.3355543315410614
         ],
         "z": [
          -0.02661745250225067
         ]
        },
        {
         "hovertemplate": "color=john<br>x=%{x}<br>y=%{y}<br>z=%{z}<extra></extra>",
         "legendgroup": "john",
         "marker": {
          "color": "#FECB52",
          "symbol": "circle"
         },
         "mode": "markers",
         "name": "john",
         "scene": "scene",
         "showlegend": true,
         "type": "scatter3d",
         "x": [
          -0.07172230631113052
         ],
         "y": [
          0.5307619571685791
         ],
         "z": [
          0.39364033937454224
         ]
        },
        {
         "hovertemplate": "color=hit<br>x=%{x}<br>y=%{y}<br>z=%{z}<extra></extra>",
         "legendgroup": "hit",
         "marker": {
          "color": "#636efa",
          "symbol": "circle"
         },
         "mode": "markers",
         "name": "hit",
         "scene": "scene",
         "showlegend": true,
         "type": "scatter3d",
         "x": [
          0.2790030539035797
         ],
         "y": [
          -0.31227657198905945
         ],
         "z": [
          -0.26322609186172485
         ]
        },
        {
         "hovertemplate": "color=trying<br>x=%{x}<br>y=%{y}<br>z=%{z}<extra></extra>",
         "legendgroup": "trying",
         "marker": {
          "color": "#EF553B",
          "symbol": "circle"
         },
         "mode": "markers",
         "name": "trying",
         "scene": "scene",
         "showlegend": true,
         "type": "scatter3d",
         "x": [
          -0.05935189872980118
         ],
         "y": [
          0.4786495864391327
         ],
         "z": [
          -0.44217467308044434
         ]
        },
        {
         "hovertemplate": "color=weather<br>x=%{x}<br>y=%{y}<br>z=%{z}<extra></extra>",
         "legendgroup": "weather",
         "marker": {
          "color": "#00cc96",
          "symbol": "circle"
         },
         "mode": "markers",
         "name": "weather",
         "scene": "scene",
         "showlegend": true,
         "type": "scatter3d",
         "x": [
          -0.48573723435401917
         ],
         "y": [
          -0.4195198714733124
         ],
         "z": [
          0.12491680681705475
         ]
        },
        {
         "hovertemplate": "color=public<br>x=%{x}<br>y=%{y}<br>z=%{z}<extra></extra>",
         "legendgroup": "public",
         "marker": {
          "color": "#ab63fa",
          "symbol": "circle"
         },
         "mode": "markers",
         "name": "public",
         "scene": "scene",
         "showlegend": true,
         "type": "scatter3d",
         "x": [
          -0.1995614469051361
         ],
         "y": [
          0.2533718943595886
         ],
         "z": [
          0.17132122814655304
         ]
        },
        {
         "hovertemplate": "color=both<br>x=%{x}<br>y=%{y}<br>z=%{z}<extra></extra>",
         "legendgroup": "both",
         "marker": {
          "color": "#FFA15A",
          "symbol": "circle"
         },
         "mode": "markers",
         "name": "both",
         "scene": "scene",
         "showlegend": true,
         "type": "scatter3d",
         "x": [
          0.12519371509552002
         ],
         "y": [
          0.17994287610054016
         ],
         "z": [
          0.10795608162879944
         ]
        },
        {
         "hovertemplate": "color=believe<br>x=%{x}<br>y=%{y}<br>z=%{z}<extra></extra>",
         "legendgroup": "believe",
         "marker": {
          "color": "#19d3f3",
          "symbol": "circle"
         },
         "mode": "markers",
         "name": "believe",
         "scene": "scene",
         "showlegend": true,
         "type": "scatter3d",
         "x": [
          -0.619269073009491
         ],
         "y": [
          0.1195652186870575
         ],
         "z": [
          -0.5058430433273315
         ]
        },
        {
         "hovertemplate": "color=family<br>x=%{x}<br>y=%{y}<br>z=%{z}<extra></extra>",
         "legendgroup": "family",
         "marker": {
          "color": "#FF6692",
          "symbol": "circle"
         },
         "mode": "markers",
         "name": "family",
         "scene": "scene",
         "showlegend": true,
         "type": "scatter3d",
         "x": [
          -0.28127753734588623
         ],
         "y": [
          -0.11552923917770386
         ],
         "z": [
          -0.3280677795410156
         ]
        },
        {
         "hovertemplate": "color=pay<br>x=%{x}<br>y=%{y}<br>z=%{z}<extra></extra>",
         "legendgroup": "pay",
         "marker": {
          "color": "#B6E880",
          "symbol": "circle"
         },
         "mode": "markers",
         "name": "pay",
         "scene": "scene",
         "showlegend": true,
         "type": "scatter3d",
         "x": [
          -0.545830249786377
         ],
         "y": [
          -0.3223159611225128
         ],
         "z": [
          -0.01168426126241684
         ]
        },
        {
         "hovertemplate": "color=million<br>x=%{x}<br>y=%{y}<br>z=%{z}<extra></extra>",
         "legendgroup": "million",
         "marker": {
          "color": "#FF97FF",
          "symbol": "circle"
         },
         "mode": "markers",
         "name": "million",
         "scene": "scene",
         "showlegend": true,
         "type": "scatter3d",
         "x": [
          0.020273374393582344
         ],
         "y": [
          -0.5622157454490662
         ],
         "z": [
          -0.04378649592399597
         ]
        },
        {
         "hovertemplate": "color=army<br>x=%{x}<br>y=%{y}<br>z=%{z}<extra></extra>",
         "legendgroup": "army",
         "marker": {
          "color": "#FECB52",
          "symbol": "circle"
         },
         "mode": "markers",
         "name": "army",
         "scene": "scene",
         "showlegend": true,
         "type": "scatter3d",
         "x": [
          0.578313946723938
         ],
         "y": [
          0.4204699695110321
         ],
         "z": [
          -0.2695534825325012
         ]
        }
       ],
       "layout": {
        "legend": {
         "title": {
          "text": "color"
         },
         "tracegroupgap": 0
        },
        "margin": {
         "t": 60
        },
        "scene": {
         "domain": {
          "x": [
           0,
           1
          ],
          "y": [
           0,
           1
          ]
         },
         "xaxis": {
          "title": {
           "text": "x"
          }
         },
         "yaxis": {
          "title": {
           "text": "y"
          }
         },
         "zaxis": {
          "title": {
           "text": "z"
          }
         }
        },
        "template": {
         "data": {
          "bar": [
           {
            "error_x": {
             "color": "#2a3f5f"
            },
            "error_y": {
             "color": "#2a3f5f"
            },
            "marker": {
             "line": {
              "color": "#E5ECF6",
              "width": 0.5
             },
             "pattern": {
              "fillmode": "overlay",
              "size": 10,
              "solidity": 0.2
             }
            },
            "type": "bar"
           }
          ],
          "barpolar": [
           {
            "marker": {
             "line": {
              "color": "#E5ECF6",
              "width": 0.5
             },
             "pattern": {
              "fillmode": "overlay",
              "size": 10,
              "solidity": 0.2
             }
            },
            "type": "barpolar"
           }
          ],
          "carpet": [
           {
            "aaxis": {
             "endlinecolor": "#2a3f5f",
             "gridcolor": "white",
             "linecolor": "white",
             "minorgridcolor": "white",
             "startlinecolor": "#2a3f5f"
            },
            "baxis": {
             "endlinecolor": "#2a3f5f",
             "gridcolor": "white",
             "linecolor": "white",
             "minorgridcolor": "white",
             "startlinecolor": "#2a3f5f"
            },
            "type": "carpet"
           }
          ],
          "choropleth": [
           {
            "colorbar": {
             "outlinewidth": 0,
             "ticks": ""
            },
            "type": "choropleth"
           }
          ],
          "contour": [
           {
            "colorbar": {
             "outlinewidth": 0,
             "ticks": ""
            },
            "colorscale": [
             [
              0,
              "#0d0887"
             ],
             [
              0.1111111111111111,
              "#46039f"
             ],
             [
              0.2222222222222222,
              "#7201a8"
             ],
             [
              0.3333333333333333,
              "#9c179e"
             ],
             [
              0.4444444444444444,
              "#bd3786"
             ],
             [
              0.5555555555555556,
              "#d8576b"
             ],
             [
              0.6666666666666666,
              "#ed7953"
             ],
             [
              0.7777777777777778,
              "#fb9f3a"
             ],
             [
              0.8888888888888888,
              "#fdca26"
             ],
             [
              1,
              "#f0f921"
             ]
            ],
            "type": "contour"
           }
          ],
          "contourcarpet": [
           {
            "colorbar": {
             "outlinewidth": 0,
             "ticks": ""
            },
            "type": "contourcarpet"
           }
          ],
          "heatmap": [
           {
            "colorbar": {
             "outlinewidth": 0,
             "ticks": ""
            },
            "colorscale": [
             [
              0,
              "#0d0887"
             ],
             [
              0.1111111111111111,
              "#46039f"
             ],
             [
              0.2222222222222222,
              "#7201a8"
             ],
             [
              0.3333333333333333,
              "#9c179e"
             ],
             [
              0.4444444444444444,
              "#bd3786"
             ],
             [
              0.5555555555555556,
              "#d8576b"
             ],
             [
              0.6666666666666666,
              "#ed7953"
             ],
             [
              0.7777777777777778,
              "#fb9f3a"
             ],
             [
              0.8888888888888888,
              "#fdca26"
             ],
             [
              1,
              "#f0f921"
             ]
            ],
            "type": "heatmap"
           }
          ],
          "heatmapgl": [
           {
            "colorbar": {
             "outlinewidth": 0,
             "ticks": ""
            },
            "colorscale": [
             [
              0,
              "#0d0887"
             ],
             [
              0.1111111111111111,
              "#46039f"
             ],
             [
              0.2222222222222222,
              "#7201a8"
             ],
             [
              0.3333333333333333,
              "#9c179e"
             ],
             [
              0.4444444444444444,
              "#bd3786"
             ],
             [
              0.5555555555555556,
              "#d8576b"
             ],
             [
              0.6666666666666666,
              "#ed7953"
             ],
             [
              0.7777777777777778,
              "#fb9f3a"
             ],
             [
              0.8888888888888888,
              "#fdca26"
             ],
             [
              1,
              "#f0f921"
             ]
            ],
            "type": "heatmapgl"
           }
          ],
          "histogram": [
           {
            "marker": {
             "pattern": {
              "fillmode": "overlay",
              "size": 10,
              "solidity": 0.2
             }
            },
            "type": "histogram"
           }
          ],
          "histogram2d": [
           {
            "colorbar": {
             "outlinewidth": 0,
             "ticks": ""
            },
            "colorscale": [
             [
              0,
              "#0d0887"
             ],
             [
              0.1111111111111111,
              "#46039f"
             ],
             [
              0.2222222222222222,
              "#7201a8"
             ],
             [
              0.3333333333333333,
              "#9c179e"
             ],
             [
              0.4444444444444444,
              "#bd3786"
             ],
             [
              0.5555555555555556,
              "#d8576b"
             ],
             [
              0.6666666666666666,
              "#ed7953"
             ],
             [
              0.7777777777777778,
              "#fb9f3a"
             ],
             [
              0.8888888888888888,
              "#fdca26"
             ],
             [
              1,
              "#f0f921"
             ]
            ],
            "type": "histogram2d"
           }
          ],
          "histogram2dcontour": [
           {
            "colorbar": {
             "outlinewidth": 0,
             "ticks": ""
            },
            "colorscale": [
             [
              0,
              "#0d0887"
             ],
             [
              0.1111111111111111,
              "#46039f"
             ],
             [
              0.2222222222222222,
              "#7201a8"
             ],
             [
              0.3333333333333333,
              "#9c179e"
             ],
             [
              0.4444444444444444,
              "#bd3786"
             ],
             [
              0.5555555555555556,
              "#d8576b"
             ],
             [
              0.6666666666666666,
              "#ed7953"
             ],
             [
              0.7777777777777778,
              "#fb9f3a"
             ],
             [
              0.8888888888888888,
              "#fdca26"
             ],
             [
              1,
              "#f0f921"
             ]
            ],
            "type": "histogram2dcontour"
           }
          ],
          "mesh3d": [
           {
            "colorbar": {
             "outlinewidth": 0,
             "ticks": ""
            },
            "type": "mesh3d"
           }
          ],
          "parcoords": [
           {
            "line": {
             "colorbar": {
              "outlinewidth": 0,
              "ticks": ""
             }
            },
            "type": "parcoords"
           }
          ],
          "pie": [
           {
            "automargin": true,
            "type": "pie"
           }
          ],
          "scatter": [
           {
            "fillpattern": {
             "fillmode": "overlay",
             "size": 10,
             "solidity": 0.2
            },
            "type": "scatter"
           }
          ],
          "scatter3d": [
           {
            "line": {
             "colorbar": {
              "outlinewidth": 0,
              "ticks": ""
             }
            },
            "marker": {
             "colorbar": {
              "outlinewidth": 0,
              "ticks": ""
             }
            },
            "type": "scatter3d"
           }
          ],
          "scattercarpet": [
           {
            "marker": {
             "colorbar": {
              "outlinewidth": 0,
              "ticks": ""
             }
            },
            "type": "scattercarpet"
           }
          ],
          "scattergeo": [
           {
            "marker": {
             "colorbar": {
              "outlinewidth": 0,
              "ticks": ""
             }
            },
            "type": "scattergeo"
           }
          ],
          "scattergl": [
           {
            "marker": {
             "colorbar": {
              "outlinewidth": 0,
              "ticks": ""
             }
            },
            "type": "scattergl"
           }
          ],
          "scattermapbox": [
           {
            "marker": {
             "colorbar": {
              "outlinewidth": 0,
              "ticks": ""
             }
            },
            "type": "scattermapbox"
           }
          ],
          "scatterpolar": [
           {
            "marker": {
             "colorbar": {
              "outlinewidth": 0,
              "ticks": ""
             }
            },
            "type": "scatterpolar"
           }
          ],
          "scatterpolargl": [
           {
            "marker": {
             "colorbar": {
              "outlinewidth": 0,
              "ticks": ""
             }
            },
            "type": "scatterpolargl"
           }
          ],
          "scatterternary": [
           {
            "marker": {
             "colorbar": {
              "outlinewidth": 0,
              "ticks": ""
             }
            },
            "type": "scatterternary"
           }
          ],
          "surface": [
           {
            "colorbar": {
             "outlinewidth": 0,
             "ticks": ""
            },
            "colorscale": [
             [
              0,
              "#0d0887"
             ],
             [
              0.1111111111111111,
              "#46039f"
             ],
             [
              0.2222222222222222,
              "#7201a8"
             ],
             [
              0.3333333333333333,
              "#9c179e"
             ],
             [
              0.4444444444444444,
              "#bd3786"
             ],
             [
              0.5555555555555556,
              "#d8576b"
             ],
             [
              0.6666666666666666,
              "#ed7953"
             ],
             [
              0.7777777777777778,
              "#fb9f3a"
             ],
             [
              0.8888888888888888,
              "#fdca26"
             ],
             [
              1,
              "#f0f921"
             ]
            ],
            "type": "surface"
           }
          ],
          "table": [
           {
            "cells": {
             "fill": {
              "color": "#EBF0F8"
             },
             "line": {
              "color": "white"
             }
            },
            "header": {
             "fill": {
              "color": "#C8D4E3"
             },
             "line": {
              "color": "white"
             }
            },
            "type": "table"
           }
          ]
         },
         "layout": {
          "annotationdefaults": {
           "arrowcolor": "#2a3f5f",
           "arrowhead": 0,
           "arrowwidth": 1
          },
          "autotypenumbers": "strict",
          "coloraxis": {
           "colorbar": {
            "outlinewidth": 0,
            "ticks": ""
           }
          },
          "colorscale": {
           "diverging": [
            [
             0,
             "#8e0152"
            ],
            [
             0.1,
             "#c51b7d"
            ],
            [
             0.2,
             "#de77ae"
            ],
            [
             0.3,
             "#f1b6da"
            ],
            [
             0.4,
             "#fde0ef"
            ],
            [
             0.5,
             "#f7f7f7"
            ],
            [
             0.6,
             "#e6f5d0"
            ],
            [
             0.7,
             "#b8e186"
            ],
            [
             0.8,
             "#7fbc41"
            ],
            [
             0.9,
             "#4d9221"
            ],
            [
             1,
             "#276419"
            ]
           ],
           "sequential": [
            [
             0,
             "#0d0887"
            ],
            [
             0.1111111111111111,
             "#46039f"
            ],
            [
             0.2222222222222222,
             "#7201a8"
            ],
            [
             0.3333333333333333,
             "#9c179e"
            ],
            [
             0.4444444444444444,
             "#bd3786"
            ],
            [
             0.5555555555555556,
             "#d8576b"
            ],
            [
             0.6666666666666666,
             "#ed7953"
            ],
            [
             0.7777777777777778,
             "#fb9f3a"
            ],
            [
             0.8888888888888888,
             "#fdca26"
            ],
            [
             1,
             "#f0f921"
            ]
           ],
           "sequentialminus": [
            [
             0,
             "#0d0887"
            ],
            [
             0.1111111111111111,
             "#46039f"
            ],
            [
             0.2222222222222222,
             "#7201a8"
            ],
            [
             0.3333333333333333,
             "#9c179e"
            ],
            [
             0.4444444444444444,
             "#bd3786"
            ],
            [
             0.5555555555555556,
             "#d8576b"
            ],
            [
             0.6666666666666666,
             "#ed7953"
            ],
            [
             0.7777777777777778,
             "#fb9f3a"
            ],
            [
             0.8888888888888888,
             "#fdca26"
            ],
            [
             1,
             "#f0f921"
            ]
           ]
          },
          "colorway": [
           "#636efa",
           "#EF553B",
           "#00cc96",
           "#ab63fa",
           "#FFA15A",
           "#19d3f3",
           "#FF6692",
           "#B6E880",
           "#FF97FF",
           "#FECB52"
          ],
          "font": {
           "color": "#2a3f5f"
          },
          "geo": {
           "bgcolor": "white",
           "lakecolor": "white",
           "landcolor": "#E5ECF6",
           "showlakes": true,
           "showland": true,
           "subunitcolor": "white"
          },
          "hoverlabel": {
           "align": "left"
          },
          "hovermode": "closest",
          "mapbox": {
           "style": "light"
          },
          "paper_bgcolor": "white",
          "plot_bgcolor": "#E5ECF6",
          "polar": {
           "angularaxis": {
            "gridcolor": "white",
            "linecolor": "white",
            "ticks": ""
           },
           "bgcolor": "#E5ECF6",
           "radialaxis": {
            "gridcolor": "white",
            "linecolor": "white",
            "ticks": ""
           }
          },
          "scene": {
           "xaxis": {
            "backgroundcolor": "#E5ECF6",
            "gridcolor": "white",
            "gridwidth": 2,
            "linecolor": "white",
            "showbackground": true,
            "ticks": "",
            "zerolinecolor": "white"
           },
           "yaxis": {
            "backgroundcolor": "#E5ECF6",
            "gridcolor": "white",
            "gridwidth": 2,
            "linecolor": "white",
            "showbackground": true,
            "ticks": "",
            "zerolinecolor": "white"
           },
           "zaxis": {
            "backgroundcolor": "#E5ECF6",
            "gridcolor": "white",
            "gridwidth": 2,
            "linecolor": "white",
            "showbackground": true,
            "ticks": "",
            "zerolinecolor": "white"
           }
          },
          "shapedefaults": {
           "line": {
            "color": "#2a3f5f"
           }
          },
          "ternary": {
           "aaxis": {
            "gridcolor": "white",
            "linecolor": "white",
            "ticks": ""
           },
           "baxis": {
            "gridcolor": "white",
            "linecolor": "white",
            "ticks": ""
           },
           "bgcolor": "#E5ECF6",
           "caxis": {
            "gridcolor": "white",
            "linecolor": "white",
            "ticks": ""
           }
          },
          "title": {
           "x": 0.05
          },
          "xaxis": {
           "automargin": true,
           "gridcolor": "white",
           "linecolor": "white",
           "ticks": "",
           "title": {
            "standoff": 15
           },
           "zerolinecolor": "white",
           "zerolinewidth": 2
          },
          "yaxis": {
           "automargin": true,
           "gridcolor": "white",
           "linecolor": "white",
           "ticks": "",
           "title": {
            "standoff": 15
           },
           "zerolinecolor": "white",
           "zerolinewidth": 2
          }
         }
        }
       }
      }
     },
     "metadata": {},
     "output_type": "display_data"
    }
   ],
   "source": [
    "# graph 3d projection in Plotly\n",
    "X_subset = X[100:300]\n",
    "y_subset = y[100:300]\n",
    "\n",
    "df = pd.DataFrame(X_subset, columns=['x', 'y', 'z'])\n",
    "\n",
    "fig = px.scatter_3d(df, x='x', y='y', z='z', color=y_subset)\n",
    "fig.show()"
   ]
  },
  {
   "cell_type": "markdown",
   "id": "8e630a9f-d4ba-4db3-83a0-6fda1d36007a",
   "metadata": {},
   "source": [
    "Możemy zauważyć, że np. słowa *national* oraz *state* są blisko siebie na rzucie w przestrzeni trzywymiarowej."
   ]
  },
  {
   "cell_type": "code",
   "execution_count": 80,
   "id": "5289c2e1-6153-4153-9e8b-8d24bf28baff",
   "metadata": {},
   "outputs": [
    {
     "data": {
      "text/plain": [
       "0.7727338"
      ]
     },
     "execution_count": 80,
     "metadata": {},
     "output_type": "execute_result"
    }
   ],
   "source": [
    "# similarity between national and state\n",
    "model.wv.similarity('national', 'state') "
   ]
  },
  {
   "cell_type": "markdown",
   "id": "c3f6fcce-c48b-425b-850c-60c78f222050",
   "metadata": {},
   "source": [
    "## GloVe\n",
    "\n",
    "Dokumentacja: https://nlp.stanford.edu/projects/glove/"
   ]
  },
  {
   "cell_type": "markdown",
   "id": "5d053ff2-2ea6-4eec-aa03-4eb495dba45d",
   "metadata": {},
   "source": [
    "<div class=\"alert alert-block alert-success\">\n",
    "<b>Definicja</b>\n",
    "    \n",
    "<b>Fine-tuning</b> jest procesem dalszego trenowania modelu na mniejszych, bardziej specyficznych zbiorach danych. Fine-tuning modelu może okazać się dobrym pomysłem, kiedy nasz zbiór danych jest zbyt mały, aby model wytrenować tylko na tych danych, lub kiedy słowa z danego zbioru danych nie występują we wstępnie wytrenowanym już modelu, ponieważ dotyczą np. specjalistycznego słownictwa.\n",
    "\n",
    "Jak zrobić fine-tuning na wytrenowanym modelu GloVe można przeczytać w tym artykule: https://towardsdatascience.com/fine-tune-glove-embeddings-using-mittens-89b5f3fe4c39\n",
    "</div>"
   ]
  },
  {
   "cell_type": "markdown",
   "id": "73a287b3-1529-4cc2-b7bb-a8e09960c6ec",
   "metadata": {},
   "source": [
    "<div class=\"alert alert-block alert-info\">\n",
    "<b>Info</b>\n",
    "    \n",
    "Word2Vec (CBOW i Skip-gram) uczy się reprezentacji słów, predykując słowa w kontekście lub kontekst na podstawie słów, korzystając z lokalnych statystyk (sąsiedztwa słów) w korpusie.\n",
    "GloVe (Global Vectors) bazuje na globalnych statystykach współwystępowania słów, budując macierz współwystępowania (co-occurence matrix) i optymalizując wektory, by oddawały te relacje w skali całego korpusu.\n",
    "\n",
    "</div>"
   ]
  },
  {
   "cell_type": "markdown",
   "id": "2f60ab55-ba5e-4527-8c53-e8ca47372cb5",
   "metadata": {},
   "source": [
    "<div class=\"alert alert-block alert-success\">\n",
    "<b>Definicja</b>\n",
    "\n",
    "<b> Macierz współwystępowania</b>, oznaczana jako $X$, jest tworzona na podstawie danego korpusu tekstowego oraz słownika. Wartość $X_{ij}$ oznacza liczę razy, kiedy słowo $j$ występuje w oknie kontekstowym słowa $i$. Sumując wszystkie elementy w wierszu $i$, uzyskujemy łączną liczbę słów, które pojawiają się w kontekście danego słowa, co zapisujemy jako $X_i = \\sum_k X_{ik}$. W związku z tym, prawdopodobieństwo wystąpienia słowa $j$ w kontekście słowa $i$ można obliczyć za pomocą następującego wzoru:\n",
    "\n",
    "$$\n",
    "P(i|j) = \\frac{X_{ij}}{X_i}\n",
    "$$\n",
    "\n",
    "</div>\n",
    "<div class=\"alert alert-block alert-success\">\n",
    "<b>Definicja</b>\n",
    "\n",
    "<b>Rozmiar okna</b> to maksymalne przesunięcie kontekstu, w obrębie którego słowa muszą być przewidywane. Na przykład, gdy rozmiar okna wynosi 2, model będzie przewidywał słowa w kontekście lokalizacji (t-2), (t-1), (t+1) oraz (t+2). Wybór rozmiaru okna ma istotny wpływ na jakość wyuczonych wektorów słów. Mniejszy rozmiar okna sprzyja lepszemu zrozumieniu syntaktycznych ról słów, podczas gdy większy rozmiar okna pozwala modelowi na uchwycenie szerszego kontekstu semantycznego.\n",
    "</div>\n",
    "\n",
    "`rozmiar okna = 1`\n",
    "\n",
    "<!-- <img src=\"coocurrencematrix.png\" alt=\"image\" width=\"800\"/>\n",
    " -->\n",
    "![media](coocurrencematrix.png)\n",
    "\n",
    "Źródło: https://jramkiss.github.io/2019/08/21/word-embeddings/\n",
    "\n"
   ]
  },
  {
   "cell_type": "markdown",
   "id": "a78039cf-1604-48bc-ae33-51c2df72c31b",
   "metadata": {},
   "source": [
    "# Biblioteka transformers"
   ]
  },
  {
   "cell_type": "markdown",
   "id": "50b16406-23b6-413c-9f04-9a8928104907",
   "metadata": {},
   "source": [
    "<div class=\"alert alert-block alert-info\">\n",
    "<b>Info</b>\n",
    "    \n",
    "Biblioteka Transformers to narzędzie stworzone przez firmę `Hugging Face`, które umożliwia łatwy dostęp do zaawansowanych modeli opartych na architekturze transformerów, zwłaszcza w dziedzinach przetwarzania języka naturalnego (NLP). Wykorzystuje modele, takie jak <b>BERT, GPT-2, RoBERTa, T5</b>, i wiele innych, które osiągają świetne wyniki w zadaniach takich jak tłumaczenie tekstów, generowanie tekstów, analiza sentymentu, odpowiadanie na pytania czy klasyfikacja tekstów. Modele dostępne w bibliotece są wytrenowane na dużych zbiorach danych, ale można je dostosować do specyficznych zadań lub danych poprzez fine-tuning.\n",
    "\n",
    "</div>\n",
    "\n",
    "<div class=\"alert alert-block alert-success\">\n",
    "<b>Definicja</b>\n",
    "\n",
    "Czym są transformery?\n",
    "    \n",
    "Model transformer po raz pierwszy został przedstawiony w artykule *Attention is All You Need* w 2017 roku (https://arxiv.org/abs/1706.03762) i zrewolucjonizował NLP. Zasada działania opiera się na mechanizmie uwagi (attention), który pozwala modelowi skupiać się na istotnych fragmentach sekwencji wejściowej. Dzięki temu transformery potrafią lepiej uchwycić zależności między słowami w zdaniu, niezależnie od ich odległości.\n",
    "\n",
    "</div>"
   ]
  },
  {
   "cell_type": "markdown",
   "id": "5b205e4c-b239-4511-95d5-a4fe1c439161",
   "metadata": {},
   "source": [
    "Dokumentacja: https://huggingface.co/docs/transformers/index\n",
    "\n",
    "Poniższy model: https://huggingface.co/BAAI/bge-base-en-v1.5"
   ]
  },
  {
   "cell_type": "code",
   "execution_count": 81,
   "id": "0fdad0ce-d3a4-4564-88f0-13a3ed193708",
   "metadata": {},
   "outputs": [
    {
     "data": {
      "application/vnd.jupyter.widget-view+json": {
       "model_id": "7dc6e93d35eb48b18a67b989bac37890",
       "version_major": 2,
       "version_minor": 0
      },
      "text/plain": [
       "tokenizer_config.json:   0%|          | 0.00/394 [00:00<?, ?B/s]"
      ]
     },
     "metadata": {},
     "output_type": "display_data"
    },
    {
     "name": "stderr",
     "output_type": "stream",
     "text": [
      "c:\\Users\\knajmajer\\.conda\\envs\\jbook\\Lib\\site-packages\\huggingface_hub\\file_download.py:159: UserWarning:\n",
      "\n",
      "`huggingface_hub` cache-system uses symlinks by default to efficiently store duplicated files but your machine does not support them in C:\\Users\\knajmajer\\.cache\\huggingface\\hub\\models--BAAI--bge-large-zh-v1.5. Caching files will still work but in a degraded version that might require more space on your disk. This warning can be disabled by setting the `HF_HUB_DISABLE_SYMLINKS_WARNING` environment variable. For more details, see https://huggingface.co/docs/huggingface_hub/how-to-cache#limitations.\n",
      "To support symlinks on Windows, you either need to activate Developer Mode or to run Python as an administrator. In order to see activate developer mode, see this article: https://docs.microsoft.com/en-us/windows/apps/get-started/enable-your-device-for-development\n",
      "\n"
     ]
    },
    {
     "data": {
      "application/vnd.jupyter.widget-view+json": {
       "model_id": "94aa60f2627b4477adde73dd6079fcb9",
       "version_major": 2,
       "version_minor": 0
      },
      "text/plain": [
       "vocab.txt:   0%|          | 0.00/110k [00:00<?, ?B/s]"
      ]
     },
     "metadata": {},
     "output_type": "display_data"
    },
    {
     "data": {
      "application/vnd.jupyter.widget-view+json": {
       "model_id": "b7da21cbda0f46be89538e7351a1eaeb",
       "version_major": 2,
       "version_minor": 0
      },
      "text/plain": [
       "tokenizer.json:   0%|          | 0.00/439k [00:00<?, ?B/s]"
      ]
     },
     "metadata": {},
     "output_type": "display_data"
    },
    {
     "data": {
      "application/vnd.jupyter.widget-view+json": {
       "model_id": "96df1199d57642a9b48c97b49ba04343",
       "version_major": 2,
       "version_minor": 0
      },
      "text/plain": [
       "special_tokens_map.json:   0%|          | 0.00/125 [00:00<?, ?B/s]"
      ]
     },
     "metadata": {},
     "output_type": "display_data"
    },
    {
     "data": {
      "application/vnd.jupyter.widget-view+json": {
       "model_id": "061cfee2ccb34e2ba4819d9234f519fa",
       "version_major": 2,
       "version_minor": 0
      },
      "text/plain": [
       "config.json:   0%|          | 0.00/1.00k [00:00<?, ?B/s]"
      ]
     },
     "metadata": {},
     "output_type": "display_data"
    },
    {
     "data": {
      "application/vnd.jupyter.widget-view+json": {
       "model_id": "27436f091ab04dc9925a8d58c5e8ecab",
       "version_major": 2,
       "version_minor": 0
      },
      "text/plain": [
       "pytorch_model.bin:   0%|          | 0.00/1.30G [00:00<?, ?B/s]"
      ]
     },
     "metadata": {},
     "output_type": "display_data"
    },
    {
     "name": "stderr",
     "output_type": "stream",
     "text": [
      "Asking to truncate to max_length but no maximum length is provided and the model has no predefined maximum length. Default to no truncation.\n"
     ]
    },
    {
     "name": "stdout",
     "output_type": "stream",
     "text": [
      "Sentence embeddings: tensor([[-0.0140,  0.0274,  0.0051,  ..., -0.0541, -0.0308, -0.0188],\n",
      "        [ 0.0023, -0.0426, -0.0051,  ..., -0.0573,  0.0074,  0.0162],\n",
      "        [ 0.0357, -0.0118, -0.0433,  ..., -0.0244,  0.0009,  0.0369]])\n"
     ]
    }
   ],
   "source": [
    "# Sentences we want sentence embeddings for\n",
    "sentences = [\"Lubię NLP\", \"Lubię czytać\", \"W lato jest ciepło\"]\n",
    "\n",
    "tokenizer = AutoTokenizer.from_pretrained('BAAI/bge-large-zh-v1.5')\n",
    "model = AutoModel.from_pretrained('BAAI/bge-large-zh-v1.5')\n",
    "model.eval()\n",
    "\n",
    "# Tokenize sentences\n",
    "encoded_input = tokenizer(sentences, padding=True, truncation=True, return_tensors='pt')\n",
    "\n",
    "# Compute token embeddings\n",
    "with torch.no_grad():\n",
    "    model_output = model(**encoded_input)\n",
    "    # Perform pooling. In this case, cls pooling.\n",
    "    sentence_embeddings = model_output[0][:, 0]\n",
    "    \n",
    "# normalize embeddings\n",
    "sentence_embeddings = torch.nn.functional.normalize(sentence_embeddings, p=2, dim=1)\n",
    "print(\"Sentence embeddings:\", sentence_embeddings)\n"
   ]
  },
  {
   "cell_type": "code",
   "execution_count": 82,
   "id": "58230a96-3d2a-452f-b9ae-4670a027e5bb",
   "metadata": {},
   "outputs": [
    {
     "name": "stdout",
     "output_type": "stream",
     "text": [
      "Wymiar wektora: 1024\n"
     ]
    }
   ],
   "source": [
    "print(f\"Wymiar wektora: {len(sentence_embeddings[0])}\")"
   ]
  }
 ],
 "metadata": {
  "kernelspec": {
   "display_name": "jbook",
   "language": "python",
   "name": "python3"
  },
  "language_info": {
   "codemirror_mode": {
    "name": "ipython",
    "version": 3
   },
   "file_extension": ".py",
   "mimetype": "text/x-python",
   "name": "python",
   "nbconvert_exporter": "python",
   "pygments_lexer": "ipython3",
   "version": "3.12.3"
  }
 },
 "nbformat": 4,
 "nbformat_minor": 5
}
