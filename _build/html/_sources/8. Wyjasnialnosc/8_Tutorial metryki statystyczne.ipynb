{
 "cells": [
  {
   "cell_type": "markdown",
   "metadata": {},
   "source": [
    "# Wyjaśnialność modeli - metryki statystyczne - tutorial"
   ]
  },
  {
   "cell_type": "markdown",
   "metadata": {},
   "source": [
    "## Wstęp"
   ]
  },
  {
   "cell_type": "markdown",
   "metadata": {},
   "source": [
    "O modelach uczenia maszynowego w ogólnym pojęciu możemy mówić jako o czarnych skrzynkach (eng. \"black box\").\n",
    "Wiemy, że podając do wytrenowanego modelu pewne określone wcześniej argumenty otrzymamy pewną predykcję oczekiwanej wartości. Ostatecznie mamy nadzieję, że wyniki podane przez model będą, jak najbliżej wartości, które byśmy zaobserwowali w rzeczywistości przy określonych parametrach (argumenty modelu).\n",
    "\n",
    "\n",
    "Pojawiają się tutaj dwa miejsca, które są w stanie dostarczyć nam wiedzy na temat jakości naszego modelu. Na jakość modelu składa się zarówno sposób w jaki model dochodzi do tego wyniku, sposób jego działania, jak i wynik predykcji modelu.\n",
    "\n",
    "Część dotycząca tego w jaki sposób model podejmuje końcową decyzje, skupia się na wyjaśnieniu tego, jak poszczególne argumenty dostarczone do modelu są przez niego interpretowane i jak wpływają na końcowy wynik predykcji. Proces ten nazywamy XAI (\"Explainable AI\"), czyli wyjaśnialność modelu. O tym w jaki sposób możemy podejść do wyjaśnienia tego co siedzy wewnątrz modelu dowiemy się w kolejnym module.\n",
    "\n",
    "W tym module skupimy się na tej drugiej części, która pozwoli poznać jakość naszego modelu, a mianowicie na interpretacji wyników predykcji. Projektując modele uczenia maszynowego dążymy, aby model odznaczał się jak najlepszym odwzorowaniem wartości rzeczywistych za pomocą predykcji przy zadanych parametrach. W tym celu wyliczamy pewne miary, nazywane metrykami, które pozwalają ocenić grupowo wyniki predykcji względem wartości rzeczywistych. <br> \n",
    "Nie wszystkie problemy biznesowe, na których potrzeby chcemy odpowiedzieć, będziemy w stanie dobrze ocenić tymi samymi metrykami. Oraz nie każda z metryk będzie potrafiła odpowiedzieć nam na wszystkie wątpliwości na temat jakości naszej predykcji. Stąd bardzo ważnym krokiem jest odpowiedni dobór metryki dopasowanej pod problem biznesowy, który staramy się rozwiązać. Na podstawie wyników z tej metryki, bądź kilku metryk, będziemy podejmować dalsze decyzje o rozwoju modelu. Tak, więc wybór nieodpowiedniej metryki może spowodować wyciągnięcie błędnych wniosków oraz błędne określenie dalszych kroków prac nad modelem."
   ]
  },
  {
   "cell_type": "markdown",
   "metadata": {},
   "source": [
    "## Omawiane błędy dla danych typów predykcji"
   ]
  },
  {
   "cell_type": "markdown",
   "metadata": {},
   "source": [
    "| Modele Regresyjne | Modele Klasyfikacyjne | Modele Grupujące |\n",
    "| --- | --- | --- |\n",
    "| ME | Macierz pomyłek | V-measure\n",
    "| MAE | Accuracy | Silhouette Coefficient\n",
    "| MSE | Precision | Davies-Bouldin Index\n",
    "| RMSE | F-score | Dunn's Index\n",
    "| MSLE | ROC | \n",
    "| MAPE | AUC | \n",
    "| SMAPE |  | \n",
    "\n",
    "Zaprezentowane metryki zostały pokrótce omówione w części wykładowej. <br>\n",
    "W tym tutorialu skupimy się głównie na wyliczaniu metryk dla podanych przykładów oraz na interpretacji ich wartości.\n",
    "\n",
    "Większość metryk została zaimplementowana i jest dostępna poprzez bibliotekę scikit-learn. <br>\n",
    "Jeśli chcemy znaleźć metrykę dla naszego modelu, a żadna z nam znanych nie spełnia założonych kryteriów warto tutaj zajrzeć:\n",
    "https://scikit-learn.org/stable/modules/model_evaluation.html"
   ]
  },
  {
   "cell_type": "markdown",
   "metadata": {},
   "source": [
    "## Podejście Regresyjne"
   ]
  },
  {
   "cell_type": "markdown",
   "metadata": {},
   "source": [
    "Podstawowym wyliczeniem na którym wyliczamy większość z błędów w podejściu regresyjnym jest różnica pomiędzy wartością oczekiwaną, a predykcją otrzymaną z modelu. Różnicę tą nazywamy błędem predykcji - z ang. **Error**\n",
    "![title](media/Error.png)\n",
    "\n",
    "<div class=\"alert alert-block alert-success\">\n",
    "Jako $y_i$ będziemy oznaczać pojedyńczą rzeczywistą obserwacje ze zbioru $N$ elementów, natomiast $\\hat{y_i}$ będzie reprezentować predykcje odpowiadającą tej obserwacji. Wartość $\\overline{y}$ oznaczać będzie natomiast średnią ze wszystkich obserwacji.\n",
    "</div>\n",
    "\n",
    "### ME\n",
    "\n",
    "W celu obliczenia średniego błędu na całym zadanym zbiorze używamy najbardziej podstawowej metryki, czyli średniego błędu - z ang. **Mean Error**\n",
    "![title](media/Mean_error.png)\n",
    "\n",
    "\n",
    "Interpretujemy ją jako średnią odległość pomiędzy wartościami rzeczywistymi, a predykcjami naszego modelu. <br>\n",
    "Metryka ta posiada jedną dość istotną wadę. Dla błędów o takiej samej sile, lecz przeciwnym kierunku następuje redukcja wpływu tych błędów na końcową wartość metryki, co ukrywa niedoskonałości modelu. "
   ]
  },
  {
   "cell_type": "code",
   "execution_count": 21,
   "metadata": {
    "ExecuteTime": {
     "end_time": "2021-10-21T12:08:09.745004Z",
     "start_time": "2021-10-21T12:08:09.573114Z"
    }
   },
   "outputs": [
    {
     "data": {
      "image/png": "[encoded data removed]",
      "text/plain": [
       "<Figure size 432x288 with 1 Axes>"
      ]
     },
     "metadata": {
      "needs_background": "light"
     },
     "output_type": "display_data"
    },
    {
     "name": "stdout",
     "output_type": "stream",
     "text": [
      "Błąd Mean Error dla regresji liniowej: 0.0\n",
      "Błąd Mean Error dla regresji wielomianowej: -0.0\n"
     ]
    }
   ],
   "source": [
    "import numpy as np\n",
    "import matplotlib.pyplot as plt\n",
    "\n",
    "def mean_error(y, y_hat):\n",
    "    \"\"\" \n",
    "    Funkcja pozwalająca na wyliczenie wartości Mean Error\n",
    "    \n",
    "    :param y: wektor wartości rzeczywistych\n",
    "    :param y_hat: wektor wartości przewidywanych\n",
    "    \n",
    "    :return: średni błąd na obserwacjach\n",
    "    \"\"\"\n",
    "    # y oraz y_hat są reprezentowane poprzez wektory\n",
    "    # jeśli wykonamy obliczenie różnicy między nimi to powstanie rónież wektor\n",
    "    # wyliczenie średniej z biblioteki numpy spowoduje wyliczenie średniej z wartości takiego wektora\n",
    "    return np.mean(y-y_hat)\n",
    "\n",
    "x = np.array([1,2,3,4]) # argumenty\n",
    "y = np.array([0,5,6,3]) # wartości\n",
    "\n",
    "plt.plot(x,y,'o') # wizualizacja wartości rzeczywistych\n",
    "m,b = np.polyfit(x,y,1) # regresja liniowa (model)\n",
    "plt.plot(x, m*x+b) # wizualizacja predykcji modelu (żółta)\n",
    "y_hat_linear = m*x+b # predykcje modelu liniowego\n",
    "\n",
    "a1,a2,c = np.polyfit(x,y,2) # regresja wielomianem drugiego stopnia (model)\n",
    "plt.plot(x, a1*np.power(x,2) + a2*x + c) # wizualizacja predykcji (zielona linia)\n",
    "y_hat_poly = a1*np.power(x,2) + a2*x + c # predykcje modelu wielomianowego\n",
    "\n",
    "plt.legend(['y', 'liniowa', 'wielomianowa']) # dodanie legendy\n",
    "plt.show() # wizualizacja\n",
    "\n",
    "print(f\"Błąd Mean Error dla regresji liniowej: {np.round(mean_error(y, y_hat_linear),1)}\")\n",
    "print(f\"Błąd Mean Error dla regresji wielomianowej: {np.round(mean_error(y, y_hat_poly),1)}\")"
   ]
  },
  {
   "cell_type": "markdown",
   "metadata": {
    "ExecuteTime": {
     "end_time": "2021-10-21T12:06:27.596098Z",
     "start_time": "2021-10-21T12:06:27.580471Z"
    }
   },
   "source": [
    "Jak możemy zaobserwować, zarówno dla regresji liniowej, jak i wielomianowej średni błąd dla modelu wyniósł zero. <br>\n",
    "Bazując tylko na tej metryce moglibyśmy powiedzieć, że oba z modeli osiągają jednakowy wynik. Dopiero wizualizacja pozwala nam zaobserwować, że tak naprawdę regresja liniowa jest mocnym przybliżeniem tego co byśmy oczekiwali.\n",
    "\n",
    "### MAE\n",
    "\n",
    "W celu uniknięcia złych interpretacji częściej używa się metryki średniego błędu bezwzględnego - z ang. **Mean Absolute Error**\n",
    "![title](media/mae.png)"
   ]
  },
  {
   "cell_type": "code",
   "execution_count": 23,
   "metadata": {
    "ExecuteTime": {
     "end_time": "2021-10-21T12:13:25.865000Z",
     "start_time": "2021-10-21T12:13:25.849373Z"
    }
   },
   "outputs": [
    {
     "name": "stdout",
     "output_type": "stream",
     "text": [
      "Błąd Mean Absolute Error dla regresji liniowej: 2.0\n",
      "Błąd Mean Absolute Error dla regresji wielomianowej: 0.0\n"
     ]
    }
   ],
   "source": [
    "def mean_absolute_error(y, y_hat):\n",
    "    \"\"\" \n",
    "    Funkcja pozwalająca na wyliczenie wartości Mean Absolute Error\n",
    "    \n",
    "    :param y: wektor wartości rzeczywistych\n",
    "    :param y_hat: wektor wartości przewidywanych\n",
    "    \n",
    "    :return: średni błąd bezwzględny na obserwacjach\n",
    "    \"\"\"\n",
    "    return np.mean(np.abs(y-y_hat))\n",
    "\n",
    "print(f\"Błąd Mean Absolute Error dla regresji liniowej: {np.round(mean_absolute_error(y, y_hat_linear),1)}\")\n",
    "print(f\"Błąd Mean Absolute Error dla regresji wielomianowej: {np.round(mean_absolute_error(y, y_hat_poly),1)}\")"
   ]
  },
  {
   "cell_type": "markdown",
   "metadata": {},
   "source": [
    "Po zastoswaniu błędu MAE widzimy, że model używający regresji liniowej dla naszego przypadku myli się średnio o 2 jednostki względem wartości rzeczywistych. Jest to poprawne wyjaśnienie jakości dla zaprezentowanego, prostego przypadku.\n",
    "\n",
    "Zestawiając obok siebie błąd MAE oraz ME pozwala zyskać natomiast dodatkową informacje. <br>\n",
    "O ile błąd MAE trafniej pozwoli określić nam o ile się średnio mylimy podczas predykcji to zestawiając wraz z błędem ME możemy otrzymać informację w którą stronę częściej się mylimy. Czy nasze predykcje względem wartości rzeczywistych są częściej zawyżane, czy zaniżane."
   ]
  },
  {
   "cell_type": "code",
   "execution_count": 27,
   "metadata": {
    "ExecuteTime": {
     "end_time": "2021-10-21T12:20:41.668205Z",
     "start_time": "2021-10-21T12:20:41.496316Z"
    }
   },
   "outputs": [
    {
     "data": {
      "image/png": "[encoded data removed]",
      "text/plain": [
       "<Figure size 432x288 with 1 Axes>"
      ]
     },
     "metadata": {
      "needs_background": "light"
     },
     "output_type": "display_data"
    },
    {
     "name": "stdout",
     "output_type": "stream",
     "text": [
      "Błąd Mean Error dla regresji liniowej: 0.0\n",
      "Błąd Mean Error dla regresji liniowej zawyżonej: -2.0\n",
      "Błąd Mean Error dla regresji liniowej zaniżonej: 1.0 \n",
      "\n",
      "Błąd Mean Absolute Error dla regresji liniowej: 0.6\n",
      "Błąd Mean Absolute Error dla regresji liniowej zawyżonej: 2.0\n",
      "Błąd Mean Absolute Error dla regresji liniowej zaniżonej: 1.0\n"
     ]
    }
   ],
   "source": [
    "x = np.array([1,2,3,4,5,6]) # argumenty\n",
    "y = np.array([1,3,2,3,2,4]) # wartości\n",
    "\n",
    "plt.plot(x,y,'o') # wizualizacja wartości rzeczywistych\n",
    "m,b = np.polyfit(x,y,1) # regresja liniowa (model)\n",
    "plt.plot(x, m*x+b) # wizualizacja predykcji modelu (żółta)\n",
    "y_hat_linear = m*x+b # predykcje modelu liniowego\n",
    "\n",
    "b2 = b+2\n",
    "plt.plot(x, m*x+b2) # wizualizacja predykcji modelu (zielona)\n",
    "y_hat_linear_up = m*x+b2 # predykcje modelu liniowego zawyżonego\n",
    "\n",
    "b3 = b-1\n",
    "plt.plot(x, m*x+b3) # wizualizacja predykcji modelu (czerwona)\n",
    "y_hat_linear_down = m*x+b3 # predykcje modelu liniowego zaniżonego\n",
    "\n",
    "plt.legend(['y', 'liniowa', 'liniowa_up', 'liniowa_down']) # dodanie legendy\n",
    "plt.show() # wizualizacja\n",
    "\n",
    "print(f\"Błąd Mean Error dla regresji liniowej: {np.round(mean_error(y, y_hat_linear),1)}\")\n",
    "print(f\"Błąd Mean Error dla regresji liniowej zawyżonej: {np.round(mean_error(y, y_hat_linear_up),1)}\")\n",
    "print(f\"Błąd Mean Error dla regresji liniowej zaniżonej: {np.round(mean_error(y, y_hat_linear_down),1)} \\n\")\n",
    "\n",
    "print(f\"Błąd Mean Absolute Error dla regresji liniowej: {np.round(mean_absolute_error(y, y_hat_linear),1)}\")\n",
    "print(f\"Błąd Mean Absolute Error dla regresji liniowej zawyżonej: {np.round(mean_absolute_error(y, y_hat_linear_up),1)}\")\n",
    "print(f\"Błąd Mean Absolute Error dla regresji liniowej zaniżonej: {np.round(mean_absolute_error(y, y_hat_linear_down),1)}\")"
   ]
  },
  {
   "cell_type": "markdown",
   "metadata": {},
   "source": [
    "Interpretując powyższe wyniki jesteśmy w stanie zauważyć, że model liniowy zawyżone faktycznie zawyża wyniki na co wskazuje znak '-' przy metryce ME. Oznacza to, że średnio większość obserwacji rzeczywistych była niższa, niż wartość predykcji z modelu.<br>\n",
    "Odwrotnie natomiast jest w przypadku modelu zaniżonego, gdzie widzimy, że błąd ME osiągnął wartość dodatnią.\n",
    "\n",
    "<br>\n",
    "<br>\n",
    "<br>\n",
    "\n",
    "### MSE\n",
    "\n",
    "Kolejną ważną metryką jest metryka związana z kwadratem błędu, czyli średni kwadrat błędu - z ang. **Mean Square Error**\n",
    "\n",
    "Reprezentuje ta wartość wariancję wśród odległości pomiędzy wartościami rzeczywistymi, a predykcją.\n",
    "![topic](media/Mean_square_error.png)\n",
    "\n",
    "Dużym minusem tej metryki jest interpretowalność. Ze względu na to, że obliczana jest ona na podstawie kwadratu odległości pomiędzy wartościami, jednostka w jakiej jest reprezentowana jest również kwadratem jednostki, w której reprezentujemy predykcję.\n",
    "<br>\n",
    "Plusem, który stoi za popularnością tej metryki jest jej różniczkowalność, co pozwala na wykonywanie na tej metryce różnych operacji matematycznych w przeciwieństwie do MAE, które jest nieróżniczkowalne. Konsekwencją tego jest użycie wartości MSE w wyliczaniu innych metryk, jak na przykład RMSE.\n",
    "<br>\n",
    "Dodatkową charakterystyczną rzeczą dla metryki MSE jest jej wrażliwość na wartości odstające. Może to być traktowane jako wada, jak i zaleta. Z jednej strony posiadając bardzo dobrze dopasowany model z pojedyńczym, lecz wysokim odchyleniem od wartości rzeczywistej uzyskujemy podobny błąd co do modelu, który jest dość przeciętny, jednak wartości predykcji znajdują się w węższym zakresie wartości. \n",
    "<br>\n",
    "Jednakże, chcąc stworzyć dobry model oczekujemy od niego, że będzie on w miarę stabilny i mniej wrażliwy na odchylenia wśród wartości. Z uwagi na to metryka ta jest dobrą metryką do monitorowania naszego modelu pod kątem stabilności predykcji. "
   ]
  },
  {
   "cell_type": "code",
   "execution_count": 43,
   "metadata": {
    "ExecuteTime": {
     "end_time": "2021-10-21T12:59:14.270922Z",
     "start_time": "2021-10-21T12:59:14.083407Z"
    }
   },
   "outputs": [
    {
     "data": {
      "image/png": "[encoded data removed]",
      "text/plain": [
       "<Figure size 432x288 with 1 Axes>"
      ]
     },
     "metadata": {
      "needs_background": "light"
     },
     "output_type": "display_data"
    },
    {
     "name": "stdout",
     "output_type": "stream",
     "text": [
      "Błąd Mean Absolute Error dla model_1: 0.2\n",
      "Błąd Mean Absolute Error dla model_2: 0.2\n",
      "\n",
      "Błąd Mean Square Error dla model_1: 0.1\n",
      "Błąd Mean Square Error dla model_2: 0.2\n"
     ]
    }
   ],
   "source": [
    "def mean_square_error(y, y_hat):\n",
    "    \"\"\" \n",
    "    Funkcja pozwalająca na wyliczenie wartości Mean Square Error\n",
    "    \n",
    "    :param y: wektor wartości rzeczywistych\n",
    "    :param y_hat: wektor wartości przewidywanych\n",
    "    \n",
    "    :return: średni kwadrat błędu na obserwacjach\n",
    "    \"\"\"\n",
    "    return np.mean(np.power(y-y_hat,2))\n",
    "\n",
    "x = np.array([1,2,3,4,5,6]) # argumenty\n",
    "y = np.array([1,2,1,1,1,1]) # wartości\n",
    "y_2 = np.array([1,1.5,1.5,1,1,1])\n",
    "y_3 = np.array([1,3,1,1,1,1])\n",
    "\n",
    "plt.plot(x,y,'o') # wizualizacja wartości rzeczywistych\n",
    "plt.plot(x,y_2) # wizualizacja wartości rzeczywistych\n",
    "plt.plot(x,y_3) # wizualizacja wartości rzeczywistych\n",
    "\n",
    "\n",
    "plt.legend(['y', 'model_1', 'model_2']) # dodanie legendy\n",
    "plt.show() # wizualizacja\n",
    "\n",
    "print(f\"Błąd Mean Absolute Error dla model_1: {np.round(mean_absolute_error(y, y_2),1)}\")\n",
    "print(f\"Błąd Mean Absolute Error dla model_2: {np.round(mean_absolute_error(y, y_3),1)}\\n\")\n",
    "\n",
    "print(f\"Błąd Mean Square Error dla model_1: {np.round(mean_square_error(y, y_2),1)}\")\n",
    "print(f\"Błąd Mean Square Error dla model_2: {np.round(mean_square_error(y, y_3),1)}\")"
   ]
  },
  {
   "cell_type": "markdown",
   "metadata": {},
   "source": [
    "W powyższym przykładzie możemy zobserwować, że dla modelu drugiego, który bardzo wrażliwie zareagował na zmianę, metryka MSE pokazała wyższy błąd, niż dla modelu pierwszego. Mimo, że błędy MAE dla obu modeli są jednakowe, po dodaniu błędu MSE zyskaliśmy świadomość, który z tych dwóch modeli będzie bardziej zachowawczy w przyszłych predykcjach.\n",
    "<br>\n",
    "<br>\n",
    "<br>\n",
    "\n",
    "### RMSE\n",
    "\n",
    "Pewną korektą dla błędu MSE jest błąd RMSE, który posiada ułatwioną interpretację ze względu na taką samą jednostkę, jak dla wartości, które predykujemy. Błąd RMSE jest to pierwiastek kwadratowy z błędu MSE - z ang. **Root Mean Square Error**\n",
    "![title](media/rmse.png)\n",
    "\n"
   ]
  },
  {
   "cell_type": "code",
   "execution_count": 45,
   "metadata": {
    "ExecuteTime": {
     "end_time": "2021-10-21T13:09:31.071611Z",
     "start_time": "2021-10-21T13:09:30.899722Z"
    }
   },
   "outputs": [
    {
     "data": {
      "image/png": "[encoded data removed]",
      "text/plain": [
       "<Figure size 432x288 with 1 Axes>"
      ]
     },
     "metadata": {
      "needs_background": "light"
     },
     "output_type": "display_data"
    },
    {
     "name": "stdout",
     "output_type": "stream",
     "text": [
      "Błąd Mean Absolute Error dla model_1: 0.2\n",
      "Błąd Mean Absolute Error dla model_2: 0.2\n",
      "\n",
      "Błąd Mean Square Error dla model_1: 0.1\n",
      "Błąd Mean Square Error dla model_2: 0.2\n",
      "\n",
      "Błąd Root Mean Square Error dla model_1: 0.3\n",
      "Błąd Root Mean Square Error dla model_2: 0.4\n"
     ]
    }
   ],
   "source": [
    "def root_mean_square_error(y, y_hat):\n",
    "    \"\"\" \n",
    "    Funkcja pozwalająca na wyliczenie wartości Root Mean Square Error\n",
    "    \n",
    "    :param y: wektor wartości rzeczywistych\n",
    "    :param y_hat: wektor wartości przewidywanych\n",
    "    \n",
    "    :return: pierwiastek średniego kwadratu błędu na obserwacjach\n",
    "    \"\"\"\n",
    "    return np.sqrt(np.mean(np.power(y-y_hat,2)))\n",
    "\n",
    "x = np.array([1,2,3,4,5,6]) # argumenty\n",
    "y = np.array([1,2,1,1,1,1]) # wartości\n",
    "y_2 = np.array([1,1.5,1.5,1,1,1])\n",
    "y_3 = np.array([1,3,1,1,1,1])\n",
    "\n",
    "plt.plot(x,y,'o') # wizualizacja wartości rzeczywistych\n",
    "plt.plot(x,y_2) # wizualizacja wartości rzeczywistych\n",
    "plt.plot(x,y_3) # wizualizacja wartości rzeczywistych\n",
    "\n",
    "\n",
    "plt.legend(['y', 'model_1', 'model_2']) # dodanie legendy\n",
    "plt.show() # wizualizacja\n",
    "\n",
    "print(f\"Błąd Mean Absolute Error dla model_1: {np.round(mean_absolute_error(y, y_2),1)}\")\n",
    "print(f\"Błąd Mean Absolute Error dla model_2: {np.round(mean_absolute_error(y, y_3),1)}\\n\")\n",
    "\n",
    "print(f\"Błąd Mean Square Error dla model_1: {np.round(mean_square_error(y, y_2),1)}\")\n",
    "print(f\"Błąd Mean Square Error dla model_2: {np.round(mean_square_error(y, y_3),1)}\\n\")\n",
    "\n",
    "print(f\"Błąd Root Mean Square Error dla model_1: {np.round(root_mean_square_error(y, y_2),1)}\")\n",
    "print(f\"Błąd Root Mean Square Error dla model_2: {np.round(root_mean_square_error(y, y_3),1)}\")"
   ]
  },
  {
   "cell_type": "markdown",
   "metadata": {},
   "source": [
    "\n",
    "### RMSLE\n",
    "\n",
    "W przypadku biznesu, jak na przykład LPP, znaczące jest to w którą stronę się myli. To znaczy, czy nasze błędy są przeszacowane, bądź niedoszacowane. Stosując miary oparte o kwadrat odległosci pomiędzy wartościami rzeczywistymi, a przewidywanymi gubimy tą informacje. W takim celu możemy użyć metryki, która jest odpowiednikiem dla RMSE (oraz MSE), a mianowicie RMSLE (MSLE) - z ang. **Root Mean Square Logarithmic Error**\n",
    "![title](media/RMSLE.png)"
   ]
  },
  {
   "cell_type": "code",
   "execution_count": 48,
   "metadata": {
    "ExecuteTime": {
     "end_time": "2021-10-21T13:39:02.822866Z",
     "start_time": "2021-10-21T13:39:02.635351Z"
    }
   },
   "outputs": [
    {
     "data": {
      "image/png": "[encoded data removed]",
      "text/plain": [
       "<Figure size 432x288 with 1 Axes>"
      ]
     },
     "metadata": {
      "needs_background": "light"
     },
     "output_type": "display_data"
    },
    {
     "name": "stdout",
     "output_type": "stream",
     "text": [
      "Błąd Mean Absolute Error dla model_1: 0.5\n",
      "Błąd Mean Absolute Error dla model_2: 0.5\n",
      "\n",
      "Błąd Root Mean Square Error dla model_1: 0.7\n",
      "Błąd Root Mean Square Error dla model_2: 0.7\n",
      "\n",
      "Błąd Root Mean Square Logarithmic Error dla model_1: 0.2\n",
      "Błąd Root Mean Square Logarithmic Error dla model_2: 0.3\n",
      "\n"
     ]
    }
   ],
   "source": [
    "def root_mean_square_logarithmic_error(y, y_hat):\n",
    "    \"\"\" \n",
    "    Funkcja pozwalająca na wyliczenie wartości Root Mean Square Logarithmic Error\n",
    "    \n",
    "    :param y: wektor wartości rzeczywistych\n",
    "    :param y_hat: wektor wartości przewidywanych\n",
    "    \n",
    "    :return: pierwiastek średniego kwadratu błędu zlogarytmowawanego na obserwacjach\n",
    "    \"\"\"\n",
    "    return np.sqrt(np.mean(np.power(np.log(1+y)-np.log(1+y_hat),2)))\n",
    "\n",
    "x = np.array([1,2,3,4,5,6]) # argumenty\n",
    "y = np.array([2,2,2,2,2,2]) # wartości\n",
    "y_2 = np.array([2,2,3,3,3,2])\n",
    "y_3 = np.array([2,2,1,1,1,2])\n",
    "\n",
    "plt.plot(x,y,'o') # wizualizacja wartości rzeczywistych\n",
    "plt.plot(x,y_2) # wizualizacja wartości rzeczywistych\n",
    "plt.plot(x,y_3) # wizualizacja wartości rzeczywistych\n",
    "\n",
    "\n",
    "plt.legend(['y', 'model_1', 'model_2']) # dodanie legendy\n",
    "plt.show() # wizualizacja\n",
    "\n",
    "print(f\"Błąd Mean Absolute Error dla model_1: {np.round(mean_absolute_error(y, y_2),1)}\")\n",
    "print(f\"Błąd Mean Absolute Error dla model_2: {np.round(mean_absolute_error(y, y_3),1)}\\n\")\n",
    "\n",
    "print(f\"Błąd Root Mean Square Error dla model_1: {np.round(root_mean_square_error(y, y_2),1)}\")\n",
    "print(f\"Błąd Root Mean Square Error dla model_2: {np.round(root_mean_square_error(y, y_3),1)}\\n\")\n",
    "\n",
    "print(f\"Błąd Root Mean Square Logarithmic Error dla model_1: {np.round(root_mean_square_logarithmic_error(y, y_2),1)}\")\n",
    "print(f\"Błąd Root Mean Square Logarithmic Error dla model_2: {np.round(root_mean_square_logarithmic_error(y, y_3),1)}\\n\")"
   ]
  },
  {
   "cell_type": "markdown",
   "metadata": {},
   "source": [
    "Tak, jak możemy zauważyć na powyższych wynikach, pomimo identycznych błędów MAE oraz RMSE, metryka RMSLE pozwala nam określić, który model byłby lepszy przy naszych założeniach biznsowych. W przypadku zamówień towaru, stworzenie modelu, który częściej będzie niedoszacowywał wartości sprzedażowe spowoduje utracenie sprzedaży w sklepach czego efektem będzie strata sporych sum pieniężnych. \n",
    "\n",
    "<br>\n",
    "<br>\n",
    "<br>\n",
    "\n",
    "### MAPE\n",
    "\n",
    "Szczególnym rodzajem metryk są metryki oparte o błędy procentowe. Ich główną zaletą jest fakt, że moga być porównywane pomiędzy modelami niezależnie od jednostki, bądź skali w jakiej predykcja została wykonana ze względu na zastosowanie błędu procentowego. Podstawową metryką jest średni bezwględny błąd procentowy - z ang. **Mean Absolute Percentage Error**\n",
    "![title](media/MAPE.png)\n",
    "\n",
    "Wartość $\\epsilon$ w mianowniku jest to bardzo niewielka wartość bliska zeru, która pozwala bezpiecznie wyliczyć metryke w momencie, gdy wartość rzeczywista otrzymuje wartość 0.\n",
    "<br>\n",
    "\n",
    "Ze względu na wyrażenie metryki w ujęciu procentowym metryka ta jest łatwo prównywalna i łatwo zrozumiała.<br>\n",
    "\n",
    "Jednakże posiada również swoje minus. Kwestia skali i asymetryczności. Dla wartości rzeczywistych bardzo bliskich zeru otrzymujemy wartości ekstremalnie wysokie. Druga kwestia, dużo większą karę nakłada się na przeszacowanie, niż niedoszacowanie. Wynika to z faktu, że dla wartości zbyt niskich nie może wartość błędu przekroczyć 100%. Jednak nie posiada ona granicy dla górnej prognozy. Przez co MAPE faworyzuje modele, które niedoszacowują nad te które przeszacowują.\n",
    "<br>\n",
    "<br>\n",
    "<br>\n",
    "\n",
    "### SMAPE\n",
    "\n",
    "W celu poprawy problemu z asymetrią została zaproponowana symetryczna wersja błędu MAPE, czyli SMAPE - z ang. **Symetric Mean Absolute Percentage Error**\n",
    "![title](media/SMAPE.png)\n",
    "\n",
    "Z zalet więc jest również to metryka wyrażona w wartości procentowej i dodatkowo naprawia wadę asymetryczności wprowadzając dolna granicę 0% i górną 200%. <br>\n",
    "\n",
    "Ta metryka też ma swoje wady, m.in.: otrzymujemy wartości nieokreślone gdy zarówno wartość rzeczywista i przewidywana są równe 0, Gdy wartość rzeczywista lub prognoza osiągnię wartość 0 to smape automatycznie zwraca górną granicę (to nie koniecznie musi być traktowane jako wada).<br>\n",
    "\n",
    "Jednakże jest jeszcze jedna ważna różnica, która może okazać się kluczowa w różnych problemach biznesowych. Tak, jak przy wspomnianej wcześniej metryce MSLE kluczowe dla nas jest, aby uniknąć niedoszacowań przy predykcji. Gdy MAPE faworyzowało modele, które niedoszacowują to SMAPE ma efekt odwrotny."
   ]
  },
  {
   "cell_type": "code",
   "execution_count": 69,
   "metadata": {
    "ExecuteTime": {
     "end_time": "2021-10-21T14:08:32.352482Z",
     "start_time": "2021-10-21T14:08:32.164967Z"
    }
   },
   "outputs": [
    {
     "data": {
      "image/png": "[encoded data removed]",
      "text/plain": [
       "<Figure size 432x288 with 1 Axes>"
      ]
     },
     "metadata": {
      "needs_background": "light"
     },
     "output_type": "display_data"
    },
    {
     "name": "stdout",
     "output_type": "stream",
     "text": [
      "Błąd Mean Absolute Error dla model_1: 0.5\n",
      "Błąd Mean Absolute Error dla model_2: 0.5\n",
      "\n",
      "Błąd Mean Absolute Percentage Error dla model_1: 0.2\n",
      "Błąd Mean Absolute Percentage Error dla model_2: 0.2\n",
      "\n",
      "Błąd Symetric Mean Absolute Percentage Error dla model_1: 0.2\n",
      "Błąd Symetric Mean Absolute Percentage Error dla model_2: 0.3\n",
      "\n"
     ]
    }
   ],
   "source": [
    "import sys\n",
    "\n",
    "def mean_absolute_percentage_error(y, y_hat):\n",
    "    \"\"\" \n",
    "    Funkcja pozwalająca na wyliczenie wartości Mean Absolute Percentage Error\n",
    "    \n",
    "    :param y: wektor wartości rzeczywistych\n",
    "    :param y_hat: wektor wartości przewidywanych\n",
    "    \n",
    "    :return: średni bezwględny błąd procentowy na obserwacjach\n",
    "    \"\"\"\n",
    "    return np.mean(np.abs(y-y_hat) / np.array([max(sys.float_info.epsilon, x) for x in y]))\n",
    "\n",
    "\n",
    "def symetric_mean_absolute_percentage_error(y, y_hat):\n",
    "    \"\"\" \n",
    "    Funkcja pozwalająca na wyliczenie wartości Symetric Mean Absolute Percentage Error\n",
    "    \n",
    "    :param y: wektor wartości rzeczywistych\n",
    "    :param y_hat: wektor wartości przewidywanych\n",
    "    \n",
    "    :return: symetryczny średni bezwględny błąd procentowy na obserwacjach\n",
    "    \"\"\"\n",
    "    return np.mean(np.abs(y-y_hat) / ((np.abs(y) + np.abs(y_hat))/2))\n",
    "\n",
    "\n",
    "x = np.array([1,2,3,4,5,6]) # argumenty\n",
    "y = np.array([2,2,2,2,2,2]) # wartości\n",
    "y_2 = np.array([2,2,3,3,3,2])\n",
    "y_3 = np.array([2,2,1,1,1,2])\n",
    "\n",
    "plt.plot(x,y,'o') # wizualizacja wartości rzeczywistych\n",
    "plt.plot(x,y_2) # wizualizacja wartości rzeczywistych\n",
    "plt.plot(x,y_3) # wizualizacja wartości rzeczywistych\n",
    "\n",
    "\n",
    "plt.legend(['y', 'model_1', 'model_2']) # dodanie legendy\n",
    "plt.show() # wizualizacja\n",
    "\n",
    "print(f\"Błąd Mean Absolute Error dla model_1: {np.round(mean_absolute_error(y, y_2),1)}\")\n",
    "print(f\"Błąd Mean Absolute Error dla model_2: {np.round(mean_absolute_error(y, y_3),1)}\\n\")\n",
    "\n",
    "print(f\"Błąd Mean Absolute Percentage Error dla model_1: {np.round(mean_absolute_percentage_error(y, y_2),1)}\")\n",
    "print(f\"Błąd Mean Absolute Percentage Error dla model_2: {np.round(mean_absolute_percentage_error(y, y_3),1)}\\n\")\n",
    "\n",
    "print(f\"Błąd Symetric Mean Absolute Percentage Error dla model_1: {np.round(symetric_mean_absolute_percentage_error(y, y_2),1)}\")\n",
    "print(f\"Błąd Symetric Mean Absolute Percentage Error dla model_2: {np.round(symetric_mean_absolute_percentage_error(y, y_3),1)}\\n\")"
   ]
  },
  {
   "attachments": {
    "image.png": {
     "image/png": "[encoded data removed]"
    }
   },
   "cell_type": "markdown",
   "metadata": {},
   "source": [
    "Ponownie możemy zaobserwować, że metryka SMAPE zwróciła różne od siebie wartości dla zaprezentowanego przypadku bardziej karając model, który niedoszacował wartości predykcji względem wartości rzeczywistych.\n",
    "\n",
    "## Podejście Klasyfikacyjne\n",
    "\n",
    "W przypadku klasyfikacji trochę innaczej podchodzimy do oceny jakości modelu. Rodzaj wartości na jakich tutaj operujemy nie są to wartości ciągłe, a znane wcześniej, z góry określone klasy. Na przykład klasyfikując górne części garderoby będzie to zbiór: {'koszulka', 'bluza', 'sweter', 'koszula', 'kurtka'}. \n",
    "<br>\n",
    "\n",
    "W takim przypadku byłoby ciężko wyliczyczać odległość od wartości prawdziwej i na tej podstawie wyznaczać metryki, ponieważ odległość pomiędzy klasami staje sie tutaj pojęciem abstrakcyjnym, które nie jest naturalnie zdefiniowane.\n",
    "<br>\n",
    "\n",
    "Z tego powodu, przy klasyfikacji posługujemy się macierzą pomyłek. Macierz ta mówi nam do której klasy została zaklasyfikowana dana obserwacja. Jeśli będzie to błędna predykcja to jesteśmy w stanie wyciągnąć pewne wnioski obserwując z którą inną klasą została zazwyczaj mylona poprawna klasa.\n",
    "<br>\n",
    "\n",
    "**Macierz pomyłek**\n",
    "![title](media/confusion_matrix.png)\n",
    "\n",
    "<!-- ![image.png](attachment:image.png) -->\n",
    "\n",
    "\n",
    "Macierz pomyłek może reprezentować zarówno problem ze zbiorem klas binarnym, bądź wieloklasowy.\n",
    "<br>\n",
    "\n",
    "W pierwszym przypadku klasyfikator ma za zadanie określić, czy dane zwierzę to kot. Klasy które naturalnie wynikają z tego problemu to 'Kot' i 'nie-Kot'. W związku z dodatkową wiedzą o zbiorze możemy stwierdzić, że jeśli to nie jest 'Kot' to to będzie 'Pies' i dla podanych poniżej wartości macierze pomyłek prezentuje się w następujący sposób.\n",
    "\n",
    "| | | | | | | | | | | |\n",
    "| --- | --- | --- | --- | --- | --- | --- | --- | --- | --- | --- |\n",
    "| Predykcja | Kot | Pies | Kot | Pies | Pies | Pies | Kot | Kot | Pies | Pies |\n",
    "| Rzeczywista klasa | Kot | Kot | Kot | Pies | Kot | Pies | Pies | Kot | Pies | Kot |\n",
    "\n",
    "\n",
    "![title](media/conf_matrix_binary.png)\n",
    "\n",
    "Drugi przypadek reprezentować będzie klasyfikacje wiloklasową. Taka macierz jest bardziej rozbudowana on macierzy binarnej, jednakże jest dokładnie w taki sam sposób interpretowana.\n",
    "\n",
    "| | | | | | | | | | | | |\n",
    "| --- | --- | --- | --- | --- | --- | --- | --- | --- | --- | --- | --- |\n",
    "| Predykcja | 1 | 2 | 3 | 4 | 1 | 2 | 3 | 4 | 1 | 2 | 4 | 4 |\n",
    "| Rzeczywista klasa | 1 | 4 | 2 | 3 | 2 | 3 | 4 | 1 | 2 | 3 | 4 | 1\n",
    "\n",
    "![title](media/conf_matrix_multi.png)\n",
    "\n",
    "<br>\n",
    "<br>\n",
    "\n",
    "\n",
    "### Accuracy - dokładność\n",
    "\n",
    "Pierwszą podstawową miarą skuteczności w podejściu klasyfkacyjnym jest dokładność. Miara ta jest wyrażon jako stosunek wszystkkich poprawnie zaklasyfikowanych wartości do wszystkich obserwacj, które podległy klasyfikacji.\n",
    "\n",
    "![title](media/Accuracy.png)\n",
    "\n",
    "TP to akronim od True Positive, FP od False Positive, TN od True Negative, oraz FN od False Negative.\n",
    "<br>\n",
    "\n",
    "Metryka ta jest bardzo ogólna i posiada kluczową wadę, a mianowicie przywiązuje jednakową wagę do wartości False Positive oraz False Negative. Nie do końca się to sprawdzi w przypadku niezbalansowanego zbioru danych. W przypadku gdybyśmy posiadali w zbiorze 99% obsewacji należących do klasy 'A' oraz 1 % należący do klasy 'B' to wykonując zawsze klasyfikacje jako klasa 'A' otrzymujemy dokładność na poziomie 99%. Nie do końca jest to poprawnę podejście, a problem się zwiększa ty waga niepoprawnej predykcji nie są jednakowe dla FP oraz FN. \n",
    "\n",
    "Takim przypadkiem są bardzo rzadkie choroby. Waga jaką przywiązujemy do tego, że niepoprawnie uznamy osobę za zdrową jest znacznie większa, niż gdybyśmy niepoprawnie uznali, że ktoś choruje na daną chorobę. Taką osobę można wysłać na dodatkowe badania, natomiast w przeciwnym przypadku tracimy szansę pomocy chorej osobie. Tak więc jak widać może to być dość kluczowe.\n",
    "\n",
    "Jeśli chodzi o przypadki medyczne to dla diagnostyki ogólnie bardzo często stosuje się miary Wrażliwości (Sensivity) i Osobliwości (Specificity).\n",
    "Pomagają te miary określić dokładność modelu, którego zadaniem jest informowanie o występowaniu, bądź nieobecności jakiegoś zjawiska.\n",
    "\n",
    "\n",
    "### Specificity\n",
    "\n",
    "![title](media/Specificity.png)\n",
    "\n",
    "Miara osobliwości pozwala nam określić, jak często potrafimy poprawnie zaklasyfikować obserwacje w których dane zjawisko nie zachodzi. W przypadku choroby miara ta odpowiada na pytanie: Jak wielu zdrowych ludzi byliśmy w stanie zaklasyfikować jako faktycznie nieposiadających choroby.\n",
    "\n",
    "### Sensitivity / Recall\n",
    "\n",
    "![title](media/Sensitivity.png)\n",
    "\n",
    "Miara wrażliwości pozwala nam określić, jak często spośród wszystkich obserwacji, które wskazują na występowanie danego zjawiska jesteśmy w stanie poprawnie określić, że ono występuje. W przypadku choroby miara ta odpowiada na pytanie: Jak wielu chorych byliśmy w stanie zaklasyfikować jako faktycznie chorych.\n",
    "\n",
    "Miara wrażliwości jest również nazywana w angielskim Recall. Patrząc z perspektywy statystycznej można powiedzieć, że miara ta pozwala lepiej określić dokładność w problemach, gdzie błędy False Negative (czyli błędy II rodzaju) są bardziej krtyczne. Jako przykłady można przytoczyć wymienione wyżje rzadkie choroby, czy oszustwa finansowe, bankowe.\n",
    "\n",
    "### Precision\n",
    "\n",
    "![title](media/Precision.png)\n",
    "\n",
    "Miara Recall jest najczęściej zestawiana wraz z miarą Precision, czyli precyzją modelu. Precyzja pozwala nam określić, jak wiele obserwacji z danej klasy udało się zaklasyfikować poprawnie. Pozwala ona lepiej okreslić dokładność w problemach, gdzie błędy False Positive (błąd I rodzaju) są bardziej krytyczne. Takim przypadkiem są na przykład spamy mailowe.\n",
    "\n",
    "\n",
    "### Błąd F-Score\n",
    "\n",
    "![title](media/F1score.png)\n",
    "\n",
    "F1-score jest to metryka, która jest dokładniejszą metryką, niż Accuracy pozwalająca zachować odpowiednia równowagę pomiędzy Recall, a Precision.\n",
    "\n",
    "W przypadku, gdy potrzebujemy, aby jedna z miar była istotniejsza dla ostatecznego wyniku tej metryki można zastosować bardziej uogólnioną wersję F$\\beta$-score. W tym przypadku za pomocą współczynnika $\\beta$ możemy zmieniać istotność Precision względem Recall.\n",
    "\n",
    "![title](media/Fbscore.png)\n",
    "\n",
    "<br>\n",
    "<br>\n",
    "<br>\n",
    "\n",
    "### ROC Curve\n",
    "\n",
    "Kolejną ważną kwestią przy problemach klasyfikacyjnych jest zaznajomienie się z konceptem krzywer ROC.\n",
    "Krzywa ta odzwierciedla relacje pomiędzy wartościami FPR (czyli False Positive Rate), a TPR (czyli True Positive Rate) na przestrzeni różnych thresholds (progi odcięcia / wartości graniczne).\n",
    "\n",
    "Wartość FPR określamy poprzez wzór:\n",
    "![title](media/fpr.png)\n",
    "\n",
    "Wartość TPR określamy poprzez wzór:\n",
    "![title](media/tpr.png)\n",
    "\n",
    "\n",
    "Wartość threshold natomiast jest to wartość graniczna od której uznajemy klasyfikacje do danej klasy. Klasyfikator nie zwraca bezpośrednio informacji na temat tego, że jest to konkretna klasa, a bardziej prawdopodobieństwo, że dana obserwacja może zostać zaklasyfikowana do danej klasy.\n",
    "\n",
    "I tak przyjmując, że klasyfikator tego czy dane zdjęcie przedstawia kota zwraca nam wartości:\n",
    "\n",
    "| Lp. | Prawdopodobieństwo |\n",
    "| --- | --- |\n",
    "| 0 | 0.3 |\n",
    "| 1 | 0.45 |\n",
    "| 2 | 0.6 |\n",
    "| 3 | 0.8 |\n",
    "\n",
    "Jeśli określimy wartość threshold na 50%, to oznacza, że jeśli klasyfikator powyżej 50% powie nam, że to może być 'Kot' to to nam wystarcza, aby zaklasyfikować daną obserwację jako 'Kot'.\n",
    "W taki sposób można sterować dokładnością modelu.\n",
    "\n",
    "| Lp. | Prawdopodobieństwo | Threshold 1 | Klasyfikacja 1 | Threshold 2 | Klasyfikacja 2 | Threshold 3 | Klasyfikacja 3 |\n",
    "| --- | --- | --- | --- | --- | --- | --- | --- |\n",
    "| 0 | 0.3 | 0.2 | Kot | 0.5 | nie-Kot | 0.7 | nie-Kot |\n",
    "| 1 | 0.45 | 0.2 | Kot | 0.5 | nie-Kot | 0.7 | nie-Kot |\n",
    "| 2 | 0.6 | 0.2 | Kot | 0.5 | Kot | 0.7 | nie-Kot |\n",
    "| 3 | 0.8 | 0.2 | Kot | 0.5 | Kot | 0.7 | Kot |\n",
    "\n",
    "\n",
    "Manipulując wartością threshold otrzymujemy inne końcowe etykiety i tą zmianę przedstawia krzywa ROC pozwalając nam ustalić jaki próg odcięcia będzie dla nas najbardziej korzystny. ROC curve to wartości TPR oraz FPR przedstawione na wykresie dla różnych wartości theshold.\n",
    "\n",
    "\n",
    "I tak cofając się do nasze pierwszego przypadku:\n",
    "\n",
    "| | | | | | | | | | | |\n",
    "| --- | --- | --- | --- | --- | --- | --- | --- | --- | --- | --- |\n",
    "| Predykcja | Kot | Pies | Kot | Pies | Pies | Pies | Kot | Kot | Pies | Pies |\n",
    "| Rzeczywista klasa | Kot | Kot | Kot | Pies | Kot | Pies | Pies | Kot | Pies | Kot |\n"
   ]
  },
  {
   "cell_type": "code",
   "execution_count": 180,
   "metadata": {
    "ExecuteTime": {
     "end_time": "2021-10-22T12:23:33.963500Z",
     "start_time": "2021-10-22T12:23:33.744733Z"
    }
   },
   "outputs": [
    {
     "name": "stdout",
     "output_type": "stream",
     "text": [
      "Return z funkcji sklearn.metrics.confusion_matrix: \n",
      "[[3 1]\n",
      " [3 3]]\n",
      "\n",
      "Ładniejsza forma reprezentacji wartości\n",
      "+--------------+-----------------+------------------+\n",
      "|              | Prediction_True | Prediction_False |\n",
      "+--------------+-----------------+------------------+\n",
      "| Actual_True  |        3        |        1         |\n",
      "| Actual_False |        3        |        3         |\n",
      "+--------------+-----------------+------------------+\n",
      "\n",
      " Wyliczenie poszczególnych metryk \n",
      "\n",
      "True  Positive: 3\n",
      "False Positive: 3\n",
      "True  Negative: 3\n",
      "False Negative: 1\n",
      "\n",
      "Accuracy: 0.6\n",
      "Specificity: 0.5\n",
      "Sensitivity/Recall: 0.75\n",
      "Precision: 0.5\n",
      "F1-score: 0.6\n",
      "F_0.5-score: 0.5357142857142857\n",
      "F_2-score: 0.6818181818181818 \n",
      "\n",
      "\n",
      " Krzywa ROC Curve \n",
      "\n"
     ]
    },
    {
     "data": {
      "image/png": "[encoded data removed]",
      "text/plain": [
       "<Figure size 504x504 with 1 Axes>"
      ]
     },
     "metadata": {
      "needs_background": "light"
     },
     "output_type": "display_data"
    }
   ],
   "source": [
    "import pandas as pd\n",
    "from prettytable import PrettyTable\n",
    "from sklearn.metrics import confusion_matrix\n",
    "from sklearn.metrics import roc_curve\n",
    "\n",
    "y = ['Kot', 'Kot', 'Kot', 'Pies', 'Kot', 'Pies', 'Pies', 'Kot', 'Pies' ,'Kot'] # wartości oczekiwana\n",
    "y = np.array([int(y_n=='Kot') for y_n in y]) # rzutowanie na {0,1} = {'nieKot', 'Kot'}\n",
    "probabilities = np.array([0.75, 0.31, 0.69, 0.42, 0.54, 0.36, 0.78, 0.82, 0.11, 0.49]) # Prawdopodobieństwo z modelu\n",
    "\n",
    "\n",
    "predictions = np.array([int(prob>=0.6) for prob in probabilities])\n",
    "conf_matrix = confusion_matrix(y, predictions)\n",
    "print(\"Return z funkcji sklearn.metrics.confusion_matrix: \")\n",
    "print(conf_matrix)\n",
    "print()\n",
    "confusion_matrix_t = PrettyTable(['', 'Prediction_True', 'Prediction_False'])\n",
    "confusion_matrix_t.add_row(['Actual_True']+list(conf_matrix[0]))\n",
    "confusion_matrix_t.add_row(['Actual_False']+list(conf_matrix[1]))\n",
    "print(\"Ładniejsza forma reprezentacji wartości\")\n",
    "print(confusion_matrix_t)\n",
    "\n",
    "print(\"\\n Wyliczenie poszczególnych metryk \\n\")\n",
    "TP = conf_matrix[0][0]\n",
    "FP = conf_matrix[1][0]\n",
    "TN = conf_matrix[1][1]\n",
    "FN = conf_matrix[0][1]\n",
    "print(f\"True  Positive: {TP}\")\n",
    "print(f\"False Positive: {FP}\")\n",
    "print(f\"True  Negative: {TN}\")\n",
    "print(f\"False Negative: {FN}\\n\")\n",
    "\n",
    "# Accuracy\n",
    "print(f\"Accuracy: {(TP+TN)/(TP+TN+FP+FN)}\")\n",
    "# Specificity\n",
    "print(f\"Specificity: {(TN)/(TN+FP)}\")\n",
    "# Sensitivity/Recall\n",
    "Recall = (TP)/(TP+FN)\n",
    "print(f\"Sensitivity/Recall: {(TP)/(TP+FN)}\")\n",
    "# Precision\n",
    "Precision = (TP)/(TP+FP)\n",
    "print(f\"Precision: {(TP)/(TP+FP)}\")\n",
    "# F-score\n",
    "print(f\"F1-score: {2* (Precision * Recall)/(Precision + Recall)}\")\n",
    "print(f\"F_0.5-score: {(1+np.power(0.5,2))* (Precision * Recall)/((np.power(0.5,2) * Precision) + Recall)}\")\n",
    "print(f\"F_2-score: {(1+np.power(2,2))* (Precision * Recall)/((np.power(2,2) * Precision) + Recall)} \\n\")\n",
    "\n",
    "print(\"\\n Krzywa ROC Curve \\n\")\n",
    "\n",
    "fpr, tpr, thresholds = roc_curve(y, probabilities) # użycie funkcji z biblioteki sklearn\n",
    "\n",
    "def plot_static_roc_curve(fpr, tpr):\n",
    "    \"\"\"\n",
    "    Wizaulizacja krzywej ROC\n",
    "    \"\"\"\n",
    "    plt.figure(figsize=[7,7])\n",
    "    plt.fill_between(fpr, tpr, alpha=.5)\n",
    "    plt.plot([0,1], [0,1], linestyle=(0, (5, 5)), linewidth=2)\n",
    "    plt.xlabel(\"False Positive Rate\")\n",
    "    plt.ylabel(\"True Positive Rate\")\n",
    "    plt.title(\"ROC curve\");\n",
    "    \n",
    "plot_static_roc_curve(fpr, tpr) # użycie funkcji wizualizującej"
   ]
  },
  {
   "cell_type": "markdown",
   "metadata": {},
   "source": [
    "### AUC metric\n",
    "\n",
    "Obszar znajdujący się pod krzywą ROC nazywany jest błędem AUC i jest to miara wydajności klasyfikatora dla wszystkich wartości progowych. Metryka ta przyjmuje wartości z zakresu od 0 do 1, gdzie wartożsci bliższe 1 oznacza, że krzywa ROC zbliża się ku lewemu górnemu narożnikowi wykresu.\n",
    "\n",
    "Wartość tą interpretujemy, że dal wysokiej wartości AUC model oceni wyżej losowy pozytywny przypadek, niż losowy negatywny dla klasyfikacji w danej klasie.\n",
    "\n",
    "\n",
    "\n",
    "## Podejście Grupujące\n",
    "\n",
    "Grupowanie, czyli szerzej znane jako klasteryzacja (od ang. \"Clustering\") polega na podzieleniu populacji lub próbki na wiele grup, tak aby obserwacje w tych samych grupach były bardziej podobne do obserwacji w tej samej grupie, niż w innej.\n",
    "\n",
    "\n",
    "### V-measure\n",
    "\n",
    "Metryka ta łączy dwa koncepty Jednorodności (Homogeneity) oraz Kompletności (Completeness).\n",
    "![topic](media/v_measure.png)\n",
    "\n",
    "\n",
    "Metryka ta przyjmuje wartości od 0 do 1, gdzie 1 oznacza najlepszą jakość w obrębie tej metryki.\n",
    "Jednym z minusów dla tej metryki jest konieczność posiadania wiedzy na temat prawdziwych klastrów (grup) dla danych obserwacji, a często przy problemach klastrowania nie znamy tych grup i chcemy je wywnioskować na podstawie wyników algorytmu.\n",
    "\n",
    "\n",
    "**Jednorodność** - każdy klaster zawiera tylko członków jednej klasy\n",
    "![topic](media/h_homogeneity.png), gdzie\n",
    "![topic](media/Homogeneity.png)\n",
    "Wartości $n_{ck}$ - oznacza ilość obserwacji klasy c w obrębie klastra k,\n",
    "natomiast $n_k$ - oznacza ilość wszystkich obserwacji w obrębie klastra k.\n",
    "\n"
   ]
  },
  {
   "cell_type": "code",
   "execution_count": 141,
   "metadata": {
    "ExecuteTime": {
     "end_time": "2021-10-22T11:42:45.245744Z",
     "start_time": "2021-10-22T11:42:45.026976Z"
    }
   },
   "outputs": [
    {
     "name": "stdout",
     "output_type": "stream",
     "text": [
      "Homogeneity - każdy Klaster posiada obserwacje tylko z jednej klasy.\n"
     ]
    },
    {
     "data": {
      "image/png": "[encoded data removed]",
      "text/plain": [
       "<Figure size 432x288 with 1 Axes>"
      ]
     },
     "metadata": {
      "needs_background": "light"
     },
     "output_type": "display_data"
    }
   ],
   "source": [
    "from sklearn.metrics.cluster import v_measure_score\n",
    "import matplotlib.patches as patches\n",
    "\n",
    "# stworzenie prostej przykladowej ramki danych\n",
    "df_completness = pd.DataFrame({'klasa':[1,1,1,1,1,1,1,1,2,2,2,2,3,3,3,3],\n",
    "                     'x':[0.2,0.3,0.15,0.24,0.14,0.32,0.4,0.2,0.64,0.74,0.69,0.71,0.89,0.94,0.76,0.83],\n",
    "                     'y':[0.1,0.2,0.12,0.11,0.64,0.76,0.68,0.66,0.45,0.62,0.53,0.55,0.1,0.12,0.08,0.16]})\n",
    "\n",
    "print(\"Homogeneity - każdy Klaster posiada obserwacje tylko z jednej klasy.\")\n",
    "\n",
    "fig, ax = plt.subplots()\n",
    "scatter = ax.scatter(df_completness.x, df_completness.y, c=df_completness.klasa) # Wizualizacjach obserwacji\n",
    "ax.add_artist(ax.legend(*scatter.legend_elements(), loc=\"upper right\", title=\"Klasy\")) # dodanie legendy\n",
    "ax.add_patch(patches.Rectangle((0.11,0.05), 0.32, 0.3, fill=False)) # dodanie oznaczenia klastra 1\n",
    "ax.text(0.15,0.3,\"Klaster 1\")\n",
    "ax.add_patch(patches.Rectangle((0.11,0.55), 0.32, 0.3, fill=False)) # dodanie oznaczenia klastra 2\n",
    "ax.text(0.15,0.8,\"Klaster 2\")\n",
    "ax.add_patch(patches.Rectangle((0.58, 0.4), 0.2, 0.3, fill=False)) # dodanie oznaczenia klastra 3\n",
    "ax.text(0.6,0.65,\"Klaster 3\")\n",
    "ax.add_patch(patches.Rectangle((0.7,0.05), 0.3, 0.2, fill=False)) # dodanie oznaczenia klastra 4\n",
    "ax.text(0.72,0.2,\"Klaster 4\")\n",
    "plt.show()\n"
   ]
  },
  {
   "cell_type": "markdown",
   "metadata": {},
   "source": [
    "---\n",
    "**Kompletność** - wszyscy członkowie danej klasy są przypisani do tego samego klastra\n",
    "![topic](media/Completenesss.png)\n",
    "\n"
   ]
  },
  {
   "cell_type": "code",
   "execution_count": 142,
   "metadata": {
    "ExecuteTime": {
     "end_time": "2021-10-22T11:42:49.308573Z",
     "start_time": "2021-10-22T11:42:49.089806Z"
    }
   },
   "outputs": [
    {
     "name": "stdout",
     "output_type": "stream",
     "text": [
      "Completeness - każdy Klaster posiada obserwacje tylko z jednej klasy.\n"
     ]
    },
    {
     "data": {
      "image/png": "[encoded data removed]",
      "text/plain": [
       "<Figure size 432x288 with 1 Axes>"
      ]
     },
     "metadata": {
      "needs_background": "light"
     },
     "output_type": "display_data"
    }
   ],
   "source": [
    "from sklearn.metrics.cluster import v_measure_score\n",
    "import matplotlib.patches as patches\n",
    "\n",
    "# stworzenie prostej przykladowej ramki danych\n",
    "df_completness = pd.DataFrame({'klasa':[1,1,1,1,1,1,1,1,2,2,2,2,3,3,3,3],\n",
    "                     'x':[0.2,0.3,0.15,0.24,0.14,0.32,0.4,0.2,0.64,0.74,0.69,0.71,0.89,0.94,0.76,0.83],\n",
    "                     'y':[0.1,0.2,0.12,0.11,0.64,0.76,0.68,0.66,0.45,0.62,0.53,0.55,0.1,0.12,0.08,0.16]})\n",
    "\n",
    "\n",
    "print(\"Completeness - każdy Klaster posiada obserwacje tylko z jednej klasy.\")\n",
    "\n",
    "fig, ax = plt.subplots()\n",
    "scatter = ax.scatter(df_completness.x, df_completness.y, c=df_completness.klasa) # Wizualizacjach obserwacji\n",
    "ax.add_artist(ax.legend(*scatter.legend_elements(), loc=\"upper right\", title=\"Klasy\")) # dodanie legendy\n",
    "ax.add_patch(patches.Rectangle((0.11,0.05), 0.32, 0.8, fill=False)) # dodanie oznaczenia klastra 1\n",
    "ax.text(0.15,0.8,\"Klaster 1\")\n",
    "ax.add_patch(patches.Rectangle((0.58, 0.4), 0.2, 0.3, fill=False)) # dodanie oznaczenia klastra 2\n",
    "ax.text(0.6,0.65,\"Klaster 2\")\n",
    "ax.add_patch(patches.Rectangle((0.7,0.05), 0.3, 0.2, fill=False)) # dodanie oznaczenia klastra 3\n",
    "ax.text(0.72,0.2,\"Klaster 3\")\n",
    "plt.show()"
   ]
  },
  {
   "cell_type": "markdown",
   "metadata": {},
   "source": [
    "### Silhouette Coefficient\n",
    "\n",
    "Współczynnik ten określa, jak bardzo klastry są od siebie oddalone oraz rozróżnialne.\n",
    "Przyjmuje on wartości od -1 do 1, gdzie:\n",
    "\n",
    "     1 - Klastry są od siebie oddalone i łatwo rozróżnialne\n",
    "     0 - Klastry są przeciętne, odległość między nimi jest nieznacząca\n",
    "    -1 - Klastry zostały źle przypisane\n",
    "    \n",
    "Wzór określający ten współczynnik przedstawia się następująco:\n",
    "![topic](media/silhouette.png), gdzie\n",
    "\n",
    "$a$ - jest to średnia odległość pomiędzy obserwacją, a pozostałymi obserwacjami w danym klastrze <br>\n",
    "$b$ - jest to średnia odległość pomiędzy obserwacją, a pozostałymi obserwacjami w kolejnym najbliższym klastrze\n",
    "\n",
    "Po zebraniu wartości dla wszystkich obserwacji wartość ta jest uśredniana."
   ]
  },
  {
   "cell_type": "markdown",
   "metadata": {},
   "source": [
    "### Dunn's Index\n",
    "\n",
    "Ostatnią omawianą metryką dla problemów grupowania jest metryka Dunn's Index.\n",
    "\n",
    "Index ten jest równy minimalnej odległości między klsatrami podzielonej przez maksymalny rozmiar tego klastra.\n",
    "\n",
    "![topic](media/DunnIndex.png)\n",
    "\n",
    "Duże odległości pomiędzy klastrami są przejawem lepszej separacji, natomiast mniejszy rozmiar klastra świadczy o wyższej gęstości klastra. Jeśli obie z tych cech zostaną odpowiednio usatysfakcjonowane będzie to prowadziło do wyższej wartości DI (Dunn's Index). Wyższe DI oznacza lepsze grupowanie pod warunkiem, że lepsze grupowanie jest zdefiniowane jako zwarte klastry dobrze oddzielone od siebie nawzajem.\n",
    "\n",
    "![topic](media/dunn_image.png)"
   ]
  }
 ],
 "metadata": {
  "kernelspec": {
   "display_name": "base",
   "language": "python",
   "name": "python3"
  },
  "language_info": {
   "codemirror_mode": {
    "name": "ipython",
    "version": 3
   },
   "file_extension": ".py",
   "mimetype": "text/x-python",
   "name": "python",
   "nbconvert_exporter": "python",
   "pygments_lexer": "ipython3",
   "version": "3.9.7 (default, Sep 16 2021, 16:59:28) [MSC v.1916 64 bit (AMD64)]"
  },
  "toc": {
   "base_numbering": 1,
   "nav_menu": {},
   "number_sections": true,
   "sideBar": true,
   "skip_h1_title": false,
   "title_cell": "Table of Contents",
   "title_sidebar": "Contents",
   "toc_cell": false,
   "toc_position": {
    "height": "calc(100% - 180px)",
    "left": "10px",
    "top": "150px",
    "width": "384px"
   },
   "toc_section_display": true,
   "toc_window_display": true
  },
  "varInspector": {
   "cols": {
    "lenName": 16,
    "lenType": 16,
    "lenVar": 40
   },
   "kernels_config": {
    "python": {
     "delete_cmd_postfix": "",
     "delete_cmd_prefix": "del ",
     "library": "var_list.py",
     "varRefreshCmd": "print(var_dic_list())"
    },
    "r": {
     "delete_cmd_postfix": ") ",
     "delete_cmd_prefix": "rm(",
     "library": "var_list.r",
     "varRefreshCmd": "cat(var_dic_list()) "
    }
   },
   "types_to_exclude": [
    "module",
    "function",
    "builtin_function_or_method",
    "instance",
    "_Feature"
   ],
   "window_display": false
  },
  "vscode": {
   "interpreter": {
    "hash": "ad2bdc8ecc057115af97d19610ffacc2b4e99fae6737bb82f5d7fb13d2f2c186"
   }
  }
 },
 "nbformat": 4,
 "nbformat_minor": 4
}
