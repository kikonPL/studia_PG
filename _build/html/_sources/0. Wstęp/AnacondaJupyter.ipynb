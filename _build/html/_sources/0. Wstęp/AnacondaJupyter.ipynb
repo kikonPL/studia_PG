{
 "cells": [
  {
   "cell_type": "markdown",
   "metadata": {},
   "source": [
    "# JupyterLab & Anaconda "
   ]
  },
  {
   "cell_type": "markdown",
   "metadata": {},
   "source": [
    "## Instalowanie i aktualizowanie pakietów Python (pip, conda)"
   ]
  },
  {
   "cell_type": "markdown",
   "metadata": {},
   "source": [
    "W tej części zostaną przedstawione dwa systemy do zarządzania pakietami dla środowsika Python tj. **pip** oraz **conda**. \n",
    "\n",
    "System zarządzania **pip** jest domyślnym menadżerem pakietów dostępnym dla języka Python. Korzysta z dedykowanego repozytorium pakietów _Python Package Index_ w skrócie _PyPi_.\n",
    "\n",
    "Z drugiej strony **conda** oprócz zarządzania pakietami zajmuję się również zarządzaniem środowiskami wirtualnymi. Dzięki systemowi zarządzania **conda** jesteśmy w stanie budować wyizolowowane środowiska wirtualne z odpowiednią wersją Python oraz interesującymi nas pakietami. **Conda** instaluje pakiety z repozytorium _Anaconda repository_, a także z _Anaconda Cloud_. Plusem **conda** jest możliwość wykorzystania tego mendażera nie tylko do Python, ale również m.in. do R czy C++."
   ]
  },
  {
   "cell_type": "markdown",
   "metadata": {},
   "source": [
    "## Podstawowe polecenia dla _pip_ oraz _conda_"
   ]
  },
  {
   "cell_type": "markdown",
   "metadata": {},
   "source": [
    "### Tworzenie środowiska wirtualnego"
   ]
  },
  {
   "cell_type": "markdown",
   "metadata": {},
   "source": [
    "Python Virtual Environment (venv) jest środowiskiem Pythona, które jest odseparowane i całkowicie niezależne od głównej instalacji Pythona. Każdy tworzony przez nas projekt może, a nawet powinien, zawierać swoje środowisko, dzięki czemu może składać się z unikalnego zestawu pakietów.\n",
    "\n",
    "Venv jest nowym katalogiem na dysku, w którym znajduje się kopia Pythona. Zaraz po utworzeniu zawiera ona jedynie podstawowe pakiety. Zupełnie tak, jakbyśmy zainstalowali Pythona sami w nowej lokalizacji."
   ]
  },
  {
   "cell_type": "markdown",
   "metadata": {},
   "source": [
    "#### Z wykorzystaniem command line"
   ]
  },
  {
   "cell_type": "markdown",
   "metadata": {},
   "source": [
    "```\n",
    "python -m venv /path/to/new/virtual/environment\n",
    "```\n",
    "\n",
    "W condzie:\n",
    "```\n",
    "conda create --name <env_name>\n",
    "```"
   ]
  },
  {
   "cell_type": "markdown",
   "metadata": {},
   "source": [
    "#### Z wykorzystaniem pliku _requirements.txt_"
   ]
  },
  {
   "cell_type": "markdown",
   "metadata": {},
   "source": [
    "W tym przypadku nie do końca mówimy o instaltacji środowiska, ale raczej o instalacji pakietów z wykorzsytanien pliku tektsowego. Możemy w pliku zdefiniować całą listę pakietów wraz z ich wersajmi, a następnie przy pomocy poniższej komendy zainstalować je wszystkie. Należy pamiętać, aby w tym przypadku w pierwszej kolejności utworzyć środowisko wirtualne z command line."
   ]
  },
  {
   "cell_type": "markdown",
   "metadata": {},
   "source": [
    "```\n",
    "pip install -r requirements.txt\n",
    "```"
   ]
  },
  {
   "cell_type": "markdown",
   "metadata": {},
   "source": [
    "#### Z wykorzystaniem pliku _environment.yml_\n",
    "\n",
    "Przykładowy plik _environment.yml_:\n",
    "```\n",
    "name: <env_name>\n",
    "channels:\n",
    "  - defaults\n",
    "dependencies:\n",
    "  - python=3.9\n",
    "  - pandas=1.5.3\n",
    "  - pip=23.1.2\n",
    "  - pip:\n",
    "    - numpy==1.23.5\n",
    "```\n",
    "\n",
    "W tym przypadku tworzymy środowisko wraz z nazwą, odpowiednią wersją python oraz wszystkimi wymienionymi pakietami w zdefiniowanych wersjach."
   ]
  },
  {
   "cell_type": "markdown",
   "metadata": {},
   "source": [
    "```\n",
    "conda env create -f environment.yml\n",
    "```"
   ]
  },
  {
   "cell_type": "markdown",
   "metadata": {},
   "source": [
    "### Aktywacja środowiska "
   ]
  },
  {
   "cell_type": "markdown",
   "metadata": {},
   "source": [
    "#### Aktywacja środowiska conda"
   ]
  },
  {
   "cell_type": "markdown",
   "metadata": {},
   "source": [
    "```\n",
    "conda activate <env_name>\n",
    "```"
   ]
  },
  {
   "cell_type": "markdown",
   "metadata": {},
   "source": [
    "Po właściwej aktywacji środowiska w wierszu poleceń pokazane jest, które środowisko jest aktywne:\n",
    "\n",
    "![Alt text](img/image-4.png)\n",
    "\n",
    "W przypadku nieudanej aktywacji (np. będziemy próbować aktywować środowisko, którego nie ma) dostaniemy błąd:\n",
    "\n",
    "![Alt text](img/image-5.png)"
   ]
  },
  {
   "cell_type": "markdown",
   "metadata": {},
   "source": [
    "#### Aktywacja środowiska venv"
   ]
  },
  {
   "cell_type": "markdown",
   "metadata": {},
   "source": [
    "```\n",
    "cd <path_to_virtual_env>/Scripts\n",
    "activate\n",
    "```"
   ]
  },
  {
   "cell_type": "markdown",
   "metadata": {},
   "source": [
    "Po właściwej aktywacji środowiska będzie ono widoczne:\n",
    "\n",
    "![Alt text](img/image-18.png)"
   ]
  },
  {
   "cell_type": "markdown",
   "metadata": {},
   "source": [
    "### Deaktywacja środowiska"
   ]
  },
  {
   "cell_type": "markdown",
   "metadata": {},
   "source": [
    "#### conda"
   ]
  },
  {
   "cell_type": "markdown",
   "metadata": {},
   "source": [
    "```\n",
    "conda deactivate\n",
    "```"
   ]
  },
  {
   "cell_type": "markdown",
   "metadata": {},
   "source": [
    "![Alt text](img/image-6.png)"
   ]
  },
  {
   "cell_type": "markdown",
   "metadata": {},
   "source": [
    "#### venv"
   ]
  },
  {
   "cell_type": "markdown",
   "metadata": {},
   "source": [
    "```\n",
    "deactivate\n",
    "```"
   ]
  },
  {
   "cell_type": "markdown",
   "metadata": {},
   "source": [
    "![Alt text](img/image-19.png)"
   ]
  },
  {
   "cell_type": "markdown",
   "metadata": {},
   "source": [
    "### Wylistowanie wszystkich dostępnych środowisk w condzie"
   ]
  },
  {
   "cell_type": "markdown",
   "metadata": {},
   "source": [
    "```\n",
    "conda env list\n",
    "```"
   ]
  },
  {
   "cell_type": "markdown",
   "metadata": {},
   "source": [
    "Warto zauważyć, że aktywne środowisko jest oznaczone \"*\"\n",
    "\n",
    "![Alt text](img/image-7.png)"
   ]
  },
  {
   "cell_type": "markdown",
   "metadata": {},
   "source": [
    "### Usuwanie środowiska conda"
   ]
  },
  {
   "cell_type": "markdown",
   "metadata": {},
   "source": [
    "```\n",
    "conda env remove --name <env_name>\n",
    "```"
   ]
  },
  {
   "cell_type": "markdown",
   "metadata": {},
   "source": [
    "\n",
    "Możemy usunąć środowisko tylko wtedy, gdy nie jest ono aktywne. W innym wypadku dostaniemy błąd:\n",
    "\n",
    "![Alt text](img/image-8.png)"
   ]
  },
  {
   "cell_type": "markdown",
   "metadata": {},
   "source": [
    "### Instalowanie bibliotek"
   ]
  },
  {
   "cell_type": "markdown",
   "metadata": {},
   "source": [
    "```\n",
    "pip install <package_name1> <package_name2> ... <package_nameN>\n",
    "```"
   ]
  },
  {
   "cell_type": "markdown",
   "metadata": {},
   "source": [
    "```\n",
    "conda install <package_name1> <package_name2> ... <package_nameN>\n",
    "```"
   ]
  },
  {
   "cell_type": "markdown",
   "metadata": {},
   "source": [
    "### Odinstalowanie bibliotek"
   ]
  },
  {
   "cell_type": "markdown",
   "metadata": {},
   "source": [
    "```\n",
    "pip uninstall <package_name1> <package_name2> ... <package_nameN>\n",
    "```"
   ]
  },
  {
   "cell_type": "markdown",
   "metadata": {},
   "source": [
    "```\n",
    "conda remove <package_name1> <package_name2> ... <package_nameN>\n",
    "```"
   ]
  },
  {
   "cell_type": "markdown",
   "metadata": {},
   "source": [
    "### Export środowiska wirtualnego do pliku environment.yaml"
   ]
  },
  {
   "cell_type": "markdown",
   "metadata": {},
   "source": [
    "```\n",
    "conda env export > environment.yml\n",
    "```"
   ]
  },
  {
   "cell_type": "markdown",
   "metadata": {},
   "source": [
    "### Export listy pakietów do pliku requirements.txt"
   ]
  },
  {
   "cell_type": "markdown",
   "metadata": {},
   "source": [
    "```\n",
    "pip freeze > requirements.txt\n",
    "```"
   ]
  },
  {
   "cell_type": "markdown",
   "metadata": {},
   "source": [
    "### Tworzenie nowych środowisk i zarządzanie nimi z poziomu Anaconda Navigator"
   ]
  },
  {
   "cell_type": "markdown",
   "metadata": {},
   "source": [
    "1. Wybieramy zakładkę Environments z menu po lewej stronie\n",
    "\n",
    "![Alt text](img/image.png)\n",
    "\n",
    "2. Klikamy przycisk \"Create\" znajdujący się na dole drugiego panelu\n",
    "\n",
    "![Alt text](img/image-1.png)\n",
    "\n",
    "3. Wpisujemy nazwę naszego środowiska oraz wybieramy wersję python. Zatwierdzamy klikając \"Create\"\n",
    "\n",
    "![Alt text](img/image-2.png)\n",
    "\n",
    "4. Dodatkowo możemy zainstalować pakiety ręcznie\n",
    "\n",
    "![Alt text](img/image-3.png)\n"
   ]
  },
  {
   "cell_type": "markdown",
   "metadata": {},
   "source": [
    "### Przydatne informacje"
   ]
  },
  {
   "cell_type": "markdown",
   "metadata": {},
   "source": [
    "Cheatsheet: https://docs.conda.io/projects/conda/en/latest/user-guide/cheatsheet.html"
   ]
  },
  {
   "cell_type": "markdown",
   "metadata": {},
   "source": [
    "Różnice pomiędzy pip oraz conda: https://www.anaconda.com/blog/understanding-conda-and-pip"
   ]
  },
  {
   "cell_type": "markdown",
   "metadata": {},
   "source": [
    "## Zadanie 1"
   ]
  },
  {
   "cell_type": "markdown",
   "metadata": {},
   "source": [
    "Utwórz środowisko wirtualne o nazwie **env_szkolenie_python** z wersją Python 3.10 z następującymi bibliotekami:\n",
    "\n",
    "- pandas\n",
    "- numpy\n",
    "- scipy\n",
    "- statsmodels\n",
    "- matplotlib\n",
    "- seaborn\n",
    "\n",
    "Środowisko wirtualne utwórz z wiersza poleceń korzystając z polecenia _conda_. Po utworzeniu środowiska zapisz artefakt w formie pliku requirements.txt oraz environment.yaml. Skorzystaj do tego z poleceń opartych o _pip_ oraz _conda_. \n",
    "  "
   ]
  },
  {
   "cell_type": "markdown",
   "metadata": {},
   "source": [
    "## Zadanie 2"
   ]
  },
  {
   "cell_type": "markdown",
   "metadata": {},
   "source": [
    "Na podstawie eksportowanego środowiska w poprzednim zadaniu utwórz nowe środowisko wirtualne tym razem o nazwie **env_szkolenie_python_pip** i **env_szkolenie_python_conda**. Do tego wykorzystaj plik _requirements.txt_ oraz _envrionment.yaml_. "
   ]
  },
  {
   "cell_type": "markdown",
   "metadata": {},
   "source": [
    "## JupyterLab / Jupyter Notebook"
   ]
  },
  {
   "cell_type": "markdown",
   "metadata": {},
   "source": [
    "Jupyter Notebook służy do wykonywania interaktywnych obliczeń. Zawiera w sobie obliczenia, wyniki, tekst objaśniający, obrazy, bogate reprezentacje multimedialne obiektów, itd.\n",
    "\n",
    "JupyterLab to internetowy interfejs. Umożliwia on pracę z dokumentami i działaniami takimi jak Jupyter Notebook, edotyory tekstu, wiersze poleceń, itp."
   ]
  },
  {
   "cell_type": "markdown",
   "metadata": {},
   "source": [
    "### Uruchomienie JupyterLab / Jupyter Notebook"
   ]
  },
  {
   "cell_type": "markdown",
   "metadata": {},
   "source": [
    "#### Z poziomu wiersza poleceń:\n",
    "\n",
    "1. Instalacja pakietu\n",
    "\n",
    "```\n",
    "conda install jupyter\n",
    "```\n",
    "\n",
    "2. Włączenie JupyterLab (dla notebooka analogicznie)\n",
    "\n",
    "```\n",
    "jupyter-lab\n",
    "```\n",
    "\n",
    "![Alt text](img/image-9.png)\n",
    "\n",
    "3. Po wpisaniu komendy w przeglądarce JupyterLab chodzi na lokalnym hoście\n",
    "4. Nie należy wyłączać wiersza poleceń. W innym wypadku stracimy połączenie z JupyterLab:\n",
    "\n",
    "![Alt text](img/image-10.png)"
   ]
  },
  {
   "cell_type": "markdown",
   "metadata": {},
   "source": [
    "#### Z poziomu Anaconda Navigator\n",
    "\n",
    "1. Uruchamiamy Anaconda Navigator\n",
    "2. Upewniamy się, że mamy wybrane dobre środowisko:\n",
    "\n",
    "![Alt text](img/image-11.png)\n",
    "\n",
    "2. Instalujemy bibliotekę jupyter (o ile nie zrobiliśmy tego wcześniej). Jeśli juptyer nie jest zainstalowany to można to zrobić jednym kliknięciem w menu głównym:\n",
    "\n",
    "![Alt text](img/image-12.png)\n",
    "\n",
    "3. Włączamy JupyterLab / Jupyter Notebook:\n",
    "\n",
    "![Alt text](img/image-13.png)\n",
    "\n",
    "4. I tym razem JupyterLab również jest włączony na lokalnym hoście"
   ]
  },
  {
   "cell_type": "markdown",
   "metadata": {},
   "source": [
    "### Obsługa Jupter"
   ]
  },
  {
   "cell_type": "markdown",
   "metadata": {},
   "source": [
    "#### Kernel"
   ]
  },
  {
   "cell_type": "markdown",
   "metadata": {},
   "source": [
    "Kernele to procesy specyficzne dla języka programowania, które działają niezależnie i wchodzą w interakcje z aplikacjami Jupyter i ich interfejsami użytkownika. **ipykernel** to referencyjny kernel Jupyter zbudowany na bazie IPython, zapewniający środowisko do interaktywnych obliczeń w Pythonie. **Kernel** to podstawowy komponent, który odgrywa kluczową rolę w wykonywaniu kodu i zarządzaniem środowiskiem obliczeniowym."
   ]
  },
  {
   "cell_type": "markdown",
   "metadata": {},
   "source": [
    "#### Ręczne zatrzymanie pracy środowiska"
   ]
  },
  {
   "cell_type": "markdown",
   "metadata": {},
   "source": [
    "Zdarzyć się może, że nasz kod będzie wykonywać się długo, albo znajdziemy w nim błąd w trakcie jego wykonywania. Na przykład tworząc nieskończoną pętlę:\n",
    "\n",
    "```py\n",
    "while True:\n",
    "    pass\n",
    "```\n",
    "\n",
    "Wtedy możemy zatrzymać jego wykonywanie, zastopować kernel. Wystarczy wybrać opcję \"interrupt the kernel\" z górnego panelu:\n",
    "\n",
    "![Alt text](img/image-14.png)\n",
    "\n",
    "Wówczas w wyniku komórki, która się wykonywała dostaniemy odpowiedni błąd:\n",
    "\n",
    "![Alt text](img/image-15.png)"
   ]
  },
  {
   "cell_type": "markdown",
   "metadata": {},
   "source": [
    "#### Automatyczne zatrzymanie pracy środowiska"
   ]
  },
  {
   "cell_type": "markdown",
   "metadata": {},
   "source": [
    "Czasem bywa tak, że kernel zatrzymuje się automatycznie. Może mieć to związek ze skończeniem się zasobów maszyny, na której pracujemy."
   ]
  },
  {
   "cell_type": "markdown",
   "metadata": {},
   "source": [
    "#### Dodanie kernela środowiska wirtualnego do JupyterLab"
   ]
  },
  {
   "cell_type": "markdown",
   "metadata": {},
   "source": [
    "1. Odpalamy wiersz poleceń\n",
    "2. Aktywujemy nasze wirtualne środowisko (poniżej pokazane dla Windows)\n",
    "\n",
    "```\n",
    "cd <path_to_virtual_env>/Scripts\n",
    "activate\n",
    "```\n",
    "\n",
    "![Alt text](img/image-16.png)\n",
    "\n",
    "3. W razie potrzeby instalujemy jupyter (jeżeli jupyter jest zainstalowany to patrz punkt 5)\n",
    "\n",
    "```\n",
    "pip pinstall jupyter\n",
    "```\n",
    "\n",
    "4. Jeżeli nie mamy pip wtedy uruchamiamy dwie komendy:\n",
    "\n",
    "```\n",
    "curl https://bootstrap.pypa.io/get-pip.py -o get-pip.py\n",
    "python get-pip.py\n",
    "```\n",
    "\n",
    "5. Uruchamiamy komendę (nazwa \"local-venv\" dowolna):\n",
    "\n",
    "```\n",
    "ipython kernel install --name \"local-venv\" --user\n",
    "```\n",
    "\n",
    "6. Wówczas po uruchomieniu JupyterLaba/Notebooka mamy do wyboru nowy kernel:\n",
    "\n",
    "![Alt text](img/image-17.png)"
   ]
  },
  {
   "cell_type": "markdown",
   "metadata": {},
   "source": [
    "### Skróty klawiszowe"
   ]
  },
  {
   "cell_type": "markdown",
   "metadata": {},
   "source": [
    "- **Enter** -  Przejście do trybu edycji komórki\n",
    "- **Control + Enter** - Uruchomienie linijki kodu\n",
    "- **Shift + Enter** -  Uruchomienie linijki kodu i przejście do następnej komórki\n",
    "- **Escape** - Przejście do trybu komend\n",
    "- **a** - Wstawienie nowego wiersz powyżej (above)\n",
    "- **b** - Wstawienie nowego wiesza poniżej (below)\n",
    "- **dd** - Usunięcie bieżącego wiesza (delete)\n",
    "- **m** - Zmiana typu komórki na komentarz (markdown)\n",
    "- **y** - Zmiana typu komórki na kod (code)\n",
    "- **x** - Wytnij komórkę (cut)\n",
    "- **c** - Skopiuj komórkę (copy)\n",
    "- **v** - Wstaw wyciętą/skopiowaną komórkę (paste)\n",
    "- **Shift + m** - Połączenie dwóch komórek (merge)\n",
    "- **Control + Shift + –** -  Rozdzielenie dwóch komórek (split)\n",
    "- **Control + s** -  Zapisz notebook (save)\n",
    "- **o** -  Pokaż/ukryj output (output)\n",
    "- **l** -  Polaż/ukryj numery linijek (line number)\n",
    "- **Shift + L** -  Pokaż/ukryj numery linijek w całym notebooku\n",
    "- **Control + Shift + f** -  Wyszukiwanie komend\n",
    "- **h** - Pomoc dot. skrótów klawiaturowych (help)"
   ]
  },
  {
   "cell_type": "markdown",
   "metadata": {},
   "source": [
    "### Praca z Jupyter Notebook"
   ]
  },
  {
   "cell_type": "markdown",
   "metadata": {},
   "source": [
    "W notatniku mamy do wyboru kilka opcji:\n",
    "\n",
    "- pisanie kodu\n",
    "- pisanie Markdown\n",
    "- pisanie surowego tekstu\n",
    "\n",
    "![Alt text](img/image-20.png)"
   ]
  },
  {
   "cell_type": "markdown",
   "metadata": {},
   "source": [
    "#### Pisanie Markdown"
   ]
  },
  {
   "cell_type": "markdown",
   "metadata": {},
   "source": [
    "##### Nagłówki\n",
    "```\n",
    "# Nagłówek główny\n",
    "## H2\n",
    "### H3\n",
    "#### H4\n",
    "##### H5\n",
    "###### H6\n",
    "```"
   ]
  },
  {
   "cell_type": "markdown",
   "metadata": {},
   "source": [
    "Rezultat:"
   ]
  },
  {
   "cell_type": "markdown",
   "metadata": {},
   "source": [
    "# Nagłówek główny\n",
    "## H2\n",
    "### H3\n",
    "#### H4\n",
    "##### H5\n",
    "###### H6"
   ]
  },
  {
   "cell_type": "markdown",
   "metadata": {},
   "source": [
    "---"
   ]
  },
  {
   "cell_type": "markdown",
   "metadata": {},
   "source": [
    "##### Pogrubienie, kursywa"
   ]
  },
  {
   "cell_type": "markdown",
   "metadata": {},
   "source": [
    "```\n",
    "*kursywa*\n",
    "**pogrubienie**\n",
    "```"
   ]
  },
  {
   "cell_type": "markdown",
   "metadata": {},
   "source": [
    "Rezultat:"
   ]
  },
  {
   "cell_type": "markdown",
   "metadata": {},
   "source": [
    "*kursywa*\n",
    "\n",
    "**pogrubienie**"
   ]
  },
  {
   "cell_type": "markdown",
   "metadata": {},
   "source": [
    "---"
   ]
  },
  {
   "cell_type": "markdown",
   "metadata": {},
   "source": [
    "##### Markdown wspiera też HTMLa"
   ]
  },
  {
   "cell_type": "markdown",
   "metadata": {},
   "source": [
    "```HTML\n",
    "<u>podkreślenie</u> \n",
    "nowa linia -> <br />\n",
    "<b>pogrubienie</b>\n",
    "<span style=\"color:red\"> kolorowanie </span>\n",
    "odnośnik<sup>2</sup>\n",
    "<font size = \"5\"> Zmiana rozmiaru czcionki\n",
    "<p style='margin-bottom:1em; margin-right:1em; text-align:right; font-family:Georgia'> Zmiana  stylu  i przesunięcie tekstu</p>\n",
    "```"
   ]
  },
  {
   "cell_type": "markdown",
   "metadata": {},
   "source": [
    "Rezultat:"
   ]
  },
  {
   "cell_type": "markdown",
   "metadata": {},
   "source": [
    "<u>podkreślenie</u> \n",
    "nowa linia -> <br />\n",
    "<b>pogrubienie</b>\n",
    "<span style=\"color:red\"> kolorowanie </span>\n",
    "odnośnik<sup>2</sup>\n",
    "<font size = \"5\"> Zmiana rozmiaru czcionki\n",
    "<p style='margin-bottom:1em; margin-right:1em; text-align:right; font-family:Georgia'> Zmiana  stylu  i przesunięcie tekstu</p>"
   ]
  },
  {
   "cell_type": "markdown",
   "metadata": {},
   "source": [
    "---"
   ]
  },
  {
   "cell_type": "markdown",
   "metadata": {},
   "source": [
    "##### Listy"
   ]
  },
  {
   "cell_type": "markdown",
   "metadata": {},
   "source": [
    "```\n",
    "- Element 1\n",
    "- Element 2\n",
    "    - Element 2.1\n",
    "    - Element 2.2\n",
    "        - Element 2.2.1\n",
    "```\n",
    "\n",
    "```\n",
    "1. Element 1\n",
    "2. Element 2\n",
    "    - Element 2.1\n",
    "    - Element 2.2\n",
    "        - Element 2.2.1\n",
    "```"
   ]
  },
  {
   "cell_type": "markdown",
   "metadata": {},
   "source": [
    "Rezultat:"
   ]
  },
  {
   "cell_type": "markdown",
   "metadata": {},
   "source": [
    "- Element 1\n",
    "- Element 2\n",
    "    - Element 2.1\n",
    "    - Element 2.2\n",
    "        - Element 2.2.1"
   ]
  },
  {
   "cell_type": "markdown",
   "metadata": {},
   "source": [
    "1. Element 1\n",
    "2. Element 2\n",
    "    - Element 2.1\n",
    "    - Element 2.2\n",
    "        - Element 2.2.1"
   ]
  },
  {
   "cell_type": "markdown",
   "metadata": {},
   "source": [
    "---"
   ]
  },
  {
   "cell_type": "markdown",
   "metadata": {},
   "source": [
    "##### Tabele"
   ]
  },
  {
   "cell_type": "markdown",
   "metadata": {},
   "source": [
    "```\n",
    "1st Header|2nd Header|3rd Header\n",
    "---|:---:|---: \n",
    "col 1 is|left-aligned|1\n",
    "col 2 is|center-aligned|2\n",
    "col 3 is|right-aligned|3\n",
    "```"
   ]
  },
  {
   "cell_type": "markdown",
   "metadata": {},
   "source": [
    "Rezultat:"
   ]
  },
  {
   "cell_type": "markdown",
   "metadata": {},
   "source": [
    "1st Header|2nd Header|3rd Header\n",
    "---|:---:|---: \n",
    "col 1 is|left-aligned|1\n",
    "col 2 is|center-aligned|2\n",
    "col 3 is|right-aligned|3"
   ]
  },
  {
   "cell_type": "markdown",
   "metadata": {},
   "source": [
    "---"
   ]
  },
  {
   "cell_type": "markdown",
   "metadata": {},
   "source": [
    "##### Pisanie kodu\n",
    "\n",
    "` ``py\n",
    "\n",
    "\n",
    "def fun(x):\n",
    "\n",
    "\n",
    "    return x**2\n",
    "\n",
    "    \n",
    "` ``"
   ]
  },
  {
   "cell_type": "markdown",
   "metadata": {},
   "source": [
    "Rezultat:"
   ]
  },
  {
   "cell_type": "markdown",
   "metadata": {},
   "source": [
    "```py\n",
    "def fun(x):\n",
    "    return x**2\n",
    "```"
   ]
  },
  {
   "cell_type": "markdown",
   "metadata": {},
   "source": [
    "---"
   ]
  },
  {
   "cell_type": "markdown",
   "metadata": {},
   "source": [
    "##### Wklejanie obrazków\n",
    "\n",
    "Nie ma też przeszkód, żeby wklejać screeny &#128540;"
   ]
  },
  {
   "cell_type": "markdown",
   "metadata": {},
   "source": [
    "```\n",
    "![logo](https://s3.dualstack.us-east-2.amazonaws.com/pythondotorg-assets/media/community/logos/python-logo-only.png \"Logo python\")\n",
    "```"
   ]
  },
  {
   "cell_type": "markdown",
   "metadata": {},
   "source": [
    "Rezultat:"
   ]
  },
  {
   "cell_type": "markdown",
   "metadata": {},
   "source": [
    "![logo](https://s3.dualstack.us-east-2.amazonaws.com/pythondotorg-assets/media/community/logos/python-logo-only.png \"Logo python\")\n"
   ]
  },
  {
   "cell_type": "markdown",
   "metadata": {},
   "source": [
    "---"
   ]
  },
  {
   "cell_type": "markdown",
   "metadata": {},
   "source": [
    "##### Alert boxy"
   ]
  },
  {
   "cell_type": "markdown",
   "metadata": {},
   "source": [
    "```\n",
    "<div class=\"alert alert-block alert-info\"> <b>Info!</b> To pole wskazuje neutralną informację lub działanie. </div>\n",
    "\n",
    "<div class=\"alert alert-block alert-success\"> <b>Success!</b> To pole wskazuje pozytywne działanie. </div>\n",
    "\n",
    "<div class=\"alert alert-block alert-warning\"> <b>Warning!</b> To pole alertu wskazuje ostrzeżenie, które może wymagać uwagi. </div>\n",
    "\n",
    "<div class=\"alert alert-block alert-danger\"> <b>Danger!</b> To pole wskazuje na niebezpieczne lub potencjalnie negatywne działanie. </div>\n",
    "```"
   ]
  },
  {
   "cell_type": "markdown",
   "metadata": {},
   "source": [
    "Rezultat:"
   ]
  },
  {
   "cell_type": "markdown",
   "metadata": {},
   "source": [
    "<div class=\"alert alert-block alert-info\"> <b>Info!</b> To pole wskazuje neutralną informację lub działanie. </div>\n",
    "\n",
    "<div class=\"alert alert-block alert-success\"> <b>Success!</b> To pole wskazuje pozytywne działanie. </div>\n",
    "\n",
    "<div class=\"alert alert-block alert-warning\"> <b>Warning!</b> To pole alertu wskazuje ostrzeżenie, które może wymagać uwagi. </div>\n",
    "\n",
    "<div class=\"alert alert-block alert-danger\"> <b>Danger!</b> To pole wskazuje na niebezpieczne lub potencjalnie negatywne działanie. </div>"
   ]
  },
  {
   "cell_type": "markdown",
   "metadata": {},
   "source": [
    "Okno można stworzyć też samemu:"
   ]
  },
  {
   "cell_type": "markdown",
   "metadata": {},
   "source": [
    "```\n",
    "<div class=\"warning\" style='background-color:#fbff19; color:#000000; border: dashed #b3b536 4px; border-radius: 4px; padding:0.7em;'>\n",
    "<span>\n",
    "<p style='margin-top:1em; text-align:center'>\n",
    "<b>BARDZO WAŻNY KOMUNIKAT</b></p>\n",
    "<p style='margin-left:1em;'>\n",
    "Okno stworzone przy użyciu konstrukcji HTML\n",
    "</p>\n",
    "<p style='margin-bottom:1em; margin-right:1em; text-align:right; font-family:Georgia'> <i>(można też modyfikować pojedyncze zdania)</i>\n",
    "</p></span>\n",
    "</div>\n",
    "```"
   ]
  },
  {
   "cell_type": "markdown",
   "metadata": {},
   "source": [
    "Rezultat:"
   ]
  },
  {
   "cell_type": "markdown",
   "metadata": {},
   "source": [
    "<div class=\"warning\" style='background-color:#fbff19; color:#000000; border: dashed #b3b536 4px; border-radius: 4px; padding:0.7em;'>\n",
    "<span>\n",
    "<p style='margin-top:1em; text-align:center'>\n",
    "<b>BARDZO WAŻNY KOMUNIKAT</b></p>\n",
    "<p style='margin-left:1em;'>\n",
    "Okno stworzone przy użyciu konstrukcji HTML\n",
    "</p>\n",
    "<p style='margin-bottom:1em; margin-right:1em; text-align:right; font-family:Georgia'> <i>(można też modyfikować pojedyncze zdania)</i>\n",
    "</p></span>\n",
    "</div>"
   ]
  },
  {
   "cell_type": "markdown",
   "metadata": {},
   "source": [
    "---"
   ]
  },
  {
   "cell_type": "markdown",
   "metadata": {},
   "source": [
    "##### LaTeX"
   ]
  },
  {
   "cell_type": "markdown",
   "metadata": {},
   "source": [
    "```\n",
    "Wyrażenia matematyczne: $x=2+x^2$\n",
    "\n",
    "Wyrażenie wyśrodkowane:\n",
    "$$\n",
    "x=2+x^2\n",
    "$$\n",
    "```"
   ]
  },
  {
   "cell_type": "markdown",
   "metadata": {},
   "source": [
    "Rezultat:"
   ]
  },
  {
   "cell_type": "markdown",
   "metadata": {},
   "source": [
    "Wyrażenia matematyczne: $x=2+x^2$\n",
    "\n",
    "Wyrażenie wyśrodkowane:\n",
    "$$\n",
    "x_{n+1}=2+x_{n}^{2} \\\\\n",
    "x_{0} = 0\n",
    "$$"
   ]
  },
  {
   "cell_type": "markdown",
   "metadata": {},
   "source": [
    "---"
   ]
  },
  {
   "cell_type": "markdown",
   "metadata": {},
   "source": [
    "#### Przydatne informacje"
   ]
  },
  {
   "cell_type": "markdown",
   "metadata": {},
   "source": [
    "Markdown cheatsheet: https://www.ibm.com/docs/en/watson-studio-local/1.2.3?topic=notebooks-markdown-jupyter-cheatsheet\n",
    "\n",
    "Artykuł z przydatną, podstawową wiedzą: https://ashki23.github.io/markdown-latex.html\n",
    "\n",
    "Wikipedia Latex: <a href=https://en.wikibooks.org/wiki/LaTeX/Mathematics> link </href>"
   ]
  },
  {
   "cell_type": "markdown",
   "metadata": {},
   "source": [
    "### Polecenia magiczne"
   ]
  },
  {
   "cell_type": "markdown",
   "metadata": {},
   "source": [
    "#### time"
   ]
  },
  {
   "cell_type": "markdown",
   "metadata": {},
   "source": [
    "```\n",
    "%time\n",
    "```\n",
    "\n",
    "Mierzy czas wykonywania pojedynczej instrukcji\n",
    "\n",
    "```\n",
    "%%time\n",
    "```\n",
    "\n",
    "Mierzy całkowity czas wykonywania kodu"
   ]
  },
  {
   "cell_type": "code",
   "execution_count": null,
   "metadata": {},
   "outputs": [
    {
     "name": "stdout",
     "output_type": "stream",
     "text": [
      "CPU times: total: 62.5 ms\n",
      "Wall time: 67.7 ms\n"
     ]
    }
   ],
   "source": [
    "%%time\n",
    "import random\n",
    "for i in range(0, 1000000):\n",
    "    random.random()"
   ]
  },
  {
   "cell_type": "code",
   "execution_count": null,
   "metadata": {},
   "outputs": [
    {
     "name": "stdout",
     "output_type": "stream",
     "text": [
      "CPU times: total: 0 ns\n",
      "Wall time: 0 ns\n"
     ]
    }
   ],
   "source": [
    "%time\n",
    "import random\n",
    "for i in range(0, 1000000):\n",
    "    random.random()"
   ]
  },
  {
   "cell_type": "markdown",
   "metadata": {},
   "source": [
    "#### who / whos\n",
    "\n",
    "Wyświetla informacje o zmiennych aktualnie znajdujących się w przestrzeni nazw.\n",
    "\n",
    "%who wyświetla nazwy zmiennych, podczas gdy %whos dostarcza bardziej szczegółowych informacji o zmiennych, w tym ich typ i wartość."
   ]
  },
  {
   "cell_type": "code",
   "execution_count": null,
   "metadata": {},
   "outputs": [],
   "source": [
    "var_1 = 1\n",
    "var_2 = 'hello'\n",
    "var_3 = 100"
   ]
  },
  {
   "cell_type": "code",
   "execution_count": null,
   "metadata": {},
   "outputs": [
    {
     "name": "stdout",
     "output_type": "stream",
     "text": [
      "var_1\t var_2\t var_3\t \n"
     ]
    }
   ],
   "source": [
    "%who"
   ]
  },
  {
   "cell_type": "code",
   "execution_count": null,
   "metadata": {},
   "outputs": [
    {
     "name": "stdout",
     "output_type": "stream",
     "text": [
      "var_2\t \n"
     ]
    }
   ],
   "source": [
    "%who str"
   ]
  },
  {
   "cell_type": "code",
   "execution_count": null,
   "metadata": {},
   "outputs": [
    {
     "name": "stdout",
     "output_type": "stream",
     "text": [
      "Variable   Type    Data/Info\n",
      "----------------------------\n",
      "var_1      int     1\n",
      "var_2      str     hello\n",
      "var_3      int     100\n"
     ]
    }
   ],
   "source": [
    "%whos"
   ]
  },
  {
   "cell_type": "markdown",
   "metadata": {},
   "source": [
    "#### pinfo"
   ]
  },
  {
   "cell_type": "markdown",
   "metadata": {},
   "source": [
    "Funkcja \n",
    "```%pinfo``` \n",
    "w notatnikach Jupyter służy do dostarczania informacji i dokumentacji na temat określonego obiektu, funkcji lub modułu Pythona. Jest to przydatne narzędzie do szybkiego wyszukiwania informacji bez konieczności opuszczania notatnika."
   ]
  },
  {
   "cell_type": "code",
   "execution_count": null,
   "metadata": {},
   "outputs": [
    {
     "name": "stdout",
     "output_type": "stream",
     "text": [
      "\u001b[0;31mType:\u001b[0m        int\n",
      "\u001b[0;31mString form:\u001b[0m 100\n",
      "\u001b[0;31mDocstring:\u001b[0m  \n",
      "int([x]) -> integer\n",
      "int(x, base=10) -> integer\n",
      "\n",
      "Convert a number or string to an integer, or return 0 if no arguments\n",
      "are given.  If x is a number, return x.__int__().  For floating point\n",
      "numbers, this truncates towards zero.\n",
      "\n",
      "If x is not a number or if base is given, then x must be a string,\n",
      "bytes, or bytearray instance representing an integer literal in the\n",
      "given base.  The literal can be preceded by '+' or '-' and be surrounded\n",
      "by whitespace.  The base defaults to 10.  Valid bases are 0 and 2-36.\n",
      "Base 0 means to interpret the base from the string as an integer literal.\n",
      ">>> int('0b100', base=0)\n",
      "4"
     ]
    }
   ],
   "source": [
    "%pinfo var_3"
   ]
  },
  {
   "cell_type": "code",
   "execution_count": null,
   "metadata": {},
   "outputs": [
    {
     "name": "stdout",
     "output_type": "stream",
     "text": [
      "\u001b[1;31mSignature:\u001b[0m \u001b[0mlen\u001b[0m\u001b[1;33m(\u001b[0m\u001b[0mobj\u001b[0m\u001b[1;33m,\u001b[0m \u001b[1;33m/\u001b[0m\u001b[1;33m)\u001b[0m\u001b[1;33m\u001b[0m\u001b[1;33m\u001b[0m\u001b[0m\n",
      "\u001b[1;31mDocstring:\u001b[0m Return the number of items in a container.\n",
      "\u001b[1;31mType:\u001b[0m      builtin_function_or_method"
     ]
    }
   ],
   "source": [
    "%pinfo len"
   ]
  },
  {
   "cell_type": "markdown",
   "metadata": {},
   "source": [
    "#### env\n",
    "\n",
    "Pobiera, ustawia lub wyświetla listę zmiennych środowiskowych.\n"
   ]
  },
  {
   "cell_type": "code",
   "execution_count": null,
   "metadata": {},
   "outputs": [
    {
     "name": "stdout",
     "output_type": "stream",
     "text": [
      "env: WD=Users/Piotr.Patrzalek/Forecast/AML\n"
     ]
    }
   ],
   "source": [
    "%env WD=Users/user/Forecast/AML"
   ]
  },
  {
   "cell_type": "code",
   "execution_count": null,
   "metadata": {},
   "outputs": [
    {
     "data": {
      "text/plain": [
       "'Users/Piotr.Patrzalek/Forecast/AML'"
      ]
     },
     "execution_count": 18,
     "metadata": {},
     "output_type": "execute_result"
    }
   ],
   "source": [
    "import os\n",
    "\n",
    "os.environ['WD']"
   ]
  },
  {
   "cell_type": "code",
   "execution_count": null,
   "metadata": {},
   "outputs": [
    {
     "data": {
      "text/plain": [
       "{'LANG': 'C.UTF-8',\n",
       " 'PATH': '/anaconda/envs/azureml_py38/bin/:/usr/local/sbin:/usr/local/bin:/usr/sbin:/usr/bin:/sbin:/bin:/usr/games:/usr/local/games:/snap/bin',\n",
       " 'SGX_AESM_ADDR': '1',\n",
       " 'HOME': '/home/azureuser',\n",
       " 'LOGNAME': 'azureuser',\n",
       " 'USER': 'azureuser',\n",
       " 'SHELL': '/bin/bash',\n",
       " 'INVOCATION_ID': '35108a529784436ba3a518425b0114f9',\n",
       " 'JOURNAL_STREAM': '8:59094',\n",
       " 'MKL_THREADING_LAYER': 'GNU',\n",
       " 'HBI_WORKSPACE': 'false',\n",
       " 'AML_CloudName': 'AzureCloud',\n",
       " 'CI_RESOURCE_GROUP': 'dev',\n",
       " 'CI_WORKSPACE': 'dmls002',\n",
       " 'CI_NAME': 'mldev',\n",
       " 'CI_LOCAL_UBUNTU_USER': 'azureuser',\n",
       " 'MLFLOW_TRACKING_URI': 'azureml://northeurope.api.azureml.ms/mlflow/v1.0/subscriptions/763d7aa5-c33c-4176-8552-819bd79e6740/resourceGroups/dev/providers/Microsoft.MachineLearningServices/workspaces/dmls002',\n",
       " 'ENABLE_MLFLOW_AUTOLOG': 'false',\n",
       " 'APPSETTING_WEBSITE_SITE_NAME': 'AMLComputeInstance',\n",
       " 'MSI_ENDPOINT': 'http://127.0.0.1:46808/MSI/auth',\n",
       " 'MSI_SECRET': '<hidden>',\n",
       " 'OBO_ENDPOINT': 'http://127.0.0.1:46808/OBO/token',\n",
       " 'DEFAULT_IDENTITY_CLIENT_ID': '1a93a9bd-4110-465d-8688-0c3572b5aad0',\n",
       " 'PYDEVD_USE_FRAME_EVAL': 'NO',\n",
       " 'JPY_SESSION_NAME': 'AnacondaJupyter-jvsc-3ec2d5ef-9cc0-4b71-ad88-8c8cbcbff24195b6277c-8f55-40d3-aeda-927ae2e955a0.ipynb',\n",
       " 'JPY_PARENT_PID': '3431',\n",
       " 'TERM': 'xterm-color',\n",
       " 'CLICOLOR': '1',\n",
       " 'FORCE_COLOR': '1',\n",
       " 'CLICOLOR_FORCE': '1',\n",
       " 'PAGER': 'cat',\n",
       " 'GIT_PAGER': 'cat',\n",
       " 'MPLBACKEND': 'module://matplotlib_inline.backend_inline',\n",
       " 'WD': 'Users/Piotr.Patrzalek/Forecast/AML'}"
      ]
     },
     "execution_count": 14,
     "metadata": {},
     "output_type": "execute_result"
    }
   ],
   "source": [
    "# %env listuje zmienne środowiskowe"
   ]
  },
  {
   "cell_type": "markdown",
   "metadata": {},
   "source": [
    "#### run\n",
    "\n",
    "uruchamia zewnętrzny skrypt pythonowy. Np. \n",
    "```py\n",
    "%run script.py\n",
    "```\n",
    "uruchomi skrypt *script.py* znajdujący się w akutalnym katalogu"
   ]
  },
  {
   "cell_type": "code",
   "execution_count": null,
   "metadata": {},
   "outputs": [],
   "source": [
    "# run script.py"
   ]
  },
  {
   "cell_type": "markdown",
   "metadata": {},
   "source": [
    "- Plik script.py\n",
    "\n",
    "![Alt text](img/image-21.png)\n",
    "\n",
    "- Wywołujemy \n",
    "\n",
    "```\n",
    "%run script.py\n",
    "```\n",
    "\n",
    "- Dostajemy\n",
    "\n",
    "![Alt text](img/image-23.png)"
   ]
  },
  {
   "cell_type": "markdown",
   "metadata": {},
   "source": [
    "#### lsmagic"
   ]
  },
  {
   "cell_type": "markdown",
   "metadata": {},
   "source": [
    "Lista aktualnie dostępnych funkcji magicznych."
   ]
  },
  {
   "cell_type": "code",
   "execution_count": null,
   "metadata": {},
   "outputs": [
    {
     "data": {
      "application/json": {
       "cell": {
        "!": "OSMagics",
        "HTML": "Other",
        "SVG": "Other",
        "bash": "Other",
        "capture": "ExecutionMagics",
        "cmd": "Other",
        "debug": "ExecutionMagics",
        "file": "Other",
        "html": "DisplayMagics",
        "javascript": "DisplayMagics",
        "js": "DisplayMagics",
        "latex": "DisplayMagics",
        "markdown": "DisplayMagics",
        "perl": "Other",
        "prun": "ExecutionMagics",
        "pypy": "Other",
        "python": "Other",
        "python2": "Other",
        "python3": "Other",
        "ruby": "Other",
        "script": "ScriptMagics",
        "sh": "Other",
        "svg": "DisplayMagics",
        "sx": "OSMagics",
        "system": "OSMagics",
        "time": "ExecutionMagics",
        "timeit": "ExecutionMagics",
        "writefile": "OSMagics"
       },
       "line": {
        "alias": "OSMagics",
        "alias_magic": "BasicMagics",
        "autoawait": "AsyncMagics",
        "autocall": "AutoMagics",
        "automagic": "AutoMagics",
        "autosave": "KernelMagics",
        "bookmark": "OSMagics",
        "cd": "OSMagics",
        "clear": "KernelMagics",
        "cls": "KernelMagics",
        "colors": "BasicMagics",
        "conda": "PackagingMagics",
        "config": "ConfigMagics",
        "connect_info": "KernelMagics",
        "copy": "Other",
        "ddir": "Other",
        "debug": "ExecutionMagics",
        "dhist": "OSMagics",
        "dirs": "OSMagics",
        "doctest_mode": "BasicMagics",
        "echo": "Other",
        "ed": "Other",
        "edit": "KernelMagics",
        "env": "OSMagics",
        "gui": "BasicMagics",
        "hist": "Other",
        "history": "HistoryMagics",
        "killbgscripts": "ScriptMagics",
        "ldir": "Other",
        "less": "KernelMagics",
        "load": "CodeMagics",
        "load_ext": "ExtensionMagics",
        "loadpy": "CodeMagics",
        "logoff": "LoggingMagics",
        "logon": "LoggingMagics",
        "logstart": "LoggingMagics",
        "logstate": "LoggingMagics",
        "logstop": "LoggingMagics",
        "ls": "Other",
        "lsmagic": "BasicMagics",
        "macro": "ExecutionMagics",
        "magic": "BasicMagics",
        "matplotlib": "PylabMagics",
        "mkdir": "Other",
        "more": "KernelMagics",
        "notebook": "BasicMagics",
        "page": "BasicMagics",
        "pastebin": "CodeMagics",
        "pdb": "ExecutionMagics",
        "pdef": "NamespaceMagics",
        "pdoc": "NamespaceMagics",
        "pfile": "NamespaceMagics",
        "pinfo": "NamespaceMagics",
        "pinfo2": "NamespaceMagics",
        "pip": "PackagingMagics",
        "popd": "OSMagics",
        "pprint": "BasicMagics",
        "precision": "BasicMagics",
        "prun": "ExecutionMagics",
        "psearch": "NamespaceMagics",
        "psource": "NamespaceMagics",
        "pushd": "OSMagics",
        "pwd": "OSMagics",
        "pycat": "OSMagics",
        "pylab": "PylabMagics",
        "qtconsole": "KernelMagics",
        "quickref": "BasicMagics",
        "recall": "HistoryMagics",
        "rehashx": "OSMagics",
        "reload_ext": "ExtensionMagics",
        "ren": "Other",
        "rep": "Other",
        "rerun": "HistoryMagics",
        "reset": "NamespaceMagics",
        "reset_selective": "NamespaceMagics",
        "rmdir": "Other",
        "run": "ExecutionMagics",
        "save": "CodeMagics",
        "sc": "OSMagics",
        "set_env": "OSMagics",
        "store": "StoreMagics",
        "sx": "OSMagics",
        "system": "OSMagics",
        "tb": "ExecutionMagics",
        "time": "ExecutionMagics",
        "timeit": "ExecutionMagics",
        "unalias": "OSMagics",
        "unload_ext": "ExtensionMagics",
        "who": "NamespaceMagics",
        "who_ls": "NamespaceMagics",
        "whos": "NamespaceMagics",
        "xdel": "NamespaceMagics",
        "xmode": "BasicMagics"
       }
      },
      "text/plain": [
       "Available line magics:\n",
       "%alias  %alias_magic  %autoawait  %autocall  %automagic  %autosave  %bookmark  %cd  %clear  %cls  %colors  %conda  %config  %connect_info  %copy  %ddir  %debug  %dhist  %dirs  %doctest_mode  %echo  %ed  %edit  %env  %gui  %hist  %history  %killbgscripts  %ldir  %less  %load  %load_ext  %loadpy  %logoff  %logon  %logstart  %logstate  %logstop  %ls  %lsmagic  %macro  %magic  %matplotlib  %mkdir  %more  %notebook  %page  %pastebin  %pdb  %pdef  %pdoc  %pfile  %pinfo  %pinfo2  %pip  %popd  %pprint  %precision  %prun  %psearch  %psource  %pushd  %pwd  %pycat  %pylab  %qtconsole  %quickref  %recall  %rehashx  %reload_ext  %ren  %rep  %rerun  %reset  %reset_selective  %rmdir  %run  %save  %sc  %set_env  %store  %sx  %system  %tb  %time  %timeit  %unalias  %unload_ext  %who  %who_ls  %whos  %xdel  %xmode\n",
       "\n",
       "Available cell magics:\n",
       "%%!  %%HTML  %%SVG  %%bash  %%capture  %%cmd  %%debug  %%file  %%html  %%javascript  %%js  %%latex  %%markdown  %%perl  %%prun  %%pypy  %%python  %%python2  %%python3  %%ruby  %%script  %%sh  %%svg  %%sx  %%system  %%time  %%timeit  %%writefile\n",
       "\n",
       "Automagic is ON, % prefix IS NOT needed for line magics."
      ]
     },
     "execution_count": 9,
     "metadata": {},
     "output_type": "execute_result"
    }
   ],
   "source": [
    "%lsmagic"
   ]
  },
  {
   "cell_type": "markdown",
   "metadata": {},
   "source": [
    "#### load\n",
    "\n",
    "Ładuje zawartość zewnętrznego skryptu do komórki.\n",
    "```py\n",
    "%load script.py\n",
    "```"
   ]
  },
  {
   "cell_type": "markdown",
   "metadata": {},
   "source": [
    "%load script.py"
   ]
  },
  {
   "cell_type": "markdown",
   "metadata": {},
   "source": [
    "- Plik script.py\n",
    "\n",
    "![Alt text](img/image-21.png)\n",
    "\n",
    "- Wywołujemy \n",
    "\n",
    "```\n",
    "%load script.py\n",
    "```\n",
    "\n",
    "- Dostajemy\n",
    "\n",
    "![Alt text](img/image-22.png)"
   ]
  },
  {
   "cell_type": "markdown",
   "metadata": {},
   "source": [
    "#### Przydatne informacje"
   ]
  },
  {
   "cell_type": "markdown",
   "metadata": {},
   "source": [
    "Lista wbudowanych funkcji magic https://ipython.readthedocs.io/en/stable/interactive/magics.html"
   ]
  },
  {
   "cell_type": "markdown",
   "metadata": {},
   "source": [
    "## Zadanie 3"
   ]
  },
  {
   "cell_type": "markdown",
   "metadata": {},
   "source": [
    "Napisz instrukcje \"Jak utworzyć środowisko wirtualne env_szkolenie_python ?\" korzystając z RMarkdown w Jupyter Lab. W instrukcji powinno się znaleźć:\n",
    "\n",
    "- tabelka z podanymi podstawowymi bibliotekami oraz ich wersjami do instalacji\n",
    "- komendy, które należy wykonać aby zainstalować środowisko z wiersza poleceń\n",
    "- należy zmienić kolor czcionki w niektórych miejscach instrukcji \n",
    "- dodać do opisu elementy typu: \"Uwaga!\", \"Wskazówka\""
   ]
  }
 ],
 "metadata": {
  "kernelspec": {
   "display_name": "Python 3 (ipykernel)",
   "language": "python",
   "name": "python3"
  },
  "language_info": {
   "codemirror_mode": {
    "name": "ipython",
    "version": 3
   },
   "file_extension": ".py",
   "mimetype": "text/x-python",
   "name": "python",
   "nbconvert_exporter": "python",
   "pygments_lexer": "ipython3",
   "version": "3.12.4"
  }
 },
 "nbformat": 4,
 "nbformat_minor": 4
}
